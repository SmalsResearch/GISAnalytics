{
 "cells": [
  {
   "cell_type": "code",
   "execution_count": 2,
   "id": "58ab37b6",
   "metadata": {
    "ExecuteTime": {
     "end_time": "2023-11-09T12:41:55.660006Z",
     "start_time": "2023-11-09T12:41:55.146419Z"
    }
   },
   "outputs": [],
   "source": [
    "import pandas as pd\n",
    "import numpy as np\n",
    "import requests\n",
    "\n",
    "# from tqdm.auto import tqdm, trange\n",
    "from tqdm import tqdm, trange\n",
    "# tqdm.pandas()\n",
    "\n",
    "\n",
    "from credentials import bosa_mapping_url\n",
    "\n",
    "from zipfile import ZipFile\n",
    "import json\n",
    "import random\n",
    "import time\n",
    "import os, urllib\n",
    "\n",
    "import glob\n"
   ]
  },
  {
   "cell_type": "code",
   "execution_count": 3,
   "id": "6d050730",
   "metadata": {
    "ExecuteTime": {
     "end_time": "2023-11-09T12:41:55.666516Z",
     "start_time": "2023-11-09T12:41:55.662544Z"
    }
   },
   "outputs": [],
   "source": [
    "def download_if_nexist(url, filename):\n",
    "    \"\"\"\n",
    "    If the (local) file <filename> does not exists, download it from <url>\n",
    "\n",
    "    Parameters\n",
    "    ----------\n",
    "    url: str\n",
    "       url to fetch\n",
    "    filename: str\n",
    "       local file to save\n",
    "\n",
    "    Returns\n",
    "    -------\n",
    "\n",
    "    None\n",
    "    \"\"\"\n",
    "    if not os.path.isfile(filename):\n",
    "        #gcontext = ssl.SSLContext()\n",
    "        with urllib.request.urlopen(url) as response:\n",
    "            with open(filename, \"wb\") as f:\n",
    "                f.write(response.read())"
   ]
  },
  {
   "cell_type": "code",
   "execution_count": 4,
   "id": "99213f34",
   "metadata": {
    "ExecuteTime": {
     "end_time": "2023-11-09T12:41:56.130260Z",
     "start_time": "2023-11-09T12:41:56.126623Z"
    }
   },
   "outputs": [],
   "source": [
    "datadir = \"data/geocoding/\"\n",
    "os.makedirs(datadir, exist_ok=True)\n",
    "os.makedirs(f\"{datadir}/full\", exist_ok=True)\n"
   ]
  },
  {
   "cell_type": "code",
   "execution_count": 5,
   "id": "64974a86",
   "metadata": {
    "ExecuteTime": {
     "end_time": "2023-11-09T12:41:56.753537Z",
     "start_time": "2023-11-09T12:41:56.750700Z"
    }
   },
   "outputs": [],
   "source": [
    "sample_size=10000\n",
    "\n",
    "seed=314"
   ]
  },
  {
   "cell_type": "code",
   "execution_count": 11,
   "id": "3aa675e8",
   "metadata": {
    "ExecuteTime": {
     "end_time": "2023-11-09T12:42:43.590186Z",
     "start_time": "2023-11-09T12:42:43.586492Z"
    }
   },
   "outputs": [],
   "source": [
    "datasets = [\"kbo\", \"rep\", \"best\", \"rrn\", \"resto\"]\n",
    "# datasets = [\"best\"]"
   ]
  },
  {
   "cell_type": "markdown",
   "id": "2d2a11b1",
   "metadata": {},
   "source": [
    "# Best"
   ]
  },
  {
   "cell_type": "code",
   "execution_count": 7,
   "id": "afaccc69",
   "metadata": {
    "ExecuteTime": {
     "end_time": "2023-11-09T12:42:01.179982Z",
     "start_time": "2023-11-09T12:42:01.176795Z"
    }
   },
   "outputs": [],
   "source": [
    "if \"best\" in datasets:\n",
    "    best_vlg_fn = f\"{datadir}/full/openaddress-bevlg.zip\"\n",
    "    download_if_nexist(\"https://opendata.bosa.be/download/best/openaddress-bevlg.zip\", best_vlg_fn)\n",
    "\n",
    "    best_wal_fn = f\"{datadir}/full/openaddress-bewal.zip\"\n",
    "    download_if_nexist(\"https://opendata.bosa.be/download/best/openaddress-bewal.zip\", best_wal_fn)\n",
    "\n",
    "    best_bru_fn = f\"{datadir}/full/openaddress-bebru.zip\"\n",
    "    download_if_nexist(\"https://opendata.bosa.be/download/best/openaddress-bebru.zip\", best_bru_fn)"
   ]
  },
  {
   "cell_type": "code",
   "execution_count": 8,
   "id": "3d8c794a",
   "metadata": {
    "ExecuteTime": {
     "end_time": "2023-11-09T12:42:16.381135Z",
     "start_time": "2023-11-09T12:42:01.624227Z"
    }
   },
   "outputs": [],
   "source": [
    "if \"best\" in datasets:\n",
    "    best_full = pd.concat([pd.read_csv(fn, usecols=[\"municipality_name_de\", \"municipality_name_fr\", \"municipality_name_nl\", \n",
    "                                                    \"streetname_de\", \"streetname_fr\", \"streetname_nl\",\n",
    "                                                    \"postcode\", \"house_number\", \"region_code\"], dtype=str) for fn in [best_vlg_fn, best_wal_fn, best_bru_fn] ])"
   ]
  },
  {
   "cell_type": "code",
   "execution_count": 9,
   "id": "7f017d65",
   "metadata": {
    "ExecuteTime": {
     "end_time": "2023-11-09T12:42:23.170659Z",
     "start_time": "2023-11-09T12:42:16.384376Z"
    }
   },
   "outputs": [],
   "source": [
    "if \"best\" in datasets:\n",
    "    best_full[\"street\"] = np.where(best_full.region_code == \"BE-VLG\", best_full.streetname_nl.fillna(best_full.streetname_fr).fillna(best_full.streetname_de),\n",
    "                          np.where(best_full.region_code == \"BE-WAL\", best_full.streetname_fr.fillna(best_full.streetname_de).fillna(best_full.streetname_nl),\n",
    "                          np.where(best_full.region_code == \"BE-BRU\", best_full.streetname_fr.fillna(best_full.streetname_nl).fillna(best_full.streetname_de), None)))\n",
    "\n",
    "    best_full[\"city\"] =   np.where(best_full.region_code == \"BE-VLG\", best_full.municipality_name_nl.fillna(best_full.municipality_name_fr).fillna(best_full.municipality_name_de),\n",
    "                          np.where(best_full.region_code == \"BE-WAL\", best_full.municipality_name_fr.fillna(best_full.municipality_name_de).fillna(best_full.municipality_name_nl),\n",
    "                          np.where(best_full.region_code == \"BE-BRU\", best_full.municipality_name_fr.fillna(best_full.municipality_name_nl).fillna(best_full.municipality_name_de), None)))"
   ]
  },
  {
   "cell_type": "code",
   "execution_count": 10,
   "id": "bf6c5d02",
   "metadata": {
    "ExecuteTime": {
     "end_time": "2023-11-09T12:42:29.293345Z",
     "start_time": "2023-11-09T12:42:23.173283Z"
    }
   },
   "outputs": [],
   "source": [
    "if \"best\" in datasets:\n",
    "    best_sample =  best_full[[\"street\", \"house_number\", \"postcode\", \"city\"]].rename(columns={\"house_number\": \"housenumber\"})\n",
    "    best_sample = best_sample.drop_duplicates().sample(sample_size, random_state=seed).reset_index(drop=True)\n",
    "    best_sample.to_csv(f\"{datadir}/best_{sample_size}.csv.gz\", index=False)"
   ]
  },
  {
   "cell_type": "markdown",
   "id": "034a241b",
   "metadata": {
    "ExecuteTime": {
     "end_time": "2023-05-19T11:12:03.106947Z",
     "start_time": "2023-05-19T11:11:52.732466Z"
    }
   },
   "source": [
    "# KBO\n"
   ]
  },
  {
   "cell_type": "code",
   "execution_count": 12,
   "id": "7b2b704c",
   "metadata": {
    "ExecuteTime": {
     "end_time": "2023-11-09T12:42:46.865559Z",
     "start_time": "2023-11-09T12:42:46.862788Z"
    }
   },
   "outputs": [],
   "source": [
    "kbo_fn = f\"{datadir}/full/kbo_full.zip\"\n",
    "# To be downloaded from https://kbopub.economie.fgov.be/kbo-open-data/\n",
    "\n",
    "#download_if_nexist(\"https://kbopub.economie.fgov.be/kbo-open-data/affiliation/xml/files/KboOpenData_0111_2023_05_Full.zip\", kbo_fn)\n"
   ]
  },
  {
   "cell_type": "code",
   "execution_count": 110,
   "id": "307f4b55",
   "metadata": {
    "ExecuteTime": {
     "end_time": "2023-12-18T10:58:44.799746Z",
     "start_time": "2023-12-18T10:58:35.719646Z"
    },
    "scrolled": true
   },
   "outputs": [],
   "source": [
    "if \"kbo\" in datasets:\n",
    "    with ZipFile(kbo_fn) as z:\n",
    "       # open the csv file in the dataset\n",
    "        with z.open(\"address.csv\") as f:\n",
    "\n",
    "            kbo_full = pd.read_csv(f, #usecols=[\"CountryFR\", \"Zipcode\", \n",
    "#                                                \"MunicipalityNL\",\"MunicipalityFR\", \n",
    "#                                                \"StreetNL\", \"StreetFR\", \"HouseNumber\"],\n",
    "                                dtype=str)\n",
    "    "
   ]
  },
  {
   "cell_type": "code",
   "execution_count": 112,
   "id": "53cb2631",
   "metadata": {
    "ExecuteTime": {
     "end_time": "2023-12-18T11:03:29.057331Z",
     "start_time": "2023-12-18T11:03:25.550821Z"
    }
   },
   "outputs": [],
   "source": [
    "if \"kbo\" in datasets:\n",
    "\n",
    "    kbo_full = kbo_full[kbo_full.CountryFR.isnull()].copy()\n",
    "    \n",
    "    kbo_sample = kbo_full.drop_duplicates(subset=[\"Zipcode\",\"StreetNL\", \"StreetFR\", \"HouseNumber\"]).sample(sample_size, random_state=seed)"
   ]
  },
  {
   "cell_type": "code",
   "execution_count": 72,
   "id": "47b6f177",
   "metadata": {
    "ExecuteTime": {
     "end_time": "2023-12-18T10:47:47.225540Z",
     "start_time": "2023-12-18T10:47:47.057803Z"
    }
   },
   "outputs": [
    {
     "data": {
      "text/html": [
       "<div>\n",
       "<style scoped>\n",
       "    .dataframe tbody tr th:only-of-type {\n",
       "        vertical-align: middle;\n",
       "    }\n",
       "\n",
       "    .dataframe tbody tr th {\n",
       "        vertical-align: top;\n",
       "    }\n",
       "\n",
       "    .dataframe thead th {\n",
       "        text-align: right;\n",
       "    }\n",
       "</style>\n",
       "<table border=\"1\" class=\"dataframe\">\n",
       "  <thead>\n",
       "    <tr style=\"text-align: right;\">\n",
       "      <th></th>\n",
       "      <th>EntityNumber</th>\n",
       "      <th>TypeOfAddress</th>\n",
       "      <th>CountryNL</th>\n",
       "      <th>CountryFR</th>\n",
       "      <th>Zipcode</th>\n",
       "      <th>MunicipalityNL</th>\n",
       "      <th>MunicipalityFR</th>\n",
       "      <th>StreetNL</th>\n",
       "      <th>StreetFR</th>\n",
       "      <th>HouseNumber</th>\n",
       "      <th>Box</th>\n",
       "      <th>ExtraAddressInfo</th>\n",
       "      <th>DateStrikingOff</th>\n",
       "    </tr>\n",
       "  </thead>\n",
       "  <tbody>\n",
       "    <tr>\n",
       "      <th>52653</th>\n",
       "      <td>0411.902.679</td>\n",
       "      <td>REGO</td>\n",
       "      <td>NaN</td>\n",
       "      <td>NaN</td>\n",
       "      <td>4154</td>\n",
       "      <td>Tinlot</td>\n",
       "      <td>Tinlot</td>\n",
       "      <td>Rue du Village</td>\n",
       "      <td>Rue du Village</td>\n",
       "      <td>2</td>\n",
       "      <td>NaN</td>\n",
       "      <td>NaN</td>\n",
       "      <td>NaN</td>\n",
       "    </tr>\n",
       "  </tbody>\n",
       "</table>\n",
       "</div>"
      ],
      "text/plain": [
       "       EntityNumber TypeOfAddress CountryNL CountryFR Zipcode MunicipalityNL  \\\n",
       "52653  0411.902.679          REGO       NaN       NaN    4154         Tinlot   \n",
       "\n",
       "      MunicipalityFR        StreetNL        StreetFR HouseNumber  Box  \\\n",
       "52653         Tinlot  Rue du Village  Rue du Village           2  NaN   \n",
       "\n",
       "      ExtraAddressInfo DateStrikingOff  \n",
       "52653              NaN             NaN  "
      ]
     },
     "execution_count": 72,
     "metadata": {},
     "output_type": "execute_result"
    }
   ],
   "source": [
    "kbo_full[kbo_full.Zipcode == \"4154\"]"
   ]
  },
  {
   "cell_type": "code",
   "execution_count": 114,
   "id": "20ffb895",
   "metadata": {
    "ExecuteTime": {
     "end_time": "2023-12-18T12:07:37.041470Z",
     "start_time": "2023-12-18T12:07:36.829308Z"
    }
   },
   "outputs": [
    {
     "data": {
      "text/html": [
       "<div>\n",
       "<style scoped>\n",
       "    .dataframe tbody tr th:only-of-type {\n",
       "        vertical-align: middle;\n",
       "    }\n",
       "\n",
       "    .dataframe tbody tr th {\n",
       "        vertical-align: top;\n",
       "    }\n",
       "\n",
       "    .dataframe thead th {\n",
       "        text-align: right;\n",
       "    }\n",
       "</style>\n",
       "<table border=\"1\" class=\"dataframe\">\n",
       "  <thead>\n",
       "    <tr style=\"text-align: right;\">\n",
       "      <th></th>\n",
       "      <th>EntityNumber</th>\n",
       "      <th>TypeOfAddress</th>\n",
       "      <th>CountryNL</th>\n",
       "      <th>CountryFR</th>\n",
       "      <th>Zipcode</th>\n",
       "      <th>MunicipalityNL</th>\n",
       "      <th>MunicipalityFR</th>\n",
       "      <th>StreetNL</th>\n",
       "      <th>StreetFR</th>\n",
       "      <th>HouseNumber</th>\n",
       "      <th>Box</th>\n",
       "      <th>ExtraAddressInfo</th>\n",
       "      <th>DateStrikingOff</th>\n",
       "    </tr>\n",
       "  </thead>\n",
       "  <tbody>\n",
       "    <tr>\n",
       "      <th>9706</th>\n",
       "      <td>0400.928.813</td>\n",
       "      <td>REGO</td>\n",
       "      <td>NaN</td>\n",
       "      <td>NaN</td>\n",
       "      <td>3260</td>\n",
       "      <td>Assent</td>\n",
       "      <td>Assent</td>\n",
       "      <td>Dorpstraat  44A</td>\n",
       "      <td>Dorpstraat  44A</td>\n",
       "      <td>NaN</td>\n",
       "      <td>NaN</td>\n",
       "      <td>NaN</td>\n",
       "      <td>NaN</td>\n",
       "    </tr>\n",
       "    <tr>\n",
       "      <th>52653</th>\n",
       "      <td>0411.902.679</td>\n",
       "      <td>REGO</td>\n",
       "      <td>NaN</td>\n",
       "      <td>NaN</td>\n",
       "      <td>4154</td>\n",
       "      <td>Tinlot</td>\n",
       "      <td>Tinlot</td>\n",
       "      <td>Rue du Village</td>\n",
       "      <td>Rue du Village</td>\n",
       "      <td>2</td>\n",
       "      <td>NaN</td>\n",
       "      <td>NaN</td>\n",
       "      <td>NaN</td>\n",
       "    </tr>\n",
       "    <tr>\n",
       "      <th>103449</th>\n",
       "      <td>0423.008.981</td>\n",
       "      <td>REGO</td>\n",
       "      <td>NaN</td>\n",
       "      <td>NaN</td>\n",
       "      <td>3668</td>\n",
       "      <td>Niel-bij-As</td>\n",
       "      <td>Niel-bij-As</td>\n",
       "      <td>Grotstraat</td>\n",
       "      <td>Grotstraat</td>\n",
       "      <td>7</td>\n",
       "      <td>NaN</td>\n",
       "      <td>NaN</td>\n",
       "      <td>NaN</td>\n",
       "    </tr>\n",
       "  </tbody>\n",
       "</table>\n",
       "</div>"
      ],
      "text/plain": [
       "        EntityNumber TypeOfAddress CountryNL CountryFR Zipcode MunicipalityNL  \\\n",
       "9706    0400.928.813          REGO       NaN       NaN    3260         Assent   \n",
       "52653   0411.902.679          REGO       NaN       NaN    4154         Tinlot   \n",
       "103449  0423.008.981          REGO       NaN       NaN    3668    Niel-bij-As   \n",
       "\n",
       "       MunicipalityFR         StreetNL         StreetFR HouseNumber  Box  \\\n",
       "9706           Assent  Dorpstraat  44A  Dorpstraat  44A         NaN  NaN   \n",
       "52653          Tinlot   Rue du Village   Rue du Village           2  NaN   \n",
       "103449    Niel-bij-As       Grotstraat       Grotstraat           7  NaN   \n",
       "\n",
       "       ExtraAddressInfo DateStrikingOff  \n",
       "9706                NaN             NaN  \n",
       "52653               NaN             NaN  \n",
       "103449              NaN             NaN  "
      ]
     },
     "execution_count": 114,
     "metadata": {},
     "output_type": "execute_result"
    }
   ],
   "source": [
    "kbo_full[kbo_full.Zipcode.isin([\"4154\", \"5301\", \"5082\", \"8478\", \"9821\", \"4383\", \"5053\", \"6268\",\"5665\", \"3820\", \"6848\",\n",
    "                                \"1641\", \"8190\",\"4070\", \"4622\", \"5411\", \"4131\", \"4341\", \"3260\", \"3668\", \"7583\", \"5430\"])]#\"3590\" \"4140\" \"6960\"  \"6941\""
   ]
  },
  {
   "cell_type": "code",
   "execution_count": 15,
   "id": "8a348324",
   "metadata": {
    "ExecuteTime": {
     "end_time": "2023-11-09T12:43:08.210878Z",
     "start_time": "2023-11-09T12:43:08.191070Z"
    }
   },
   "outputs": [],
   "source": [
    "if \"kbo\" in datasets:\n",
    "    kbo_sample[\"lg\"] = np.where(kbo_sample.Zipcode.str[0].isin([\"2\", \"3\", \"8\", \"9\"]), \"VL\",\n",
    "                       np.where(kbo_sample.Zipcode.str[0].isin([\"4\", \"5\", \"6\", \"7\"]), \"FR\",\n",
    "                       np.where(kbo_sample.Zipcode.str[0:2].between(\"10\", \"14\"), \"FR\", \"VL\")))\n",
    "    \n",
    "    "
   ]
  },
  {
   "cell_type": "code",
   "execution_count": 16,
   "id": "6fbcd866",
   "metadata": {
    "ExecuteTime": {
     "end_time": "2023-11-09T12:43:09.392548Z",
     "start_time": "2023-11-09T12:43:09.373739Z"
    }
   },
   "outputs": [],
   "source": [
    "if \"kbo\" in datasets:\n",
    "    kbo_sample[\"street\"] = np.where(kbo_sample.lg == \"FR\", \n",
    "                                    kbo_sample.StreetFR.fillna(kbo_sample.StreetNL),\n",
    "                                    kbo_sample.StreetNL.fillna(kbo_sample.StreetFR))\n",
    "\n",
    "    kbo_sample[\"city\"] = np.where(kbo_sample.lg == \"FR\", \n",
    "                                  kbo_sample.MunicipalityFR.fillna(kbo_sample.MunicipalityNL),\n",
    "                                  kbo_sample.MunicipalityNL.fillna(kbo_sample.MunicipalityFR))\n"
   ]
  },
  {
   "cell_type": "code",
   "execution_count": 17,
   "id": "f4918fa8",
   "metadata": {
    "ExecuteTime": {
     "end_time": "2023-11-09T12:43:10.780102Z",
     "start_time": "2023-11-09T12:43:10.719980Z"
    }
   },
   "outputs": [],
   "source": [
    "if \"kbo\" in datasets:\n",
    "    kbo_sample = kbo_sample.rename(columns={\"Zipcode\": \"postcode\", \"HouseNumber\": \"housenumber\"})[[\"street\", \"housenumber\", \"postcode\", \"city\"]]\n",
    "    \n",
    "    kbo_sample.to_csv(f\"{datadir}/kbo_{sample_size}.csv.gz\", index=False)"
   ]
  },
  {
   "cell_type": "code",
   "execution_count": 18,
   "id": "473905b2",
   "metadata": {
    "ExecuteTime": {
     "end_time": "2023-11-09T12:43:12.519725Z",
     "start_time": "2023-11-09T12:43:12.517029Z"
    }
   },
   "outputs": [],
   "source": [
    "# kbo_sample"
   ]
  },
  {
   "cell_type": "markdown",
   "id": "635b4a36",
   "metadata": {},
   "source": [
    "# RRN"
   ]
  },
  {
   "cell_type": "code",
   "execution_count": 19,
   "id": "55e31ce1",
   "metadata": {
    "ExecuteTime": {
     "end_time": "2023-11-09T12:43:13.490321Z",
     "start_time": "2023-11-09T12:43:13.487557Z"
    }
   },
   "outputs": [],
   "source": [
    "if \"rrn\" in datasets:\n",
    "    best_RN_mapping_fn = f\"{datadir}/full/3_RRN_2023Q1.zip\"\n",
    "    download_if_nexist(f\"{bosa_mapping_url}/3_RRN_2023Q1.zip\", best_RN_mapping_fn)"
   ]
  },
  {
   "cell_type": "code",
   "execution_count": 20,
   "id": "fce097da",
   "metadata": {
    "ExecuteTime": {
     "end_time": "2023-11-09T12:43:38.225300Z",
     "start_time": "2023-11-09T12:43:15.066033Z"
    }
   },
   "outputs": [
    {
     "name": "stdout",
     "output_type": "stream",
     "text": [
      "STEP131_RR_B_Result.txt\n"
     ]
    },
    {
     "name": "stderr",
     "output_type": "stream",
     "text": [
      "487317it [00:01, 284650.73it/s]\n"
     ]
    },
    {
     "name": "stdout",
     "output_type": "stream",
     "text": [
      "STEP131_RR_F_Result.txt\n"
     ]
    },
    {
     "name": "stderr",
     "output_type": "stream",
     "text": [
      "2882103it [00:13, 214664.71it/s]\n"
     ]
    },
    {
     "name": "stdout",
     "output_type": "stream",
     "text": [
      "STEP131_RR_W_Result.txt\n"
     ]
    },
    {
     "name": "stderr",
     "output_type": "stream",
     "text": [
      "1597585it [00:06, 237999.26it/s]\n"
     ]
    },
    {
     "name": "stdout",
     "output_type": "stream",
     "text": [
      "Got 4967005 records, take a sample\n"
     ]
    }
   ],
   "source": [
    "if \"rrn\" in datasets:\n",
    "    with ZipFile(best_RN_mapping_fn, 'r') as zipObj:\n",
    "        recs = []\n",
    "        for f in [\"STEP131_RR_B_Result.txt\", \"STEP131_RR_F_Result.txt\", \"STEP131_RR_W_Result.txt\"]:\n",
    "            print(f)\n",
    "            for row in tqdm(zipObj.open(f) ):\n",
    "                recs.append(row)\n",
    "\n",
    "        print(f\"Got {len(recs)} records, take a sample\")\n",
    "        random.seed(seed)\n",
    "        recs= random.sample(recs, int(sample_size*1.2))\n",
    "\n",
    "        rrn_sample = pd.DataFrame([json.loads(r) for r in recs])"
   ]
  },
  {
   "cell_type": "code",
   "execution_count": 21,
   "id": "b7bb9f06",
   "metadata": {
    "ExecuteTime": {
     "end_time": "2023-11-09T12:43:41.024927Z",
     "start_time": "2023-11-09T12:43:40.959591Z"
    }
   },
   "outputs": [],
   "source": [
    "if \"rrn\" in datasets:\n",
    "    rrn_sample = rrn_sample.drop_duplicates(subset=[\"Snl\", \"Sfr\", \"Sde\", \"P\", \"hs\"])\n",
    "    rrn_sample = rrn_sample.sample(sample_size, random_state=seed)"
   ]
  },
  {
   "cell_type": "code",
   "execution_count": 22,
   "id": "c3af2a14",
   "metadata": {
    "ExecuteTime": {
     "end_time": "2023-11-09T12:43:42.172745Z",
     "start_time": "2023-11-09T12:43:42.123923Z"
    }
   },
   "outputs": [],
   "source": [
    "if \"rrn\" in datasets:\n",
    "    url_all_cities = \"https://services.socialsecurity.be/REST/referenceData/geography/v1/countries/150/cities?pageSize=0\"\n",
    "\n",
    "    download_if_nexist(url_all_cities, f\"{datadir}/full/referencedata_cities.json\")\n",
    "\n",
    "    with open(f\"{datadir}/full/referencedata_cities.json\", encoding='utf-8') as f:\n",
    "        refdata_cities = pd.DataFrame(json.load(f)[\"items\"])\n",
    "\n",
    "        refdata_cities[\"city\"]  = np.where(refdata_cities.officialLanguage==\"N\", refdata_cities[\"cityName\"].apply(lambda x: x[\"nl\"]), \n",
    "                          np.where(refdata_cities.officialLanguage==\"DF\", refdata_cities[\"cityName\"].apply(lambda x: x[\"de\"]),\n",
    "                                   refdata_cities[\"cityName\"].apply(lambda x: x[\"fr\"])))\n",
    "        refdata_cities = refdata_cities[[\"cityNisCode\", \"city\"]].dropna().drop_duplicates()\n",
    "        refdata_cities[\"cityNisCode\"] = refdata_cities.cityNisCode.astype(pd.Int64Dtype()).astype(str)\n"
   ]
  },
  {
   "cell_type": "code",
   "execution_count": 23,
   "id": "d77cae63",
   "metadata": {
    "ExecuteTime": {
     "end_time": "2023-11-09T12:43:54.868004Z",
     "start_time": "2023-11-09T12:43:54.864673Z"
    }
   },
   "outputs": [],
   "source": [
    "# rrn_sample[rrn_sample.street ==\"\"].replace(\"\", pd.NA).Sfr.fillna(rrn_sample.Sde)"
   ]
  },
  {
   "cell_type": "code",
   "execution_count": 24,
   "id": "d05b4070",
   "metadata": {
    "ExecuteTime": {
     "end_time": "2023-11-09T12:43:55.575134Z",
     "start_time": "2023-11-09T12:43:55.383831Z"
    }
   },
   "outputs": [],
   "source": [
    "if \"rrn\" in datasets:\n",
    "    rrn_sample = rrn_sample.merge(refdata_cities.rename(columns={\"cityNisCode\":\"idM_SRC\" }))\n",
    "    rrn_sample[\"street\"] = np.where(rrn_sample.R == \"F\", rrn_sample.Snl, rrn_sample.replace(\"\", pd.NA).Sfr.fillna(rrn_sample.Sde).fillna(rrn_sample.Snl))\n",
    "\n",
    "    rrn_sample = rrn_sample.rename(columns={\n",
    "                        \"hs\":      \"housenumber\",\n",
    "                        \"POri\":    \"postcode\", \n",
    "                        })\n"
   ]
  },
  {
   "cell_type": "code",
   "execution_count": 25,
   "id": "d2001932",
   "metadata": {
    "ExecuteTime": {
     "end_time": "2023-11-09T12:43:56.425925Z",
     "start_time": "2023-11-09T12:43:56.374613Z"
    }
   },
   "outputs": [],
   "source": [
    "if \"rrn\" in datasets:\n",
    "    rrn_sample[[\"street\", \"housenumber\", \"postcode\", \"city\"]].to_csv(f\"{datadir}/rrn_{sample_size}.csv.gz\", index=False)"
   ]
  },
  {
   "cell_type": "markdown",
   "id": "0f2dd9f2",
   "metadata": {
    "ExecuteTime": {
     "end_time": "2023-05-19T12:04:39.314514Z",
     "start_time": "2023-05-19T12:04:39.310609Z"
    }
   },
   "source": [
    "# Repertoire"
   ]
  },
  {
   "cell_type": "code",
   "execution_count": 26,
   "id": "6b202d4b",
   "metadata": {
    "ExecuteTime": {
     "end_time": "2023-11-09T12:44:00.009816Z",
     "start_time": "2023-11-09T12:44:00.007417Z"
    }
   },
   "outputs": [],
   "source": [
    "# Get a sample of enterprise number from KBO open data\n",
    "\n",
    "# \n",
    "# datasets=[\"rep\"]"
   ]
  },
  {
   "cell_type": "code",
   "execution_count": 27,
   "id": "0e2e35ea",
   "metadata": {
    "ExecuteTime": {
     "end_time": "2023-11-09T12:44:02.715277Z",
     "start_time": "2023-11-09T12:44:00.670934Z"
    },
    "scrolled": true
   },
   "outputs": [],
   "source": [
    "if \"rep\" in datasets:\n",
    "    with ZipFile(kbo_fn) as z:\n",
    "        \n",
    "       # open the csv file in the dataset\n",
    "        with z.open(\"enterprise.csv\") as f:\n",
    "\n",
    "            cbe_list_full = pd.read_csv(f,\n",
    "                                        usecols  = [\"EnterpriseNumber\", \"TypeOfEnterprise\", \"JuridicalForm\"], \n",
    "                                        dtype=str)\n",
    "    cbe_list_full"
   ]
  },
  {
   "cell_type": "code",
   "execution_count": 28,
   "id": "6bfe34c3",
   "metadata": {
    "ExecuteTime": {
     "end_time": "2023-11-09T12:44:19.010010Z",
     "start_time": "2023-11-09T12:44:19.007650Z"
    }
   },
   "outputs": [],
   "source": [
    "# sample_size=100"
   ]
  },
  {
   "cell_type": "code",
   "execution_count": 43,
   "id": "b60274f8",
   "metadata": {
    "ExecuteTime": {
     "end_time": "2023-11-09T14:08:09.709358Z",
     "start_time": "2023-11-09T14:08:09.455693Z"
    }
   },
   "outputs": [],
   "source": [
    "if \"rep\" in datasets:\n",
    "    # Get a sample of CBE/KBO numbers\n",
    "    cbe_list_presample = cbe_list_full[(cbe_list_full.TypeOfEnterprise == \"2\") & \n",
    "                                       (cbe_list_full.JuridicalForm.isin([\"015\", \"014\"]))].sample(5*sample_size, random_state=seed)\n",
    "    "
   ]
  },
  {
   "cell_type": "code",
   "execution_count": 32,
   "id": "1dd9cd8c",
   "metadata": {
    "ExecuteTime": {
     "end_time": "2023-11-09T13:19:01.628149Z",
     "start_time": "2023-11-09T13:19:01.623632Z"
    }
   },
   "outputs": [],
   "source": [
    "import time\n",
    "def call_repertorium(cbe_number):\n",
    "    url = f\"https://services.socialsecurity.be/REST/employer/identification/v6/employers/search\"\n",
    "    \n",
    "    r = requests.get(url,\n",
    "        params= { \"enterpriseNumber\": str(cbe_number).replace(\".\", \"\")})\n",
    "    \n",
    "    return json.loads(r.text)\n",
    "\n",
    "def get_repertorium_address(cbe_number):\n",
    "    r = call_repertorium(cbe_number)\n",
    "    \n",
    "    time.sleep(0.05)\n",
    "    if \"identity\" in r and \"address\" in r[\"identity\"]:\n",
    "        return r[\"identity\"][\"address\"]\n",
    "    else:\n",
    "        return None\n",
    "# get_repertorium_address(864279008)"
   ]
  },
  {
   "cell_type": "code",
   "execution_count": 45,
   "id": "7e88719f",
   "metadata": {
    "ExecuteTime": {
     "end_time": "2023-11-09T14:08:37.561442Z",
     "start_time": "2023-11-09T14:08:37.558554Z"
    }
   },
   "outputs": [],
   "source": [
    "# cbe_list_presample = cbe_list_presample.iloc[10000:]"
   ]
  },
  {
   "cell_type": "code",
   "execution_count": 46,
   "id": "9f294e0b",
   "metadata": {
    "ExecuteTime": {
     "end_time": "2023-11-09T14:51:54.209055Z",
     "start_time": "2023-11-09T14:08:40.118699Z"
    },
    "scrolled": true
   },
   "outputs": [
    {
     "name": "stderr",
     "output_type": "stream",
     "text": [
      "  0%|          | 48/10000 [00:23<1:08:57,  2.41it/s]"
     ]
    },
    {
     "name": "stdout",
     "output_type": "stream",
     "text": [
      "skipping duplicated address\n"
     ]
    },
    {
     "name": "stderr",
     "output_type": "stream",
     "text": [
      "  1%|          | 80/10000 [00:42<51:56,  3.18it/s]  "
     ]
    },
    {
     "name": "stdout",
     "output_type": "stream",
     "text": [
      "skipping duplicated address\n"
     ]
    },
    {
     "name": "stderr",
     "output_type": "stream",
     "text": [
      "  1%|          | 92/10000 [00:48<1:51:10,  1.49it/s]"
     ]
    },
    {
     "name": "stdout",
     "output_type": "stream",
     "text": [
      "skipping duplicated address\n"
     ]
    },
    {
     "name": "stderr",
     "output_type": "stream",
     "text": [
      "  1%|▏         | 128/10000 [01:04<57:55,  2.84it/s]  "
     ]
    },
    {
     "name": "stdout",
     "output_type": "stream",
     "text": [
      "skipping duplicated address\n"
     ]
    },
    {
     "name": "stderr",
     "output_type": "stream",
     "text": [
      "  2%|▏         | 166/10000 [01:22<1:09:41,  2.35it/s]"
     ]
    },
    {
     "name": "stdout",
     "output_type": "stream",
     "text": [
      "skipping duplicated address\n"
     ]
    },
    {
     "name": "stderr",
     "output_type": "stream",
     "text": [
      "  2%|▏         | 176/10000 [01:26<1:03:36,  2.57it/s]"
     ]
    },
    {
     "name": "stdout",
     "output_type": "stream",
     "text": [
      "skipping duplicated address\n"
     ]
    },
    {
     "name": "stderr",
     "output_type": "stream",
     "text": [
      "  2%|▏         | 241/10000 [02:00<1:43:41,  1.57it/s]"
     ]
    },
    {
     "name": "stdout",
     "output_type": "stream",
     "text": [
      "skipping duplicated address\n"
     ]
    },
    {
     "name": "stderr",
     "output_type": "stream",
     "text": [
      "  3%|▎         | 274/10000 [02:18<1:10:47,  2.29it/s]"
     ]
    },
    {
     "name": "stdout",
     "output_type": "stream",
     "text": [
      "skipping duplicated address\n"
     ]
    },
    {
     "name": "stderr",
     "output_type": "stream",
     "text": [
      "  3%|▎         | 287/10000 [02:26<1:45:55,  1.53it/s]"
     ]
    },
    {
     "name": "stdout",
     "output_type": "stream",
     "text": [
      "skipping duplicated address\n"
     ]
    },
    {
     "name": "stderr",
     "output_type": "stream",
     "text": [
      "  3%|▎         | 296/10000 [02:34<1:46:57,  1.51it/s]"
     ]
    },
    {
     "name": "stdout",
     "output_type": "stream",
     "text": [
      "skipping duplicated address\n"
     ]
    },
    {
     "name": "stderr",
     "output_type": "stream",
     "text": [
      "  3%|▎         | 299/10000 [02:36<1:42:15,  1.58it/s]"
     ]
    },
    {
     "name": "stdout",
     "output_type": "stream",
     "text": [
      "skipping duplicated address\n"
     ]
    },
    {
     "name": "stderr",
     "output_type": "stream",
     "text": [
      "  4%|▎         | 350/10000 [03:04<1:15:20,  2.13it/s]"
     ]
    },
    {
     "name": "stdout",
     "output_type": "stream",
     "text": [
      "skipping duplicated address\n"
     ]
    },
    {
     "name": "stderr",
     "output_type": "stream",
     "text": [
      "  4%|▍         | 377/10000 [03:14<51:06,  3.14it/s]  "
     ]
    },
    {
     "name": "stdout",
     "output_type": "stream",
     "text": [
      "skipping duplicated address\n"
     ]
    },
    {
     "name": "stderr",
     "output_type": "stream",
     "text": [
      "  4%|▍         | 444/10000 [03:47<1:01:53,  2.57it/s]"
     ]
    },
    {
     "name": "stdout",
     "output_type": "stream",
     "text": [
      "skipping duplicated address\n"
     ]
    },
    {
     "name": "stderr",
     "output_type": "stream",
     "text": [
      "  5%|▍         | 479/10000 [04:05<1:16:04,  2.09it/s]"
     ]
    },
    {
     "name": "stdout",
     "output_type": "stream",
     "text": [
      "skipping duplicated address\n"
     ]
    },
    {
     "name": "stderr",
     "output_type": "stream",
     "text": [
      "  5%|▍         | 487/10000 [04:09<1:12:52,  2.18it/s]"
     ]
    },
    {
     "name": "stdout",
     "output_type": "stream",
     "text": [
      "skipping duplicated address\n"
     ]
    },
    {
     "name": "stderr",
     "output_type": "stream",
     "text": [
      "  5%|▌         | 533/10000 [04:29<44:17,  3.56it/s]  "
     ]
    },
    {
     "name": "stdout",
     "output_type": "stream",
     "text": [
      "skipping duplicated address\n"
     ]
    },
    {
     "name": "stderr",
     "output_type": "stream",
     "text": [
      "  5%|▌         | 538/10000 [04:33<1:10:51,  2.23it/s]"
     ]
    },
    {
     "name": "stdout",
     "output_type": "stream",
     "text": [
      "skipping duplicated address\n"
     ]
    },
    {
     "name": "stderr",
     "output_type": "stream",
     "text": [
      "  6%|▌         | 589/10000 [04:53<57:23,  2.73it/s]  "
     ]
    },
    {
     "name": "stdout",
     "output_type": "stream",
     "text": [
      "skipping duplicated address\n"
     ]
    },
    {
     "name": "stderr",
     "output_type": "stream",
     "text": [
      "  6%|▌         | 619/10000 [05:09<1:43:53,  1.50it/s]"
     ]
    },
    {
     "name": "stdout",
     "output_type": "stream",
     "text": [
      "skipping duplicated address\n"
     ]
    },
    {
     "name": "stderr",
     "output_type": "stream",
     "text": [
      "  6%|▋         | 635/10000 [05:18<1:21:48,  1.91it/s]"
     ]
    },
    {
     "name": "stdout",
     "output_type": "stream",
     "text": [
      "skipping duplicated address\n"
     ]
    },
    {
     "name": "stderr",
     "output_type": "stream",
     "text": [
      "\r",
      "  6%|▋         | 636/10000 [05:19<1:09:16,  2.25it/s]"
     ]
    },
    {
     "name": "stdout",
     "output_type": "stream",
     "text": [
      "skipping duplicated address\n"
     ]
    },
    {
     "name": "stderr",
     "output_type": "stream",
     "text": [
      "  6%|▋         | 638/10000 [05:19<1:04:53,  2.40it/s]"
     ]
    },
    {
     "name": "stdout",
     "output_type": "stream",
     "text": [
      "skipping duplicated address\n"
     ]
    },
    {
     "name": "stderr",
     "output_type": "stream",
     "text": [
      "  7%|▋         | 660/10000 [05:30<1:30:49,  1.71it/s]"
     ]
    },
    {
     "name": "stdout",
     "output_type": "stream",
     "text": [
      "skipping duplicated address\n"
     ]
    },
    {
     "name": "stderr",
     "output_type": "stream",
     "text": [
      "  7%|▋         | 666/10000 [05:34<1:21:04,  1.92it/s]"
     ]
    },
    {
     "name": "stdout",
     "output_type": "stream",
     "text": [
      "skipping duplicated address\n"
     ]
    },
    {
     "name": "stderr",
     "output_type": "stream",
     "text": [
      "  7%|▋         | 679/10000 [05:42<1:43:35,  1.50it/s]"
     ]
    },
    {
     "name": "stdout",
     "output_type": "stream",
     "text": [
      "skipping duplicated address\n"
     ]
    },
    {
     "name": "stderr",
     "output_type": "stream",
     "text": [
      "  7%|▋         | 691/10000 [05:46<50:28,  3.07it/s]  "
     ]
    },
    {
     "name": "stdout",
     "output_type": "stream",
     "text": [
      "skipping duplicated address\n"
     ]
    },
    {
     "name": "stderr",
     "output_type": "stream",
     "text": [
      "  7%|▋         | 710/10000 [05:57<1:18:08,  1.98it/s]"
     ]
    },
    {
     "name": "stdout",
     "output_type": "stream",
     "text": [
      "skipping duplicated address\n"
     ]
    },
    {
     "name": "stderr",
     "output_type": "stream",
     "text": [
      "  7%|▋         | 730/10000 [06:13<2:27:08,  1.05it/s]"
     ]
    },
    {
     "name": "stdout",
     "output_type": "stream",
     "text": [
      "skipping duplicated address\n"
     ]
    },
    {
     "name": "stderr",
     "output_type": "stream",
     "text": [
      "  9%|▉         | 878/10000 [07:17<54:49,  2.77it/s]  "
     ]
    },
    {
     "name": "stdout",
     "output_type": "stream",
     "text": [
      "skipping duplicated address\n"
     ]
    },
    {
     "name": "stderr",
     "output_type": "stream",
     "text": [
      "  9%|▉         | 940/10000 [07:41<1:03:11,  2.39it/s]"
     ]
    },
    {
     "name": "stdout",
     "output_type": "stream",
     "text": [
      "skipping duplicated address\n"
     ]
    },
    {
     "name": "stderr",
     "output_type": "stream",
     "text": [
      " 10%|▉         | 974/10000 [07:54<58:13,  2.58it/s]  "
     ]
    },
    {
     "name": "stdout",
     "output_type": "stream",
     "text": [
      "skipping duplicated address\n"
     ]
    },
    {
     "name": "stderr",
     "output_type": "stream",
     "text": [
      " 10%|█         | 1008/10000 [08:08<1:13:18,  2.04it/s]"
     ]
    },
    {
     "name": "stdout",
     "output_type": "stream",
     "text": [
      "skipping duplicated address\n"
     ]
    },
    {
     "name": "stderr",
     "output_type": "stream",
     "text": [
      " 10%|█         | 1015/10000 [08:11<1:05:08,  2.30it/s]"
     ]
    },
    {
     "name": "stdout",
     "output_type": "stream",
     "text": [
      "skipping duplicated address\n"
     ]
    },
    {
     "name": "stderr",
     "output_type": "stream",
     "text": [
      " 11%|█         | 1055/10000 [08:29<1:08:33,  2.17it/s]"
     ]
    },
    {
     "name": "stdout",
     "output_type": "stream",
     "text": [
      "skipping duplicated address\n"
     ]
    },
    {
     "name": "stderr",
     "output_type": "stream",
     "text": [
      " 11%|█▏        | 1131/10000 [08:58<57:36,  2.57it/s]  "
     ]
    },
    {
     "name": "stdout",
     "output_type": "stream",
     "text": [
      "skipping duplicated address\n"
     ]
    },
    {
     "name": "stderr",
     "output_type": "stream",
     "text": [
      " 11%|█▏        | 1139/10000 [09:03<1:14:21,  1.99it/s]"
     ]
    },
    {
     "name": "stdout",
     "output_type": "stream",
     "text": [
      "skipping duplicated address\n"
     ]
    },
    {
     "name": "stderr",
     "output_type": "stream",
     "text": [
      " 12%|█▏        | 1178/10000 [09:22<1:05:50,  2.23it/s]"
     ]
    },
    {
     "name": "stdout",
     "output_type": "stream",
     "text": [
      "skipping duplicated address\n"
     ]
    },
    {
     "name": "stderr",
     "output_type": "stream",
     "text": [
      " 12%|█▏        | 1187/10000 [09:24<40:56,  3.59it/s]  "
     ]
    },
    {
     "name": "stdout",
     "output_type": "stream",
     "text": [
      "skipping duplicated address\n",
      "skipping duplicated address\n"
     ]
    },
    {
     "name": "stderr",
     "output_type": "stream",
     "text": [
      "\r",
      " 12%|█▏        | 1188/10000 [09:27<2:26:00,  1.01it/s]"
     ]
    },
    {
     "name": "stdout",
     "output_type": "stream",
     "text": [
      "skipping duplicated address\n"
     ]
    },
    {
     "name": "stderr",
     "output_type": "stream",
     "text": [
      " 12%|█▏        | 1205/10000 [09:35<41:56,  3.50it/s]  "
     ]
    },
    {
     "name": "stdout",
     "output_type": "stream",
     "text": [
      "skipping duplicated address\n"
     ]
    },
    {
     "name": "stderr",
     "output_type": "stream",
     "text": [
      " 13%|█▎        | 1252/10000 [09:57<1:37:04,  1.50it/s]"
     ]
    },
    {
     "name": "stdout",
     "output_type": "stream",
     "text": [
      "skipping duplicated address\n"
     ]
    },
    {
     "name": "stderr",
     "output_type": "stream",
     "text": [
      " 13%|█▎        | 1255/10000 [10:00<2:00:03,  1.21it/s]"
     ]
    },
    {
     "name": "stdout",
     "output_type": "stream",
     "text": [
      "skipping duplicated address\n"
     ]
    },
    {
     "name": "stderr",
     "output_type": "stream",
     "text": [
      " 13%|█▎        | 1274/10000 [10:07<59:38,  2.44it/s]  "
     ]
    },
    {
     "name": "stdout",
     "output_type": "stream",
     "text": [
      "skipping duplicated address\n"
     ]
    },
    {
     "name": "stderr",
     "output_type": "stream",
     "text": [
      " 13%|█▎        | 1307/10000 [10:18<32:50,  4.41it/s]  "
     ]
    },
    {
     "name": "stdout",
     "output_type": "stream",
     "text": [
      "skipping duplicated address\n"
     ]
    },
    {
     "name": "stderr",
     "output_type": "stream",
     "text": [
      " 13%|█▎        | 1331/10000 [10:29<55:53,  2.59it/s]  "
     ]
    },
    {
     "name": "stdout",
     "output_type": "stream",
     "text": [
      "skipping duplicated address\n"
     ]
    },
    {
     "name": "stderr",
     "output_type": "stream",
     "text": [
      " 14%|█▎        | 1369/10000 [10:44<48:46,  2.95it/s]  "
     ]
    },
    {
     "name": "stdout",
     "output_type": "stream",
     "text": [
      "skipping duplicated address\n"
     ]
    },
    {
     "name": "stderr",
     "output_type": "stream",
     "text": [
      " 14%|█▍        | 1380/10000 [10:48<40:57,  3.51it/s]  "
     ]
    },
    {
     "name": "stdout",
     "output_type": "stream",
     "text": [
      "skipping duplicated address\n"
     ]
    },
    {
     "name": "stderr",
     "output_type": "stream",
     "text": [
      " 14%|█▍        | 1423/10000 [11:08<45:33,  3.14it/s]  "
     ]
    },
    {
     "name": "stdout",
     "output_type": "stream",
     "text": [
      "skipping duplicated address\n"
     ]
    },
    {
     "name": "stderr",
     "output_type": "stream",
     "text": [
      " 14%|█▍        | 1436/10000 [11:16<1:41:57,  1.40it/s]"
     ]
    },
    {
     "name": "stdout",
     "output_type": "stream",
     "text": [
      "skipping duplicated address\n"
     ]
    },
    {
     "name": "stderr",
     "output_type": "stream",
     "text": [
      " 14%|█▍        | 1440/10000 [11:18<1:03:54,  2.23it/s]"
     ]
    },
    {
     "name": "stdout",
     "output_type": "stream",
     "text": [
      "skipping duplicated address\n"
     ]
    },
    {
     "name": "stderr",
     "output_type": "stream",
     "text": [
      " 15%|█▌        | 1516/10000 [11:49<41:29,  3.41it/s]  "
     ]
    },
    {
     "name": "stdout",
     "output_type": "stream",
     "text": [
      "skipping duplicated address\n"
     ]
    },
    {
     "name": "stderr",
     "output_type": "stream",
     "text": [
      " 15%|█▌        | 1526/10000 [11:56<1:47:50,  1.31it/s]"
     ]
    },
    {
     "name": "stdout",
     "output_type": "stream",
     "text": [
      "skipping duplicated address\n"
     ]
    },
    {
     "name": "stderr",
     "output_type": "stream",
     "text": [
      " 15%|█▌        | 1543/10000 [12:02<47:22,  2.98it/s]  "
     ]
    },
    {
     "name": "stdout",
     "output_type": "stream",
     "text": [
      "skipping duplicated address\n"
     ]
    },
    {
     "name": "stderr",
     "output_type": "stream",
     "text": [
      " 16%|█▌        | 1556/10000 [12:07<36:27,  3.86it/s]  "
     ]
    },
    {
     "name": "stdout",
     "output_type": "stream",
     "text": [
      "skipping duplicated address\n"
     ]
    },
    {
     "name": "stderr",
     "output_type": "stream",
     "text": [
      " 16%|█▌        | 1578/10000 [12:16<49:31,  2.83it/s]  "
     ]
    },
    {
     "name": "stdout",
     "output_type": "stream",
     "text": [
      "skipping duplicated address\n"
     ]
    },
    {
     "name": "stderr",
     "output_type": "stream",
     "text": [
      " 16%|█▌        | 1585/10000 [12:19<1:02:15,  2.25it/s]"
     ]
    },
    {
     "name": "stdout",
     "output_type": "stream",
     "text": [
      "skipping duplicated address\n"
     ]
    },
    {
     "name": "stderr",
     "output_type": "stream",
     "text": [
      " 16%|█▌        | 1594/10000 [12:25<54:43,  2.56it/s]  "
     ]
    },
    {
     "name": "stdout",
     "output_type": "stream",
     "text": [
      "skipping duplicated address\n"
     ]
    },
    {
     "name": "stderr",
     "output_type": "stream",
     "text": [
      " 16%|█▌        | 1598/10000 [12:27<52:47,  2.65it/s]  "
     ]
    },
    {
     "name": "stdout",
     "output_type": "stream",
     "text": [
      "skipping duplicated address\n"
     ]
    },
    {
     "name": "stderr",
     "output_type": "stream",
     "text": [
      " 16%|█▌        | 1602/10000 [12:29<1:00:40,  2.31it/s]"
     ]
    },
    {
     "name": "stdout",
     "output_type": "stream",
     "text": [
      "skipping duplicated address\n"
     ]
    },
    {
     "name": "stderr",
     "output_type": "stream",
     "text": [
      " 17%|█▋        | 1690/10000 [13:08<2:23:44,  1.04s/it]"
     ]
    },
    {
     "name": "stdout",
     "output_type": "stream",
     "text": [
      "skipping duplicated address\n"
     ]
    },
    {
     "name": "stderr",
     "output_type": "stream",
     "text": [
      " 17%|█▋        | 1693/10000 [13:11<2:06:31,  1.09it/s]"
     ]
    },
    {
     "name": "stdout",
     "output_type": "stream",
     "text": [
      "skipping duplicated address\n"
     ]
    },
    {
     "name": "stderr",
     "output_type": "stream",
     "text": [
      " 17%|█▋        | 1717/10000 [13:22<58:59,  2.34it/s]  "
     ]
    },
    {
     "name": "stdout",
     "output_type": "stream",
     "text": [
      "skipping duplicated address\n"
     ]
    },
    {
     "name": "stderr",
     "output_type": "stream",
     "text": [
      " 17%|█▋        | 1739/10000 [13:31<44:04,  3.12it/s]  "
     ]
    },
    {
     "name": "stdout",
     "output_type": "stream",
     "text": [
      "skipping duplicated address\n"
     ]
    },
    {
     "name": "stderr",
     "output_type": "stream",
     "text": [
      " 17%|█▋        | 1748/10000 [13:35<1:02:44,  2.19it/s]"
     ]
    },
    {
     "name": "stdout",
     "output_type": "stream",
     "text": [
      "skipping duplicated address\n"
     ]
    },
    {
     "name": "stderr",
     "output_type": "stream",
     "text": [
      " 18%|█▊        | 1750/10000 [13:36<1:14:04,  1.86it/s]"
     ]
    },
    {
     "name": "stdout",
     "output_type": "stream",
     "text": [
      "skipping duplicated address\n"
     ]
    },
    {
     "name": "stderr",
     "output_type": "stream",
     "text": [
      " 18%|█▊        | 1766/10000 [13:44<48:16,  2.84it/s]  "
     ]
    },
    {
     "name": "stdout",
     "output_type": "stream",
     "text": [
      "skipping duplicated address\n"
     ]
    },
    {
     "name": "stderr",
     "output_type": "stream",
     "text": [
      " 18%|█▊        | 1804/10000 [14:01<1:17:22,  1.77it/s]"
     ]
    },
    {
     "name": "stdout",
     "output_type": "stream",
     "text": [
      "skipping duplicated address\n"
     ]
    },
    {
     "name": "stderr",
     "output_type": "stream",
     "text": [
      " 18%|█▊        | 1819/10000 [14:06<43:24,  3.14it/s]  "
     ]
    },
    {
     "name": "stdout",
     "output_type": "stream",
     "text": [
      "skipping duplicated address\n"
     ]
    },
    {
     "name": "stderr",
     "output_type": "stream",
     "text": [
      " 18%|█▊        | 1828/10000 [14:11<39:36,  3.44it/s]  "
     ]
    },
    {
     "name": "stdout",
     "output_type": "stream",
     "text": [
      "skipping duplicated address\n"
     ]
    },
    {
     "name": "stderr",
     "output_type": "stream",
     "text": [
      " 18%|█▊        | 1831/10000 [14:12<46:16,  2.94it/s]  "
     ]
    },
    {
     "name": "stdout",
     "output_type": "stream",
     "text": [
      "skipping duplicated address\n"
     ]
    },
    {
     "name": "stderr",
     "output_type": "stream",
     "text": [
      " 18%|█▊        | 1834/10000 [14:13<56:59,  2.39it/s]  "
     ]
    },
    {
     "name": "stdout",
     "output_type": "stream",
     "text": [
      "skipping duplicated address\n"
     ]
    },
    {
     "name": "stderr",
     "output_type": "stream",
     "text": [
      " 18%|█▊        | 1848/10000 [14:19<44:44,  3.04it/s]  "
     ]
    },
    {
     "name": "stdout",
     "output_type": "stream",
     "text": [
      "skipping duplicated address\n"
     ]
    },
    {
     "name": "stderr",
     "output_type": "stream",
     "text": [
      " 19%|█▉        | 1905/10000 [14:39<58:39,  2.30it/s]  "
     ]
    },
    {
     "name": "stdout",
     "output_type": "stream",
     "text": [
      "skipping duplicated address\n"
     ]
    },
    {
     "name": "stderr",
     "output_type": "stream",
     "text": [
      " 19%|█▉        | 1931/10000 [14:51<43:04,  3.12it/s]  "
     ]
    },
    {
     "name": "stdout",
     "output_type": "stream",
     "text": [
      "skipping duplicated address\n"
     ]
    },
    {
     "name": "stderr",
     "output_type": "stream",
     "text": [
      " 19%|█▉        | 1937/10000 [14:53<37:50,  3.55it/s]"
     ]
    },
    {
     "name": "stdout",
     "output_type": "stream",
     "text": [
      "skipping duplicated address\n"
     ]
    },
    {
     "name": "stderr",
     "output_type": "stream",
     "text": [
      " 19%|█▉        | 1944/10000 [14:57<58:28,  2.30it/s]  "
     ]
    },
    {
     "name": "stdout",
     "output_type": "stream",
     "text": [
      "skipping duplicated address\n"
     ]
    },
    {
     "name": "stderr",
     "output_type": "stream",
     "text": [
      " 19%|█▉        | 1946/10000 [14:58<53:04,  2.53it/s]  "
     ]
    },
    {
     "name": "stdout",
     "output_type": "stream",
     "text": [
      "skipping duplicated address\n"
     ]
    },
    {
     "name": "stderr",
     "output_type": "stream",
     "text": [
      " 20%|█▉        | 1975/10000 [15:09<44:00,  3.04it/s]  "
     ]
    },
    {
     "name": "stdout",
     "output_type": "stream",
     "text": [
      "skipping duplicated address\n"
     ]
    },
    {
     "name": "stderr",
     "output_type": "stream",
     "text": [
      "\r",
      " 20%|█▉        | 1976/10000 [15:10<1:03:13,  2.12it/s]"
     ]
    },
    {
     "name": "stdout",
     "output_type": "stream",
     "text": [
      "skipping duplicated address\n",
      "skipping duplicated address\n"
     ]
    },
    {
     "name": "stderr",
     "output_type": "stream",
     "text": [
      " 20%|█▉        | 1990/10000 [15:16<52:31,  2.54it/s]  "
     ]
    },
    {
     "name": "stdout",
     "output_type": "stream",
     "text": [
      "skipping duplicated address\n"
     ]
    },
    {
     "name": "stderr",
     "output_type": "stream",
     "text": [
      " 20%|██        | 2011/10000 [15:28<1:28:32,  1.50it/s]"
     ]
    },
    {
     "name": "stdout",
     "output_type": "stream",
     "text": [
      "skipping duplicated address\n"
     ]
    },
    {
     "name": "stderr",
     "output_type": "stream",
     "text": [
      " 20%|██        | 2018/10000 [15:31<56:59,  2.33it/s]  "
     ]
    },
    {
     "name": "stdout",
     "output_type": "stream",
     "text": [
      "skipping duplicated address\n"
     ]
    },
    {
     "name": "stderr",
     "output_type": "stream",
     "text": [
      " 20%|██        | 2022/10000 [15:33<47:37,  2.79it/s]  "
     ]
    },
    {
     "name": "stdout",
     "output_type": "stream",
     "text": [
      "skipping duplicated address\n"
     ]
    },
    {
     "name": "stderr",
     "output_type": "stream",
     "text": [
      " 20%|██        | 2029/10000 [15:37<1:07:45,  1.96it/s]"
     ]
    },
    {
     "name": "stdout",
     "output_type": "stream",
     "text": [
      "skipping duplicated address\n"
     ]
    },
    {
     "name": "stderr",
     "output_type": "stream",
     "text": [
      " 21%|██        | 2051/10000 [15:47<49:33,  2.67it/s]  "
     ]
    },
    {
     "name": "stdout",
     "output_type": "stream",
     "text": [
      "skipping duplicated address\n"
     ]
    },
    {
     "name": "stderr",
     "output_type": "stream",
     "text": [
      "\r",
      " 21%|██        | 2052/10000 [15:48<1:07:52,  1.95it/s]"
     ]
    },
    {
     "name": "stdout",
     "output_type": "stream",
     "text": [
      "skipping duplicated address\n"
     ]
    },
    {
     "name": "stderr",
     "output_type": "stream",
     "text": [
      " 21%|██        | 2080/10000 [15:59<1:07:28,  1.96it/s]"
     ]
    },
    {
     "name": "stdout",
     "output_type": "stream",
     "text": [
      "skipping duplicated address\n"
     ]
    },
    {
     "name": "stderr",
     "output_type": "stream",
     "text": [
      " 21%|██        | 2121/10000 [16:14<33:36,  3.91it/s]  "
     ]
    },
    {
     "name": "stdout",
     "output_type": "stream",
     "text": [
      "skipping duplicated address\n"
     ]
    },
    {
     "name": "stderr",
     "output_type": "stream",
     "text": [
      " 21%|██▏       | 2127/10000 [16:16<57:00,  2.30it/s]"
     ]
    },
    {
     "name": "stdout",
     "output_type": "stream",
     "text": [
      "skipping duplicated address\n"
     ]
    },
    {
     "name": "stderr",
     "output_type": "stream",
     "text": [
      " 21%|██▏       | 2134/10000 [16:19<36:39,  3.58it/s]  "
     ]
    },
    {
     "name": "stdout",
     "output_type": "stream",
     "text": [
      "skipping duplicated address\n"
     ]
    },
    {
     "name": "stderr",
     "output_type": "stream",
     "text": [
      " 22%|██▏       | 2158/10000 [16:27<46:40,  2.80it/s]  "
     ]
    },
    {
     "name": "stdout",
     "output_type": "stream",
     "text": [
      "skipping duplicated address\n"
     ]
    },
    {
     "name": "stderr",
     "output_type": "stream",
     "text": [
      " 22%|██▏       | 2181/10000 [16:38<52:15,  2.49it/s]  "
     ]
    },
    {
     "name": "stdout",
     "output_type": "stream",
     "text": [
      "skipping duplicated address\n"
     ]
    },
    {
     "name": "stderr",
     "output_type": "stream",
     "text": [
      " 22%|██▏       | 2213/10000 [16:52<42:26,  3.06it/s]  "
     ]
    },
    {
     "name": "stdout",
     "output_type": "stream",
     "text": [
      "skipping duplicated address\n"
     ]
    },
    {
     "name": "stderr",
     "output_type": "stream",
     "text": [
      " 22%|██▏       | 2229/10000 [17:00<1:08:17,  1.90it/s]"
     ]
    },
    {
     "name": "stdout",
     "output_type": "stream",
     "text": [
      "skipping duplicated address\n"
     ]
    },
    {
     "name": "stderr",
     "output_type": "stream",
     "text": [
      " 22%|██▏       | 2246/10000 [17:09<51:33,  2.51it/s]  "
     ]
    },
    {
     "name": "stdout",
     "output_type": "stream",
     "text": [
      "skipping duplicated address\n"
     ]
    },
    {
     "name": "stderr",
     "output_type": "stream",
     "text": [
      "\r",
      " 22%|██▏       | 2247/10000 [17:09<56:24,  2.29it/s]"
     ]
    },
    {
     "name": "stdout",
     "output_type": "stream",
     "text": [
      "skipping duplicated address\n",
      "skipping duplicated address\n"
     ]
    },
    {
     "name": "stderr",
     "output_type": "stream",
     "text": [
      " 22%|██▏       | 2249/10000 [17:11<1:06:26,  1.94it/s]"
     ]
    },
    {
     "name": "stdout",
     "output_type": "stream",
     "text": [
      "skipping duplicated address\n"
     ]
    },
    {
     "name": "stderr",
     "output_type": "stream",
     "text": [
      " 23%|██▎       | 2256/10000 [17:13<40:01,  3.23it/s]  "
     ]
    },
    {
     "name": "stdout",
     "output_type": "stream",
     "text": [
      "skipping duplicated address\n"
     ]
    },
    {
     "name": "stderr",
     "output_type": "stream",
     "text": [
      " 23%|██▎       | 2263/10000 [17:18<1:13:27,  1.76it/s]"
     ]
    },
    {
     "name": "stdout",
     "output_type": "stream",
     "text": [
      "skipping duplicated address\n"
     ]
    },
    {
     "name": "stderr",
     "output_type": "stream",
     "text": [
      " 23%|██▎       | 2271/10000 [17:22<51:55,  2.48it/s]  "
     ]
    },
    {
     "name": "stdout",
     "output_type": "stream",
     "text": [
      "skipping duplicated address\n"
     ]
    },
    {
     "name": "stderr",
     "output_type": "stream",
     "text": [
      " 23%|██▎       | 2299/10000 [17:34<44:08,  2.91it/s]  "
     ]
    },
    {
     "name": "stdout",
     "output_type": "stream",
     "text": [
      "skipping duplicated address\n"
     ]
    },
    {
     "name": "stderr",
     "output_type": "stream",
     "text": [
      " 23%|██▎       | 2320/10000 [17:42<36:19,  3.52it/s]  "
     ]
    },
    {
     "name": "stdout",
     "output_type": "stream",
     "text": [
      "skipping duplicated address\n"
     ]
    },
    {
     "name": "stderr",
     "output_type": "stream",
     "text": [
      " 23%|██▎       | 2322/10000 [17:43<45:25,  2.82it/s]"
     ]
    },
    {
     "name": "stdout",
     "output_type": "stream",
     "text": [
      "skipping duplicated address\n"
     ]
    },
    {
     "name": "stderr",
     "output_type": "stream",
     "text": [
      " 24%|██▎       | 2355/10000 [17:56<53:16,  2.39it/s]  "
     ]
    },
    {
     "name": "stdout",
     "output_type": "stream",
     "text": [
      "skipping duplicated address\n"
     ]
    },
    {
     "name": "stderr",
     "output_type": "stream",
     "text": [
      " 24%|██▎       | 2374/10000 [18:05<57:21,  2.22it/s]  "
     ]
    },
    {
     "name": "stdout",
     "output_type": "stream",
     "text": [
      "skipping duplicated address\n"
     ]
    },
    {
     "name": "stderr",
     "output_type": "stream",
     "text": [
      " 24%|██▍       | 2386/10000 [18:10<41:50,  3.03it/s]  "
     ]
    },
    {
     "name": "stdout",
     "output_type": "stream",
     "text": [
      "skipping duplicated address\n"
     ]
    },
    {
     "name": "stderr",
     "output_type": "stream",
     "text": [
      " 24%|██▍       | 2392/10000 [18:12<51:35,  2.46it/s]  "
     ]
    },
    {
     "name": "stdout",
     "output_type": "stream",
     "text": [
      "skipping duplicated address\n"
     ]
    },
    {
     "name": "stderr",
     "output_type": "stream",
     "text": [
      " 24%|██▍       | 2406/10000 [18:17<33:49,  3.74it/s]  "
     ]
    },
    {
     "name": "stdout",
     "output_type": "stream",
     "text": [
      "skipping duplicated address\n"
     ]
    },
    {
     "name": "stderr",
     "output_type": "stream",
     "text": [
      " 24%|██▍       | 2408/10000 [18:18<50:54,  2.49it/s]"
     ]
    },
    {
     "name": "stdout",
     "output_type": "stream",
     "text": [
      "skipping duplicated address\n"
     ]
    },
    {
     "name": "stderr",
     "output_type": "stream",
     "text": [
      " 24%|██▍       | 2432/10000 [18:28<40:31,  3.11it/s]  "
     ]
    },
    {
     "name": "stdout",
     "output_type": "stream",
     "text": [
      "skipping duplicated address\n"
     ]
    },
    {
     "name": "stderr",
     "output_type": "stream",
     "text": [
      " 25%|██▍       | 2460/10000 [18:41<1:12:31,  1.73it/s]"
     ]
    },
    {
     "name": "stdout",
     "output_type": "stream",
     "text": [
      "skipping duplicated address\n"
     ]
    },
    {
     "name": "stderr",
     "output_type": "stream",
     "text": [
      " 25%|██▍       | 2466/10000 [18:44<53:40,  2.34it/s]  "
     ]
    },
    {
     "name": "stdout",
     "output_type": "stream",
     "text": [
      "skipping duplicated address\n"
     ]
    },
    {
     "name": "stderr",
     "output_type": "stream",
     "text": [
      " 25%|██▌       | 2501/10000 [19:03<54:57,  2.27it/s]  "
     ]
    },
    {
     "name": "stdout",
     "output_type": "stream",
     "text": [
      "skipping duplicated address\n"
     ]
    },
    {
     "name": "stderr",
     "output_type": "stream",
     "text": [
      " 25%|██▌       | 2509/10000 [19:05<36:55,  3.38it/s]"
     ]
    },
    {
     "name": "stdout",
     "output_type": "stream",
     "text": [
      "skipping duplicated address\n"
     ]
    },
    {
     "name": "stderr",
     "output_type": "stream",
     "text": [
      " 25%|██▌       | 2539/10000 [19:18<54:09,  2.30it/s]  "
     ]
    },
    {
     "name": "stdout",
     "output_type": "stream",
     "text": [
      "skipping duplicated address\n"
     ]
    },
    {
     "name": "stderr",
     "output_type": "stream",
     "text": [
      " 25%|██▌       | 2548/10000 [19:21<39:16,  3.16it/s]  "
     ]
    },
    {
     "name": "stdout",
     "output_type": "stream",
     "text": [
      "skipping duplicated address\n",
      "skipping duplicated address\n"
     ]
    },
    {
     "name": "stderr",
     "output_type": "stream",
     "text": [
      " 26%|██▌       | 2585/10000 [19:41<1:00:33,  2.04it/s]"
     ]
    },
    {
     "name": "stdout",
     "output_type": "stream",
     "text": [
      "skipping duplicated address\n"
     ]
    },
    {
     "name": "stderr",
     "output_type": "stream",
     "text": [
      " 26%|██▋       | 2640/10000 [20:04<45:31,  2.69it/s]  "
     ]
    },
    {
     "name": "stdout",
     "output_type": "stream",
     "text": [
      "skipping duplicated address\n"
     ]
    },
    {
     "name": "stderr",
     "output_type": "stream",
     "text": [
      " 26%|██▋       | 2645/10000 [20:06<47:14,  2.60it/s]"
     ]
    },
    {
     "name": "stdout",
     "output_type": "stream",
     "text": [
      "skipping duplicated address\n"
     ]
    },
    {
     "name": "stderr",
     "output_type": "stream",
     "text": [
      "\r",
      " 26%|██▋       | 2646/10000 [20:07<1:15:15,  1.63it/s]"
     ]
    },
    {
     "name": "stdout",
     "output_type": "stream",
     "text": [
      "skipping duplicated address\n"
     ]
    },
    {
     "name": "stderr",
     "output_type": "stream",
     "text": [
      " 27%|██▋       | 2668/10000 [20:18<52:24,  2.33it/s]  "
     ]
    },
    {
     "name": "stdout",
     "output_type": "stream",
     "text": [
      "skipping duplicated address\n"
     ]
    },
    {
     "name": "stderr",
     "output_type": "stream",
     "text": [
      " 27%|██▋       | 2685/10000 [20:27<1:14:13,  1.64it/s]"
     ]
    },
    {
     "name": "stdout",
     "output_type": "stream",
     "text": [
      "skipping duplicated address\n"
     ]
    },
    {
     "name": "stderr",
     "output_type": "stream",
     "text": [
      " 27%|██▋       | 2701/10000 [20:32<40:25,  3.01it/s]  "
     ]
    },
    {
     "name": "stdout",
     "output_type": "stream",
     "text": [
      "skipping duplicated address\n"
     ]
    },
    {
     "name": "stderr",
     "output_type": "stream",
     "text": [
      " 27%|██▋       | 2717/10000 [20:38<37:38,  3.23it/s]  "
     ]
    },
    {
     "name": "stdout",
     "output_type": "stream",
     "text": [
      "skipping duplicated address\n"
     ]
    },
    {
     "name": "stderr",
     "output_type": "stream",
     "text": [
      " 28%|██▊       | 2777/10000 [21:05<48:57,  2.46it/s]  "
     ]
    },
    {
     "name": "stdout",
     "output_type": "stream",
     "text": [
      "skipping duplicated address\n"
     ]
    },
    {
     "name": "stderr",
     "output_type": "stream",
     "text": [
      " 28%|██▊       | 2782/10000 [21:07<46:15,  2.60it/s]"
     ]
    },
    {
     "name": "stdout",
     "output_type": "stream",
     "text": [
      "skipping duplicated address\n"
     ]
    },
    {
     "name": "stderr",
     "output_type": "stream",
     "text": [
      " 28%|██▊       | 2792/10000 [21:11<36:30,  3.29it/s]  "
     ]
    },
    {
     "name": "stdout",
     "output_type": "stream",
     "text": [
      "skipping duplicated address\n"
     ]
    },
    {
     "name": "stderr",
     "output_type": "stream",
     "text": [
      " 28%|██▊       | 2813/10000 [21:19<52:54,  2.26it/s]  "
     ]
    },
    {
     "name": "stdout",
     "output_type": "stream",
     "text": [
      "skipping duplicated address\n"
     ]
    },
    {
     "name": "stderr",
     "output_type": "stream",
     "text": [
      " 28%|██▊       | 2826/10000 [21:26<1:39:51,  1.20it/s]"
     ]
    },
    {
     "name": "stdout",
     "output_type": "stream",
     "text": [
      "skipping duplicated address\n"
     ]
    },
    {
     "name": "stderr",
     "output_type": "stream",
     "text": [
      " 29%|██▊       | 2871/10000 [21:47<35:54,  3.31it/s]  "
     ]
    },
    {
     "name": "stdout",
     "output_type": "stream",
     "text": [
      "skipping duplicated address\n"
     ]
    },
    {
     "name": "stderr",
     "output_type": "stream",
     "text": [
      " 29%|██▉       | 2881/10000 [21:53<1:21:13,  1.46it/s]"
     ]
    },
    {
     "name": "stdout",
     "output_type": "stream",
     "text": [
      "skipping duplicated address\n"
     ]
    },
    {
     "name": "stderr",
     "output_type": "stream",
     "text": [
      " 29%|██▉       | 2901/10000 [22:02<38:48,  3.05it/s]  "
     ]
    },
    {
     "name": "stdout",
     "output_type": "stream",
     "text": [
      "skipping duplicated address\n"
     ]
    },
    {
     "name": "stderr",
     "output_type": "stream",
     "text": [
      " 29%|██▉       | 2918/10000 [22:11<57:49,  2.04it/s]  "
     ]
    },
    {
     "name": "stdout",
     "output_type": "stream",
     "text": [
      "skipping duplicated address\n"
     ]
    },
    {
     "name": "stderr",
     "output_type": "stream",
     "text": [
      " 29%|██▉       | 2927/10000 [22:14<54:27,  2.16it/s]  "
     ]
    },
    {
     "name": "stdout",
     "output_type": "stream",
     "text": [
      "skipping duplicated address\n"
     ]
    },
    {
     "name": "stderr",
     "output_type": "stream",
     "text": [
      " 30%|██▉       | 2962/10000 [22:29<35:25,  3.31it/s]  "
     ]
    },
    {
     "name": "stdout",
     "output_type": "stream",
     "text": [
      "skipping duplicated address\n"
     ]
    },
    {
     "name": "stderr",
     "output_type": "stream",
     "text": [
      " 30%|██▉       | 2988/10000 [22:40<39:35,  2.95it/s]  "
     ]
    },
    {
     "name": "stdout",
     "output_type": "stream",
     "text": [
      "skipping duplicated address\n"
     ]
    },
    {
     "name": "stderr",
     "output_type": "stream",
     "text": [
      " 30%|███       | 3014/10000 [22:52<1:04:12,  1.81it/s]"
     ]
    },
    {
     "name": "stdout",
     "output_type": "stream",
     "text": [
      "skipping duplicated address\n"
     ]
    },
    {
     "name": "stderr",
     "output_type": "stream",
     "text": [
      " 30%|███       | 3020/10000 [22:55<42:27,  2.74it/s]  "
     ]
    },
    {
     "name": "stdout",
     "output_type": "stream",
     "text": [
      "skipping duplicated address\n"
     ]
    },
    {
     "name": "stderr",
     "output_type": "stream",
     "text": [
      " 30%|███       | 3035/10000 [23:02<35:52,  3.24it/s]  "
     ]
    },
    {
     "name": "stdout",
     "output_type": "stream",
     "text": [
      "skipping duplicated address\n"
     ]
    },
    {
     "name": "stderr",
     "output_type": "stream",
     "text": [
      " 30%|███       | 3040/10000 [23:04<54:46,  2.12it/s]  "
     ]
    },
    {
     "name": "stdout",
     "output_type": "stream",
     "text": [
      "skipping duplicated address\n"
     ]
    },
    {
     "name": "stderr",
     "output_type": "stream",
     "text": [
      " 31%|███       | 3062/10000 [23:12<28:41,  4.03it/s]  "
     ]
    },
    {
     "name": "stdout",
     "output_type": "stream",
     "text": [
      "skipping duplicated address\n"
     ]
    },
    {
     "name": "stderr",
     "output_type": "stream",
     "text": [
      " 31%|███       | 3114/10000 [23:35<49:38,  2.31it/s]  "
     ]
    },
    {
     "name": "stdout",
     "output_type": "stream",
     "text": [
      "skipping duplicated address\n",
      "skipping duplicated address\n"
     ]
    },
    {
     "name": "stderr",
     "output_type": "stream",
     "text": [
      " 31%|███▏      | 3126/10000 [23:39<38:23,  2.98it/s]"
     ]
    },
    {
     "name": "stdout",
     "output_type": "stream",
     "text": [
      "skipping duplicated address\n"
     ]
    },
    {
     "name": "stderr",
     "output_type": "stream",
     "text": [
      " 31%|███▏      | 3134/10000 [23:42<40:54,  2.80it/s]"
     ]
    },
    {
     "name": "stdout",
     "output_type": "stream",
     "text": [
      "skipping duplicated address\n"
     ]
    },
    {
     "name": "stderr",
     "output_type": "stream",
     "text": [
      " 32%|███▏      | 3160/10000 [23:53<47:50,  2.38it/s]  "
     ]
    },
    {
     "name": "stdout",
     "output_type": "stream",
     "text": [
      "skipping duplicated address\n"
     ]
    },
    {
     "name": "stderr",
     "output_type": "stream",
     "text": [
      " 32%|███▏      | 3180/10000 [24:03<1:01:42,  1.84it/s]"
     ]
    },
    {
     "name": "stdout",
     "output_type": "stream",
     "text": [
      "skipping duplicated address\n"
     ]
    },
    {
     "name": "stderr",
     "output_type": "stream",
     "text": [
      " 32%|███▏      | 3197/10000 [24:10<47:08,  2.41it/s]  "
     ]
    },
    {
     "name": "stdout",
     "output_type": "stream",
     "text": [
      "skipping duplicated address\n",
      "skipping duplicated address\n"
     ]
    },
    {
     "name": "stderr",
     "output_type": "stream",
     "text": [
      " 32%|███▏      | 3243/10000 [24:28<1:04:06,  1.76it/s]"
     ]
    },
    {
     "name": "stdout",
     "output_type": "stream",
     "text": [
      "skipping duplicated address\n"
     ]
    },
    {
     "name": "stderr",
     "output_type": "stream",
     "text": [
      " 33%|███▎      | 3251/10000 [24:32<54:35,  2.06it/s]  "
     ]
    },
    {
     "name": "stdout",
     "output_type": "stream",
     "text": [
      "skipping duplicated address\n"
     ]
    },
    {
     "name": "stderr",
     "output_type": "stream",
     "text": [
      " 33%|███▎      | 3258/10000 [24:36<1:01:44,  1.82it/s]"
     ]
    },
    {
     "name": "stdout",
     "output_type": "stream",
     "text": [
      "skipping duplicated address\n"
     ]
    },
    {
     "name": "stderr",
     "output_type": "stream",
     "text": [
      " 33%|███▎      | 3264/10000 [24:38<42:32,  2.64it/s]  "
     ]
    },
    {
     "name": "stdout",
     "output_type": "stream",
     "text": [
      "skipping duplicated address\n"
     ]
    },
    {
     "name": "stderr",
     "output_type": "stream",
     "text": [
      " 33%|███▎      | 3282/10000 [24:48<50:41,  2.21it/s]  "
     ]
    },
    {
     "name": "stdout",
     "output_type": "stream",
     "text": [
      "skipping duplicated address\n"
     ]
    },
    {
     "name": "stderr",
     "output_type": "stream",
     "text": [
      " 33%|███▎      | 3305/10000 [24:59<49:22,  2.26it/s]  "
     ]
    },
    {
     "name": "stdout",
     "output_type": "stream",
     "text": [
      "skipping duplicated address\n"
     ]
    },
    {
     "name": "stderr",
     "output_type": "stream",
     "text": [
      " 33%|███▎      | 3307/10000 [25:00<48:33,  2.30it/s]"
     ]
    },
    {
     "name": "stdout",
     "output_type": "stream",
     "text": [
      "skipping duplicated address\n"
     ]
    },
    {
     "name": "stderr",
     "output_type": "stream",
     "text": [
      " 34%|███▎      | 3352/10000 [25:17<52:02,  2.13it/s]  "
     ]
    },
    {
     "name": "stdout",
     "output_type": "stream",
     "text": [
      "skipping duplicated address\n"
     ]
    },
    {
     "name": "stderr",
     "output_type": "stream",
     "text": [
      " 34%|███▍      | 3387/10000 [25:32<40:11,  2.74it/s]  "
     ]
    },
    {
     "name": "stdout",
     "output_type": "stream",
     "text": [
      "skipping duplicated address\n"
     ]
    },
    {
     "name": "stderr",
     "output_type": "stream",
     "text": [
      " 34%|███▍      | 3423/10000 [25:47<32:39,  3.36it/s]  "
     ]
    },
    {
     "name": "stdout",
     "output_type": "stream",
     "text": [
      "skipping duplicated address\n"
     ]
    },
    {
     "name": "stderr",
     "output_type": "stream",
     "text": [
      " 34%|███▍      | 3433/10000 [25:52<42:46,  2.56it/s]  "
     ]
    },
    {
     "name": "stdout",
     "output_type": "stream",
     "text": [
      "skipping duplicated address\n"
     ]
    },
    {
     "name": "stderr",
     "output_type": "stream",
     "text": [
      " 35%|███▍      | 3462/10000 [26:04<36:52,  2.96it/s]  "
     ]
    },
    {
     "name": "stdout",
     "output_type": "stream",
     "text": [
      "skipping duplicated address\n"
     ]
    },
    {
     "name": "stderr",
     "output_type": "stream",
     "text": [
      " 35%|███▍      | 3473/10000 [26:10<53:31,  2.03it/s]  "
     ]
    },
    {
     "name": "stdout",
     "output_type": "stream",
     "text": [
      "skipping duplicated address\n"
     ]
    },
    {
     "name": "stderr",
     "output_type": "stream",
     "text": [
      " 35%|███▍      | 3490/10000 [26:18<54:31,  1.99it/s]  "
     ]
    },
    {
     "name": "stdout",
     "output_type": "stream",
     "text": [
      "skipping duplicated address\n"
     ]
    },
    {
     "name": "stderr",
     "output_type": "stream",
     "text": [
      " 35%|███▌      | 3502/10000 [26:25<53:50,  2.01it/s]  "
     ]
    },
    {
     "name": "stdout",
     "output_type": "stream",
     "text": [
      "skipping duplicated address\n"
     ]
    },
    {
     "name": "stderr",
     "output_type": "stream",
     "text": [
      " 35%|███▌      | 3509/10000 [26:29<1:17:04,  1.40it/s]"
     ]
    },
    {
     "name": "stdout",
     "output_type": "stream",
     "text": [
      "skipping duplicated address\n"
     ]
    },
    {
     "name": "stderr",
     "output_type": "stream",
     "text": [
      " 36%|███▌      | 3550/10000 [26:46<24:42,  4.35it/s]  "
     ]
    },
    {
     "name": "stdout",
     "output_type": "stream",
     "text": [
      "skipping duplicated address\n"
     ]
    },
    {
     "name": "stderr",
     "output_type": "stream",
     "text": [
      " 36%|███▌      | 3565/10000 [26:52<37:20,  2.87it/s]"
     ]
    },
    {
     "name": "stdout",
     "output_type": "stream",
     "text": [
      "skipping duplicated address\n"
     ]
    },
    {
     "name": "stderr",
     "output_type": "stream",
     "text": [
      " 36%|███▌      | 3615/10000 [27:13<27:13,  3.91it/s]  "
     ]
    },
    {
     "name": "stdout",
     "output_type": "stream",
     "text": [
      "skipping duplicated address\n"
     ]
    },
    {
     "name": "stderr",
     "output_type": "stream",
     "text": [
      " 36%|███▋      | 3638/10000 [27:23<50:18,  2.11it/s]  "
     ]
    },
    {
     "name": "stdout",
     "output_type": "stream",
     "text": [
      "skipping duplicated address\n"
     ]
    },
    {
     "name": "stderr",
     "output_type": "stream",
     "text": [
      " 36%|███▋      | 3644/10000 [27:26<43:29,  2.44it/s]  "
     ]
    },
    {
     "name": "stdout",
     "output_type": "stream",
     "text": [
      "skipping duplicated address\n"
     ]
    },
    {
     "name": "stderr",
     "output_type": "stream",
     "text": [
      " 37%|███▋      | 3660/10000 [27:32<50:44,  2.08it/s]"
     ]
    },
    {
     "name": "stdout",
     "output_type": "stream",
     "text": [
      "skipping duplicated address\n"
     ]
    },
    {
     "name": "stderr",
     "output_type": "stream",
     "text": [
      " 37%|███▋      | 3664/10000 [27:35<58:51,  1.79it/s]  "
     ]
    },
    {
     "name": "stdout",
     "output_type": "stream",
     "text": [
      "skipping duplicated address\n"
     ]
    },
    {
     "name": "stderr",
     "output_type": "stream",
     "text": [
      " 37%|███▋      | 3671/10000 [27:38<46:04,  2.29it/s]  "
     ]
    },
    {
     "name": "stdout",
     "output_type": "stream",
     "text": [
      "skipping duplicated address\n"
     ]
    },
    {
     "name": "stderr",
     "output_type": "stream",
     "text": [
      " 37%|███▋      | 3673/10000 [27:39<1:01:48,  1.71it/s]"
     ]
    },
    {
     "name": "stdout",
     "output_type": "stream",
     "text": [
      "skipping duplicated address\n"
     ]
    },
    {
     "name": "stderr",
     "output_type": "stream",
     "text": [
      " 37%|███▋      | 3678/10000 [27:41<58:53,  1.79it/s]  "
     ]
    },
    {
     "name": "stdout",
     "output_type": "stream",
     "text": [
      "skipping duplicated address\n"
     ]
    },
    {
     "name": "stderr",
     "output_type": "stream",
     "text": [
      " 37%|███▋      | 3693/10000 [27:48<34:08,  3.08it/s]"
     ]
    },
    {
     "name": "stdout",
     "output_type": "stream",
     "text": [
      "skipping duplicated address\n"
     ]
    },
    {
     "name": "stderr",
     "output_type": "stream",
     "text": [
      " 37%|███▋      | 3696/10000 [27:50<1:11:20,  1.47it/s]"
     ]
    },
    {
     "name": "stdout",
     "output_type": "stream",
     "text": [
      "skipping duplicated address\n"
     ]
    },
    {
     "name": "stderr",
     "output_type": "stream",
     "text": [
      " 37%|███▋      | 3710/10000 [27:55<35:17,  2.97it/s]  "
     ]
    },
    {
     "name": "stdout",
     "output_type": "stream",
     "text": [
      "skipping duplicated address\n"
     ]
    },
    {
     "name": "stderr",
     "output_type": "stream",
     "text": [
      " 38%|███▊      | 3790/10000 [28:31<1:06:34,  1.55it/s]"
     ]
    },
    {
     "name": "stdout",
     "output_type": "stream",
     "text": [
      "skipping duplicated address\n"
     ]
    },
    {
     "name": "stderr",
     "output_type": "stream",
     "text": [
      " 38%|███▊      | 3808/10000 [28:40<46:23,  2.22it/s]  "
     ]
    },
    {
     "name": "stdout",
     "output_type": "stream",
     "text": [
      "skipping duplicated address\n",
      "skipping duplicated address\n"
     ]
    },
    {
     "name": "stderr",
     "output_type": "stream",
     "text": [
      " 38%|███▊      | 3840/10000 [28:54<34:46,  2.95it/s]  "
     ]
    },
    {
     "name": "stdout",
     "output_type": "stream",
     "text": [
      "skipping duplicated address\n"
     ]
    },
    {
     "name": "stderr",
     "output_type": "stream",
     "text": [
      " 39%|███▊      | 3866/10000 [29:03<40:16,  2.54it/s]"
     ]
    },
    {
     "name": "stdout",
     "output_type": "stream",
     "text": [
      "skipping duplicated address\n"
     ]
    },
    {
     "name": "stderr",
     "output_type": "stream",
     "text": [
      " 40%|███▉      | 3952/10000 [29:39<49:33,  2.03it/s]  "
     ]
    },
    {
     "name": "stdout",
     "output_type": "stream",
     "text": [
      "skipping duplicated address\n"
     ]
    },
    {
     "name": "stderr",
     "output_type": "stream",
     "text": [
      " 40%|████      | 4032/10000 [30:12<31:43,  3.14it/s]  "
     ]
    },
    {
     "name": "stdout",
     "output_type": "stream",
     "text": [
      "skipping duplicated address\n"
     ]
    },
    {
     "name": "stderr",
     "output_type": "stream",
     "text": [
      " 40%|████      | 4038/10000 [30:15<43:07,  2.30it/s]"
     ]
    },
    {
     "name": "stdout",
     "output_type": "stream",
     "text": [
      "skipping duplicated address\n"
     ]
    },
    {
     "name": "stderr",
     "output_type": "stream",
     "text": [
      " 41%|████      | 4075/10000 [30:36<55:22,  1.78it/s]  "
     ]
    },
    {
     "name": "stdout",
     "output_type": "stream",
     "text": [
      "skipping duplicated address\n"
     ]
    },
    {
     "name": "stderr",
     "output_type": "stream",
     "text": [
      " 41%|████      | 4086/10000 [30:41<1:12:23,  1.36it/s]"
     ]
    },
    {
     "name": "stdout",
     "output_type": "stream",
     "text": [
      "skipping duplicated address\n"
     ]
    },
    {
     "name": "stderr",
     "output_type": "stream",
     "text": [
      " 41%|████      | 4123/10000 [30:58<30:02,  3.26it/s]  "
     ]
    },
    {
     "name": "stdout",
     "output_type": "stream",
     "text": [
      "skipping duplicated address\n"
     ]
    },
    {
     "name": "stderr",
     "output_type": "stream",
     "text": [
      "\r",
      " 41%|████      | 4124/10000 [30:59<45:17,  2.16it/s]"
     ]
    },
    {
     "name": "stdout",
     "output_type": "stream",
     "text": [
      "skipping duplicated address\n"
     ]
    },
    {
     "name": "stderr",
     "output_type": "stream",
     "text": [
      " 41%|████▏     | 4137/10000 [31:04<37:06,  2.63it/s]  "
     ]
    },
    {
     "name": "stdout",
     "output_type": "stream",
     "text": [
      "skipping duplicated address\n"
     ]
    },
    {
     "name": "stderr",
     "output_type": "stream",
     "text": [
      " 42%|████▏     | 4158/10000 [31:14<34:59,  2.78it/s]  "
     ]
    },
    {
     "name": "stdout",
     "output_type": "stream",
     "text": [
      "skipping duplicated address\n"
     ]
    },
    {
     "name": "stderr",
     "output_type": "stream",
     "text": [
      " 42%|████▏     | 4163/10000 [31:18<49:14,  1.98it/s]  "
     ]
    },
    {
     "name": "stdout",
     "output_type": "stream",
     "text": [
      "skipping duplicated address\n"
     ]
    },
    {
     "name": "stderr",
     "output_type": "stream",
     "text": [
      "\r",
      " 42%|████▏     | 4164/10000 [31:20<1:10:33,  1.38it/s]"
     ]
    },
    {
     "name": "stdout",
     "output_type": "stream",
     "text": [
      "skipping duplicated address\n"
     ]
    },
    {
     "name": "stderr",
     "output_type": "stream",
     "text": [
      " 42%|████▏     | 4183/10000 [31:31<44:59,  2.15it/s]  "
     ]
    },
    {
     "name": "stdout",
     "output_type": "stream",
     "text": [
      "skipping duplicated address\n"
     ]
    },
    {
     "name": "stderr",
     "output_type": "stream",
     "text": [
      " 42%|████▏     | 4187/10000 [31:33<43:32,  2.23it/s]  "
     ]
    },
    {
     "name": "stdout",
     "output_type": "stream",
     "text": [
      "skipping duplicated address\n"
     ]
    },
    {
     "name": "stderr",
     "output_type": "stream",
     "text": [
      " 42%|████▏     | 4209/10000 [31:43<23:25,  4.12it/s]  "
     ]
    },
    {
     "name": "stdout",
     "output_type": "stream",
     "text": [
      "skipping duplicated address\n"
     ]
    },
    {
     "name": "stderr",
     "output_type": "stream",
     "text": [
      " 42%|████▏     | 4212/10000 [31:44<35:12,  2.74it/s]"
     ]
    },
    {
     "name": "stdout",
     "output_type": "stream",
     "text": [
      "skipping duplicated address\n"
     ]
    },
    {
     "name": "stderr",
     "output_type": "stream",
     "text": [
      " 42%|████▏     | 4216/10000 [31:47<47:05,  2.05it/s]  "
     ]
    },
    {
     "name": "stdout",
     "output_type": "stream",
     "text": [
      "skipping duplicated address\n"
     ]
    },
    {
     "name": "stderr",
     "output_type": "stream",
     "text": [
      " 42%|████▏     | 4235/10000 [31:55<32:41,  2.94it/s]  "
     ]
    },
    {
     "name": "stdout",
     "output_type": "stream",
     "text": [
      "skipping duplicated address\n"
     ]
    },
    {
     "name": "stderr",
     "output_type": "stream",
     "text": [
      " 43%|████▎     | 4281/10000 [32:14<37:40,  2.53it/s]  "
     ]
    },
    {
     "name": "stdout",
     "output_type": "stream",
     "text": [
      "skipping duplicated address\n"
     ]
    },
    {
     "name": "stderr",
     "output_type": "stream",
     "text": [
      " 43%|████▎     | 4311/10000 [32:26<26:27,  3.58it/s]  "
     ]
    },
    {
     "name": "stdout",
     "output_type": "stream",
     "text": [
      "skipping duplicated address\n"
     ]
    },
    {
     "name": "stderr",
     "output_type": "stream",
     "text": [
      "\r",
      " 43%|████▎     | 4312/10000 [32:27<34:13,  2.77it/s]"
     ]
    },
    {
     "name": "stdout",
     "output_type": "stream",
     "text": [
      "skipping duplicated address\n"
     ]
    },
    {
     "name": "stderr",
     "output_type": "stream",
     "text": [
      " 43%|████▎     | 4332/10000 [32:38<33:56,  2.78it/s]  "
     ]
    },
    {
     "name": "stdout",
     "output_type": "stream",
     "text": [
      "skipping duplicated address\n"
     ]
    },
    {
     "name": "stderr",
     "output_type": "stream",
     "text": [
      " 43%|████▎     | 4334/10000 [32:39<54:17,  1.74it/s]"
     ]
    },
    {
     "name": "stdout",
     "output_type": "stream",
     "text": [
      "skipping duplicated address\n",
      "skipping duplicated address\n"
     ]
    },
    {
     "name": "stderr",
     "output_type": "stream",
     "text": [
      " 44%|████▎     | 4355/10000 [32:48<36:25,  2.58it/s]"
     ]
    },
    {
     "name": "stdout",
     "output_type": "stream",
     "text": [
      "skipping duplicated address\n"
     ]
    },
    {
     "name": "stderr",
     "output_type": "stream",
     "text": [
      " 44%|████▎     | 4365/10000 [32:54<51:41,  1.82it/s]  "
     ]
    },
    {
     "name": "stdout",
     "output_type": "stream",
     "text": [
      "skipping duplicated address\n"
     ]
    },
    {
     "name": "stderr",
     "output_type": "stream",
     "text": [
      " 44%|████▎     | 4367/10000 [32:54<43:40,  2.15it/s]"
     ]
    },
    {
     "name": "stdout",
     "output_type": "stream",
     "text": [
      "skipping duplicated address\n"
     ]
    },
    {
     "name": "stderr",
     "output_type": "stream",
     "text": [
      " 44%|████▎     | 4374/10000 [32:59<41:26,  2.26it/s]  "
     ]
    },
    {
     "name": "stdout",
     "output_type": "stream",
     "text": [
      "skipping duplicated address\n"
     ]
    },
    {
     "name": "stderr",
     "output_type": "stream",
     "text": [
      "\r",
      " 44%|████▍     | 4375/10000 [32:59<47:19,  1.98it/s]"
     ]
    },
    {
     "name": "stdout",
     "output_type": "stream",
     "text": [
      "skipping duplicated address\n"
     ]
    },
    {
     "name": "stderr",
     "output_type": "stream",
     "text": [
      " 44%|████▍     | 4440/10000 [33:28<50:13,  1.84it/s]  "
     ]
    },
    {
     "name": "stdout",
     "output_type": "stream",
     "text": [
      "skipping duplicated address\n"
     ]
    },
    {
     "name": "stderr",
     "output_type": "stream",
     "text": [
      " 44%|████▍     | 4444/10000 [33:31<57:21,  1.61it/s]  "
     ]
    },
    {
     "name": "stdout",
     "output_type": "stream",
     "text": [
      "skipping duplicated address\n"
     ]
    },
    {
     "name": "stderr",
     "output_type": "stream",
     "text": [
      " 44%|████▍     | 4446/10000 [33:32<1:00:15,  1.54it/s]"
     ]
    },
    {
     "name": "stdout",
     "output_type": "stream",
     "text": [
      "skipping duplicated address\n"
     ]
    },
    {
     "name": "stderr",
     "output_type": "stream",
     "text": [
      " 45%|████▍     | 4457/10000 [33:36<30:29,  3.03it/s]  "
     ]
    },
    {
     "name": "stdout",
     "output_type": "stream",
     "text": [
      "skipping duplicated address\n"
     ]
    },
    {
     "name": "stderr",
     "output_type": "stream",
     "text": [
      " 45%|████▍     | 4462/10000 [33:39<41:55,  2.20it/s]"
     ]
    },
    {
     "name": "stdout",
     "output_type": "stream",
     "text": [
      "skipping duplicated address\n"
     ]
    },
    {
     "name": "stderr",
     "output_type": "stream",
     "text": [
      " 45%|████▍     | 4470/10000 [33:46<1:15:16,  1.22it/s]"
     ]
    },
    {
     "name": "stdout",
     "output_type": "stream",
     "text": [
      "skipping duplicated address\n"
     ]
    },
    {
     "name": "stderr",
     "output_type": "stream",
     "text": [
      " 45%|████▍     | 4494/10000 [33:59<37:02,  2.48it/s]  "
     ]
    },
    {
     "name": "stdout",
     "output_type": "stream",
     "text": [
      "skipping duplicated address\n"
     ]
    },
    {
     "name": "stderr",
     "output_type": "stream",
     "text": [
      " 45%|████▌     | 4517/10000 [34:11<38:44,  2.36it/s]  "
     ]
    },
    {
     "name": "stdout",
     "output_type": "stream",
     "text": [
      "skipping duplicated address\n"
     ]
    },
    {
     "name": "stderr",
     "output_type": "stream",
     "text": [
      " 45%|████▌     | 4520/10000 [34:12<44:10,  2.07it/s]"
     ]
    },
    {
     "name": "stdout",
     "output_type": "stream",
     "text": [
      "skipping duplicated address\n"
     ]
    },
    {
     "name": "stderr",
     "output_type": "stream",
     "text": [
      " 45%|████▌     | 4546/10000 [34:22<36:57,  2.46it/s]"
     ]
    },
    {
     "name": "stdout",
     "output_type": "stream",
     "text": [
      "skipping duplicated address\n"
     ]
    },
    {
     "name": "stderr",
     "output_type": "stream",
     "text": [
      " 46%|████▌     | 4606/10000 [34:48<47:00,  1.91it/s]  "
     ]
    },
    {
     "name": "stdout",
     "output_type": "stream",
     "text": [
      "skipping duplicated address\n"
     ]
    },
    {
     "name": "stderr",
     "output_type": "stream",
     "text": [
      " 46%|████▌     | 4615/10000 [34:53<54:53,  1.63it/s]  "
     ]
    },
    {
     "name": "stdout",
     "output_type": "stream",
     "text": [
      "skipping duplicated address\n"
     ]
    },
    {
     "name": "stderr",
     "output_type": "stream",
     "text": [
      " 46%|████▋     | 4635/10000 [35:03<45:37,  1.96it/s]  "
     ]
    },
    {
     "name": "stdout",
     "output_type": "stream",
     "text": [
      "skipping duplicated address\n"
     ]
    },
    {
     "name": "stderr",
     "output_type": "stream",
     "text": [
      " 46%|████▋     | 4639/10000 [35:07<49:47,  1.79it/s]  "
     ]
    },
    {
     "name": "stdout",
     "output_type": "stream",
     "text": [
      "skipping duplicated address\n"
     ]
    },
    {
     "name": "stderr",
     "output_type": "stream",
     "text": [
      " 47%|████▋     | 4679/10000 [35:27<35:08,  2.52it/s]  "
     ]
    },
    {
     "name": "stdout",
     "output_type": "stream",
     "text": [
      "skipping duplicated address\n"
     ]
    },
    {
     "name": "stderr",
     "output_type": "stream",
     "text": [
      " 47%|████▋     | 4682/10000 [35:28<33:00,  2.69it/s]"
     ]
    },
    {
     "name": "stdout",
     "output_type": "stream",
     "text": [
      "skipping duplicated address\n"
     ]
    },
    {
     "name": "stderr",
     "output_type": "stream",
     "text": [
      " 47%|████▋     | 4685/10000 [35:29<28:20,  3.12it/s]"
     ]
    },
    {
     "name": "stdout",
     "output_type": "stream",
     "text": [
      "skipping duplicated address\n"
     ]
    },
    {
     "name": "stderr",
     "output_type": "stream",
     "text": [
      " 47%|████▋     | 4720/10000 [35:44<30:57,  2.84it/s]"
     ]
    },
    {
     "name": "stdout",
     "output_type": "stream",
     "text": [
      "skipping duplicated address\n"
     ]
    },
    {
     "name": "stderr",
     "output_type": "stream",
     "text": [
      " 48%|████▊     | 4762/10000 [36:02<26:16,  3.32it/s]  "
     ]
    },
    {
     "name": "stdout",
     "output_type": "stream",
     "text": [
      "skipping duplicated address\n"
     ]
    },
    {
     "name": "stderr",
     "output_type": "stream",
     "text": [
      " 48%|████▊     | 4765/10000 [36:04<39:58,  2.18it/s]"
     ]
    },
    {
     "name": "stdout",
     "output_type": "stream",
     "text": [
      "skipping duplicated address\n"
     ]
    },
    {
     "name": "stderr",
     "output_type": "stream",
     "text": [
      " 48%|████▊     | 4799/10000 [36:22<29:16,  2.96it/s]  "
     ]
    },
    {
     "name": "stdout",
     "output_type": "stream",
     "text": [
      "skipping duplicated address\n"
     ]
    },
    {
     "name": "stderr",
     "output_type": "stream",
     "text": [
      " 48%|████▊     | 4828/10000 [36:35<53:40,  1.61it/s]"
     ]
    },
    {
     "name": "stdout",
     "output_type": "stream",
     "text": [
      "skipping duplicated address\n"
     ]
    },
    {
     "name": "stderr",
     "output_type": "stream",
     "text": [
      " 48%|████▊     | 4832/10000 [36:38<53:12,  1.62it/s]  "
     ]
    },
    {
     "name": "stdout",
     "output_type": "stream",
     "text": [
      "skipping duplicated address\n"
     ]
    },
    {
     "name": "stderr",
     "output_type": "stream",
     "text": [
      " 49%|████▊     | 4853/10000 [36:48<30:04,  2.85it/s]  "
     ]
    },
    {
     "name": "stdout",
     "output_type": "stream",
     "text": [
      "skipping duplicated address\n"
     ]
    },
    {
     "name": "stderr",
     "output_type": "stream",
     "text": [
      " 49%|████▊     | 4867/10000 [36:56<48:48,  1.75it/s]  "
     ]
    },
    {
     "name": "stdout",
     "output_type": "stream",
     "text": [
      "skipping duplicated address\n"
     ]
    },
    {
     "name": "stderr",
     "output_type": "stream",
     "text": [
      " 49%|████▉     | 4878/10000 [37:02<30:59,  2.75it/s]  "
     ]
    },
    {
     "name": "stdout",
     "output_type": "stream",
     "text": [
      "skipping duplicated address\n"
     ]
    },
    {
     "name": "stderr",
     "output_type": "stream",
     "text": [
      " 49%|████▉     | 4905/10000 [37:15<27:36,  3.08it/s]  "
     ]
    },
    {
     "name": "stdout",
     "output_type": "stream",
     "text": [
      "skipping duplicated address\n"
     ]
    },
    {
     "name": "stderr",
     "output_type": "stream",
     "text": [
      " 49%|████▉     | 4913/10000 [37:18<25:39,  3.30it/s]"
     ]
    },
    {
     "name": "stdout",
     "output_type": "stream",
     "text": [
      "skipping duplicated address\n"
     ]
    },
    {
     "name": "stderr",
     "output_type": "stream",
     "text": [
      " 50%|████▉     | 4955/10000 [37:39<53:52,  1.56it/s]  "
     ]
    },
    {
     "name": "stdout",
     "output_type": "stream",
     "text": [
      "skipping duplicated address\n"
     ]
    },
    {
     "name": "stderr",
     "output_type": "stream",
     "text": [
      " 50%|████▉     | 4964/10000 [37:43<32:36,  2.57it/s]"
     ]
    },
    {
     "name": "stdout",
     "output_type": "stream",
     "text": [
      "skipping duplicated address\n"
     ]
    },
    {
     "name": "stderr",
     "output_type": "stream",
     "text": [
      " 50%|████▉     | 4980/10000 [37:51<27:11,  3.08it/s]"
     ]
    },
    {
     "name": "stdout",
     "output_type": "stream",
     "text": [
      "skipping duplicated address\n"
     ]
    },
    {
     "name": "stderr",
     "output_type": "stream",
     "text": [
      " 50%|████▉     | 4983/10000 [37:52<34:23,  2.43it/s]"
     ]
    },
    {
     "name": "stdout",
     "output_type": "stream",
     "text": [
      "skipping duplicated address\n",
      "skipping duplicated address\n"
     ]
    },
    {
     "name": "stderr",
     "output_type": "stream",
     "text": [
      " 51%|█████     | 5057/10000 [38:28<33:57,  2.43it/s]  "
     ]
    },
    {
     "name": "stdout",
     "output_type": "stream",
     "text": [
      "skipping duplicated address\n"
     ]
    },
    {
     "name": "stderr",
     "output_type": "stream",
     "text": [
      " 51%|█████     | 5063/10000 [38:30<28:42,  2.87it/s]"
     ]
    },
    {
     "name": "stdout",
     "output_type": "stream",
     "text": [
      "skipping duplicated address\n",
      "skipping duplicated address\n"
     ]
    },
    {
     "name": "stderr",
     "output_type": "stream",
     "text": [
      " 51%|█████     | 5074/10000 [38:36<39:07,  2.10it/s]"
     ]
    },
    {
     "name": "stdout",
     "output_type": "stream",
     "text": [
      "skipping duplicated address\n"
     ]
    },
    {
     "name": "stderr",
     "output_type": "stream",
     "text": [
      " 51%|█████     | 5082/10000 [38:39<29:28,  2.78it/s]"
     ]
    },
    {
     "name": "stdout",
     "output_type": "stream",
     "text": [
      "skipping duplicated address\n",
      "skipping duplicated address\n"
     ]
    },
    {
     "name": "stderr",
     "output_type": "stream",
     "text": [
      " 51%|█████     | 5103/10000 [38:49<49:40,  1.64it/s]"
     ]
    },
    {
     "name": "stdout",
     "output_type": "stream",
     "text": [
      "skipping duplicated address\n"
     ]
    },
    {
     "name": "stderr",
     "output_type": "stream",
     "text": [
      " 51%|█████     | 5108/10000 [38:51<33:32,  2.43it/s]"
     ]
    },
    {
     "name": "stdout",
     "output_type": "stream",
     "text": [
      "skipping duplicated address\n"
     ]
    },
    {
     "name": "stderr",
     "output_type": "stream",
     "text": [
      " 51%|█████     | 5111/10000 [38:54<50:48,  1.60it/s]  "
     ]
    },
    {
     "name": "stdout",
     "output_type": "stream",
     "text": [
      "skipping duplicated address\n"
     ]
    },
    {
     "name": "stderr",
     "output_type": "stream",
     "text": [
      " 51%|█████▏    | 5136/10000 [39:09<46:10,  1.76it/s]  "
     ]
    },
    {
     "name": "stdout",
     "output_type": "stream",
     "text": [
      "skipping duplicated address\n"
     ]
    },
    {
     "name": "stderr",
     "output_type": "stream",
     "text": [
      " 51%|█████▏    | 5139/10000 [39:11<37:56,  2.14it/s]"
     ]
    },
    {
     "name": "stdout",
     "output_type": "stream",
     "text": [
      "skipping duplicated address\n"
     ]
    },
    {
     "name": "stderr",
     "output_type": "stream",
     "text": [
      " 52%|█████▏    | 5151/10000 [39:16<29:26,  2.74it/s]"
     ]
    },
    {
     "name": "stdout",
     "output_type": "stream",
     "text": [
      "skipping duplicated address\n"
     ]
    },
    {
     "name": "stderr",
     "output_type": "stream",
     "text": [
      " 52%|█████▏    | 5162/10000 [39:23<1:30:46,  1.13s/it]"
     ]
    },
    {
     "name": "stdout",
     "output_type": "stream",
     "text": [
      "skipping duplicated address\n"
     ]
    },
    {
     "name": "stderr",
     "output_type": "stream",
     "text": [
      " 52%|█████▏    | 5167/10000 [39:26<54:03,  1.49it/s]  "
     ]
    },
    {
     "name": "stdout",
     "output_type": "stream",
     "text": [
      "skipping duplicated address\n",
      "skipping duplicated address\n"
     ]
    },
    {
     "name": "stderr",
     "output_type": "stream",
     "text": [
      " 52%|█████▏    | 5184/10000 [39:36<41:44,  1.92it/s]  "
     ]
    },
    {
     "name": "stdout",
     "output_type": "stream",
     "text": [
      "skipping duplicated address\n"
     ]
    },
    {
     "name": "stderr",
     "output_type": "stream",
     "text": [
      " 52%|█████▏    | 5194/10000 [39:42<31:57,  2.51it/s]  "
     ]
    },
    {
     "name": "stdout",
     "output_type": "stream",
     "text": [
      "skipping duplicated address\n"
     ]
    },
    {
     "name": "stderr",
     "output_type": "stream",
     "text": [
      " 52%|█████▏    | 5199/10000 [39:44<28:55,  2.77it/s]"
     ]
    },
    {
     "name": "stdout",
     "output_type": "stream",
     "text": [
      "skipping duplicated address\n"
     ]
    },
    {
     "name": "stderr",
     "output_type": "stream",
     "text": [
      "\r",
      " 52%|█████▏    | 5200/10000 [39:45<45:47,  1.75it/s]"
     ]
    },
    {
     "name": "stdout",
     "output_type": "stream",
     "text": [
      "skipping duplicated address\n"
     ]
    },
    {
     "name": "stderr",
     "output_type": "stream",
     "text": [
      " 52%|█████▏    | 5223/10000 [39:55<42:02,  1.89it/s]"
     ]
    },
    {
     "name": "stdout",
     "output_type": "stream",
     "text": [
      "skipping duplicated address\n"
     ]
    },
    {
     "name": "stderr",
     "output_type": "stream",
     "text": [
      " 52%|█████▏    | 5248/10000 [40:07<24:32,  3.23it/s]  "
     ]
    },
    {
     "name": "stdout",
     "output_type": "stream",
     "text": [
      "skipping duplicated address\n"
     ]
    },
    {
     "name": "stderr",
     "output_type": "stream",
     "text": [
      " 53%|█████▎    | 5253/10000 [40:09<30:57,  2.56it/s]"
     ]
    },
    {
     "name": "stdout",
     "output_type": "stream",
     "text": [
      "skipping duplicated address\n"
     ]
    },
    {
     "name": "stderr",
     "output_type": "stream",
     "text": [
      " 53%|█████▎    | 5259/10000 [40:12<27:22,  2.89it/s]"
     ]
    },
    {
     "name": "stdout",
     "output_type": "stream",
     "text": [
      "skipping duplicated address\n"
     ]
    },
    {
     "name": "stderr",
     "output_type": "stream",
     "text": [
      " 53%|█████▎    | 5318/10000 [40:37<29:53,  2.61it/s]"
     ]
    },
    {
     "name": "stdout",
     "output_type": "stream",
     "text": [
      "skipping duplicated address\n"
     ]
    },
    {
     "name": "stderr",
     "output_type": "stream",
     "text": [
      " 53%|█████▎    | 5320/10000 [40:37<27:01,  2.89it/s]"
     ]
    },
    {
     "name": "stdout",
     "output_type": "stream",
     "text": [
      "skipping duplicated address\n"
     ]
    },
    {
     "name": "stderr",
     "output_type": "stream",
     "text": [
      "\r",
      " 53%|█████▎    | 5321/10000 [40:38<45:21,  1.72it/s]"
     ]
    },
    {
     "name": "stdout",
     "output_type": "stream",
     "text": [
      "skipping duplicated address\n"
     ]
    },
    {
     "name": "stderr",
     "output_type": "stream",
     "text": [
      " 53%|█████▎    | 5337/10000 [40:45<26:45,  2.90it/s]  "
     ]
    },
    {
     "name": "stdout",
     "output_type": "stream",
     "text": [
      "skipping duplicated address\n"
     ]
    },
    {
     "name": "stderr",
     "output_type": "stream",
     "text": [
      " 54%|█████▍    | 5379/10000 [41:04<37:21,  2.06it/s]  "
     ]
    },
    {
     "name": "stdout",
     "output_type": "stream",
     "text": [
      "skipping duplicated address\n"
     ]
    },
    {
     "name": "stderr",
     "output_type": "stream",
     "text": [
      " 54%|█████▍    | 5383/10000 [41:05<30:56,  2.49it/s]"
     ]
    },
    {
     "name": "stdout",
     "output_type": "stream",
     "text": [
      "skipping duplicated address\n",
      "skipping duplicated address\n"
     ]
    },
    {
     "name": "stderr",
     "output_type": "stream",
     "text": [
      " 54%|█████▍    | 5413/10000 [41:19<28:22,  2.69it/s]  "
     ]
    },
    {
     "name": "stdout",
     "output_type": "stream",
     "text": [
      "skipping duplicated address\n"
     ]
    },
    {
     "name": "stderr",
     "output_type": "stream",
     "text": [
      " 54%|█████▍    | 5437/10000 [41:31<51:28,  1.48it/s]  "
     ]
    },
    {
     "name": "stdout",
     "output_type": "stream",
     "text": [
      "skipping duplicated address\n"
     ]
    },
    {
     "name": "stderr",
     "output_type": "stream",
     "text": [
      " 55%|█████▍    | 5457/10000 [41:42<39:13,  1.93it/s]"
     ]
    },
    {
     "name": "stdout",
     "output_type": "stream",
     "text": [
      "skipping duplicated address\n"
     ]
    },
    {
     "name": "stderr",
     "output_type": "stream",
     "text": [
      " 55%|█████▌    | 5504/10000 [42:08<35:40,  2.10it/s]  "
     ]
    },
    {
     "name": "stdout",
     "output_type": "stream",
     "text": [
      "skipping duplicated address\n"
     ]
    },
    {
     "name": "stderr",
     "output_type": "stream",
     "text": [
      " 55%|█████▌    | 5548/10000 [42:29<28:32,  2.60it/s]"
     ]
    },
    {
     "name": "stdout",
     "output_type": "stream",
     "text": [
      "skipping duplicated address\n"
     ]
    },
    {
     "name": "stderr",
     "output_type": "stream",
     "text": [
      "\r",
      " 55%|█████▌    | 5549/10000 [42:31<54:00,  1.37it/s]"
     ]
    },
    {
     "name": "stdout",
     "output_type": "stream",
     "text": [
      "skipping duplicated address\n"
     ]
    },
    {
     "name": "stderr",
     "output_type": "stream",
     "text": [
      " 56%|█████▌    | 5570/10000 [42:38<24:33,  3.01it/s]"
     ]
    },
    {
     "name": "stdout",
     "output_type": "stream",
     "text": [
      "skipping duplicated address\n"
     ]
    },
    {
     "name": "stderr",
     "output_type": "stream",
     "text": [
      " 56%|█████▌    | 5584/10000 [42:44<28:23,  2.59it/s]"
     ]
    },
    {
     "name": "stdout",
     "output_type": "stream",
     "text": [
      "skipping duplicated address\n"
     ]
    },
    {
     "name": "stderr",
     "output_type": "stream",
     "text": [
      " 56%|█████▌    | 5592/10000 [42:49<28:26,  2.58it/s]"
     ]
    },
    {
     "name": "stdout",
     "output_type": "stream",
     "text": [
      "skipping duplicated address\n"
     ]
    },
    {
     "name": "stderr",
     "output_type": "stream",
     "text": [
      " 56%|█████▌    | 5599/10000 [42:52<26:46,  2.74it/s]"
     ]
    },
    {
     "name": "stdout",
     "output_type": "stream",
     "text": [
      "skipping duplicated address\n"
     ]
    },
    {
     "name": "stderr",
     "output_type": "stream",
     "text": [
      " 56%|█████▋    | 5639/10000 [43:11<43:32,  1.67it/s]"
     ]
    },
    {
     "name": "stdout",
     "output_type": "stream",
     "text": [
      "skipping duplicated address\n"
     ]
    },
    {
     "name": "stderr",
     "output_type": "stream",
     "text": [
      " 56%|█████▋    | 5648/10000 [43:14<33:18,  2.18it/s]\n"
     ]
    }
   ],
   "source": [
    "# Call repertorium web service based on CBE list, until we find \"sample_size*1.2\" (to be sure to find sample_size unique addresses) distinct addresses\n",
    "if \"rep\" in datasets:\n",
    "    rec_with_addr=[]\n",
    "    with tqdm(total=sample_size) as pbar:\n",
    "        for i, rec in cbe_list_presample.reset_index(drop=True).iterrows():\n",
    "            addr = get_repertorium_address(rec.EnterpriseNumber)\n",
    "            if addr is not None:\n",
    "                addr ={k: addr[k] for k in ['streetName','houseNumber', 'postCode', 'municipalityName'] if k in addr}\n",
    "                if not addr in rec_with_addr :\n",
    "                    #rec_with_addr.append( (rec.EnterpriseNumber, addr))\n",
    "                    rec_with_addr.append(  addr)\n",
    "                    pbar.update()\n",
    "                else: \n",
    "                    print(\"skipping duplicated address\")\n",
    "            if len(rec_with_addr) >= sample_size:\n",
    "                break\n",
    "\n",
    "        rep_sample = pd.DataFrame(rec_with_addr)\n",
    "        rep_sample"
   ]
  },
  {
   "cell_type": "code",
   "execution_count": 48,
   "id": "23e21141",
   "metadata": {
    "ExecuteTime": {
     "end_time": "2023-11-09T14:57:33.483707Z",
     "start_time": "2023-11-09T14:57:33.481238Z"
    }
   },
   "outputs": [],
   "source": [
    "\n",
    "# rep_sample"
   ]
  },
  {
   "cell_type": "code",
   "execution_count": 49,
   "id": "ad098800",
   "metadata": {
    "ExecuteTime": {
     "end_time": "2023-11-09T14:57:36.269801Z",
     "start_time": "2023-11-09T14:57:36.267338Z"
    }
   },
   "outputs": [],
   "source": [
    "# rep_sample = pd.DataFrame(rec_with_addr)\n",
    "# rep_sample\n",
    "# rec_with_addr"
   ]
  },
  {
   "cell_type": "code",
   "execution_count": 50,
   "id": "adcd654b",
   "metadata": {
    "ExecuteTime": {
     "end_time": "2023-11-09T14:57:39.003320Z",
     "start_time": "2023-11-09T14:57:38.946314Z"
    }
   },
   "outputs": [],
   "source": [
    "def get_lg_pref(item, lg_order):\n",
    "    for lg in lg_order:\n",
    "        if lg in item:\n",
    "            return item[lg]\n",
    "    return None\n",
    "\n",
    "if \"rep\" in datasets:\n",
    "    rep_sample = rep_sample.rename(columns={\"postCode\": \"postcode\", \n",
    "                                            \"houseNumber\": \"housenumber\",\n",
    "                                           })\n",
    "\n",
    "    rep_sample[\"lg\"] = np.where(rep_sample.postcode.str[0].isin([\"2\", \"3\", \"8\", \"9\"]), \"VL\",\n",
    "                       np.where(rep_sample.postcode.str[0].isin([\"4\", \"5\", \"6\", \"7\"]), \"FR\",\n",
    "                       np.where(rep_sample.postcode.str[0:2].between(\"10\", \"14\"), \"FR\", \"VL\")))\n",
    "\n",
    "    rep_sample[\"street\"] = np.where(rep_sample.lg == \"FR\", \n",
    "                                    rep_sample.streetName.apply(lambda r : get_lg_pref(r, [\"fr\", \"nl\", \"de\"])),\n",
    "                                    rep_sample.streetName.apply(lambda r : get_lg_pref(r, [\"nl\", \"fr\", \"de\"])))# )\n",
    "\n",
    "\n",
    "    rep_sample[\"city\"] = np.where(rep_sample.lg == \"FR\", \n",
    "                                  rep_sample.municipalityName.apply(lambda r : get_lg_pref(r, [\"fr\", \"nl\", \"de\"])),\n",
    "                                  rep_sample.municipalityName.apply(lambda r : get_lg_pref(r, [\"nl\", \"fr\", \"de\"])))\n",
    "\n"
   ]
  },
  {
   "cell_type": "code",
   "execution_count": 51,
   "id": "59f6cd36",
   "metadata": {
    "ExecuteTime": {
     "end_time": "2023-11-09T14:57:43.967599Z",
     "start_time": "2023-11-09T14:57:43.909711Z"
    }
   },
   "outputs": [],
   "source": [
    "if \"rep\" in datasets:\n",
    "    rep_sample[[\"street\", \"housenumber\", \"postcode\", \"city\"]].to_csv(f\"{datadir}/rep_{sample_size}.csv.gz\", index=False)"
   ]
  },
  {
   "cell_type": "code",
   "execution_count": null,
   "id": "6e0a3dbf",
   "metadata": {
    "ExecuteTime": {
     "end_time": "2023-05-26T14:21:16.335759Z",
     "start_time": "2023-05-26T14:21:16.324383Z"
    }
   },
   "outputs": [],
   "source": []
  },
  {
   "cell_type": "markdown",
   "id": "629e0f67",
   "metadata": {},
   "source": [
    "# Resto"
   ]
  },
  {
   "cell_type": "code",
   "execution_count": null,
   "id": "68b0a80a",
   "metadata": {
    "ExecuteTime": {
     "end_time": "2023-05-26T13:19:54.724312Z",
     "start_time": "2023-05-26T13:19:54.675116Z"
    }
   },
   "outputs": [],
   "source": [
    "if \"resto\" in datasets:\n",
    "    resto_datadir = f\"{datadir}/full/resto\"\n",
    "\n",
    "    resto_full = pd.concat([pd.read_csv(f) for f in glob.glob(f\"{resto_datadir}/*.csv.gz\")])\n",
    "    resto_full"
   ]
  },
  {
   "cell_type": "code",
   "execution_count": null,
   "id": "79e49d3b",
   "metadata": {
    "ExecuteTime": {
     "end_time": "2023-05-26T13:20:13.330244Z",
     "start_time": "2023-05-26T13:20:13.315368Z"
    }
   },
   "outputs": [],
   "source": [
    "if \"resto\" in datasets:\n",
    "    resto_sample = resto_full.drop(\"name\", axis=1).drop_duplicates().sample(sample_size, random_state=seed)[[\"street\", \"housenumber\", \"postcode\", \"city\"]]\n",
    "                               \n",
    "    resto_sample.to_csv(f\"{datadir}/resto_{sample_size}.csv.gz\", index=False)"
   ]
  },
  {
   "cell_type": "code",
   "execution_count": 1,
   "id": "f58a9a99",
   "metadata": {
    "ExecuteTime": {
     "end_time": "2023-06-29T11:29:02.712984Z",
     "start_time": "2023-06-29T11:29:02.708400Z"
    }
   },
   "outputs": [],
   "source": [
    "# resto_sample"
   ]
  },
  {
   "cell_type": "markdown",
   "id": "f476c79f",
   "metadata": {},
   "source": [
    "# NGI "
   ]
  },
  {
   "cell_type": "code",
   "execution_count": 17,
   "id": "942a10d3",
   "metadata": {
    "ExecuteTime": {
     "end_time": "2023-06-29T11:35:45.568702Z",
     "start_time": "2023-06-29T11:35:45.175126Z"
    }
   },
   "outputs": [],
   "source": [
    "import geopandas as gpd"
   ]
  },
  {
   "cell_type": "code",
   "execution_count": 38,
   "id": "36c93f1d",
   "metadata": {
    "ExecuteTime": {
     "end_time": "2023-06-29T11:45:22.706182Z",
     "start_time": "2023-06-29T11:45:22.690697Z"
    }
   },
   "outputs": [],
   "source": [
    "ngi_full = pd.read_csv(f\"{datadir}/ign_geocoder.csv\", sep=';', encoding='latin1')"
   ]
  },
  {
   "cell_type": "code",
   "execution_count": 39,
   "id": "28192a0d",
   "metadata": {
    "ExecuteTime": {
     "end_time": "2023-06-29T11:45:23.040860Z",
     "start_time": "2023-06-29T11:45:23.033980Z"
    },
    "scrolled": true
   },
   "outputs": [],
   "source": [
    "#.input_request.nunique()\n",
    "ngi_full = ngi_full.drop_duplicates(subset=[\"input_request\", \"ouput_street(ref,cont_id,street,score)\", \"geometry\"])"
   ]
  },
  {
   "cell_type": "code",
   "execution_count": 67,
   "id": "5198c0c0",
   "metadata": {
    "ExecuteTime": {
     "end_time": "2023-06-29T12:40:44.378586Z",
     "start_time": "2023-06-29T12:40:44.265099Z"
    }
   },
   "outputs": [
    {
     "data": {
      "text/plain": [
       "0    POINT Z (4.33050 50.84260 0.00000)\n",
       "dtype: geometry"
      ]
     },
     "execution_count": 67,
     "metadata": {},
     "output_type": "execute_result"
    }
   ],
   "source": [
    "import shapely\n",
    "p = shapely.geometry.Point( 647305.1605065995, 670243.7006171012, 0)\n",
    "gpd.GeoSeries([p]).set_crs(\"epsg:3812\").to_crs(\"epsg:4326\")"
   ]
  },
  {
   "cell_type": "code",
   "execution_count": 68,
   "id": "017ad53b",
   "metadata": {
    "ExecuteTime": {
     "end_time": "2023-06-29T12:40:59.189091Z",
     "start_time": "2023-06-29T12:40:59.006996Z"
    }
   },
   "outputs": [],
   "source": [
    "ngi_full = gpd.GeoDataFrame(ngi_full)\n",
    "ngi_full[\"geom\"] = gpd.GeoSeries.from_wkt(ngi_full.geometry.fillna(\"\"), crs=\"epsg:3812\")\n",
    "ngi_full = ngi_full.set_geometry(\"geom\")\n",
    "ngi_full = ngi_full.to_crs(\"epsg:4326\")"
   ]
  },
  {
   "cell_type": "code",
   "execution_count": 69,
   "id": "8758149d",
   "metadata": {
    "ExecuteTime": {
     "end_time": "2023-06-29T12:41:02.612664Z",
     "start_time": "2023-06-29T12:41:02.594482Z"
    },
    "scrolled": true
   },
   "outputs": [
    {
     "data": {
      "text/html": [
       "<div>\n",
       "<style scoped>\n",
       "    .dataframe tbody tr th:only-of-type {\n",
       "        vertical-align: middle;\n",
       "    }\n",
       "\n",
       "    .dataframe tbody tr th {\n",
       "        vertical-align: top;\n",
       "    }\n",
       "\n",
       "    .dataframe thead th {\n",
       "        text-align: right;\n",
       "    }\n",
       "</style>\n",
       "<table border=\"1\" class=\"dataframe\">\n",
       "  <thead>\n",
       "    <tr style=\"text-align: right;\">\n",
       "      <th></th>\n",
       "      <th>input_request</th>\n",
       "      <th>ouput_city(ref,cont_id,city,score)</th>\n",
       "      <th>ouput_street(ref,cont_id,street,score)</th>\n",
       "      <th>search_time(sec)</th>\n",
       "      <th>geometry</th>\n",
       "      <th>geom</th>\n",
       "    </tr>\n",
       "  </thead>\n",
       "  <tbody>\n",
       "    <tr>\n",
       "      <th>1343</th>\n",
       "      <td>rue Ropsy Chaudron 7 1070 Anderlecht</td>\n",
       "      <td>NaN</td>\n",
       "      <td>[('BXLSTR---1370---2', 1, 'RUEROPSYCHAUDRON', ...</td>\n",
       "      <td>0.028455</td>\n",
       "      <td>POINT Z (647305.1605065995 670243.7006171012 0...</td>\n",
       "      <td>POINT Z (4.33050 50.84260 0.00000)</td>\n",
       "    </tr>\n",
       "    <tr>\n",
       "      <th>1348</th>\n",
       "      <td>rue Eloy 114 1070 Anderlecht</td>\n",
       "      <td>NaN</td>\n",
       "      <td>[('BXLSTR---2152---2', 1, 'RUEELOY', 1.0)]</td>\n",
       "      <td>0.040785</td>\n",
       "      <td>POINT Z (646894.220324351 669500.8136294986 0)</td>\n",
       "      <td>POINT Z (4.32467 50.83592 0.00000)</td>\n",
       "    </tr>\n",
       "    <tr>\n",
       "      <th>1352</th>\n",
       "      <td>rue Georges Moreau 107 1070 Anderlecht</td>\n",
       "      <td>NaN</td>\n",
       "      <td>[('BXLSTR---4578---2', 1, 'RUEGEORGESMOREAU', ...</td>\n",
       "      <td>0.030206</td>\n",
       "      <td>POINT Z (646857.098786811 669348.3704329199 0)</td>\n",
       "      <td>POINT Z (4.32414 50.83454 0.00000)</td>\n",
       "    </tr>\n",
       "    <tr>\n",
       "      <th>1354</th>\n",
       "      <td>rue de Douvres 80 1070 Anderlecht</td>\n",
       "      <td>NaN</td>\n",
       "      <td>[('BXLSTR---265---2', 1, 'RUEDEDOUVRES', 1.0)]</td>\n",
       "      <td>0.055286</td>\n",
       "      <td>POINT Z (646070.3675027142 669663.9241506008 0...</td>\n",
       "      <td>POINT Z (4.31297 50.83738 0.00000)</td>\n",
       "    </tr>\n",
       "    <tr>\n",
       "      <th>1360</th>\n",
       "      <td>rue Van Soust 78 1070 Anderlecht</td>\n",
       "      <td>NaN</td>\n",
       "      <td>[('BXLSTR---3772---2', 1, 'RUEVANSOUST', 1.0)]</td>\n",
       "      <td>0.023925</td>\n",
       "      <td>POINT Z (645894.6817438435 670731.1856306997 0)</td>\n",
       "      <td>POINT Z (4.31046 50.84697 0.00000)</td>\n",
       "    </tr>\n",
       "    <tr>\n",
       "      <th>...</th>\n",
       "      <td>...</td>\n",
       "      <td>...</td>\n",
       "      <td>...</td>\n",
       "      <td>...</td>\n",
       "      <td>...</td>\n",
       "      <td>...</td>\n",
       "    </tr>\n",
       "    <tr>\n",
       "      <th>2057</th>\n",
       "      <td>rue Jef Devos - Jef Devostraat 55 1190 Forest</td>\n",
       "      <td>NaN</td>\n",
       "      <td>[('BXLSTR---2582---2', 1, 'RUEJEFDEVOS', 0.55)]</td>\n",
       "      <td>0.051182</td>\n",
       "      <td>POINT Z (647190.9663381542 668012.0429690753 0...</td>\n",
       "      <td>POINT Z (4.32889 50.82253 0.00000)</td>\n",
       "    </tr>\n",
       "    <tr>\n",
       "      <th>2060</th>\n",
       "      <td>avenue Reine Marie Henriette - Koninging Maria...</td>\n",
       "      <td>NaN</td>\n",
       "      <td>[('BXLSTR---4793---2', 1, 'AVENUEREINEMARIEHEN...</td>\n",
       "      <td>0.018543</td>\n",
       "      <td>POINT Z (647529.4125021889 667929.1129648751 0...</td>\n",
       "      <td>POINT Z (4.33369 50.82179 0.00000)</td>\n",
       "    </tr>\n",
       "    <tr>\n",
       "      <th>2061</th>\n",
       "      <td>avenue Reine Marie Henriette - Koninging Maria...</td>\n",
       "      <td>NaN</td>\n",
       "      <td>[('BXLSTR---4793---2', 1, 'AVENUEREINEMARIEHEN...</td>\n",
       "      <td>0.019352</td>\n",
       "      <td>POINT Z (647529.4125021889 667929.1129648751 0...</td>\n",
       "      <td>POINT Z (4.33369 50.82179 0.00000)</td>\n",
       "    </tr>\n",
       "    <tr>\n",
       "      <th>2062</th>\n",
       "      <td>rue de Fierlant - de Fierlantstraat 35 1190 Fo...</td>\n",
       "      <td>NaN</td>\n",
       "      <td>[('BXLSTR---3966---2', 1, 'DEFIERLANTSTRAAT', ...</td>\n",
       "      <td>0.021289</td>\n",
       "      <td>POINT Z (647345.5062939598 668505.537412102 0)...</td>\n",
       "      <td>POINT Z (4.33108 50.82697 0.00000)</td>\n",
       "    </tr>\n",
       "    <tr>\n",
       "      <th>2068</th>\n",
       "      <td>rue des Primeurs - Vroege groentenstraat 20 11...</td>\n",
       "      <td>NaN</td>\n",
       "      <td>[('BXLSTR---3102---2', 1, 'VROEGEGROENTENSTRAA...</td>\n",
       "      <td>0.021233</td>\n",
       "      <td>POINT Z (646775.8085040794 667845.6038392436 0)</td>\n",
       "      <td>POINT Z (4.32300 50.82104 0.00000)</td>\n",
       "    </tr>\n",
       "  </tbody>\n",
       "</table>\n",
       "<p>260 rows × 6 columns</p>\n",
       "</div>"
      ],
      "text/plain": [
       "                                          input_request  \\\n",
       "1343               rue Ropsy Chaudron 7 1070 Anderlecht   \n",
       "1348                       rue Eloy 114 1070 Anderlecht   \n",
       "1352             rue Georges Moreau 107 1070 Anderlecht   \n",
       "1354                  rue de Douvres 80 1070 Anderlecht   \n",
       "1360                   rue Van Soust 78 1070 Anderlecht   \n",
       "...                                                 ...   \n",
       "2057      rue Jef Devos - Jef Devostraat 55 1190 Forest   \n",
       "2060  avenue Reine Marie Henriette - Koninging Maria...   \n",
       "2061  avenue Reine Marie Henriette - Koninging Maria...   \n",
       "2062  rue de Fierlant - de Fierlantstraat 35 1190 Fo...   \n",
       "2068  rue des Primeurs - Vroege groentenstraat 20 11...   \n",
       "\n",
       "      ouput_city(ref,cont_id,city,score)  \\\n",
       "1343                                 NaN   \n",
       "1348                                 NaN   \n",
       "1352                                 NaN   \n",
       "1354                                 NaN   \n",
       "1360                                 NaN   \n",
       "...                                  ...   \n",
       "2057                                 NaN   \n",
       "2060                                 NaN   \n",
       "2061                                 NaN   \n",
       "2062                                 NaN   \n",
       "2068                                 NaN   \n",
       "\n",
       "                 ouput_street(ref,cont_id,street,score)  search_time(sec)  \\\n",
       "1343  [('BXLSTR---1370---2', 1, 'RUEROPSYCHAUDRON', ...          0.028455   \n",
       "1348         [('BXLSTR---2152---2', 1, 'RUEELOY', 1.0)]          0.040785   \n",
       "1352  [('BXLSTR---4578---2', 1, 'RUEGEORGESMOREAU', ...          0.030206   \n",
       "1354     [('BXLSTR---265---2', 1, 'RUEDEDOUVRES', 1.0)]          0.055286   \n",
       "1360     [('BXLSTR---3772---2', 1, 'RUEVANSOUST', 1.0)]          0.023925   \n",
       "...                                                 ...               ...   \n",
       "2057    [('BXLSTR---2582---2', 1, 'RUEJEFDEVOS', 0.55)]          0.051182   \n",
       "2060  [('BXLSTR---4793---2', 1, 'AVENUEREINEMARIEHEN...          0.018543   \n",
       "2061  [('BXLSTR---4793---2', 1, 'AVENUEREINEMARIEHEN...          0.019352   \n",
       "2062  [('BXLSTR---3966---2', 1, 'DEFIERLANTSTRAAT', ...          0.021289   \n",
       "2068  [('BXLSTR---3102---2', 1, 'VROEGEGROENTENSTRAA...          0.021233   \n",
       "\n",
       "                                               geometry  \\\n",
       "1343  POINT Z (647305.1605065995 670243.7006171012 0...   \n",
       "1348    POINT Z (646894.220324351 669500.8136294986 0)    \n",
       "1352    POINT Z (646857.098786811 669348.3704329199 0)    \n",
       "1354  POINT Z (646070.3675027142 669663.9241506008 0...   \n",
       "1360   POINT Z (645894.6817438435 670731.1856306997 0)    \n",
       "...                                                 ...   \n",
       "2057  POINT Z (647190.9663381542 668012.0429690753 0...   \n",
       "2060  POINT Z (647529.4125021889 667929.1129648751 0...   \n",
       "2061  POINT Z (647529.4125021889 667929.1129648751 0...   \n",
       "2062  POINT Z (647345.5062939598 668505.537412102 0)...   \n",
       "2068   POINT Z (646775.8085040794 667845.6038392436 0)    \n",
       "\n",
       "                                    geom  \n",
       "1343  POINT Z (4.33050 50.84260 0.00000)  \n",
       "1348  POINT Z (4.32467 50.83592 0.00000)  \n",
       "1352  POINT Z (4.32414 50.83454 0.00000)  \n",
       "1354  POINT Z (4.31297 50.83738 0.00000)  \n",
       "1360  POINT Z (4.31046 50.84697 0.00000)  \n",
       "...                                  ...  \n",
       "2057  POINT Z (4.32889 50.82253 0.00000)  \n",
       "2060  POINT Z (4.33369 50.82179 0.00000)  \n",
       "2061  POINT Z (4.33369 50.82179 0.00000)  \n",
       "2062  POINT Z (4.33108 50.82697 0.00000)  \n",
       "2068  POINT Z (4.32300 50.82104 0.00000)  \n",
       "\n",
       "[260 rows x 6 columns]"
      ]
     },
     "execution_count": 69,
     "metadata": {},
     "output_type": "execute_result"
    }
   ],
   "source": [
    "ngi_full[ngi_full[\"ouput_street(ref,cont_id,street,score)\"].fillna(\"\").str.contains(\"BXL\")]#.plot()"
   ]
  },
  {
   "cell_type": "code",
   "execution_count": 42,
   "id": "8f47abf1",
   "metadata": {
    "ExecuteTime": {
     "end_time": "2023-06-29T11:45:32.062225Z",
     "start_time": "2023-06-29T11:45:32.057470Z"
    },
    "scrolled": true
   },
   "outputs": [
    {
     "data": {
      "text/plain": [
       "'POINT Z (652875.8414014473 712078.2757578157 0) POINT Z (652875.8414014473 712078.2757578157 0) POINT Z (652875.8414014473 712078.2757578157 0) '"
      ]
     },
     "execution_count": 42,
     "metadata": {},
     "output_type": "execute_result"
    }
   ],
   "source": [
    "ngi_full.loc[8].geometry"
   ]
  },
  {
   "cell_type": "code",
   "execution_count": 44,
   "id": "91384042",
   "metadata": {
    "ExecuteTime": {
     "end_time": "2023-06-29T11:45:52.551103Z",
     "start_time": "2023-06-29T11:45:52.547092Z"
    }
   },
   "outputs": [
    {
     "name": "stdout",
     "output_type": "stream",
     "text": [
      "POINT Z (652875.8414014473 712078.2757578157 0)\n"
     ]
    }
   ],
   "source": [
    "print(ngi_full.loc[8].geom)"
   ]
  },
  {
   "cell_type": "code",
   "execution_count": 35,
   "id": "33e4c609",
   "metadata": {
    "ExecuteTime": {
     "end_time": "2023-06-29T11:44:06.578781Z",
     "start_time": "2023-06-29T11:44:06.571682Z"
    }
   },
   "outputs": [
    {
     "data": {
      "text/html": [
       "<div>\n",
       "<style scoped>\n",
       "    .dataframe tbody tr th:only-of-type {\n",
       "        vertical-align: middle;\n",
       "    }\n",
       "\n",
       "    .dataframe tbody tr th {\n",
       "        vertical-align: top;\n",
       "    }\n",
       "\n",
       "    .dataframe thead th {\n",
       "        text-align: right;\n",
       "    }\n",
       "</style>\n",
       "<table border=\"1\" class=\"dataframe\">\n",
       "  <thead>\n",
       "    <tr style=\"text-align: right;\">\n",
       "      <th></th>\n",
       "      <th>input_request</th>\n",
       "      <th>ouput_city(ref,cont_id,city,score)</th>\n",
       "      <th>ouput_street(ref,cont_id,street,score)</th>\n",
       "      <th>search_time(sec)</th>\n",
       "      <th>geometry</th>\n",
       "    </tr>\n",
       "  </thead>\n",
       "  <tbody>\n",
       "  </tbody>\n",
       "</table>\n",
       "</div>"
      ],
      "text/plain": [
       "Empty GeoDataFrame\n",
       "Columns: [input_request, ouput_city(ref,cont_id,city,score), ouput_street(ref,cont_id,street,score), search_time(sec), geometry]\n",
       "Index: []"
      ]
     },
     "execution_count": 35,
     "metadata": {},
     "output_type": "execute_result"
    }
   ],
   "source": [
    "ngi_full[ngi_full[\"ouput_city(ref,cont_id,city,score)\"].notnull()]"
   ]
  },
  {
   "cell_type": "code",
   "execution_count": 28,
   "id": "0e736ca9",
   "metadata": {
    "ExecuteTime": {
     "end_time": "2023-06-29T11:41:17.387067Z",
     "start_time": "2023-06-29T11:41:17.382214Z"
    }
   },
   "outputs": [
    {
     "data": {
      "text/plain": [
       "\"[('VLDSTR---287---2015-05-28T18:40:37.400', 1, 'BEGIJNENVEST', 1.0)]\""
      ]
     },
     "execution_count": 28,
     "metadata": {},
     "output_type": "execute_result"
    }
   ],
   "source": [
    "ngi_full[\"ouput_street(ref,cont_id,street,score)\"].iloc[0]"
   ]
  },
  {
   "cell_type": "code",
   "execution_count": 71,
   "id": "fffe5a0f",
   "metadata": {
    "ExecuteTime": {
     "end_time": "2023-06-29T12:44:09.637976Z",
     "start_time": "2023-06-29T12:44:09.613572Z"
    }
   },
   "outputs": [],
   "source": [
    "from geopy.location import Location"
   ]
  },
  {
   "cell_type": "code",
   "execution_count": null,
   "id": "d27117f6",
   "metadata": {},
   "outputs": [],
   "source": [
    "ngi_full[\"locationLocation(placename, (latitude, longitude), feature)"
   ]
  },
  {
   "cell_type": "code",
   "execution_count": 81,
   "id": "b4d3962a",
   "metadata": {
    "ExecuteTime": {
     "end_time": "2023-06-29T12:46:31.571920Z",
     "start_time": "2023-06-29T12:46:31.446654Z"
    },
    "scrolled": true
   },
   "outputs": [],
   "source": [
    "ngi_full[\"location\"] = ngi_full.apply(lambda row: Location(row.input_request, (row.geom.y, row.geom.x) if row.geom else (0,0), row), axis=1)"
   ]
  },
  {
   "cell_type": "code",
   "execution_count": 83,
   "id": "a8cf6c82",
   "metadata": {
    "ExecuteTime": {
     "end_time": "2023-06-29T12:51:18.157214Z",
     "start_time": "2023-06-29T12:51:18.149147Z"
    }
   },
   "outputs": [
    {
     "data": {
      "text/plain": [
       "input_request                                                Begijnenvest 35 2000 Antwerpen\n",
       "ouput_city(ref,cont_id,city,score)                                                      NaN\n",
       "ouput_street(ref,cont_id,street,score)    [('VLDSTR---287---2015-05-28T18:40:37.400', 1,...\n",
       "search_time(sec)                                                                   0.060004\n",
       "geometry                                   POINT Z (652411.6826476178 711175.3977379295 0) \n",
       "geom                                         POINT Z (4.403343987223315 51.2105286322297 0)\n",
       "location                                  (Begijnenvest 35 2000 Antwerpen, (51.210528632...\n",
       "Name: 0, dtype: object"
      ]
     },
     "execution_count": 83,
     "metadata": {},
     "output_type": "execute_result"
    }
   ],
   "source": [
    "ngi_full.iloc[0]"
   ]
  }
 ],
 "metadata": {
  "kernelspec": {
   "display_name": "gis",
   "language": "python",
   "name": "gis"
  },
  "language_info": {
   "codemirror_mode": {
    "name": "ipython",
    "version": 3
   },
   "file_extension": ".py",
   "mimetype": "text/x-python",
   "name": "python",
   "nbconvert_exporter": "python",
   "pygments_lexer": "ipython3",
   "version": "3.8.18"
  },
  "toc": {
   "base_numbering": 1,
   "nav_menu": {},
   "number_sections": true,
   "sideBar": true,
   "skip_h1_title": false,
   "title_cell": "Table of Contents",
   "title_sidebar": "Contents",
   "toc_cell": false,
   "toc_position": {
    "height": "757px",
    "left": "553px",
    "top": "220.125px",
    "width": "208px"
   },
   "toc_section_display": true,
   "toc_window_display": true
  },
  "varInspector": {
   "cols": {
    "lenName": 16,
    "lenType": 16,
    "lenVar": 40
   },
   "kernels_config": {
    "python": {
     "delete_cmd_postfix": "",
     "delete_cmd_prefix": "del ",
     "library": "var_list.py",
     "varRefreshCmd": "print(var_dic_list())"
    },
    "r": {
     "delete_cmd_postfix": ") ",
     "delete_cmd_prefix": "rm(",
     "library": "var_list.r",
     "varRefreshCmd": "cat(var_dic_list()) "
    }
   },
   "types_to_exclude": [
    "module",
    "function",
    "builtin_function_or_method",
    "instance",
    "_Feature"
   ],
   "window_display": false
  }
 },
 "nbformat": 4,
 "nbformat_minor": 5
}
