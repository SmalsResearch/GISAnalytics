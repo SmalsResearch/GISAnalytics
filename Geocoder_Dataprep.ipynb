{
 "cells": [
  {
   "cell_type": "code",
   "execution_count": 3,
   "id": "58ab37b6",
   "metadata": {
    "ExecuteTime": {
     "end_time": "2023-06-09T08:42:07.600496Z",
     "start_time": "2023-06-09T08:42:07.288940Z"
    }
   },
   "outputs": [],
   "source": [
    "import pandas as pd\n",
    "import numpy as np\n",
    "import requests\n",
    "\n",
    "# from tqdm.auto import tqdm, trange\n",
    "from tqdm import tqdm, trange\n",
    "# tqdm.pandas()\n",
    "\n",
    "\n",
    "from credentials import bosa_mapping_url\n",
    "\n",
    "from zipfile import ZipFile\n",
    "import json\n",
    "import random\n",
    "import time\n",
    "import os, urllib\n",
    "\n",
    "import glob\n"
   ]
  },
  {
   "cell_type": "code",
   "execution_count": 4,
   "id": "6d050730",
   "metadata": {
    "ExecuteTime": {
     "end_time": "2023-06-09T08:42:07.605974Z",
     "start_time": "2023-06-09T08:42:07.602669Z"
    }
   },
   "outputs": [],
   "source": [
    "def download_if_nexist(url, filename):\n",
    "    \"\"\"\n",
    "    If the (local) file <filename> does not exists, download it from <url>\n",
    "\n",
    "    Parameters\n",
    "    ----------\n",
    "    url: str\n",
    "       url to fetch\n",
    "    filename: str\n",
    "       local file to save\n",
    "\n",
    "    Returns\n",
    "    -------\n",
    "\n",
    "    None\n",
    "    \"\"\"\n",
    "    if not os.path.isfile(filename):\n",
    "        #gcontext = ssl.SSLContext()\n",
    "        with urllib.request.urlopen(url) as response:\n",
    "            with open(filename, \"wb\") as f:\n",
    "                f.write(response.read())"
   ]
  },
  {
   "cell_type": "code",
   "execution_count": 5,
   "id": "99213f34",
   "metadata": {
    "ExecuteTime": {
     "end_time": "2023-06-09T08:42:07.645346Z",
     "start_time": "2023-06-09T08:42:07.607811Z"
    }
   },
   "outputs": [],
   "source": [
    "datadir = \"data/geocoding/\"\n",
    "os.makedirs(datadir, exist_ok=True)\n",
    "os.makedirs(f\"{datadir}/full\", exist_ok=True)\n"
   ]
  },
  {
   "cell_type": "code",
   "execution_count": 6,
   "id": "64974a86",
   "metadata": {
    "ExecuteTime": {
     "end_time": "2023-06-09T08:42:07.695935Z",
     "start_time": "2023-06-09T08:42:07.647745Z"
    }
   },
   "outputs": [],
   "source": [
    "sample_size=1000\n",
    "\n",
    "seed=314"
   ]
  },
  {
   "cell_type": "code",
   "execution_count": 7,
   "id": "3aa675e8",
   "metadata": {
    "ExecuteTime": {
     "end_time": "2023-06-09T08:42:07.746165Z",
     "start_time": "2023-06-09T08:42:07.697522Z"
    }
   },
   "outputs": [],
   "source": [
    "datasets = [\"kbo\", \"rep\", \"best\", \"rrn\", \"resto\"]\n",
    "datasets = [\"rrn\"]"
   ]
  },
  {
   "cell_type": "markdown",
   "id": "2d2a11b1",
   "metadata": {},
   "source": [
    "# Best"
   ]
  },
  {
   "cell_type": "code",
   "execution_count": 8,
   "id": "afaccc69",
   "metadata": {
    "ExecuteTime": {
     "end_time": "2023-06-09T08:42:07.822377Z",
     "start_time": "2023-06-09T08:42:07.747927Z"
    }
   },
   "outputs": [],
   "source": [
    "if \"best\" in datasets:\n",
    "    best_vlg_fn = f\"{datadir}/full/openaddress-bevlg.zip\"\n",
    "    download_if_nexist(\"https://opendata.bosa.be/download/best/openaddress-bevlg.zip\", best_vlg_fn)\n",
    "\n",
    "    best_wal_fn = f\"{datadir}/full/openaddress-bewal.zip\"\n",
    "    download_if_nexist(\"https://opendata.bosa.be/download/best/openaddress-bewal.zip\", best_wal_fn)\n",
    "\n",
    "    best_bru_fn = f\"{datadir}/full/openaddress-bebru.zip\"\n",
    "    download_if_nexist(\"https://opendata.bosa.be/download/best/openaddress-bebru.zip\", best_bru_fn)"
   ]
  },
  {
   "cell_type": "code",
   "execution_count": 9,
   "id": "3d8c794a",
   "metadata": {
    "ExecuteTime": {
     "end_time": "2023-06-09T08:42:07.917678Z",
     "start_time": "2023-06-09T08:42:07.824068Z"
    }
   },
   "outputs": [],
   "source": [
    "if \"best\" in datasets:\n",
    "    best_full = pd.concat([pd.read_csv(fn, usecols=[\"municipality_name_de\", \"municipality_name_fr\", \"municipality_name_nl\", \n",
    "                                                    \"streetname_de\", \"streetname_fr\", \"streetname_nl\",\n",
    "                                                    \"postcode\", \"house_number\", \"region_code\"], dtype=str) for fn in [best_vlg_fn, best_wal_fn, best_bru_fn] ])"
   ]
  },
  {
   "cell_type": "code",
   "execution_count": 10,
   "id": "7f017d65",
   "metadata": {
    "ExecuteTime": {
     "end_time": "2023-06-09T08:42:07.968478Z",
     "start_time": "2023-06-09T08:42:07.919434Z"
    }
   },
   "outputs": [],
   "source": [
    "if \"best\" in datasets:\n",
    "    best_full[\"street\"] = np.where(best_full.region_code == \"BE-VLG\", best_full.streetname_nl.fillna(best_full.streetname_fr).fillna(best_full.streetname_de),\n",
    "                          np.where(best_full.region_code == \"BE-WAL\", best_full.streetname_fr.fillna(best_full.streetname_de).fillna(best_full.streetname_nl),\n",
    "                          np.where(best_full.region_code == \"BE-BRU\", best_full.streetname_fr.fillna(best_full.streetname_nl).fillna(best_full.streetname_de), None)))\n",
    "\n",
    "    best_full[\"city\"] =   np.where(best_full.region_code == \"BE-VLG\", best_full.municipality_name_nl.fillna(best_full.municipality_name_fr).fillna(best_full.municipality_name_de),\n",
    "                          np.where(best_full.region_code == \"BE-WAL\", best_full.municipality_name_fr.fillna(best_full.municipality_name_de).fillna(best_full.municipality_name_nl),\n",
    "                          np.where(best_full.region_code == \"BE-BRU\", best_full.municipality_name_fr.fillna(best_full.municipality_name_nl).fillna(best_full.municipality_name_de), None)))"
   ]
  },
  {
   "cell_type": "code",
   "execution_count": 11,
   "id": "bf6c5d02",
   "metadata": {
    "ExecuteTime": {
     "end_time": "2023-06-09T08:42:08.002044Z",
     "start_time": "2023-06-09T08:42:07.970379Z"
    }
   },
   "outputs": [],
   "source": [
    "if \"best\" in datasets:\n",
    "    best_sample =  best_full[[\"street\", \"house_number\", \"postcode\", \"city\"]].rename(columns={\"house_number\": \"housenumber\"})\n",
    "    best_sample = best_sample.drop_duplicates().sample(sample_size, random_state=seed).reset_index(drop=True)\n",
    "    best_sample.to_csv(f\"{datadir}/best_{sample_size}.csv.gz\", index=False)"
   ]
  },
  {
   "cell_type": "markdown",
   "id": "034a241b",
   "metadata": {
    "ExecuteTime": {
     "end_time": "2023-05-19T11:12:03.106947Z",
     "start_time": "2023-05-19T11:11:52.732466Z"
    }
   },
   "source": [
    "# KBO\n"
   ]
  },
  {
   "cell_type": "code",
   "execution_count": 12,
   "id": "7b2b704c",
   "metadata": {
    "ExecuteTime": {
     "end_time": "2023-06-09T08:42:08.060924Z",
     "start_time": "2023-06-09T08:42:08.005314Z"
    }
   },
   "outputs": [],
   "source": [
    "kbo_fn = f\"{datadir}/full/kbo_full.zip\"\n",
    "# To be downloaded from https://kbopub.economie.fgov.be/kbo-open-data/\n",
    "\n",
    "#download_if_nexist(\"https://kbopub.economie.fgov.be/kbo-open-data/affiliation/xml/files/KboOpenData_0111_2023_05_Full.zip\", kbo_fn)\n"
   ]
  },
  {
   "cell_type": "code",
   "execution_count": 13,
   "id": "307f4b55",
   "metadata": {
    "ExecuteTime": {
     "end_time": "2023-06-09T08:42:08.111515Z",
     "start_time": "2023-06-09T08:42:08.062964Z"
    },
    "scrolled": true
   },
   "outputs": [],
   "source": [
    "if \"kbo\" in datasets:\n",
    "    with ZipFile(kbo_fn) as z:\n",
    "       # open the csv file in the dataset\n",
    "        with z.open(\"address.csv\") as f:\n",
    "\n",
    "            kbo_full = pd.read_csv(f, usecols=[\"CountryFR\", \"Zipcode\", \n",
    "                                               \"MunicipalityNL\",\"MunicipalityFR\", \n",
    "                                               \"StreetNL\", \"StreetFR\", \"HouseNumber\"],\n",
    "                                dtype=str)\n",
    "    "
   ]
  },
  {
   "cell_type": "code",
   "execution_count": 14,
   "id": "53cb2631",
   "metadata": {
    "ExecuteTime": {
     "end_time": "2023-06-09T08:42:08.144929Z",
     "start_time": "2023-06-09T08:42:08.113416Z"
    }
   },
   "outputs": [],
   "source": [
    "if \"kbo\" in datasets:\n",
    "\n",
    "    kbo_full = kbo_full[kbo_full.CountryFR.isnull()].copy()\n",
    "    \n",
    "    kbo_sample = kbo_full.drop_duplicates(subset=[\"Zipcode\",\"StreetNL\", \"StreetFR\", \"HouseNumber\"]).sample(sample_size, random_state=seed)"
   ]
  },
  {
   "cell_type": "code",
   "execution_count": 15,
   "id": "47b6f177",
   "metadata": {
    "ExecuteTime": {
     "end_time": "2023-06-09T08:42:08.203457Z",
     "start_time": "2023-06-09T08:42:08.146794Z"
    }
   },
   "outputs": [],
   "source": [
    "# kbo_sample"
   ]
  },
  {
   "cell_type": "code",
   "execution_count": 16,
   "id": "8a348324",
   "metadata": {
    "ExecuteTime": {
     "end_time": "2023-06-09T08:42:08.254515Z",
     "start_time": "2023-06-09T08:42:08.205290Z"
    }
   },
   "outputs": [],
   "source": [
    "if \"kbo\" in datasets:\n",
    "    kbo_sample[\"lg\"] = np.where(kbo_sample.Zipcode.str[0].isin([\"2\", \"3\", \"8\", \"9\"]), \"VL\",\n",
    "                       np.where(kbo_sample.Zipcode.str[0].isin([\"4\", \"5\", \"6\", \"7\"]), \"FR\",\n",
    "                       np.where(kbo_sample.Zipcode.str[0:2].between(\"10\", \"14\"), \"FR\", \"VL\")))\n",
    "    \n",
    "    "
   ]
  },
  {
   "cell_type": "code",
   "execution_count": 17,
   "id": "6fbcd866",
   "metadata": {
    "ExecuteTime": {
     "end_time": "2023-06-09T08:42:08.288245Z",
     "start_time": "2023-06-09T08:42:08.256819Z"
    }
   },
   "outputs": [],
   "source": [
    "if \"kbo\" in datasets:\n",
    "    kbo_sample[\"street\"] = np.where(kbo_sample.lg == \"FR\", \n",
    "                                    kbo_sample.StreetFR.fillna(kbo_sample.StreetNL),\n",
    "                                    kbo_sample.StreetNL.fillna(kbo_sample.StreetFR))\n",
    "\n",
    "    kbo_sample[\"city\"] = np.where(kbo_sample.lg == \"FR\", \n",
    "                                  kbo_sample.MunicipalityFR.fillna(kbo_sample.MunicipalityNL),\n",
    "                                  kbo_sample.MunicipalityNL.fillna(kbo_sample.MunicipalityFR))\n"
   ]
  },
  {
   "cell_type": "code",
   "execution_count": 18,
   "id": "f4918fa8",
   "metadata": {
    "ExecuteTime": {
     "end_time": "2023-06-09T08:42:08.348271Z",
     "start_time": "2023-06-09T08:42:08.290161Z"
    }
   },
   "outputs": [],
   "source": [
    "if \"kbo\" in datasets:\n",
    "    kbo_sample = kbo_sample.rename(columns={\"Zipcode\": \"postcode\", \"HouseNumber\": \"housenumber\"})[[\"street\", \"housenumber\", \"postcode\", \"city\"]]\n",
    "    \n",
    "    kbo_sample.to_csv(f\"{datadir}/kbo_{sample_size}.csv.gz\", index=False)"
   ]
  },
  {
   "cell_type": "code",
   "execution_count": 19,
   "id": "473905b2",
   "metadata": {
    "ExecuteTime": {
     "end_time": "2023-06-09T08:42:08.395219Z",
     "start_time": "2023-06-09T08:42:08.350586Z"
    }
   },
   "outputs": [],
   "source": [
    "# kbo_sample"
   ]
  },
  {
   "cell_type": "markdown",
   "id": "635b4a36",
   "metadata": {},
   "source": [
    "# RRN"
   ]
  },
  {
   "cell_type": "code",
   "execution_count": 20,
   "id": "55e31ce1",
   "metadata": {
    "ExecuteTime": {
     "end_time": "2023-06-09T08:42:09.829407Z",
     "start_time": "2023-06-09T08:42:09.807474Z"
    }
   },
   "outputs": [],
   "source": [
    "if \"rrn\" in datasets:\n",
    "    best_RN_mapping_fn = f\"{datadir}/full/3_RRN_2023Q1.zip\"\n",
    "    download_if_nexist(f\"{bosa_mapping_url}/3_RRN_2023Q1.zip\", best_RN_mapping_fn)"
   ]
  },
  {
   "cell_type": "code",
   "execution_count": 21,
   "id": "fce097da",
   "metadata": {
    "ExecuteTime": {
     "end_time": "2023-06-09T08:42:32.522904Z",
     "start_time": "2023-06-09T08:42:11.151655Z"
    }
   },
   "outputs": [
    {
     "name": "stdout",
     "output_type": "stream",
     "text": [
      "STEP131_RR_B_Result.txt\n"
     ]
    },
    {
     "name": "stderr",
     "output_type": "stream",
     "text": [
      "487317it [00:01, 245816.24it/s]\n"
     ]
    },
    {
     "name": "stdout",
     "output_type": "stream",
     "text": [
      "STEP131_RR_F_Result.txt\n"
     ]
    },
    {
     "name": "stderr",
     "output_type": "stream",
     "text": [
      "2882103it [00:12, 229777.61it/s]\n"
     ]
    },
    {
     "name": "stdout",
     "output_type": "stream",
     "text": [
      "STEP131_RR_W_Result.txt\n"
     ]
    },
    {
     "name": "stderr",
     "output_type": "stream",
     "text": [
      "1597585it [00:06, 258858.58it/s]\n"
     ]
    },
    {
     "name": "stdout",
     "output_type": "stream",
     "text": [
      "Got 4967005 records, take a sample\n"
     ]
    }
   ],
   "source": [
    "if \"rrn\" in datasets:\n",
    "    with ZipFile(best_RN_mapping_fn, 'r') as zipObj:\n",
    "        recs = []\n",
    "        for f in [\"STEP131_RR_B_Result.txt\", \"STEP131_RR_F_Result.txt\", \"STEP131_RR_W_Result.txt\"]:\n",
    "            print(f)\n",
    "            for row in tqdm(zipObj.open(f) ):\n",
    "                recs.append(row)\n",
    "\n",
    "        print(f\"Got {len(recs)} records, take a sample\")\n",
    "        random.seed(seed)\n",
    "        recs= random.sample(recs, int(sample_size*1.2))\n",
    "\n",
    "        rrn_sample = pd.DataFrame([json.loads(r) for r in recs])"
   ]
  },
  {
   "cell_type": "code",
   "execution_count": 22,
   "id": "b7bb9f06",
   "metadata": {
    "ExecuteTime": {
     "end_time": "2023-06-09T08:42:35.721647Z",
     "start_time": "2023-06-09T08:42:35.712703Z"
    }
   },
   "outputs": [],
   "source": [
    "if \"rrn\" in datasets:\n",
    "    rrn_sample = rrn_sample.drop_duplicates(subset=[\"Snl\", \"Sfr\", \"Sde\", \"P\", \"hs\"])\n",
    "    rrn_sample = rrn_sample.sample(sample_size, random_state=seed)"
   ]
  },
  {
   "cell_type": "code",
   "execution_count": 23,
   "id": "c3af2a14",
   "metadata": {
    "ExecuteTime": {
     "end_time": "2023-06-09T08:42:36.329192Z",
     "start_time": "2023-06-09T08:42:36.231866Z"
    }
   },
   "outputs": [],
   "source": [
    "if \"rrn\" in datasets:\n",
    "    url_all_cities = \"https://services.socialsecurity.be/REST/referenceData/geography/v1/countries/150/cities?pageSize=0\"\n",
    "\n",
    "    download_if_nexist(url_all_cities, f\"{datadir}/full/referencedata_cities.json\")\n",
    "\n",
    "    with open(f\"{datadir}/full/referencedata_cities.json\", encoding='utf-8') as f:\n",
    "        refdata_cities = pd.DataFrame(json.load(f)[\"items\"])\n",
    "\n",
    "        refdata_cities[\"city\"]  = np.where(refdata_cities.officialLanguage==\"N\", refdata_cities[\"cityName\"].apply(lambda x: x[\"nl\"]), \n",
    "                          np.where(refdata_cities.officialLanguage==\"DF\", refdata_cities[\"cityName\"].apply(lambda x: x[\"de\"]),\n",
    "                                   refdata_cities[\"cityName\"].apply(lambda x: x[\"fr\"])))\n",
    "        refdata_cities = refdata_cities[[\"cityNisCode\", \"city\"]].dropna().drop_duplicates()\n",
    "        refdata_cities[\"cityNisCode\"] = refdata_cities.cityNisCode.astype(pd.Int64Dtype()).astype(str)\n"
   ]
  },
  {
   "cell_type": "code",
   "execution_count": 36,
   "id": "d77cae63",
   "metadata": {
    "ExecuteTime": {
     "end_time": "2023-06-09T08:45:45.799097Z",
     "start_time": "2023-06-09T08:45:45.796969Z"
    }
   },
   "outputs": [],
   "source": [
    "# rrn_sample[rrn_sample.street ==\"\"].replace(\"\", pd.NA).Sfr.fillna(rrn_sample.Sde)"
   ]
  },
  {
   "cell_type": "code",
   "execution_count": 34,
   "id": "d05b4070",
   "metadata": {
    "ExecuteTime": {
     "end_time": "2023-06-09T08:45:39.212662Z",
     "start_time": "2023-06-09T08:45:39.198292Z"
    }
   },
   "outputs": [],
   "source": [
    "if \"rrn\" in datasets:\n",
    "    rrn_sample = rrn_sample.merge(refdata_cities.rename(columns={\"cityNisCode\":\"idM_SRC\" }))\n",
    "    rrn_sample[\"street\"] = np.where(rrn_sample.R == \"F\", rrn_sample.Snl, rrn_sample.replace(\"\", pd.NA).Sfr.fillna(rrn_sample.Sde).fillna(rrn_sample.Snl))\n",
    "\n",
    "    rrn_sample = rrn_sample.rename(columns={\n",
    "                        \"hs\":      \"housenumber\",\n",
    "                        \"POri\":    \"postcode\", \n",
    "                        })\n"
   ]
  },
  {
   "cell_type": "code",
   "execution_count": 35,
   "id": "d2001932",
   "metadata": {
    "ExecuteTime": {
     "end_time": "2023-06-09T08:45:39.852778Z",
     "start_time": "2023-06-09T08:45:39.843846Z"
    }
   },
   "outputs": [],
   "source": [
    "if \"rrn\" in datasets:\n",
    "    rrn_sample[[\"street\", \"housenumber\", \"postcode\", \"city\"]].to_csv(f\"{datadir}/rrn_{sample_size}.csv.gz\", index=False)"
   ]
  },
  {
   "cell_type": "markdown",
   "id": "0f2dd9f2",
   "metadata": {
    "ExecuteTime": {
     "end_time": "2023-05-19T12:04:39.314514Z",
     "start_time": "2023-05-19T12:04:39.310609Z"
    }
   },
   "source": [
    "# Repertoire"
   ]
  },
  {
   "cell_type": "code",
   "execution_count": 77,
   "id": "6b202d4b",
   "metadata": {
    "ExecuteTime": {
     "end_time": "2023-05-26T13:30:09.375687Z",
     "start_time": "2023-05-26T13:30:09.372974Z"
    }
   },
   "outputs": [],
   "source": [
    "# Get a sample of enterprise number from KBO open data\n",
    "\n",
    "# \n",
    "# datasets=[\"rep\"]"
   ]
  },
  {
   "cell_type": "code",
   "execution_count": 78,
   "id": "0e2e35ea",
   "metadata": {
    "ExecuteTime": {
     "end_time": "2023-05-26T13:30:15.920633Z",
     "start_time": "2023-05-26T13:30:14.281461Z"
    },
    "scrolled": true
   },
   "outputs": [],
   "source": [
    "if \"rep\" in datasets:\n",
    "    with ZipFile(kbo_fn) as z:\n",
    "        \n",
    "       # open the csv file in the dataset\n",
    "        with z.open(\"enterprise.csv\") as f:\n",
    "\n",
    "            cbe_list_full = pd.read_csv(f,\n",
    "                                        usecols  = [\"EnterpriseNumber\", \"TypeOfEnterprise\", \"JuridicalForm\"], \n",
    "                                        dtype=str)\n",
    "    cbe_list_full"
   ]
  },
  {
   "cell_type": "code",
   "execution_count": 86,
   "id": "6bfe34c3",
   "metadata": {
    "ExecuteTime": {
     "end_time": "2023-05-26T13:31:18.034758Z",
     "start_time": "2023-05-26T13:31:18.032342Z"
    }
   },
   "outputs": [],
   "source": [
    "# sample_size=100"
   ]
  },
  {
   "cell_type": "code",
   "execution_count": 140,
   "id": "b60274f8",
   "metadata": {
    "ExecuteTime": {
     "end_time": "2023-05-26T13:58:08.534361Z",
     "start_time": "2023-05-26T13:58:08.319151Z"
    }
   },
   "outputs": [],
   "source": [
    "if \"rep\" in datasets:\n",
    "    # Get a sample of CBE/KBO numbers\n",
    "    cbe_list_presample = cbe_list_full[(cbe_list_full.TypeOfEnterprise == \"2\") & \n",
    "                                       (cbe_list_full.JuridicalForm.isin([\"015\", \"014\"]))].sample(5*sample_size, random_state=seed)\n",
    "    "
   ]
  },
  {
   "cell_type": "code",
   "execution_count": 81,
   "id": "1dd9cd8c",
   "metadata": {
    "ExecuteTime": {
     "end_time": "2023-05-26T13:30:25.521656Z",
     "start_time": "2023-05-26T13:30:25.516823Z"
    }
   },
   "outputs": [],
   "source": [
    "import time\n",
    "def call_repertorium(cbe_number):\n",
    "    url = f\"https://services.socialsecurity.be/REST/employer/identification/v6/employers/search\"\n",
    "    \n",
    "    r = requests.get(url,\n",
    "        params= { \"enterpriseNumber\": str(cbe_number).replace(\".\", \"\")})\n",
    "    \n",
    "    return json.loads(r.text)\n",
    "\n",
    "def get_repertorium_address(cbe_number):\n",
    "    r = call_repertorium(cbe_number)\n",
    "    \n",
    "    time.sleep(0.5)\n",
    "    if \"identity\" in r and \"address\" in r[\"identity\"]:\n",
    "        return r[\"identity\"][\"address\"]\n",
    "    else:\n",
    "        return None\n",
    "# get_repertorium_address(864279008)"
   ]
  },
  {
   "cell_type": "code",
   "execution_count": 141,
   "id": "9f294e0b",
   "metadata": {
    "ExecuteTime": {
     "end_time": "2023-05-26T14:20:23.365372Z",
     "start_time": "2023-05-26T13:58:11.351356Z"
    },
    "scrolled": true
   },
   "outputs": [
    {
     "name": "stderr",
     "output_type": "stream",
     "text": [
      " 32%|███▏      | 321/1000 [07:06<16:07,  1.43s/it]"
     ]
    },
    {
     "name": "stdout",
     "output_type": "stream",
     "text": [
      "skipping duplicated address\n"
     ]
    },
    {
     "name": "stderr",
     "output_type": "stream",
     "text": [
      " 95%|█████████▌| 951/1000 [21:00<01:23,  1.71s/it]"
     ]
    },
    {
     "name": "stdout",
     "output_type": "stream",
     "text": [
      "skipping duplicated address\n"
     ]
    },
    {
     "name": "stderr",
     "output_type": "stream",
     "text": [
      " 98%|█████████▊| 982/1000 [21:50<00:31,  1.73s/it]"
     ]
    },
    {
     "name": "stdout",
     "output_type": "stream",
     "text": [
      "skipping duplicated address\n"
     ]
    },
    {
     "name": "stderr",
     "output_type": "stream",
     "text": [
      "100%|█████████▉| 997/1000 [22:06<00:03,  1.08s/it]"
     ]
    },
    {
     "name": "stdout",
     "output_type": "stream",
     "text": [
      "skipping duplicated address\n"
     ]
    },
    {
     "name": "stderr",
     "output_type": "stream",
     "text": [
      "100%|██████████| 1000/1000 [22:12<00:00,  1.33s/it]\n"
     ]
    }
   ],
   "source": [
    "# Call repertorium web service based on CBE list, until we find \"sample_size*1.2\" (to be sure to find sample_size unique addresses) distinct addresses\n",
    "if \"rep\" in datasets:\n",
    "    rec_with_addr=[]\n",
    "    with tqdm(total=sample_size) as pbar:\n",
    "        for i, rec in cbe_list_presample.reset_index(drop=True).iterrows():\n",
    "            addr = get_repertorium_address(rec.EnterpriseNumber)\n",
    "            if addr is not None:\n",
    "                addr = {k: addr[k] for k in ['streetName','houseNumber', 'postCode', 'municipalityName']}\n",
    "                if not addr in rec_with_addr :\n",
    "                    #rec_with_addr.append( (rec.EnterpriseNumber, addr))\n",
    "                    rec_with_addr.append(  addr)\n",
    "                    pbar.update()\n",
    "                else: \n",
    "                    print(\"skipping duplicated address\")\n",
    "            if len(rec_with_addr) >= sample_size:\n",
    "                break\n",
    "\n",
    "        rep_sample = pd.DataFrame(rec_with_addr)\n",
    "        rep_sample"
   ]
  },
  {
   "cell_type": "code",
   "execution_count": 142,
   "id": "ad098800",
   "metadata": {
    "ExecuteTime": {
     "end_time": "2023-05-26T14:20:40.456423Z",
     "start_time": "2023-05-26T14:20:40.442337Z"
    }
   },
   "outputs": [
    {
     "data": {
      "text/html": [
       "<div>\n",
       "<style scoped>\n",
       "    .dataframe tbody tr th:only-of-type {\n",
       "        vertical-align: middle;\n",
       "    }\n",
       "\n",
       "    .dataframe tbody tr th {\n",
       "        vertical-align: top;\n",
       "    }\n",
       "\n",
       "    .dataframe thead th {\n",
       "        text-align: right;\n",
       "    }\n",
       "</style>\n",
       "<table border=\"1\" class=\"dataframe\">\n",
       "  <thead>\n",
       "    <tr style=\"text-align: right;\">\n",
       "      <th></th>\n",
       "      <th>streetName</th>\n",
       "      <th>houseNumber</th>\n",
       "      <th>postCode</th>\n",
       "      <th>municipalityName</th>\n",
       "    </tr>\n",
       "  </thead>\n",
       "  <tbody>\n",
       "    <tr>\n",
       "      <th>0</th>\n",
       "      <td>{'fr': 'de Burburelaan'}</td>\n",
       "      <td>46</td>\n",
       "      <td>1970</td>\n",
       "      <td>{'fr': 'Wezembeek-Oppem'}</td>\n",
       "    </tr>\n",
       "    <tr>\n",
       "      <th>1</th>\n",
       "      <td>{'fr': 'Nachtegalenlaan'}</td>\n",
       "      <td>35</td>\n",
       "      <td>1950</td>\n",
       "      <td>{'fr': 'Kraainem'}</td>\n",
       "    </tr>\n",
       "    <tr>\n",
       "      <th>2</th>\n",
       "      <td>{'fr': 'Rue Tilia(ST)'}</td>\n",
       "      <td>12</td>\n",
       "      <td>6511</td>\n",
       "      <td>{'fr': 'Beaumont'}</td>\n",
       "    </tr>\n",
       "    <tr>\n",
       "      <th>3</th>\n",
       "      <td>{'fr': 'Rue du Hock(N)'}</td>\n",
       "      <td>36</td>\n",
       "      <td>4121</td>\n",
       "      <td>{'fr': 'Neupré'}</td>\n",
       "    </tr>\n",
       "    <tr>\n",
       "      <th>4</th>\n",
       "      <td>{'nl': 'Wuustwezelseweg'}</td>\n",
       "      <td>95</td>\n",
       "      <td>2990</td>\n",
       "      <td>{'nl': 'Wuustwezel'}</td>\n",
       "    </tr>\n",
       "    <tr>\n",
       "      <th>...</th>\n",
       "      <td>...</td>\n",
       "      <td>...</td>\n",
       "      <td>...</td>\n",
       "      <td>...</td>\n",
       "    </tr>\n",
       "    <tr>\n",
       "      <th>995</th>\n",
       "      <td>{'nl': 'Lichterweg'}</td>\n",
       "      <td>3</td>\n",
       "      <td>2030</td>\n",
       "      <td>{'nl': 'Antwerpen'}</td>\n",
       "    </tr>\n",
       "    <tr>\n",
       "      <th>996</th>\n",
       "      <td>{'nl': 'Grote Markt(Kor)'}</td>\n",
       "      <td>41</td>\n",
       "      <td>8500</td>\n",
       "      <td>{'nl': 'Kortrijk'}</td>\n",
       "    </tr>\n",
       "    <tr>\n",
       "      <th>997</th>\n",
       "      <td>{'nl': 'Heerweg-Noord'}</td>\n",
       "      <td>72</td>\n",
       "      <td>9052</td>\n",
       "      <td>{'nl': 'Gent'}</td>\n",
       "    </tr>\n",
       "    <tr>\n",
       "      <th>998</th>\n",
       "      <td>{'nl': 'Mechelbaan'}</td>\n",
       "      <td>750</td>\n",
       "      <td>2580</td>\n",
       "      <td>{'nl': 'Putte'}</td>\n",
       "    </tr>\n",
       "    <tr>\n",
       "      <th>999</th>\n",
       "      <td>{'nl': 'Dikkebusseweg'}</td>\n",
       "      <td>126</td>\n",
       "      <td>8900</td>\n",
       "      <td>{'nl': 'Ieper'}</td>\n",
       "    </tr>\n",
       "  </tbody>\n",
       "</table>\n",
       "<p>1000 rows × 4 columns</p>\n",
       "</div>"
      ],
      "text/plain": [
       "                     streetName houseNumber postCode  \\\n",
       "0      {'fr': 'de Burburelaan'}          46     1970   \n",
       "1     {'fr': 'Nachtegalenlaan'}          35     1950   \n",
       "2       {'fr': 'Rue Tilia(ST)'}          12     6511   \n",
       "3      {'fr': 'Rue du Hock(N)'}          36     4121   \n",
       "4     {'nl': 'Wuustwezelseweg'}          95     2990   \n",
       "..                          ...         ...      ...   \n",
       "995        {'nl': 'Lichterweg'}           3     2030   \n",
       "996  {'nl': 'Grote Markt(Kor)'}          41     8500   \n",
       "997     {'nl': 'Heerweg-Noord'}          72     9052   \n",
       "998        {'nl': 'Mechelbaan'}         750     2580   \n",
       "999     {'nl': 'Dikkebusseweg'}         126     8900   \n",
       "\n",
       "              municipalityName  \n",
       "0    {'fr': 'Wezembeek-Oppem'}  \n",
       "1           {'fr': 'Kraainem'}  \n",
       "2           {'fr': 'Beaumont'}  \n",
       "3             {'fr': 'Neupré'}  \n",
       "4         {'nl': 'Wuustwezel'}  \n",
       "..                         ...  \n",
       "995        {'nl': 'Antwerpen'}  \n",
       "996         {'nl': 'Kortrijk'}  \n",
       "997             {'nl': 'Gent'}  \n",
       "998            {'nl': 'Putte'}  \n",
       "999            {'nl': 'Ieper'}  \n",
       "\n",
       "[1000 rows x 4 columns]"
      ]
     },
     "execution_count": 142,
     "metadata": {},
     "output_type": "execute_result"
    }
   ],
   "source": [
    "# rep_sample = pd.DataFrame(rec_with_addr)\n",
    "rep_sample"
   ]
  },
  {
   "cell_type": "code",
   "execution_count": 143,
   "id": "adcd654b",
   "metadata": {
    "ExecuteTime": {
     "end_time": "2023-05-26T14:20:44.183573Z",
     "start_time": "2023-05-26T14:20:44.165793Z"
    }
   },
   "outputs": [],
   "source": [
    "def get_lg_pref(item, lg_order):\n",
    "    for lg in lg_order:\n",
    "        if lg in item:\n",
    "            return item[lg]\n",
    "    return None\n",
    "\n",
    "if \"rep\" in datasets:\n",
    "    rep_sample = rep_sample.rename(columns={\"postCode\": \"postcode\", \n",
    "                                            \"houseNumber\": \"housenumber\",\n",
    "                                           })\n",
    "\n",
    "    rep_sample[\"lg\"] = np.where(rep_sample.postcode.str[0].isin([\"2\", \"3\", \"8\", \"9\"]), \"VL\",\n",
    "                       np.where(rep_sample.postcode.str[0].isin([\"4\", \"5\", \"6\", \"7\"]), \"FR\",\n",
    "                       np.where(rep_sample.postcode.str[0:2].between(\"10\", \"14\"), \"FR\", \"VL\")))\n",
    "\n",
    "    rep_sample[\"street\"] = np.where(rep_sample.lg == \"FR\", \n",
    "                                    rep_sample.streetName.apply(lambda r : get_lg_pref(r, [\"fr\", \"nl\", \"de\"])),\n",
    "                                    rep_sample.streetName.apply(lambda r : get_lg_pref(r, [\"nl\", \"fr\", \"de\"])))# )\n",
    "\n",
    "\n",
    "    rep_sample[\"city\"] = np.where(rep_sample.lg == \"FR\", \n",
    "                                  rep_sample.municipalityName.apply(lambda r : get_lg_pref(r, [\"fr\", \"nl\", \"de\"])),\n",
    "                                  rep_sample.municipalityName.apply(lambda r : get_lg_pref(r, [\"nl\", \"fr\", \"de\"])))\n",
    "\n"
   ]
  },
  {
   "cell_type": "code",
   "execution_count": 144,
   "id": "59f6cd36",
   "metadata": {
    "ExecuteTime": {
     "end_time": "2023-05-26T14:20:45.574995Z",
     "start_time": "2023-05-26T14:20:45.563451Z"
    }
   },
   "outputs": [],
   "source": [
    "if \"rep\" in datasets:\n",
    "    rep_sample[[\"street\", \"housenumber\", \"postcode\", \"city\"]].to_csv(f\"{datadir}/rep_{sample_size}.csv.gz\", index=False)"
   ]
  },
  {
   "cell_type": "code",
   "execution_count": null,
   "id": "6e0a3dbf",
   "metadata": {
    "ExecuteTime": {
     "end_time": "2023-05-26T14:21:16.335759Z",
     "start_time": "2023-05-26T14:21:16.324383Z"
    }
   },
   "outputs": [],
   "source": []
  },
  {
   "cell_type": "markdown",
   "id": "629e0f67",
   "metadata": {},
   "source": [
    "# Resto"
   ]
  },
  {
   "cell_type": "code",
   "execution_count": 53,
   "id": "68b0a80a",
   "metadata": {
    "ExecuteTime": {
     "end_time": "2023-05-26T13:19:54.724312Z",
     "start_time": "2023-05-26T13:19:54.675116Z"
    }
   },
   "outputs": [],
   "source": [
    "if \"resto\" in datasets:\n",
    "    resto_datadir = f\"{datadir}/full/resto\"\n",
    "\n",
    "    resto_full = pd.concat([pd.read_csv(f) for f in glob.glob(f\"{resto_datadir}/*.csv.gz\")])\n",
    "    resto_full"
   ]
  },
  {
   "cell_type": "code",
   "execution_count": 56,
   "id": "79e49d3b",
   "metadata": {
    "ExecuteTime": {
     "end_time": "2023-05-26T13:20:13.330244Z",
     "start_time": "2023-05-26T13:20:13.315368Z"
    }
   },
   "outputs": [],
   "source": [
    "if \"resto\" in datasets:\n",
    "    resto_sample = resto_full.drop(\"name\", axis=1).drop_duplicates().sample(sample_size, random_state=seed)[[\"street\", \"housenumber\", \"postcode\", \"city\"]]\n",
    "                               \n",
    "    resto_sample.to_csv(f\"{datadir}/resto_{sample_size}.csv.gz\", index=False)"
   ]
  },
  {
   "cell_type": "code",
   "execution_count": 58,
   "id": "f58a9a99",
   "metadata": {
    "ExecuteTime": {
     "end_time": "2023-05-26T13:20:28.115041Z",
     "start_time": "2023-05-26T13:20:28.112719Z"
    }
   },
   "outputs": [],
   "source": [
    "# resto_sample"
   ]
  }
 ],
 "metadata": {
  "kernelspec": {
   "display_name": "gis",
   "language": "python",
   "name": "gis"
  },
  "language_info": {
   "codemirror_mode": {
    "name": "ipython",
    "version": 3
   },
   "file_extension": ".py",
   "mimetype": "text/x-python",
   "name": "python",
   "nbconvert_exporter": "python",
   "pygments_lexer": "ipython3",
   "version": "3.8.16"
  },
  "toc": {
   "base_numbering": 1,
   "nav_menu": {},
   "number_sections": true,
   "sideBar": true,
   "skip_h1_title": false,
   "title_cell": "Table of Contents",
   "title_sidebar": "Contents",
   "toc_cell": false,
   "toc_position": {
    "height": "757px",
    "left": "553px",
    "top": "220.125px",
    "width": "208px"
   },
   "toc_section_display": true,
   "toc_window_display": true
  },
  "varInspector": {
   "cols": {
    "lenName": 16,
    "lenType": 16,
    "lenVar": 40
   },
   "kernels_config": {
    "python": {
     "delete_cmd_postfix": "",
     "delete_cmd_prefix": "del ",
     "library": "var_list.py",
     "varRefreshCmd": "print(var_dic_list())"
    },
    "r": {
     "delete_cmd_postfix": ") ",
     "delete_cmd_prefix": "rm(",
     "library": "var_list.r",
     "varRefreshCmd": "cat(var_dic_list()) "
    }
   },
   "types_to_exclude": [
    "module",
    "function",
    "builtin_function_or_method",
    "instance",
    "_Feature"
   ],
   "window_display": false
  }
 },
 "nbformat": 4,
 "nbformat_minor": 5
}
