{
 "cells": [
  {
   "cell_type": "code",
   "execution_count": 2,
   "id": "58ab37b6",
   "metadata": {
    "ExecuteTime": {
     "end_time": "2023-06-29T11:31:22.798689Z",
     "start_time": "2023-06-29T11:31:22.333434Z"
    }
   },
   "outputs": [],
   "source": [
    "import pandas as pd\n",
    "import numpy as np\n",
    "import requests\n",
    "\n",
    "# from tqdm.auto import tqdm, trange\n",
    "from tqdm import tqdm, trange\n",
    "# tqdm.pandas()\n",
    "\n",
    "\n",
    "from credentials import bosa_mapping_url\n",
    "\n",
    "from zipfile import ZipFile\n",
    "import json\n",
    "import random\n",
    "import time\n",
    "import os, urllib\n",
    "\n",
    "import glob\n"
   ]
  },
  {
   "cell_type": "code",
   "execution_count": 3,
   "id": "6d050730",
   "metadata": {
    "ExecuteTime": {
     "end_time": "2023-06-29T11:31:22.805347Z",
     "start_time": "2023-06-29T11:31:22.801126Z"
    }
   },
   "outputs": [],
   "source": [
    "def download_if_nexist(url, filename):\n",
    "    \"\"\"\n",
    "    If the (local) file <filename> does not exists, download it from <url>\n",
    "\n",
    "    Parameters\n",
    "    ----------\n",
    "    url: str\n",
    "       url to fetch\n",
    "    filename: str\n",
    "       local file to save\n",
    "\n",
    "    Returns\n",
    "    -------\n",
    "\n",
    "    None\n",
    "    \"\"\"\n",
    "    if not os.path.isfile(filename):\n",
    "        #gcontext = ssl.SSLContext()\n",
    "        with urllib.request.urlopen(url) as response:\n",
    "            with open(filename, \"wb\") as f:\n",
    "                f.write(response.read())"
   ]
  },
  {
   "cell_type": "code",
   "execution_count": 4,
   "id": "99213f34",
   "metadata": {
    "ExecuteTime": {
     "end_time": "2023-06-29T11:31:22.872868Z",
     "start_time": "2023-06-29T11:31:22.807388Z"
    }
   },
   "outputs": [],
   "source": [
    "datadir = \"data/geocoding/\"\n",
    "os.makedirs(datadir, exist_ok=True)\n",
    "os.makedirs(f\"{datadir}/full\", exist_ok=True)\n"
   ]
  },
  {
   "cell_type": "code",
   "execution_count": 5,
   "id": "64974a86",
   "metadata": {
    "ExecuteTime": {
     "end_time": "2023-06-29T11:31:22.918114Z",
     "start_time": "2023-06-29T11:31:22.875915Z"
    }
   },
   "outputs": [],
   "source": [
    "sample_size=1000\n",
    "\n",
    "seed=314"
   ]
  },
  {
   "cell_type": "code",
   "execution_count": 6,
   "id": "3aa675e8",
   "metadata": {
    "ExecuteTime": {
     "end_time": "2023-06-29T11:31:24.417249Z",
     "start_time": "2023-06-29T11:31:24.413714Z"
    }
   },
   "outputs": [],
   "source": [
    "datasets = [\"kbo\", \"rep\", \"best\", \"rrn\", \"resto\"]\n",
    "datasets = [\"rrn\"]"
   ]
  },
  {
   "cell_type": "markdown",
   "id": "2d2a11b1",
   "metadata": {},
   "source": [
    "# Best"
   ]
  },
  {
   "cell_type": "code",
   "execution_count": null,
   "id": "afaccc69",
   "metadata": {
    "ExecuteTime": {
     "end_time": "2023-06-09T08:42:07.822377Z",
     "start_time": "2023-06-09T08:42:07.747927Z"
    }
   },
   "outputs": [],
   "source": [
    "if \"best\" in datasets:\n",
    "    best_vlg_fn = f\"{datadir}/full/openaddress-bevlg.zip\"\n",
    "    download_if_nexist(\"https://opendata.bosa.be/download/best/openaddress-bevlg.zip\", best_vlg_fn)\n",
    "\n",
    "    best_wal_fn = f\"{datadir}/full/openaddress-bewal.zip\"\n",
    "    download_if_nexist(\"https://opendata.bosa.be/download/best/openaddress-bewal.zip\", best_wal_fn)\n",
    "\n",
    "    best_bru_fn = f\"{datadir}/full/openaddress-bebru.zip\"\n",
    "    download_if_nexist(\"https://opendata.bosa.be/download/best/openaddress-bebru.zip\", best_bru_fn)"
   ]
  },
  {
   "cell_type": "code",
   "execution_count": null,
   "id": "3d8c794a",
   "metadata": {
    "ExecuteTime": {
     "end_time": "2023-06-09T08:42:07.917678Z",
     "start_time": "2023-06-09T08:42:07.824068Z"
    }
   },
   "outputs": [],
   "source": [
    "if \"best\" in datasets:\n",
    "    best_full = pd.concat([pd.read_csv(fn, usecols=[\"municipality_name_de\", \"municipality_name_fr\", \"municipality_name_nl\", \n",
    "                                                    \"streetname_de\", \"streetname_fr\", \"streetname_nl\",\n",
    "                                                    \"postcode\", \"house_number\", \"region_code\"], dtype=str) for fn in [best_vlg_fn, best_wal_fn, best_bru_fn] ])"
   ]
  },
  {
   "cell_type": "code",
   "execution_count": null,
   "id": "7f017d65",
   "metadata": {
    "ExecuteTime": {
     "end_time": "2023-06-09T08:42:07.968478Z",
     "start_time": "2023-06-09T08:42:07.919434Z"
    }
   },
   "outputs": [],
   "source": [
    "if \"best\" in datasets:\n",
    "    best_full[\"street\"] = np.where(best_full.region_code == \"BE-VLG\", best_full.streetname_nl.fillna(best_full.streetname_fr).fillna(best_full.streetname_de),\n",
    "                          np.where(best_full.region_code == \"BE-WAL\", best_full.streetname_fr.fillna(best_full.streetname_de).fillna(best_full.streetname_nl),\n",
    "                          np.where(best_full.region_code == \"BE-BRU\", best_full.streetname_fr.fillna(best_full.streetname_nl).fillna(best_full.streetname_de), None)))\n",
    "\n",
    "    best_full[\"city\"] =   np.where(best_full.region_code == \"BE-VLG\", best_full.municipality_name_nl.fillna(best_full.municipality_name_fr).fillna(best_full.municipality_name_de),\n",
    "                          np.where(best_full.region_code == \"BE-WAL\", best_full.municipality_name_fr.fillna(best_full.municipality_name_de).fillna(best_full.municipality_name_nl),\n",
    "                          np.where(best_full.region_code == \"BE-BRU\", best_full.municipality_name_fr.fillna(best_full.municipality_name_nl).fillna(best_full.municipality_name_de), None)))"
   ]
  },
  {
   "cell_type": "code",
   "execution_count": null,
   "id": "bf6c5d02",
   "metadata": {
    "ExecuteTime": {
     "end_time": "2023-06-09T08:42:08.002044Z",
     "start_time": "2023-06-09T08:42:07.970379Z"
    }
   },
   "outputs": [],
   "source": [
    "if \"best\" in datasets:\n",
    "    best_sample =  best_full[[\"street\", \"house_number\", \"postcode\", \"city\"]].rename(columns={\"house_number\": \"housenumber\"})\n",
    "    best_sample = best_sample.drop_duplicates().sample(sample_size, random_state=seed).reset_index(drop=True)\n",
    "    best_sample.to_csv(f\"{datadir}/best_{sample_size}.csv.gz\", index=False)"
   ]
  },
  {
   "cell_type": "markdown",
   "id": "034a241b",
   "metadata": {
    "ExecuteTime": {
     "end_time": "2023-05-19T11:12:03.106947Z",
     "start_time": "2023-05-19T11:11:52.732466Z"
    }
   },
   "source": [
    "# KBO\n"
   ]
  },
  {
   "cell_type": "code",
   "execution_count": null,
   "id": "7b2b704c",
   "metadata": {
    "ExecuteTime": {
     "end_time": "2023-06-09T08:42:08.060924Z",
     "start_time": "2023-06-09T08:42:08.005314Z"
    }
   },
   "outputs": [],
   "source": [
    "kbo_fn = f\"{datadir}/full/kbo_full.zip\"\n",
    "# To be downloaded from https://kbopub.economie.fgov.be/kbo-open-data/\n",
    "\n",
    "#download_if_nexist(\"https://kbopub.economie.fgov.be/kbo-open-data/affiliation/xml/files/KboOpenData_0111_2023_05_Full.zip\", kbo_fn)\n"
   ]
  },
  {
   "cell_type": "code",
   "execution_count": null,
   "id": "307f4b55",
   "metadata": {
    "ExecuteTime": {
     "end_time": "2023-06-09T08:42:08.111515Z",
     "start_time": "2023-06-09T08:42:08.062964Z"
    },
    "scrolled": true
   },
   "outputs": [],
   "source": [
    "if \"kbo\" in datasets:\n",
    "    with ZipFile(kbo_fn) as z:\n",
    "       # open the csv file in the dataset\n",
    "        with z.open(\"address.csv\") as f:\n",
    "\n",
    "            kbo_full = pd.read_csv(f, usecols=[\"CountryFR\", \"Zipcode\", \n",
    "                                               \"MunicipalityNL\",\"MunicipalityFR\", \n",
    "                                               \"StreetNL\", \"StreetFR\", \"HouseNumber\"],\n",
    "                                dtype=str)\n",
    "    "
   ]
  },
  {
   "cell_type": "code",
   "execution_count": null,
   "id": "53cb2631",
   "metadata": {
    "ExecuteTime": {
     "end_time": "2023-06-09T08:42:08.144929Z",
     "start_time": "2023-06-09T08:42:08.113416Z"
    }
   },
   "outputs": [],
   "source": [
    "if \"kbo\" in datasets:\n",
    "\n",
    "    kbo_full = kbo_full[kbo_full.CountryFR.isnull()].copy()\n",
    "    \n",
    "    kbo_sample = kbo_full.drop_duplicates(subset=[\"Zipcode\",\"StreetNL\", \"StreetFR\", \"HouseNumber\"]).sample(sample_size, random_state=seed)"
   ]
  },
  {
   "cell_type": "code",
   "execution_count": null,
   "id": "47b6f177",
   "metadata": {
    "ExecuteTime": {
     "end_time": "2023-06-09T08:42:08.203457Z",
     "start_time": "2023-06-09T08:42:08.146794Z"
    }
   },
   "outputs": [],
   "source": [
    "# kbo_sample"
   ]
  },
  {
   "cell_type": "code",
   "execution_count": null,
   "id": "8a348324",
   "metadata": {
    "ExecuteTime": {
     "end_time": "2023-06-09T08:42:08.254515Z",
     "start_time": "2023-06-09T08:42:08.205290Z"
    }
   },
   "outputs": [],
   "source": [
    "if \"kbo\" in datasets:\n",
    "    kbo_sample[\"lg\"] = np.where(kbo_sample.Zipcode.str[0].isin([\"2\", \"3\", \"8\", \"9\"]), \"VL\",\n",
    "                       np.where(kbo_sample.Zipcode.str[0].isin([\"4\", \"5\", \"6\", \"7\"]), \"FR\",\n",
    "                       np.where(kbo_sample.Zipcode.str[0:2].between(\"10\", \"14\"), \"FR\", \"VL\")))\n",
    "    \n",
    "    "
   ]
  },
  {
   "cell_type": "code",
   "execution_count": null,
   "id": "6fbcd866",
   "metadata": {
    "ExecuteTime": {
     "end_time": "2023-06-09T08:42:08.288245Z",
     "start_time": "2023-06-09T08:42:08.256819Z"
    }
   },
   "outputs": [],
   "source": [
    "if \"kbo\" in datasets:\n",
    "    kbo_sample[\"street\"] = np.where(kbo_sample.lg == \"FR\", \n",
    "                                    kbo_sample.StreetFR.fillna(kbo_sample.StreetNL),\n",
    "                                    kbo_sample.StreetNL.fillna(kbo_sample.StreetFR))\n",
    "\n",
    "    kbo_sample[\"city\"] = np.where(kbo_sample.lg == \"FR\", \n",
    "                                  kbo_sample.MunicipalityFR.fillna(kbo_sample.MunicipalityNL),\n",
    "                                  kbo_sample.MunicipalityNL.fillna(kbo_sample.MunicipalityFR))\n"
   ]
  },
  {
   "cell_type": "code",
   "execution_count": null,
   "id": "f4918fa8",
   "metadata": {
    "ExecuteTime": {
     "end_time": "2023-06-09T08:42:08.348271Z",
     "start_time": "2023-06-09T08:42:08.290161Z"
    }
   },
   "outputs": [],
   "source": [
    "if \"kbo\" in datasets:\n",
    "    kbo_sample = kbo_sample.rename(columns={\"Zipcode\": \"postcode\", \"HouseNumber\": \"housenumber\"})[[\"street\", \"housenumber\", \"postcode\", \"city\"]]\n",
    "    \n",
    "    kbo_sample.to_csv(f\"{datadir}/kbo_{sample_size}.csv.gz\", index=False)"
   ]
  },
  {
   "cell_type": "code",
   "execution_count": null,
   "id": "473905b2",
   "metadata": {
    "ExecuteTime": {
     "end_time": "2023-06-09T08:42:08.395219Z",
     "start_time": "2023-06-09T08:42:08.350586Z"
    }
   },
   "outputs": [],
   "source": [
    "# kbo_sample"
   ]
  },
  {
   "cell_type": "markdown",
   "id": "635b4a36",
   "metadata": {},
   "source": [
    "# RRN"
   ]
  },
  {
   "cell_type": "code",
   "execution_count": null,
   "id": "55e31ce1",
   "metadata": {
    "ExecuteTime": {
     "end_time": "2023-06-09T08:42:09.829407Z",
     "start_time": "2023-06-09T08:42:09.807474Z"
    }
   },
   "outputs": [],
   "source": [
    "if \"rrn\" in datasets:\n",
    "    best_RN_mapping_fn = f\"{datadir}/full/3_RRN_2023Q1.zip\"\n",
    "    download_if_nexist(f\"{bosa_mapping_url}/3_RRN_2023Q1.zip\", best_RN_mapping_fn)"
   ]
  },
  {
   "cell_type": "code",
   "execution_count": null,
   "id": "fce097da",
   "metadata": {
    "ExecuteTime": {
     "end_time": "2023-06-09T08:42:32.522904Z",
     "start_time": "2023-06-09T08:42:11.151655Z"
    }
   },
   "outputs": [],
   "source": [
    "if \"rrn\" in datasets:\n",
    "    with ZipFile(best_RN_mapping_fn, 'r') as zipObj:\n",
    "        recs = []\n",
    "        for f in [\"STEP131_RR_B_Result.txt\", \"STEP131_RR_F_Result.txt\", \"STEP131_RR_W_Result.txt\"]:\n",
    "            print(f)\n",
    "            for row in tqdm(zipObj.open(f) ):\n",
    "                recs.append(row)\n",
    "\n",
    "        print(f\"Got {len(recs)} records, take a sample\")\n",
    "        random.seed(seed)\n",
    "        recs= random.sample(recs, int(sample_size*1.2))\n",
    "\n",
    "        rrn_sample = pd.DataFrame([json.loads(r) for r in recs])"
   ]
  },
  {
   "cell_type": "code",
   "execution_count": null,
   "id": "b7bb9f06",
   "metadata": {
    "ExecuteTime": {
     "end_time": "2023-06-09T08:42:35.721647Z",
     "start_time": "2023-06-09T08:42:35.712703Z"
    }
   },
   "outputs": [],
   "source": [
    "if \"rrn\" in datasets:\n",
    "    rrn_sample = rrn_sample.drop_duplicates(subset=[\"Snl\", \"Sfr\", \"Sde\", \"P\", \"hs\"])\n",
    "    rrn_sample = rrn_sample.sample(sample_size, random_state=seed)"
   ]
  },
  {
   "cell_type": "code",
   "execution_count": null,
   "id": "c3af2a14",
   "metadata": {
    "ExecuteTime": {
     "end_time": "2023-06-09T08:42:36.329192Z",
     "start_time": "2023-06-09T08:42:36.231866Z"
    }
   },
   "outputs": [],
   "source": [
    "if \"rrn\" in datasets:\n",
    "    url_all_cities = \"https://services.socialsecurity.be/REST/referenceData/geography/v1/countries/150/cities?pageSize=0\"\n",
    "\n",
    "    download_if_nexist(url_all_cities, f\"{datadir}/full/referencedata_cities.json\")\n",
    "\n",
    "    with open(f\"{datadir}/full/referencedata_cities.json\", encoding='utf-8') as f:\n",
    "        refdata_cities = pd.DataFrame(json.load(f)[\"items\"])\n",
    "\n",
    "        refdata_cities[\"city\"]  = np.where(refdata_cities.officialLanguage==\"N\", refdata_cities[\"cityName\"].apply(lambda x: x[\"nl\"]), \n",
    "                          np.where(refdata_cities.officialLanguage==\"DF\", refdata_cities[\"cityName\"].apply(lambda x: x[\"de\"]),\n",
    "                                   refdata_cities[\"cityName\"].apply(lambda x: x[\"fr\"])))\n",
    "        refdata_cities = refdata_cities[[\"cityNisCode\", \"city\"]].dropna().drop_duplicates()\n",
    "        refdata_cities[\"cityNisCode\"] = refdata_cities.cityNisCode.astype(pd.Int64Dtype()).astype(str)\n"
   ]
  },
  {
   "cell_type": "code",
   "execution_count": null,
   "id": "d77cae63",
   "metadata": {
    "ExecuteTime": {
     "end_time": "2023-06-09T08:45:45.799097Z",
     "start_time": "2023-06-09T08:45:45.796969Z"
    }
   },
   "outputs": [],
   "source": [
    "# rrn_sample[rrn_sample.street ==\"\"].replace(\"\", pd.NA).Sfr.fillna(rrn_sample.Sde)"
   ]
  },
  {
   "cell_type": "code",
   "execution_count": null,
   "id": "d05b4070",
   "metadata": {
    "ExecuteTime": {
     "end_time": "2023-06-09T08:45:39.212662Z",
     "start_time": "2023-06-09T08:45:39.198292Z"
    }
   },
   "outputs": [],
   "source": [
    "if \"rrn\" in datasets:\n",
    "    rrn_sample = rrn_sample.merge(refdata_cities.rename(columns={\"cityNisCode\":\"idM_SRC\" }))\n",
    "    rrn_sample[\"street\"] = np.where(rrn_sample.R == \"F\", rrn_sample.Snl, rrn_sample.replace(\"\", pd.NA).Sfr.fillna(rrn_sample.Sde).fillna(rrn_sample.Snl))\n",
    "\n",
    "    rrn_sample = rrn_sample.rename(columns={\n",
    "                        \"hs\":      \"housenumber\",\n",
    "                        \"POri\":    \"postcode\", \n",
    "                        })\n"
   ]
  },
  {
   "cell_type": "code",
   "execution_count": null,
   "id": "d2001932",
   "metadata": {
    "ExecuteTime": {
     "end_time": "2023-06-09T08:45:39.852778Z",
     "start_time": "2023-06-09T08:45:39.843846Z"
    }
   },
   "outputs": [],
   "source": [
    "if \"rrn\" in datasets:\n",
    "    rrn_sample[[\"street\", \"housenumber\", \"postcode\", \"city\"]].to_csv(f\"{datadir}/rrn_{sample_size}.csv.gz\", index=False)"
   ]
  },
  {
   "cell_type": "markdown",
   "id": "0f2dd9f2",
   "metadata": {
    "ExecuteTime": {
     "end_time": "2023-05-19T12:04:39.314514Z",
     "start_time": "2023-05-19T12:04:39.310609Z"
    }
   },
   "source": [
    "# Repertoire"
   ]
  },
  {
   "cell_type": "code",
   "execution_count": null,
   "id": "6b202d4b",
   "metadata": {
    "ExecuteTime": {
     "end_time": "2023-05-26T13:30:09.375687Z",
     "start_time": "2023-05-26T13:30:09.372974Z"
    }
   },
   "outputs": [],
   "source": [
    "# Get a sample of enterprise number from KBO open data\n",
    "\n",
    "# \n",
    "# datasets=[\"rep\"]"
   ]
  },
  {
   "cell_type": "code",
   "execution_count": null,
   "id": "0e2e35ea",
   "metadata": {
    "ExecuteTime": {
     "end_time": "2023-05-26T13:30:15.920633Z",
     "start_time": "2023-05-26T13:30:14.281461Z"
    },
    "scrolled": true
   },
   "outputs": [],
   "source": [
    "if \"rep\" in datasets:\n",
    "    with ZipFile(kbo_fn) as z:\n",
    "        \n",
    "       # open the csv file in the dataset\n",
    "        with z.open(\"enterprise.csv\") as f:\n",
    "\n",
    "            cbe_list_full = pd.read_csv(f,\n",
    "                                        usecols  = [\"EnterpriseNumber\", \"TypeOfEnterprise\", \"JuridicalForm\"], \n",
    "                                        dtype=str)\n",
    "    cbe_list_full"
   ]
  },
  {
   "cell_type": "code",
   "execution_count": null,
   "id": "6bfe34c3",
   "metadata": {
    "ExecuteTime": {
     "end_time": "2023-05-26T13:31:18.034758Z",
     "start_time": "2023-05-26T13:31:18.032342Z"
    }
   },
   "outputs": [],
   "source": [
    "# sample_size=100"
   ]
  },
  {
   "cell_type": "code",
   "execution_count": null,
   "id": "b60274f8",
   "metadata": {
    "ExecuteTime": {
     "end_time": "2023-05-26T13:58:08.534361Z",
     "start_time": "2023-05-26T13:58:08.319151Z"
    }
   },
   "outputs": [],
   "source": [
    "if \"rep\" in datasets:\n",
    "    # Get a sample of CBE/KBO numbers\n",
    "    cbe_list_presample = cbe_list_full[(cbe_list_full.TypeOfEnterprise == \"2\") & \n",
    "                                       (cbe_list_full.JuridicalForm.isin([\"015\", \"014\"]))].sample(5*sample_size, random_state=seed)\n",
    "    "
   ]
  },
  {
   "cell_type": "code",
   "execution_count": null,
   "id": "1dd9cd8c",
   "metadata": {
    "ExecuteTime": {
     "end_time": "2023-05-26T13:30:25.521656Z",
     "start_time": "2023-05-26T13:30:25.516823Z"
    }
   },
   "outputs": [],
   "source": [
    "import time\n",
    "def call_repertorium(cbe_number):\n",
    "    url = f\"https://services.socialsecurity.be/REST/employer/identification/v6/employers/search\"\n",
    "    \n",
    "    r = requests.get(url,\n",
    "        params= { \"enterpriseNumber\": str(cbe_number).replace(\".\", \"\")})\n",
    "    \n",
    "    return json.loads(r.text)\n",
    "\n",
    "def get_repertorium_address(cbe_number):\n",
    "    r = call_repertorium(cbe_number)\n",
    "    \n",
    "    time.sleep(0.5)\n",
    "    if \"identity\" in r and \"address\" in r[\"identity\"]:\n",
    "        return r[\"identity\"][\"address\"]\n",
    "    else:\n",
    "        return None\n",
    "# get_repertorium_address(864279008)"
   ]
  },
  {
   "cell_type": "code",
   "execution_count": null,
   "id": "9f294e0b",
   "metadata": {
    "ExecuteTime": {
     "end_time": "2023-05-26T14:20:23.365372Z",
     "start_time": "2023-05-26T13:58:11.351356Z"
    },
    "scrolled": true
   },
   "outputs": [],
   "source": [
    "# Call repertorium web service based on CBE list, until we find \"sample_size*1.2\" (to be sure to find sample_size unique addresses) distinct addresses\n",
    "if \"rep\" in datasets:\n",
    "    rec_with_addr=[]\n",
    "    with tqdm(total=sample_size) as pbar:\n",
    "        for i, rec in cbe_list_presample.reset_index(drop=True).iterrows():\n",
    "            addr = get_repertorium_address(rec.EnterpriseNumber)\n",
    "            if addr is not None:\n",
    "                addr = {k: addr[k] for k in ['streetName','houseNumber', 'postCode', 'municipalityName']}\n",
    "                if not addr in rec_with_addr :\n",
    "                    #rec_with_addr.append( (rec.EnterpriseNumber, addr))\n",
    "                    rec_with_addr.append(  addr)\n",
    "                    pbar.update()\n",
    "                else: \n",
    "                    print(\"skipping duplicated address\")\n",
    "            if len(rec_with_addr) >= sample_size:\n",
    "                break\n",
    "\n",
    "        rep_sample = pd.DataFrame(rec_with_addr)\n",
    "        rep_sample"
   ]
  },
  {
   "cell_type": "code",
   "execution_count": null,
   "id": "ad098800",
   "metadata": {
    "ExecuteTime": {
     "end_time": "2023-05-26T14:20:40.456423Z",
     "start_time": "2023-05-26T14:20:40.442337Z"
    }
   },
   "outputs": [],
   "source": [
    "# rep_sample = pd.DataFrame(rec_with_addr)\n",
    "rep_sample"
   ]
  },
  {
   "cell_type": "code",
   "execution_count": null,
   "id": "adcd654b",
   "metadata": {
    "ExecuteTime": {
     "end_time": "2023-05-26T14:20:44.183573Z",
     "start_time": "2023-05-26T14:20:44.165793Z"
    }
   },
   "outputs": [],
   "source": [
    "def get_lg_pref(item, lg_order):\n",
    "    for lg in lg_order:\n",
    "        if lg in item:\n",
    "            return item[lg]\n",
    "    return None\n",
    "\n",
    "if \"rep\" in datasets:\n",
    "    rep_sample = rep_sample.rename(columns={\"postCode\": \"postcode\", \n",
    "                                            \"houseNumber\": \"housenumber\",\n",
    "                                           })\n",
    "\n",
    "    rep_sample[\"lg\"] = np.where(rep_sample.postcode.str[0].isin([\"2\", \"3\", \"8\", \"9\"]), \"VL\",\n",
    "                       np.where(rep_sample.postcode.str[0].isin([\"4\", \"5\", \"6\", \"7\"]), \"FR\",\n",
    "                       np.where(rep_sample.postcode.str[0:2].between(\"10\", \"14\"), \"FR\", \"VL\")))\n",
    "\n",
    "    rep_sample[\"street\"] = np.where(rep_sample.lg == \"FR\", \n",
    "                                    rep_sample.streetName.apply(lambda r : get_lg_pref(r, [\"fr\", \"nl\", \"de\"])),\n",
    "                                    rep_sample.streetName.apply(lambda r : get_lg_pref(r, [\"nl\", \"fr\", \"de\"])))# )\n",
    "\n",
    "\n",
    "    rep_sample[\"city\"] = np.where(rep_sample.lg == \"FR\", \n",
    "                                  rep_sample.municipalityName.apply(lambda r : get_lg_pref(r, [\"fr\", \"nl\", \"de\"])),\n",
    "                                  rep_sample.municipalityName.apply(lambda r : get_lg_pref(r, [\"nl\", \"fr\", \"de\"])))\n",
    "\n"
   ]
  },
  {
   "cell_type": "code",
   "execution_count": null,
   "id": "59f6cd36",
   "metadata": {
    "ExecuteTime": {
     "end_time": "2023-05-26T14:20:45.574995Z",
     "start_time": "2023-05-26T14:20:45.563451Z"
    }
   },
   "outputs": [],
   "source": [
    "if \"rep\" in datasets:\n",
    "    rep_sample[[\"street\", \"housenumber\", \"postcode\", \"city\"]].to_csv(f\"{datadir}/rep_{sample_size}.csv.gz\", index=False)"
   ]
  },
  {
   "cell_type": "code",
   "execution_count": null,
   "id": "6e0a3dbf",
   "metadata": {
    "ExecuteTime": {
     "end_time": "2023-05-26T14:21:16.335759Z",
     "start_time": "2023-05-26T14:21:16.324383Z"
    }
   },
   "outputs": [],
   "source": []
  },
  {
   "cell_type": "markdown",
   "id": "629e0f67",
   "metadata": {},
   "source": [
    "# Resto"
   ]
  },
  {
   "cell_type": "code",
   "execution_count": null,
   "id": "68b0a80a",
   "metadata": {
    "ExecuteTime": {
     "end_time": "2023-05-26T13:19:54.724312Z",
     "start_time": "2023-05-26T13:19:54.675116Z"
    }
   },
   "outputs": [],
   "source": [
    "if \"resto\" in datasets:\n",
    "    resto_datadir = f\"{datadir}/full/resto\"\n",
    "\n",
    "    resto_full = pd.concat([pd.read_csv(f) for f in glob.glob(f\"{resto_datadir}/*.csv.gz\")])\n",
    "    resto_full"
   ]
  },
  {
   "cell_type": "code",
   "execution_count": null,
   "id": "79e49d3b",
   "metadata": {
    "ExecuteTime": {
     "end_time": "2023-05-26T13:20:13.330244Z",
     "start_time": "2023-05-26T13:20:13.315368Z"
    }
   },
   "outputs": [],
   "source": [
    "if \"resto\" in datasets:\n",
    "    resto_sample = resto_full.drop(\"name\", axis=1).drop_duplicates().sample(sample_size, random_state=seed)[[\"street\", \"housenumber\", \"postcode\", \"city\"]]\n",
    "                               \n",
    "    resto_sample.to_csv(f\"{datadir}/resto_{sample_size}.csv.gz\", index=False)"
   ]
  },
  {
   "cell_type": "code",
   "execution_count": 1,
   "id": "f58a9a99",
   "metadata": {
    "ExecuteTime": {
     "end_time": "2023-06-29T11:29:02.712984Z",
     "start_time": "2023-06-29T11:29:02.708400Z"
    }
   },
   "outputs": [],
   "source": [
    "# resto_sample"
   ]
  },
  {
   "cell_type": "markdown",
   "id": "f476c79f",
   "metadata": {},
   "source": [
    "# NGI "
   ]
  },
  {
   "cell_type": "code",
   "execution_count": 17,
   "id": "942a10d3",
   "metadata": {
    "ExecuteTime": {
     "end_time": "2023-06-29T11:35:45.568702Z",
     "start_time": "2023-06-29T11:35:45.175126Z"
    }
   },
   "outputs": [],
   "source": [
    "import geopandas as gpd"
   ]
  },
  {
   "cell_type": "code",
   "execution_count": 38,
   "id": "36c93f1d",
   "metadata": {
    "ExecuteTime": {
     "end_time": "2023-06-29T11:45:22.706182Z",
     "start_time": "2023-06-29T11:45:22.690697Z"
    }
   },
   "outputs": [],
   "source": [
    "ngi_full = pd.read_csv(f\"{datadir}/ign_geocoder.csv\", sep=';', encoding='latin1')"
   ]
  },
  {
   "cell_type": "code",
   "execution_count": 39,
   "id": "28192a0d",
   "metadata": {
    "ExecuteTime": {
     "end_time": "2023-06-29T11:45:23.040860Z",
     "start_time": "2023-06-29T11:45:23.033980Z"
    },
    "scrolled": true
   },
   "outputs": [],
   "source": [
    "#.input_request.nunique()\n",
    "ngi_full = ngi_full.drop_duplicates(subset=[\"input_request\", \"ouput_street(ref,cont_id,street,score)\", \"geometry\"])"
   ]
  },
  {
   "cell_type": "code",
   "execution_count": 67,
   "id": "5198c0c0",
   "metadata": {
    "ExecuteTime": {
     "end_time": "2023-06-29T12:40:44.378586Z",
     "start_time": "2023-06-29T12:40:44.265099Z"
    }
   },
   "outputs": [
    {
     "data": {
      "text/plain": [
       "0    POINT Z (4.33050 50.84260 0.00000)\n",
       "dtype: geometry"
      ]
     },
     "execution_count": 67,
     "metadata": {},
     "output_type": "execute_result"
    }
   ],
   "source": [
    "import shapely\n",
    "p = shapely.geometry.Point( 647305.1605065995, 670243.7006171012, 0)\n",
    "gpd.GeoSeries([p]).set_crs(\"epsg:3812\").to_crs(\"epsg:4326\")"
   ]
  },
  {
   "cell_type": "code",
   "execution_count": 68,
   "id": "017ad53b",
   "metadata": {
    "ExecuteTime": {
     "end_time": "2023-06-29T12:40:59.189091Z",
     "start_time": "2023-06-29T12:40:59.006996Z"
    }
   },
   "outputs": [],
   "source": [
    "ngi_full = gpd.GeoDataFrame(ngi_full)\n",
    "ngi_full[\"geom\"] = gpd.GeoSeries.from_wkt(ngi_full.geometry.fillna(\"\"), crs=\"epsg:3812\")\n",
    "ngi_full = ngi_full.set_geometry(\"geom\")\n",
    "ngi_full = ngi_full.to_crs(\"epsg:4326\")"
   ]
  },
  {
   "cell_type": "code",
   "execution_count": 69,
   "id": "8758149d",
   "metadata": {
    "ExecuteTime": {
     "end_time": "2023-06-29T12:41:02.612664Z",
     "start_time": "2023-06-29T12:41:02.594482Z"
    },
    "scrolled": true
   },
   "outputs": [
    {
     "data": {
      "text/html": [
       "<div>\n",
       "<style scoped>\n",
       "    .dataframe tbody tr th:only-of-type {\n",
       "        vertical-align: middle;\n",
       "    }\n",
       "\n",
       "    .dataframe tbody tr th {\n",
       "        vertical-align: top;\n",
       "    }\n",
       "\n",
       "    .dataframe thead th {\n",
       "        text-align: right;\n",
       "    }\n",
       "</style>\n",
       "<table border=\"1\" class=\"dataframe\">\n",
       "  <thead>\n",
       "    <tr style=\"text-align: right;\">\n",
       "      <th></th>\n",
       "      <th>input_request</th>\n",
       "      <th>ouput_city(ref,cont_id,city,score)</th>\n",
       "      <th>ouput_street(ref,cont_id,street,score)</th>\n",
       "      <th>search_time(sec)</th>\n",
       "      <th>geometry</th>\n",
       "      <th>geom</th>\n",
       "    </tr>\n",
       "  </thead>\n",
       "  <tbody>\n",
       "    <tr>\n",
       "      <th>1343</th>\n",
       "      <td>rue Ropsy Chaudron 7 1070 Anderlecht</td>\n",
       "      <td>NaN</td>\n",
       "      <td>[('BXLSTR---1370---2', 1, 'RUEROPSYCHAUDRON', ...</td>\n",
       "      <td>0.028455</td>\n",
       "      <td>POINT Z (647305.1605065995 670243.7006171012 0...</td>\n",
       "      <td>POINT Z (4.33050 50.84260 0.00000)</td>\n",
       "    </tr>\n",
       "    <tr>\n",
       "      <th>1348</th>\n",
       "      <td>rue Eloy 114 1070 Anderlecht</td>\n",
       "      <td>NaN</td>\n",
       "      <td>[('BXLSTR---2152---2', 1, 'RUEELOY', 1.0)]</td>\n",
       "      <td>0.040785</td>\n",
       "      <td>POINT Z (646894.220324351 669500.8136294986 0)</td>\n",
       "      <td>POINT Z (4.32467 50.83592 0.00000)</td>\n",
       "    </tr>\n",
       "    <tr>\n",
       "      <th>1352</th>\n",
       "      <td>rue Georges Moreau 107 1070 Anderlecht</td>\n",
       "      <td>NaN</td>\n",
       "      <td>[('BXLSTR---4578---2', 1, 'RUEGEORGESMOREAU', ...</td>\n",
       "      <td>0.030206</td>\n",
       "      <td>POINT Z (646857.098786811 669348.3704329199 0)</td>\n",
       "      <td>POINT Z (4.32414 50.83454 0.00000)</td>\n",
       "    </tr>\n",
       "    <tr>\n",
       "      <th>1354</th>\n",
       "      <td>rue de Douvres 80 1070 Anderlecht</td>\n",
       "      <td>NaN</td>\n",
       "      <td>[('BXLSTR---265---2', 1, 'RUEDEDOUVRES', 1.0)]</td>\n",
       "      <td>0.055286</td>\n",
       "      <td>POINT Z (646070.3675027142 669663.9241506008 0...</td>\n",
       "      <td>POINT Z (4.31297 50.83738 0.00000)</td>\n",
       "    </tr>\n",
       "    <tr>\n",
       "      <th>1360</th>\n",
       "      <td>rue Van Soust 78 1070 Anderlecht</td>\n",
       "      <td>NaN</td>\n",
       "      <td>[('BXLSTR---3772---2', 1, 'RUEVANSOUST', 1.0)]</td>\n",
       "      <td>0.023925</td>\n",
       "      <td>POINT Z (645894.6817438435 670731.1856306997 0)</td>\n",
       "      <td>POINT Z (4.31046 50.84697 0.00000)</td>\n",
       "    </tr>\n",
       "    <tr>\n",
       "      <th>...</th>\n",
       "      <td>...</td>\n",
       "      <td>...</td>\n",
       "      <td>...</td>\n",
       "      <td>...</td>\n",
       "      <td>...</td>\n",
       "      <td>...</td>\n",
       "    </tr>\n",
       "    <tr>\n",
       "      <th>2057</th>\n",
       "      <td>rue Jef Devos - Jef Devostraat 55 1190 Forest</td>\n",
       "      <td>NaN</td>\n",
       "      <td>[('BXLSTR---2582---2', 1, 'RUEJEFDEVOS', 0.55)]</td>\n",
       "      <td>0.051182</td>\n",
       "      <td>POINT Z (647190.9663381542 668012.0429690753 0...</td>\n",
       "      <td>POINT Z (4.32889 50.82253 0.00000)</td>\n",
       "    </tr>\n",
       "    <tr>\n",
       "      <th>2060</th>\n",
       "      <td>avenue Reine Marie Henriette - Koninging Maria...</td>\n",
       "      <td>NaN</td>\n",
       "      <td>[('BXLSTR---4793---2', 1, 'AVENUEREINEMARIEHEN...</td>\n",
       "      <td>0.018543</td>\n",
       "      <td>POINT Z (647529.4125021889 667929.1129648751 0...</td>\n",
       "      <td>POINT Z (4.33369 50.82179 0.00000)</td>\n",
       "    </tr>\n",
       "    <tr>\n",
       "      <th>2061</th>\n",
       "      <td>avenue Reine Marie Henriette - Koninging Maria...</td>\n",
       "      <td>NaN</td>\n",
       "      <td>[('BXLSTR---4793---2', 1, 'AVENUEREINEMARIEHEN...</td>\n",
       "      <td>0.019352</td>\n",
       "      <td>POINT Z (647529.4125021889 667929.1129648751 0...</td>\n",
       "      <td>POINT Z (4.33369 50.82179 0.00000)</td>\n",
       "    </tr>\n",
       "    <tr>\n",
       "      <th>2062</th>\n",
       "      <td>rue de Fierlant - de Fierlantstraat 35 1190 Fo...</td>\n",
       "      <td>NaN</td>\n",
       "      <td>[('BXLSTR---3966---2', 1, 'DEFIERLANTSTRAAT', ...</td>\n",
       "      <td>0.021289</td>\n",
       "      <td>POINT Z (647345.5062939598 668505.537412102 0)...</td>\n",
       "      <td>POINT Z (4.33108 50.82697 0.00000)</td>\n",
       "    </tr>\n",
       "    <tr>\n",
       "      <th>2068</th>\n",
       "      <td>rue des Primeurs - Vroege groentenstraat 20 11...</td>\n",
       "      <td>NaN</td>\n",
       "      <td>[('BXLSTR---3102---2', 1, 'VROEGEGROENTENSTRAA...</td>\n",
       "      <td>0.021233</td>\n",
       "      <td>POINT Z (646775.8085040794 667845.6038392436 0)</td>\n",
       "      <td>POINT Z (4.32300 50.82104 0.00000)</td>\n",
       "    </tr>\n",
       "  </tbody>\n",
       "</table>\n",
       "<p>260 rows × 6 columns</p>\n",
       "</div>"
      ],
      "text/plain": [
       "                                          input_request  \\\n",
       "1343               rue Ropsy Chaudron 7 1070 Anderlecht   \n",
       "1348                       rue Eloy 114 1070 Anderlecht   \n",
       "1352             rue Georges Moreau 107 1070 Anderlecht   \n",
       "1354                  rue de Douvres 80 1070 Anderlecht   \n",
       "1360                   rue Van Soust 78 1070 Anderlecht   \n",
       "...                                                 ...   \n",
       "2057      rue Jef Devos - Jef Devostraat 55 1190 Forest   \n",
       "2060  avenue Reine Marie Henriette - Koninging Maria...   \n",
       "2061  avenue Reine Marie Henriette - Koninging Maria...   \n",
       "2062  rue de Fierlant - de Fierlantstraat 35 1190 Fo...   \n",
       "2068  rue des Primeurs - Vroege groentenstraat 20 11...   \n",
       "\n",
       "      ouput_city(ref,cont_id,city,score)  \\\n",
       "1343                                 NaN   \n",
       "1348                                 NaN   \n",
       "1352                                 NaN   \n",
       "1354                                 NaN   \n",
       "1360                                 NaN   \n",
       "...                                  ...   \n",
       "2057                                 NaN   \n",
       "2060                                 NaN   \n",
       "2061                                 NaN   \n",
       "2062                                 NaN   \n",
       "2068                                 NaN   \n",
       "\n",
       "                 ouput_street(ref,cont_id,street,score)  search_time(sec)  \\\n",
       "1343  [('BXLSTR---1370---2', 1, 'RUEROPSYCHAUDRON', ...          0.028455   \n",
       "1348         [('BXLSTR---2152---2', 1, 'RUEELOY', 1.0)]          0.040785   \n",
       "1352  [('BXLSTR---4578---2', 1, 'RUEGEORGESMOREAU', ...          0.030206   \n",
       "1354     [('BXLSTR---265---2', 1, 'RUEDEDOUVRES', 1.0)]          0.055286   \n",
       "1360     [('BXLSTR---3772---2', 1, 'RUEVANSOUST', 1.0)]          0.023925   \n",
       "...                                                 ...               ...   \n",
       "2057    [('BXLSTR---2582---2', 1, 'RUEJEFDEVOS', 0.55)]          0.051182   \n",
       "2060  [('BXLSTR---4793---2', 1, 'AVENUEREINEMARIEHEN...          0.018543   \n",
       "2061  [('BXLSTR---4793---2', 1, 'AVENUEREINEMARIEHEN...          0.019352   \n",
       "2062  [('BXLSTR---3966---2', 1, 'DEFIERLANTSTRAAT', ...          0.021289   \n",
       "2068  [('BXLSTR---3102---2', 1, 'VROEGEGROENTENSTRAA...          0.021233   \n",
       "\n",
       "                                               geometry  \\\n",
       "1343  POINT Z (647305.1605065995 670243.7006171012 0...   \n",
       "1348    POINT Z (646894.220324351 669500.8136294986 0)    \n",
       "1352    POINT Z (646857.098786811 669348.3704329199 0)    \n",
       "1354  POINT Z (646070.3675027142 669663.9241506008 0...   \n",
       "1360   POINT Z (645894.6817438435 670731.1856306997 0)    \n",
       "...                                                 ...   \n",
       "2057  POINT Z (647190.9663381542 668012.0429690753 0...   \n",
       "2060  POINT Z (647529.4125021889 667929.1129648751 0...   \n",
       "2061  POINT Z (647529.4125021889 667929.1129648751 0...   \n",
       "2062  POINT Z (647345.5062939598 668505.537412102 0)...   \n",
       "2068   POINT Z (646775.8085040794 667845.6038392436 0)    \n",
       "\n",
       "                                    geom  \n",
       "1343  POINT Z (4.33050 50.84260 0.00000)  \n",
       "1348  POINT Z (4.32467 50.83592 0.00000)  \n",
       "1352  POINT Z (4.32414 50.83454 0.00000)  \n",
       "1354  POINT Z (4.31297 50.83738 0.00000)  \n",
       "1360  POINT Z (4.31046 50.84697 0.00000)  \n",
       "...                                  ...  \n",
       "2057  POINT Z (4.32889 50.82253 0.00000)  \n",
       "2060  POINT Z (4.33369 50.82179 0.00000)  \n",
       "2061  POINT Z (4.33369 50.82179 0.00000)  \n",
       "2062  POINT Z (4.33108 50.82697 0.00000)  \n",
       "2068  POINT Z (4.32300 50.82104 0.00000)  \n",
       "\n",
       "[260 rows x 6 columns]"
      ]
     },
     "execution_count": 69,
     "metadata": {},
     "output_type": "execute_result"
    }
   ],
   "source": [
    "ngi_full[ngi_full[\"ouput_street(ref,cont_id,street,score)\"].fillna(\"\").str.contains(\"BXL\")]#.plot()"
   ]
  },
  {
   "cell_type": "code",
   "execution_count": 42,
   "id": "8f47abf1",
   "metadata": {
    "ExecuteTime": {
     "end_time": "2023-06-29T11:45:32.062225Z",
     "start_time": "2023-06-29T11:45:32.057470Z"
    },
    "scrolled": true
   },
   "outputs": [
    {
     "data": {
      "text/plain": [
       "'POINT Z (652875.8414014473 712078.2757578157 0) POINT Z (652875.8414014473 712078.2757578157 0) POINT Z (652875.8414014473 712078.2757578157 0) '"
      ]
     },
     "execution_count": 42,
     "metadata": {},
     "output_type": "execute_result"
    }
   ],
   "source": [
    "ngi_full.loc[8].geometry"
   ]
  },
  {
   "cell_type": "code",
   "execution_count": 44,
   "id": "91384042",
   "metadata": {
    "ExecuteTime": {
     "end_time": "2023-06-29T11:45:52.551103Z",
     "start_time": "2023-06-29T11:45:52.547092Z"
    }
   },
   "outputs": [
    {
     "name": "stdout",
     "output_type": "stream",
     "text": [
      "POINT Z (652875.8414014473 712078.2757578157 0)\n"
     ]
    }
   ],
   "source": [
    "print(ngi_full.loc[8].geom)"
   ]
  },
  {
   "cell_type": "code",
   "execution_count": 35,
   "id": "33e4c609",
   "metadata": {
    "ExecuteTime": {
     "end_time": "2023-06-29T11:44:06.578781Z",
     "start_time": "2023-06-29T11:44:06.571682Z"
    }
   },
   "outputs": [
    {
     "data": {
      "text/html": [
       "<div>\n",
       "<style scoped>\n",
       "    .dataframe tbody tr th:only-of-type {\n",
       "        vertical-align: middle;\n",
       "    }\n",
       "\n",
       "    .dataframe tbody tr th {\n",
       "        vertical-align: top;\n",
       "    }\n",
       "\n",
       "    .dataframe thead th {\n",
       "        text-align: right;\n",
       "    }\n",
       "</style>\n",
       "<table border=\"1\" class=\"dataframe\">\n",
       "  <thead>\n",
       "    <tr style=\"text-align: right;\">\n",
       "      <th></th>\n",
       "      <th>input_request</th>\n",
       "      <th>ouput_city(ref,cont_id,city,score)</th>\n",
       "      <th>ouput_street(ref,cont_id,street,score)</th>\n",
       "      <th>search_time(sec)</th>\n",
       "      <th>geometry</th>\n",
       "    </tr>\n",
       "  </thead>\n",
       "  <tbody>\n",
       "  </tbody>\n",
       "</table>\n",
       "</div>"
      ],
      "text/plain": [
       "Empty GeoDataFrame\n",
       "Columns: [input_request, ouput_city(ref,cont_id,city,score), ouput_street(ref,cont_id,street,score), search_time(sec), geometry]\n",
       "Index: []"
      ]
     },
     "execution_count": 35,
     "metadata": {},
     "output_type": "execute_result"
    }
   ],
   "source": [
    "ngi_full[ngi_full[\"ouput_city(ref,cont_id,city,score)\"].notnull()]"
   ]
  },
  {
   "cell_type": "code",
   "execution_count": 28,
   "id": "0e736ca9",
   "metadata": {
    "ExecuteTime": {
     "end_time": "2023-06-29T11:41:17.387067Z",
     "start_time": "2023-06-29T11:41:17.382214Z"
    }
   },
   "outputs": [
    {
     "data": {
      "text/plain": [
       "\"[('VLDSTR---287---2015-05-28T18:40:37.400', 1, 'BEGIJNENVEST', 1.0)]\""
      ]
     },
     "execution_count": 28,
     "metadata": {},
     "output_type": "execute_result"
    }
   ],
   "source": [
    "ngi_full[\"ouput_street(ref,cont_id,street,score)\"].iloc[0]"
   ]
  },
  {
   "cell_type": "code",
   "execution_count": 71,
   "id": "fffe5a0f",
   "metadata": {
    "ExecuteTime": {
     "end_time": "2023-06-29T12:44:09.637976Z",
     "start_time": "2023-06-29T12:44:09.613572Z"
    }
   },
   "outputs": [],
   "source": [
    "from geopy.location import Location"
   ]
  },
  {
   "cell_type": "code",
   "execution_count": null,
   "id": "d27117f6",
   "metadata": {},
   "outputs": [],
   "source": [
    "ngi_full[\"locationLocation(placename, (latitude, longitude), feature)"
   ]
  },
  {
   "cell_type": "code",
   "execution_count": 81,
   "id": "b4d3962a",
   "metadata": {
    "ExecuteTime": {
     "end_time": "2023-06-29T12:46:31.571920Z",
     "start_time": "2023-06-29T12:46:31.446654Z"
    },
    "scrolled": true
   },
   "outputs": [],
   "source": [
    "ngi_full[\"location\"] = ngi_full.apply(lambda row: Location(row.input_request, (row.geom.y, row.geom.x) if row.geom else (0,0), row), axis=1)"
   ]
  },
  {
   "cell_type": "code",
   "execution_count": 83,
   "id": "a8cf6c82",
   "metadata": {
    "ExecuteTime": {
     "end_time": "2023-06-29T12:51:18.157214Z",
     "start_time": "2023-06-29T12:51:18.149147Z"
    }
   },
   "outputs": [
    {
     "data": {
      "text/plain": [
       "input_request                                                Begijnenvest 35 2000 Antwerpen\n",
       "ouput_city(ref,cont_id,city,score)                                                      NaN\n",
       "ouput_street(ref,cont_id,street,score)    [('VLDSTR---287---2015-05-28T18:40:37.400', 1,...\n",
       "search_time(sec)                                                                   0.060004\n",
       "geometry                                   POINT Z (652411.6826476178 711175.3977379295 0) \n",
       "geom                                         POINT Z (4.403343987223315 51.2105286322297 0)\n",
       "location                                  (Begijnenvest 35 2000 Antwerpen, (51.210528632...\n",
       "Name: 0, dtype: object"
      ]
     },
     "execution_count": 83,
     "metadata": {},
     "output_type": "execute_result"
    }
   ],
   "source": [
    "ngi_full.iloc[0]"
   ]
  }
 ],
 "metadata": {
  "kernelspec": {
   "display_name": "gis",
   "language": "python",
   "name": "gis"
  },
  "language_info": {
   "codemirror_mode": {
    "name": "ipython",
    "version": 3
   },
   "file_extension": ".py",
   "mimetype": "text/x-python",
   "name": "python",
   "nbconvert_exporter": "python",
   "pygments_lexer": "ipython3",
   "version": "3.8.16"
  },
  "toc": {
   "base_numbering": 1,
   "nav_menu": {},
   "number_sections": true,
   "sideBar": true,
   "skip_h1_title": false,
   "title_cell": "Table of Contents",
   "title_sidebar": "Contents",
   "toc_cell": false,
   "toc_position": {
    "height": "757px",
    "left": "553px",
    "top": "220.125px",
    "width": "208px"
   },
   "toc_section_display": true,
   "toc_window_display": true
  },
  "varInspector": {
   "cols": {
    "lenName": 16,
    "lenType": 16,
    "lenVar": 40
   },
   "kernels_config": {
    "python": {
     "delete_cmd_postfix": "",
     "delete_cmd_prefix": "del ",
     "library": "var_list.py",
     "varRefreshCmd": "print(var_dic_list())"
    },
    "r": {
     "delete_cmd_postfix": ") ",
     "delete_cmd_prefix": "rm(",
     "library": "var_list.r",
     "varRefreshCmd": "cat(var_dic_list()) "
    }
   },
   "types_to_exclude": [
    "module",
    "function",
    "builtin_function_or_method",
    "instance",
    "_Feature"
   ],
   "window_display": false
  }
 },
 "nbformat": 4,
 "nbformat_minor": 5
}
