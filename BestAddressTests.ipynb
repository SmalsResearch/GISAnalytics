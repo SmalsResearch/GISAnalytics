{
 "cells": [
  {
   "cell_type": "code",
   "execution_count": 1,
   "id": "bb36feb3-7a29-4b45-89a2-24112a0fae71",
   "metadata": {},
   "outputs": [],
   "source": [
    "from geopy_bestaddress import BestAddress\n",
    "# import urllib\n",
    "from urllib.parse import quote_plus"
   ]
  },
  {
   "cell_type": "code",
   "execution_count": 2,
   "id": "c1579a1a-3115-42b8-82f4-4e152a3eff10",
   "metadata": {},
   "outputs": [],
   "source": [
    "from credentials import (best_client_id, best_client_secret, \n",
    "    best_hostname, best_hostname_gw,\n",
    "    best_prefix, best_prefix_gw, belgov_trace_id)"
   ]
  },
  {
   "cell_type": "code",
   "execution_count": 5,
   "id": "60f2a54c-291f-4a9e-a06d-0fb22e6e3a88",
   "metadata": {},
   "outputs": [],
   "source": [
    "via_gateway=True\n",
    "if via_gateway:\n",
    "    ba = BestAddress(user_agent=\"smalsresearch\", scheme=\"https\", timeout=1000, \n",
    "                                       client_id=best_client_id, client_secret=best_client_secret,\n",
    "                                       domain=best_hostname_gw,\n",
    "                                       prefix=best_prefix_gw,\n",
    "                                       belgov_trace_id = belgov_trace_id,\n",
    "                                       verbose=False\n",
    "                                      )\n",
    "else:\n",
    "    ba = BestAddress(user_agent=\"smalsresearch\", scheme=\"https\", timeout=1000, \n",
    "                                       client_id=best_client_id, client_secret=best_client_secret,\n",
    "                                       domain=best_hostname,\n",
    "                                       prefix=best_prefix,\n",
    "                                       belgov_trace_id = belgov_trace_id,\n",
    "                                       verbose=False\n",
    "                                      )"
   ]
  },
  {
   "cell_type": "markdown",
   "id": "8c713358-d385-4b71-8fc2-a55dd7de8217",
   "metadata": {},
   "source": [
    "# Address geocoding"
   ]
  },
  {
   "cell_type": "code",
   "execution_count": 6,
   "id": "97af25ed-8b16-4531-bad2-70ec18e417fe",
   "metadata": {},
   "outputs": [
    {
     "data": {
      "text/plain": [
       "{'self': '/api/best/v1/belgianAddress/v2/addresses?houseNumber=20&postCode=1060&streetName=Avenue Fonsny&page=1',\n",
       " 'items': [{'id': 'https://databrussels.be/id/address/219307/4',\n",
       "   'bestidentifier': {'nameSpace': 'https://databrussels.be/id/address',\n",
       "    'objectIdentifier': '219307',\n",
       "    'versionIdentifier': '4'},\n",
       "   'hasStreetName': {'id': 'https://databrussels.be/id/streetname/4921/2',\n",
       "    'href': '/api/best/v1/belgianAddress/v2/streets/https%3a%2f%2fdatabrussels.be%2fid%2fstreetname%2f4921%2f2',\n",
       "    'name': {'nl': 'Fonsnylaan', 'fr': 'Avenue Fonsny'},\n",
       "    'streetNameType': 'streetname'},\n",
       "   'hasMunicipality': {'id': 'https://databrussels.be/id/municipality/21013/14',\n",
       "    'href': '/api/best/v1/belgianAddress/v2/municipalities/https%3a%2f%2fdatabrussels.be%2fid%2fmunicipality%2f21013%2f14',\n",
       "    'nisCode': '21013',\n",
       "    'name': {'nl': 'Sint-Gillis', 'fr': 'Saint-Gilles'}},\n",
       "   'hasPostalInfo': {'id': 'https://databrussels.be/id/postalinfo/1060/3',\n",
       "    'href': '/api/best/v1/belgianAddress/v2/postalInfos/https%3a%2f%2fdatabrussels.be%2fid%2fpostalinfo%2f1060%2f3',\n",
       "    'postCode': '1060',\n",
       "    'name': {'nl': 'Sint-Gillis', 'fr': 'Saint-Gilles'}},\n",
       "   'hasPartOfMunicipality': {},\n",
       "   'houseNumber': '20',\n",
       "   'status': 'current',\n",
       "   'validFrom': '2023-11-30T21:01:44',\n",
       "   'beginLifeSpanVersion': '2023-11-30T21:12:59',\n",
       "   'addressPosition': {'lambert72': {'x': 147864.499, 'y': 169489.514},\n",
       "    'lambert08': {'x': 647864.297, 'y': 669489.799},\n",
       "    'wgs84': {'lat': 50.835819627, 'long': 4.338436865},\n",
       "    'positionGeometryMethod': 'assignedByAdministrator',\n",
       "    'positionSpecification': 'stand'},\n",
       "   'isOfficiallyAssigned': True}],\n",
       " 'totalPages': 1,\n",
       " 'pageSize': 200,\n",
       " 'total': 1,\n",
       " 'first': '/api/best/v1/belgianAddress/v2/addresses?houseNumber=20&postCode=1060&streetName=Avenue Fonsny&page=1',\n",
       " 'last': '/api/best/v1/belgianAddress/v2/addresses?houseNumber=20&postCode=1060&streetName=Avenue Fonsny&page=1'}"
      ]
     },
     "execution_count": 6,
     "metadata": {},
     "output_type": "execute_result"
    }
   ],
   "source": [
    "res= ba.geocode({\"street\": \"Avenue Fonsny\", \n",
    "            \"housenumber\":20,\n",
    "            \"postcode\": 1060,\n",
    "            \"city\": \"Saint-Gilles\"}, exactly_one=False, return_raw=True)#.raw\n",
    "\n",
    "res"
   ]
  },
  {
   "cell_type": "code",
   "execution_count": 13,
   "id": "227be53e-cf2c-4989-bf43-16f5ba8e863f",
   "metadata": {},
   "outputs": [
    {
     "name": "stdout",
     "output_type": "stream",
     "text": [
      "{'ylat': 50.479627106, 'xlong': 4.708245725, 'crs': 'wgs84', 'radius': 10}\n",
      "[Location(Rue de Namur, 23, 5190 Jemeppe-sur-Sambre (Spy), (50.479627106, 4.708245725, 0.0))]\n",
      "\n",
      "\n",
      "{'streetId': 'geodata.wallonie.be/id/Streetname/7755816/2', 'houseNumber': 23}\n",
      "[Location(Rue de Namur, 23, 5190 Jemeppe-sur-Sambre (Spy), (50.479627106, 4.708245725, 0.0))]\n",
      "\n",
      "\n",
      "{'streetName': 'Rue de Namur', 'postCode': 5190, 'houseNumber': 23}\n",
      "[Location(Rue de Namur, 23, 5190 Jemeppe-sur-Sambre (Spy), (50.479627106, 4.708245725, 0.0))]\n",
      "\n",
      "\n",
      "{'streetName': 'Rue de Namur', 'municipalityName': 'Jemeppe-sur-Sambre', 'houseNumber': 23}\n",
      "[Location(Rue de Namur, 23, 5190 Jemeppe-sur-Sambre (Spy), (50.479627106, 4.708245725, 0.0))]\n",
      "\n",
      "\n",
      "{'streetName': 'Rue de Namur', 'postCode': 5190, 'houseNumber': 3, 'boxNumber': '000E'}\n",
      "[Location(Rue de Namur, 3, 5190 Jemeppe-sur-Sambre (Spy), (50.478884206, 4.702658058, 0.0))]\n",
      "\n",
      "\n",
      "{'streetName': 'Rue de Namur', 'postCode': 5190, 'houseNumber': 3}\n",
      "[Location(Rue de Namur, 3, 5190 Jemeppe-sur-Sambre (Spy), (50.478884206, 4.702658058, 0.0)), Location(Rue de Namur, 3, 5190 Jemeppe-sur-Sambre (Spy), (50.478884206, 4.702658058, 0.0))]\n",
      "\n",
      "\n",
      "{'streetName': 'Rue Valduc', 'postCode': 1160, 'houseNumber': 2}\n",
      "[Location(Rue Valduc, 2, 1160 Auderghem , (50.817848687, 4.420420455, 0.0)), Location(Rue Valduc, 2, 1160 Auderghem , (50.817848687, 4.420420455, 0.0)), Location(Rue Valduc, 2, 1160 Auderghem , (50.817848687, 4.420420455, 0.0))]\n",
      "\n",
      "\n",
      "{'streetName': 'Rue Albert Ier', 'postCode': 6150, 'houseNumber': 2}\n",
      "[Location(Rue Albert Ier, 2, 6150 Anderlues (Anderlues), (50.406531824, 4.270491796, 0.0))]\n",
      "\n",
      "\n",
      "{'streetName': 'Laar', 'postCode': 2630, 'houseNumber': 1}\n",
      "[Location(Laar, 1, 2630 Aartselaar , (51.133668904, 4.386875241, 0.0)), Location(Laar, 1, 2630 Aartselaar , (51.133668904, 4.386875241, 0.0)), Location(Laar, 1, 2630 Aartselaar , (51.133668904, 4.386875241, 0.0)), Location(Laar, 1, 2630 Aartselaar , (51.133668904, 4.386875241, 0.0)), Location(Laar, 1, 2630 Aartselaar , (51.133668904, 4.386875241, 0.0)), Location(Laar, 1, 2630 Aartselaar , (51.133668904, 4.386875241, 0.0)), Location(Laar, 1, 2630 Aartselaar , (51.133668904, 4.386875241, 0.0))]\n",
      "\n",
      "\n",
      "{'streetName': 'Rue Vandervelde', 'postCode': 6250, 'houseNumber': 1}\n",
      "[Location(Rue Vandervelde, 1, 6250 Aiseau-Presles (Roselies), (50.428288894, 4.574139582, 0.0))]\n",
      "\n",
      "\n",
      "{'streetName': 'Kasteelstraat', 'postCode': 1790, 'houseNumber': 1}\n",
      "[Location(Kasteelstraat, 1, 1790 Affligem , (50.907160266, 4.109381492, 0.0))]\n",
      "\n",
      "\n"
     ]
    }
   ],
   "source": [
    "for params in [\n",
    "    {'ylat': 50.479627106, 'xlong': 4.708245725, \"crs\":\"wgs84\",\"radius\": 10},\n",
    "    {\"streetId\": 'geodata.wallonie.be/id/Streetname/7755816/2', \"houseNumber\": 23},\n",
    "    {\"streetName\": 'Rue de Namur',  \"postCode\": 5190, \"houseNumber\": 23},\n",
    "    {\"streetName\": 'Rue de Namur',  \"municipalityName\": \"Jemeppe-sur-Sambre\", \"houseNumber\": 23},\n",
    "    \n",
    "    {\"streetName\": \"Rue de Namur\", \"postCode\": 5190, \"houseNumber\": 3, \"boxNumber\": \"000E\"},\n",
    "    {\"streetName\": \"Rue de Namur\", \"postCode\": 5190, \"houseNumber\": 3},\n",
    "    \n",
    "    {\"streetName\": \"Rue Valduc\", \"postCode\": 1160, \"houseNumber\": 2},\n",
    "    {\"streetName\": \"Rue Albert Ier\", \"postCode\": 6150, \"houseNumber\": 2},\n",
    "    {\"streetName\": \"Laar\", \"postCode\": 2630, \"houseNumber\": 1},\n",
    "    {\"streetName\": \"Rue Vandervelde\", \"postCode\": 6250, \"houseNumber\": 1},\n",
    "    {\"streetName\": \"Kasteelstraat\", \"postCode\": 1790, \"houseNumber\": 1}]:\n",
    "\n",
    "    print(params)\n",
    "    res = ba._call_api(ba.api_address, params, timeout=10, exactly_one=False)\n",
    "\n",
    "    print(res)\n",
    "    print(\"\\n\")\n"
   ]
  },
  {
   "cell_type": "markdown",
   "id": "5bee5d45-91ec-4ae8-906b-0c8a70e47b91",
   "metadata": {},
   "source": [
    "# City search"
   ]
  },
  {
   "cell_type": "code",
   "execution_count": 14,
   "id": "51580206-c1e8-4093-b2a9-55fef41cdb6c",
   "metadata": {},
   "outputs": [
    {
     "name": "stdout",
     "output_type": "stream",
     "text": [
      "{'postCode': '3200'}\n",
      "[{'id': 'https://data.vlaanderen.be/id/gemeente/24001/2002-08-13T17:32:32', 'bestidentifier': {'nameSpace': 'https://data.vlaanderen.be/id/gemeente/', 'objectIdentifier': '24001', 'versionIdentifier': '2002-08-13T17:32:32'}, 'nisCode': '24001', 'name': {'nl': 'Aarschot'}, 'status': 'current'}]\n",
      "\n",
      "\n",
      "{'name': 'Aarschot'}\n",
      "[{'id': 'https://data.vlaanderen.be/id/gemeente/24001/2002-08-13T17:32:32', 'bestidentifier': {'nameSpace': 'https://data.vlaanderen.be/id/gemeente/', 'objectIdentifier': '24001', 'versionIdentifier': '2002-08-13T17:32:32'}, 'nisCode': '24001', 'name': {'nl': 'Aarschot'}, 'status': 'current'}]\n",
      "\n",
      "\n",
      "{'nisCode': '24001'}\n",
      "[{'id': 'https://data.vlaanderen.be/id/gemeente/24001/2002-08-13T17:32:32', 'bestidentifier': {'nameSpace': 'https://data.vlaanderen.be/id/gemeente/', 'objectIdentifier': '24001', 'versionIdentifier': '2002-08-13T17:32:32'}, 'nisCode': '24001', 'name': {'nl': 'Aarschot'}, 'status': 'current'}]\n",
      "\n",
      "\n",
      "{'name': 'Gelrode'}\n",
      "[]\n",
      "\n",
      "\n"
     ]
    }
   ],
   "source": [
    "\n",
    "for params in [\n",
    "    {\"postCode\": \"3200\"},\n",
    "    {\"name\": \"Aarschot\"},\n",
    "    {\"nisCode\": \"24001\"},\n",
    "    {\"name\": \"Gelrode\"} # no result\n",
    "]:\n",
    "\n",
    "    print(params)\n",
    "    res = ba._call_api(ba.api_municipality, params, timeout=10, exactly_one=False,return_raw=True)\n",
    "\n",
    "    print(res[\"items\"])\n",
    "    print(\"\\n\")\n",
    "\n",
    "\n"
   ]
  },
  {
   "cell_type": "code",
   "execution_count": 15,
   "id": "8b3c4d27-11de-4062-ad52-188889a73570",
   "metadata": {},
   "outputs": [
    {
     "name": "stdout",
     "output_type": "stream",
     "text": [
      "{'postCode': '1050'}\n",
      "[{'id': 'https://databrussels.be/id/postalinfo/1050/3', 'bestidentifier': {'nameSpace': 'https://databrussels.be/id/postalinfo', 'objectIdentifier': '1050', 'versionIdentifier': '3'}, 'postCode': '1050', 'name': {'nl': 'Elsene + Brussel (Louiza-Roosevelt)', 'fr': 'Ixelles + Bruxelles (Louise-Roosevelt)'}}]\n",
      "\n",
      "\n",
      "{'postCode': '1340'}\n",
      "[{'id': 'geodata.wallonie.be/id/PostalInfo/1340/1', 'bestidentifier': {'nameSpace': 'geodata.wallonie.be/id/PostalInfo', 'objectIdentifier': '1340', 'versionIdentifier': '1'}, 'postCode': '1340', 'name': {}}]\n",
      "\n",
      "\n",
      "{'postCode': '3200'}\n",
      "[{'id': 'https://data.vlaanderen.be/id/postinfo/3200/2002-08-13T16:37:33', 'bestidentifier': {'nameSpace': 'https://data.vlaanderen.be/id/postinfo/', 'objectIdentifier': '3200', 'versionIdentifier': '2002-08-13T16:37:33'}, 'postCode': '3200', 'name': {'nl': 'AARSCHOT/Gelrode'}}]\n",
      "\n",
      "\n",
      "{'name': 'Auderghem'}\n",
      "[{'id': 'https://databrussels.be/id/postalinfo/1160/3', 'bestidentifier': {'nameSpace': 'https://databrussels.be/id/postalinfo', 'objectIdentifier': '1160', 'versionIdentifier': '3'}, 'postCode': '1160', 'name': {'nl': 'Oudergem', 'fr': 'Auderghem'}}]\n",
      "\n",
      "\n",
      "{'name': 'Ottignies'}\n",
      "[]\n",
      "\n",
      "\n",
      "{'name': 'Gelrode'}\n",
      "[]\n",
      "\n",
      "\n",
      "{'name': 'AARSCHOT/Gelrode'}\n",
      "[{'id': 'https://data.vlaanderen.be/id/postinfo/3200/2002-08-13T16:37:33', 'bestidentifier': {'nameSpace': 'https://data.vlaanderen.be/id/postinfo/', 'objectIdentifier': '3200', 'versionIdentifier': '2002-08-13T16:37:33'}, 'postCode': '3200', 'name': {'nl': 'AARSCHOT/Gelrode'}}]\n",
      "\n",
      "\n"
     ]
    }
   ],
   "source": [
    "for params in [\n",
    "    {\"postCode\": \"1050\"},\n",
    "    {\"postCode\": \"1340\"},\n",
    "    {\"postCode\": \"3200\"},\n",
    "    {\"name\": \"Auderghem\"},\n",
    "    {\"name\": \"Ottignies\"}, # no result\n",
    "    {\"name\": \"Gelrode\"}, # no result\n",
    "    {\"name\": \"AARSCHOT/Gelrode\"} \n",
    "]:\n",
    "\n",
    "    print(params)\n",
    "    res = ba._call_api(ba.api_postalinfo, params, timeout=10, exactly_one=False,return_raw=True)\n",
    "\n",
    "    print(res[\"items\"])\n",
    "    print(\"\\n\")\n",
    "\n",
    "\n",
    "\n"
   ]
  },
  {
   "cell_type": "markdown",
   "id": "c1e895c0-d8ec-4449-901d-4096ddd7a217",
   "metadata": {},
   "source": [
    "# Search by ID"
   ]
  },
  {
   "cell_type": "code",
   "execution_count": 7,
   "id": "f52bb21d-0724-4f22-a6c5-7c89b20d9cf8",
   "metadata": {},
   "outputs": [
    {
     "data": {
      "text/plain": [
       "{'self': '/api/best/v1/belgianAddress/v2/addresses/https%3A%2F%2Fdatabrussels.be%2Fid%2Faddress%2F219307%2F4',\n",
       " 'id': 'https://databrussels.be/id/address/219307/4',\n",
       " 'bestidentifier': {'nameSpace': 'https://databrussels.be/id/address',\n",
       "  'objectIdentifier': '219307',\n",
       "  'versionIdentifier': '4'},\n",
       " 'hasStreetName': {'id': 'https://databrussels.be/id/streetname/4921/2',\n",
       "  'href': '/api/best/v1/belgianAddress/v2/streets/https%3a%2f%2fdatabrussels.be%2fid%2fstreetname%2f4921%2f2',\n",
       "  'name': {'nl': 'Fonsnylaan', 'fr': 'Avenue Fonsny'},\n",
       "  'streetNameType': 'streetname'},\n",
       " 'hasMunicipality': {'id': 'https://databrussels.be/id/municipality/21013/14',\n",
       "  'href': '/api/best/v1/belgianAddress/v2/municipalities/https%3a%2f%2fdatabrussels.be%2fid%2fmunicipality%2f21013%2f14',\n",
       "  'nisCode': '21013',\n",
       "  'name': {'nl': 'Sint-Gillis', 'fr': 'Saint-Gilles'}},\n",
       " 'hasPostalInfo': {'id': 'https://databrussels.be/id/postalinfo/1060/3',\n",
       "  'href': '/api/best/v1/belgianAddress/v2/postalInfos/https%3a%2f%2fdatabrussels.be%2fid%2fpostalinfo%2f1060%2f3',\n",
       "  'postCode': '1060',\n",
       "  'name': {'nl': 'Sint-Gillis', 'fr': 'Saint-Gilles'}},\n",
       " 'hasPartOfMunicipality': {},\n",
       " 'houseNumber': '20',\n",
       " 'status': 'current',\n",
       " 'validFrom': '2023-11-30T21:01:44',\n",
       " 'beginLifeSpanVersion': '2023-11-30T21:12:59',\n",
       " 'addressPosition': {'lambert72': {'x': 147864.499, 'y': 169489.514},\n",
       "  'lambert08': {'x': 647864.297, 'y': 669489.799},\n",
       "  'wgs84': {'lat': 50.835819627, 'long': 4.338436865},\n",
       "  'positionGeometryMethod': 'assignedByAdministrator',\n",
       "  'positionSpecification': 'stand'},\n",
       " 'isOfficiallyAssigned': True}"
      ]
     },
     "execution_count": 7,
     "metadata": {},
     "output_type": "execute_result"
    }
   ],
   "source": [
    "res = ba.get_by_id(quote_plus('https://databrussels.be/id/address/219307/4'))\n",
    "res"
   ]
  },
  {
   "cell_type": "code",
   "execution_count": 20,
   "id": "82b342a2-3b6a-4ee2-b16d-bd46adecaad3",
   "metadata": {},
   "outputs": [
    {
     "name": "stdout",
     "output_type": "stream",
     "text": [
      "https://public.int.fedservices.be/api/best/v1/belgianAddress/v2/municipalities/geodata.wallonie.be%2Fid%2FMunicipality%2F92140%2F7\n",
      "https://public.int.fedservices.be/api/oauth2/token 99465654-63d6-4ff5-ac9e-bfe63528c5e2 SMALS.BEST---202ce36f-d5d5-44de-b290-fb12d7b9c98d\n",
      "{'access_token': 'Covo8L1w0LCIbd6qo2eqIriAhEIWBgBYSROP5HCQ0ZtgGIjmXDZRTj', 'token_type': 'Bearer', 'expires_in': 3600, 'scope': ['BOSA'], 'expires_at': 1720447349.9505806}\n"
     ]
    },
    {
     "data": {
      "text/plain": [
       "{'self': '/api/best/v1/belgianAddress/v2/municipalities/geodata.wallonie.be%2Fid%2FMunicipality%2F92140%2F7',\n",
       " 'id': 'geodata.wallonie.be/id/Municipality/92140/7',\n",
       " 'bestidentifier': {'nameSpace': 'geodata.wallonie.be/id/Municipality',\n",
       "  'objectIdentifier': '92140',\n",
       "  'versionIdentifier': '7'},\n",
       " 'nisCode': '92140',\n",
       " 'name': {'fr': 'Jemeppe-sur-Sambre'},\n",
       " 'status': 'current'}"
      ]
     },
     "execution_count": 20,
     "metadata": {},
     "output_type": "execute_result"
    }
   ],
   "source": [
    "# note : via GW, url need to be encoded via \"quote_plus\". This is not required with direct calls\n",
    "res = ba.get_by_id(quote_plus('geodata.wallonie.be/id/Municipality/92140/7'), \"municipality\")\n",
    "res"
   ]
  },
  {
   "cell_type": "code",
   "execution_count": 10,
   "id": "35af6569-2a80-4153-b5fa-5d4a7c1ad565",
   "metadata": {},
   "outputs": [
    {
     "data": {
      "text/plain": [
       "{'self': '/api/best/v1/belgianAddress/v2/streets/https%3A%2F%2Fdatabrussels.be%2Fid%2Fstreetname%2F4921%2F2',\n",
       " 'id': 'https://databrussels.be/id/streetname/4921/2',\n",
       " 'bestidentifier': {'nameSpace': 'https://databrussels.be/id/streetname',\n",
       "  'objectIdentifier': '4921',\n",
       "  'versionIdentifier': '2'},\n",
       " 'name': {'nl': 'Fonsnylaan', 'fr': 'Avenue Fonsny'},\n",
       " 'streetNameType': 'streetname',\n",
       " 'status': 'current',\n",
       " 'validFrom': '2000-01-01T00:00:00',\n",
       " 'beginLifeSpanVersion': '2021-04-28T14:59:54',\n",
       " 'isAssignedBy': {'id': 'https://databrussels.be/id/municipality/21013/14',\n",
       "  'href': '/api/best/v1/belgianAddress/v2/municipalities/https%3a%2f%2fdatabrussels.be%2fid%2fmunicipality%2f21013%2f14',\n",
       "  'nisCode': '21013',\n",
       "  'name': {'nl': 'Sint-Gillis', 'fr': 'Saint-Gilles'}}}"
      ]
     },
     "execution_count": 10,
     "metadata": {},
     "output_type": "execute_result"
    }
   ],
   "source": [
    "ba.get_by_id(quote_plus(\"https://databrussels.be/id/streetname/4921/2\"), \"street\")"
   ]
  },
  {
   "cell_type": "code",
   "execution_count": 11,
   "id": "589b3de9-9b4b-43bc-9a72-41a098659f2a",
   "metadata": {},
   "outputs": [
    {
     "data": {
      "text/plain": [
       "{'self': '/api/best/v1/belgianAddress/v2/municipalities/https%3A%2F%2Fdatabrussels.be%2Fid%2Fmunicipality%2F21013%2F14',\n",
       " 'id': 'https://databrussels.be/id/municipality/21013/14',\n",
       " 'bestidentifier': {'nameSpace': 'https://databrussels.be/id/municipality',\n",
       "  'objectIdentifier': '21013',\n",
       "  'versionIdentifier': '14'},\n",
       " 'nisCode': '21013',\n",
       " 'name': {'nl': 'Sint-Gillis', 'fr': 'Saint-Gilles'},\n",
       " 'status': 'current'}"
      ]
     },
     "execution_count": 11,
     "metadata": {},
     "output_type": "execute_result"
    }
   ],
   "source": [
    "ba.get_by_id(quote_plus(\"https://databrussels.be/id/municipality/21013/14\"), \"municipality\")"
   ]
  },
  {
   "cell_type": "code",
   "execution_count": 12,
   "id": "fa97ab64-09a0-4e4a-b4e6-078b5df937bb",
   "metadata": {},
   "outputs": [
    {
     "data": {
      "text/plain": [
       "{'self': '/api/best/v1/belgianAddress/v2/postalInfos/https%3A%2F%2Fdatabrussels.be%2Fid%2Fpostalinfo%2F1060%2F3',\n",
       " 'id': 'https://databrussels.be/id/postalinfo/1060/3',\n",
       " 'bestidentifier': {'nameSpace': 'https://databrussels.be/id/postalinfo',\n",
       "  'objectIdentifier': '1060',\n",
       "  'versionIdentifier': '3'},\n",
       " 'postCode': '1060',\n",
       " 'name': {'nl': 'Sint-Gillis', 'fr': 'Saint-Gilles'}}"
      ]
     },
     "execution_count": 12,
     "metadata": {},
     "output_type": "execute_result"
    }
   ],
   "source": [
    "ba.get_by_id(quote_plus(\"https://databrussels.be/id/postalinfo/1060/3\"), \"postalinfo\")"
   ]
  },
  {
   "cell_type": "code",
   "execution_count": null,
   "id": "86949e5d-1f6d-4376-8283-5d6632ef3b87",
   "metadata": {},
   "outputs": [],
   "source": []
  }
 ],
 "metadata": {
  "kernelspec": {
   "display_name": "gis",
   "language": "python",
   "name": "gis"
  },
  "language_info": {
   "codemirror_mode": {
    "name": "ipython",
    "version": 3
   },
   "file_extension": ".py",
   "mimetype": "text/x-python",
   "name": "python",
   "nbconvert_exporter": "python",
   "pygments_lexer": "ipython3",
   "version": "3.10.14"
  }
 },
 "nbformat": 4,
 "nbformat_minor": 5
}
