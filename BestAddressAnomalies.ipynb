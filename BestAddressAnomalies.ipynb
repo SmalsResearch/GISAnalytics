{
 "cells": [
  {
   "cell_type": "markdown",
   "id": "e0628181",
   "metadata": {},
   "source": [
    "See description in [BestAddressAnomalies.md](BestAddressAnomalies.md)"
   ]
  },
  {
   "cell_type": "markdown",
   "id": "e38e757c",
   "metadata": {},
   "source": [
    "# Main code"
   ]
  },
  {
   "cell_type": "code",
   "execution_count": null,
   "id": "0c09c72e",
   "metadata": {
    "ExecuteTime": {
     "end_time": "2024-05-03T17:14:54.849320Z",
     "start_time": "2024-05-03T17:14:53.139012Z"
    }
   },
   "outputs": [],
   "source": [
    "import os\n",
    "import urllib\n",
    "\n",
    "import geopandas as gpd\n",
    "import pandas as pd\n",
    "import numpy as np\n",
    "\n",
    "import pickle\n",
    "import contextily as ctx\n",
    "import matplotlib.pyplot as plt\n",
    "\n",
    "from matplotlib.backends.backend_pdf import PdfPages\n",
    "\n",
    "from tqdm import tqdm, trange\n",
    "tqdm.pandas()\n",
    "\n",
    "import re\n",
    "import jellyfish\n",
    "\n",
    "import difflib"
   ]
  },
  {
   "cell_type": "code",
   "execution_count": null,
   "id": "fdf9a5f6",
   "metadata": {
    "ExecuteTime": {
     "end_time": "2024-05-03T17:14:54.856549Z",
     "start_time": "2024-05-03T17:14:54.853081Z"
    }
   },
   "outputs": [],
   "source": [
    "import shapely\n",
    "\n",
    "from shapely.geometry import Point, LineString\n",
    "\n",
    "\n",
    "import warnings\n",
    "warnings.filterwarnings(\"ignore\", category=shapely.errors.ShapelyDeprecationWarning) "
   ]
  },
  {
   "cell_type": "markdown",
   "id": "44b302b0",
   "metadata": {},
   "source": [
    "## Functions"
   ]
  },
  {
   "cell_type": "code",
   "execution_count": null,
   "id": "f909e343",
   "metadata": {
    "ExecuteTime": {
     "end_time": "2024-05-03T17:14:54.972991Z",
     "start_time": "2024-05-03T17:14:54.859271Z"
    }
   },
   "outputs": [],
   "source": [
    "def download_if_nexist(url, filename):\n",
    "    \"\"\"\n",
    "    If the (local) file <filename> does not exists, download it from <url>\n",
    "\n",
    "    Parameters\n",
    "    ----------\n",
    "    url: str\n",
    "       url to fetch\n",
    "    filename: str\n",
    "       local file to save\n",
    "\n",
    "    Returns\n",
    "    -------\n",
    "\n",
    "    None\n",
    "    \"\"\"\n",
    "    if not os.path.isfile(filename):\n",
    "        #gcontext = ssl.SSLContext()\n",
    "        with urllib.request.urlopen(url) as response:\n",
    "            with open(filename, \"wb\") as f:\n",
    "                f.write(response.read())"
   ]
  },
  {
   "cell_type": "code",
   "execution_count": null,
   "id": "a834204c",
   "metadata": {
    "ExecuteTime": {
     "end_time": "2024-05-03T17:14:55.049860Z",
     "start_time": "2024-05-03T17:14:54.976196Z"
    }
   },
   "outputs": [],
   "source": [
    "def set_optimal_limits(ax, df):\n",
    "    \"\"\"\n",
    "    Adapt xlim/ylim to a GeoDataFrame point plot to avoid plot to be too wide when \n",
    "    points are horizontally aligned, and to narrow when points are vertically aligned\n",
    "\n",
    "    Usage : \n",
    "    \n",
    "    ax = df.plot()\n",
    "    set_optimal_limits(ax, df)\n",
    "    \n",
    "    Parameters\n",
    "    ----------\n",
    "    ax: AxesSubplot\n",
    "       plot to resize\n",
    "    df: GeoDataFrame\n",
    "       data to be plotted\n",
    "\n",
    "    Returns\n",
    "    -------\n",
    "        None\n",
    "    \"\"\"\n",
    "    \n",
    "    plot_ratio = 1.5 # optimal ratio between \"one horizontal degree\" and \"one vertical degree\". It depends of the CRS. \n",
    "                     # For \"polar\" CRS, it may also depend of the place on the globe\n",
    "\n",
    "    minimal_width=400\n",
    "   \n",
    "    margins = 1.1 # Avoid having dots on edges of the plot\n",
    "    \n",
    "\n",
    "    # Compute dimension of the data\n",
    "    xmin, ymin, xmax, ymax = df.total_bounds\n",
    "    height = (ymax - ymin) \n",
    "    width = (xmax - xmin)\n",
    "    \n",
    "    opt_height = max(height, width / plot_ratio, minimal_width / plot_ratio)\n",
    "    opt_width  = max(width , height*plot_ratio, minimal_width)\n",
    "    \n",
    "#     print(xmin, ymin, xmax, ymax)\n",
    "#     print(width, height, opt_width, opt_height)\n",
    "    # If plot is too narrow, increase xmin. If plot is too wide, increase ylim\n",
    "\n",
    "    if opt_height > height :\n",
    "        ymid = (ymax+ymin)/2\n",
    "        mid_height = opt_height * margins / 2\n",
    "        ax.set_ylim(ymid - mid_height, ymid + mid_height)\n",
    "    if opt_width > width:\n",
    "        xmid = (xmax+xmin)/2\n",
    "        mid_width = opt_width* margins/2\n",
    "        ax.set_xlim(xmid - mid_width, xmid + mid_width)"
   ]
  },
  {
   "cell_type": "code",
   "execution_count": null,
   "id": "058ead9d",
   "metadata": {
    "ExecuteTime": {
     "end_time": "2024-05-03T17:14:55.108191Z",
     "start_time": "2024-05-03T17:14:55.051849Z"
    }
   },
   "outputs": [],
   "source": [
    "def null_jaro(str1, str2):\n",
    "    if pd.isnull(str1) or pd.isnull(str2):\n",
    "        return pd.NA\n",
    "    \n",
    "    return jellyfish.jaro_winkler_similarity(str1, str2)"
   ]
  },
  {
   "cell_type": "code",
   "execution_count": null,
   "id": "65102c0d",
   "metadata": {
    "ExecuteTime": {
     "end_time": "2024-05-03T17:14:55.176648Z",
     "start_time": "2024-05-03T17:14:55.110490Z"
    }
   },
   "outputs": [],
   "source": [
    "\n",
    "def line_sinuosity(geom):\n",
    "    # Return the ratio between the distance of the geometry, and the straight distance between the start and the end of the geometry\n",
    "    assert geom.geom_type == \"LineString\", geom.geom_type\n",
    "    length = geom.length\n",
    "    start_pt = geom.interpolate(0)\n",
    "    end_pt = geom.interpolate(1, normalized=True)\n",
    "    straight_dist = start_pt.distance(end_pt)\n",
    "    if straight_dist == 0.0:\n",
    "        if length == 0.0:\n",
    "            return 0.0\n",
    "        return float(\"inf\")\n",
    "    return length / straight_dist"
   ]
  },
  {
   "cell_type": "code",
   "execution_count": null,
   "id": "5c709cde",
   "metadata": {
    "ExecuteTime": {
     "end_time": "2024-05-03T17:14:55.235931Z",
     "start_time": "2024-05-03T17:14:55.178844Z"
    }
   },
   "outputs": [],
   "source": [
    "def sliding_sinuosity(street_side, windows_size=5):\n",
    "    if street_side.geometry.nunique() <3:\n",
    "        return pd.NA\n",
    "    geometry = street_side.geometry\n",
    "    local_sinuosity = [line_sinuosity(LineString(geometry.iloc[i:i+windows_size].reset_index(drop=True))) for i in range(0, max(1, geometry.shape[0]-windows_size))]\n",
    "#     print(local_sinuosity)\n",
    "    \n",
    "    return np.mean(local_sinuosity)\n",
    "                                                                                                          \n",
    "                                      \n",
    "    \n",
    "    "
   ]
  },
  {
   "cell_type": "code",
   "execution_count": null,
   "id": "f3ede6c9",
   "metadata": {
    "ExecuteTime": {
     "end_time": "2024-05-03T17:14:55.346614Z",
     "start_time": "2024-05-03T17:14:55.238170Z"
    }
   },
   "outputs": [],
   "source": [
    "# region[region.streetname == \"Abbaye de la Cambre\"].geometry.iloc[5:10].reset_index(drop=True)"
   ]
  },
  {
   "cell_type": "code",
   "execution_count": null,
   "id": "bfe51156",
   "metadata": {
    "ExecuteTime": {
     "end_time": "2024-05-03T17:14:55.406195Z",
     "start_time": "2024-05-03T17:14:55.351098Z"
    }
   },
   "outputs": [],
   "source": [
    "# region[(region.house_number_num.mod(2)==parity)].groupby([\"streetname\", \"postcode\"]).geometry.progress_apply(sliding_sinuosity)\n"
   ]
  },
  {
   "cell_type": "code",
   "execution_count": null,
   "id": "743c52fe",
   "metadata": {
    "ExecuteTime": {
     "end_time": "2024-05-03T17:14:55.465683Z",
     "start_time": "2024-05-03T17:14:55.412837Z"
    }
   },
   "outputs": [],
   "source": [
    "def bloc_sinuosity(street_side):\n",
    "    if street_side.geometry.nunique() <3:\n",
    "        return pd.NA\n",
    "    street_side_linestring = LineString(street_side.reset_index().geometry)\n",
    "    \n",
    "    return line_sinuosity(street_side_linestring)"
   ]
  },
  {
   "cell_type": "code",
   "execution_count": null,
   "id": "7f9095ae",
   "metadata": {
    "ExecuteTime": {
     "end_time": "2024-05-03T17:14:55.523267Z",
     "start_time": "2024-05-03T17:14:55.469611Z"
    }
   },
   "outputs": [],
   "source": [
    "def bloc_length(street_side):\n",
    "    if street_side.geometry.nunique() <3:\n",
    "        return pd.NA\n",
    "    street_side_linestring = LineString(street_side.reset_index().geometry)\n",
    "    \n",
    "    return street_side_linestring.length"
   ]
  },
  {
   "cell_type": "code",
   "execution_count": null,
   "id": "6e85a196",
   "metadata": {
    "ExecuteTime": {
     "end_time": "2024-05-03T17:14:55.581463Z",
     "start_time": "2024-05-03T17:14:55.525893Z"
    }
   },
   "outputs": [],
   "source": [
    "# bloc_length(region[region.streetname == \"Abbaye de la Cambre\"])"
   ]
  },
  {
   "cell_type": "code",
   "execution_count": null,
   "id": "07c459aa",
   "metadata": {
    "ExecuteTime": {
     "end_time": "2024-05-03T17:14:55.641260Z",
     "start_time": "2024-05-03T17:14:55.583599Z"
    }
   },
   "outputs": [],
   "source": [
    "def get_max_delta_ratio(street_bloc):\n",
    "    if  street_bloc.house_number_num.max() - street_bloc.house_number_num.min() < 20:\n",
    "        return 0, \"-\"\n",
    "    \n",
    "    b1 = street_bloc.reset_index()[[\"house_number_num\", \"geometry\", \"index\"]].assign(mg=1)\n",
    "    b2 = street_bloc.reset_index()[[\"house_number_num\", \"geometry\", \"index\"]].assign(mg=1)\n",
    "    dot_prod = b1.merge(b2, on=\"mg\")\n",
    "    dot_prod = dot_prod[dot_prod.index_x < dot_prod.index_y]\n",
    "    \n",
    "    dot_prod[\"delta_num\"] = (dot_prod.house_number_num_x - dot_prod.house_number_num_y).abs()\n",
    "    \n",
    "    dot_prod = dot_prod[dot_prod[\"delta_num\"]>10]\n",
    "    \n",
    "    dot_prod[\"distance\"] = gpd.GeoSeries(dot_prod.geometry_x).distance(gpd.GeoSeries(dot_prod.geometry_y))\n",
    "    dot_prod[\"delta_ratio\"] = dot_prod.delta_num/dot_prod.distance\n",
    "    \n",
    "    dot_prod = dot_prod[dot_prod.delta_ratio<np.inf]\n",
    "    \n",
    "    if dot_prod.shape[0]==0:\n",
    "        return 0, \"-\"\n",
    "    \n",
    "    id_max = dot_prod.delta_ratio.idxmax()\n",
    "    \n",
    "    rec_max = dot_prod.loc[id_max]\n",
    "    return (rec_max.delta_ratio, f\"{rec_max.house_number_num_x} -> {rec_max.house_number_num_y}\") \n",
    "#     display(dot_prod.sort_values(\"delta_ratio\"))\n",
    "#     return  .delta_ratio.max()\n",
    "#     return f\"{dot_prod.loc[imax].delta_ratio} ({})\n"
   ]
  },
  {
   "cell_type": "code",
   "execution_count": null,
   "id": "3c5bd39c",
   "metadata": {
    "ExecuteTime": {
     "end_time": "2024-05-03T17:14:55.751189Z",
     "start_time": "2024-05-03T17:14:55.643437Z"
    }
   },
   "outputs": [],
   "source": [
    "def get_street_bloc(region, streetname, postcode, parity):\n",
    "    street_bloc=region[(region.streetname==streetname) & (region.postcode==postcode) & (region.house_number_num.mod(2)==parity) ].copy()\n",
    "    \n",
    "    street_bloc = street_bloc.sort_values([\"house_number_num\", \"house_number\"])\n",
    "\n",
    "    street_bloc = street_bloc.drop_duplicates([\"geometry\", \"house_number\"])\n",
    "    \n",
    "    return street_bloc"
   ]
  },
  {
   "cell_type": "code",
   "execution_count": null,
   "id": "3e652f42",
   "metadata": {
    "ExecuteTime": {
     "end_time": "2024-05-03T17:14:55.808154Z",
     "start_time": "2024-05-03T17:14:55.753750Z"
    }
   },
   "outputs": [],
   "source": [
    "def plot_street_bloc(street_bloc, title=None, ax=None):\n",
    "    \n",
    "    ax = street_bloc.plot(column=\"house_number_num\", figsize=(10,10),alpha=0.7, ax=ax, zorder=10)\n",
    "    \n",
    "    ax.plot(street_bloc.geometry.x.values, street_bloc.geometry.y.values, alpha=0.5)#, ax=ax)#, ax=ax, kind=\"line\")\n",
    "#     ax.title = title\n",
    "    ax.set_title(title)\n",
    "\n",
    "    for idx, row in street_bloc.iterrows():\n",
    "    #     print(row[\"housenumber\"])\n",
    "        an = ax.annotate(text=row[\"house_number\"], \n",
    "                         xy=(row[\"geometry\"].x, row[\"geometry\"].y), \n",
    "                         fontsize=\"x-small\",\n",
    "                         xytext=(5, 5), textcoords='offset pixels',)\n",
    "        \n",
    "#     ax = street_bloc.plot(column=\"house_number_num\", alpha=1, ax=ax)\n",
    "    set_optimal_limits(ax, street_bloc)\n",
    "\n",
    "    ctx.add_basemap(ax, source=ctx.providers.OpenStreetMap.Mapnik)\n"
   ]
  },
  {
   "cell_type": "code",
   "execution_count": null,
   "id": "9d192ed2",
   "metadata": {
    "ExecuteTime": {
     "end_time": "2024-05-03T17:14:55.876263Z",
     "start_time": "2024-05-03T17:14:55.810442Z"
    }
   },
   "outputs": [],
   "source": [
    "# def plot_street_bloc(street_bloc, title=None, ax=None):\n",
    "    \n",
    "# #     if ax:\n",
    "# #         ax=ax.plot(street_bloc.geometry.x.values, street_bloc.geometry.y.values, alpha=0.5)\n",
    "# #     else:\n",
    "# #         ax=plt.plot(street_bloc.geometry.x.values, street_bloc.geometry.y.values, alpha=0.5)[0]#, ax=ax, kind=\"line\")\n",
    "# #     print(ax)\n",
    "# #     ax.title = title\n",
    "#     ax = street_bloc.plot(street_bloc.geometry.x.values, street_bloc.geometry.y.values, alpha=0.5)\n",
    "\n",
    "#     for idx, row in street_bloc.iterrows():\n",
    "#     #     print(row[\"housenumber\"])\n",
    "#         an = ax.annotate(text=row[\"house_number\"], xy=(row[\"geometry\"].x, row[\"geometry\"].y), fontsize=\"x-small\")\n",
    "#         an.set_zorder(10)\n",
    "#     set_optimal_limits(ax, street_bloc)\n",
    "\n",
    "#     ax = street_bloc.plot(column=\"house_number_num\", alpha=0.5, ax=ax, figsize=(10,10))\n",
    "#     ax.set_title(title)\n",
    "\n",
    "#     ctx.add_basemap(ax, source=ctx.providers.OpenStreetMap.Mapnik)\n"
   ]
  },
  {
   "cell_type": "code",
   "execution_count": null,
   "id": "c60efab8",
   "metadata": {
    "ExecuteTime": {
     "end_time": "2024-05-03T17:14:55.936950Z",
     "start_time": "2024-05-03T17:14:55.878683Z"
    }
   },
   "outputs": [],
   "source": [
    "# plot_street_bloc(street_bloc, \"title\")"
   ]
  },
  {
   "cell_type": "code",
   "execution_count": null,
   "id": "1786d721",
   "metadata": {
    "ExecuteTime": {
     "end_time": "2024-05-03T17:14:55.996977Z",
     "start_time": "2024-05-03T17:14:55.939220Z"
    }
   },
   "outputs": [],
   "source": [
    "import plotly.graph_objects as go\n",
    "\n",
    "def plot_street_bloc_plotly(street_bloc):\n",
    "    street_bloc_osm = street_bloc.to_crs(osm_crs)\n",
    "\n",
    "\n",
    "    fig = go.Figure(go.Scattermapbox(\n",
    "        mode = \"markers+lines\",\n",
    "    #     width=950, height=800,\n",
    "        lat = street_bloc_osm.geometry.y,\n",
    "        lon = street_bloc_osm.geometry.x,\n",
    "\n",
    "    #     color= ,\n",
    "        marker=go.scattermapbox.Marker(\n",
    "                    #line=dict(width = 1),\n",
    "                    color = street_bloc_osm['house_number_num'],\n",
    "                    size = 10\n",
    "                ),\n",
    "\n",
    "            hovertext=street_bloc_osm[[\"house_number\", \"streetname\", \"postcode\", \"postname\", \"municipality\"]]\n",
    "        ))\n",
    "\n",
    "\n",
    "    fig.update_layout(\n",
    "    #    margin ={'l':0,'t':0,'b':0,'r':0},\n",
    "        mapbox = {\n",
    "            'center': {'lon': street_bloc_osm.geometry.x.median(), \n",
    "                       'lat': street_bloc_osm.geometry.y.median()},\n",
    "            'style': \"open-street-map\",\n",
    "\n",
    "    #         'center': {'lon': -20, 'lat': -20},\n",
    "             'zoom': 10,\n",
    "\n",
    "        },\n",
    "    width=950, height=800,\n",
    "    )\n",
    "\n",
    "\n",
    "    fig.show()\n",
    "    return fig\n",
    "    \n"
   ]
  },
  {
   "cell_type": "code",
   "execution_count": null,
   "id": "9499aa30",
   "metadata": {
    "ExecuteTime": {
     "end_time": "2024-05-03T17:14:56.056473Z",
     "start_time": "2024-05-03T17:14:55.999262Z"
    }
   },
   "outputs": [],
   "source": [
    "def make_table(street_bloc, title=None):\n",
    "    street_bloc = street_bloc.reset_index()\n",
    "    \n",
    "    street_bloc[\"dist_to_prev\"] = street_bloc.distance(street_bloc.shift(1)).fillna(0).astype(int)\n",
    "    \n",
    "    if street_bloc.shape[0]>20:\n",
    "        df1 = street_bloc[[\"house_number\", \"address_id\", \"geometry\", \"dist_to_prev\"]].head(10)\n",
    "        df2 = street_bloc[[\"house_number\", \"address_id\", \"geometry\", \"dist_to_prev\"]].tail(10)\n",
    "        df3=pd.DataFrame(columns=df1.columns, \n",
    "                         index=[\"...\"],\n",
    "                         data = [ [\"...\"]*df1.shape[1]])\n",
    "\n",
    "        df = pd.concat([df1, df3, df2])\n",
    "    else:\n",
    "        df = street_bloc[[\"house_number\",  \"address_id\", \"geometry\", \"dist_to_prev\"]].copy()\n",
    "    \n",
    "    df[\"address_id\"] = df[\"address_id\"].apply(\";\".join)\n",
    "    for fld in [\"address_id\"]:\n",
    "        df[fld]  = df[fld].str[0:30]\n",
    "\n",
    "    fig, ax = plt.subplots(figsize=(10,.3*df.shape[0]))\n",
    "    ax.axis('tight')\n",
    "    ax.axis('off')\n",
    "\n",
    "    the_table = ax.table(cellText=df.values,\n",
    "                            rowLabels=df.index,\n",
    "                            colLabels=df.columns,\n",
    "                            rowColours=['lightblue']*len(df),\n",
    "                            colColours=['lightblue']*len(df.columns),\n",
    "    #                         cellColours=alternating_colors,\n",
    "                            loc='center')\n",
    "    plt.title(title)\n",
    "    return fig\n"
   ]
  },
  {
   "cell_type": "code",
   "execution_count": null,
   "id": "f574aa3f",
   "metadata": {
    "ExecuteTime": {
     "end_time": "2024-05-03T17:14:56.124642Z",
     "start_time": "2024-05-03T17:14:56.058671Z"
    }
   },
   "outputs": [],
   "source": [
    "def make_metric_table(rec, metrics, ax=None):\n",
    "    metrics_table = pd.DataFrame({m: {\n",
    "        \"metric\": f\"{rec[m]:.2f}\",\n",
    "        \"house_number\": rec[f\"{m}_house_number\"] if f\"{m}_house_number\" in rec else \"\",\n",
    "        \"ranking\" : \"\" if pd.isnull(rec[f\"{m}_ranking\"]) else int(rec[f\"{m}_ranking\"]) ,\n",
    "    } for m in metrics})\n",
    "\n",
    "    if ax is None:\n",
    "        fig, ax = plt.subplots(figsize=(10,1))\n",
    "    ax.axis('tight')\n",
    "    ax.axis('off')\n",
    "\n",
    "    the_table = ax.table(cellText=metrics_table.values,\n",
    "                            rowLabels=metrics_table.index,\n",
    "                            colLabels=metrics_table.columns,\n",
    "                            rowColours=['lightblue']*len(metrics_table),\n",
    "                            colColours=['lightblue']*len(metrics_table.columns),\n",
    "    #                         cellColours=alternating_colors,\n",
    "                            loc='center')\n",
    "    #return fig"
   ]
  },
  {
   "cell_type": "code",
   "execution_count": null,
   "id": "af69d031",
   "metadata": {
    "ExecuteTime": {
     "end_time": "2024-05-03T17:14:56.192467Z",
     "start_time": "2024-05-03T17:14:56.126579Z"
    }
   },
   "outputs": [],
   "source": [
    "def plot_building_boxes(boxes, full_region, with_explore=False):\n",
    "    #rec=region_buildings.iloc[[k]]\n",
    "    r= boxes.reset_index().iloc[0]\n",
    "    #title = f\"{r.streetname}, {r.house_number}, {r.postcode} {r.municipality} ({int(r.ch_perimeter)} m, {int(r.ch_area/10000)} ha)\"\n",
    "    title = f\"{r.streetname}, {r.house_number}, {r.postcode}/{r.municipality_id} {r.municipality} ({int(r.mrr_length)} m x {int(r.mrr_width)} m)\"\n",
    "\n",
    "    if with_explore:\n",
    "        m=boxes.explore()\n",
    "        return boxes.set_geometry(\"min_rot_rect\").explore(m=m,  color=\"red\")\n",
    "    else:\n",
    "        ax = boxes.plot()\n",
    "        boxes.set_geometry(\"min_rot_rect\").plot(ax=ax, alpha=0.2, color=\"red\")\n",
    "        ax.set_title(title)\n",
    "\n",
    "        set_optimal_limits(ax, boxes)\n",
    "        ctx.add_basemap(ax, source=ctx.providers.OpenStreetMap.Mapnik)\n",
    "\n",
    "        all_boxes = boxes.reset_index()[boxes.index.names].merge(full_region)\n",
    "    #     display(all_boxes)\n",
    "        for idx, row in all_boxes.fillna(\"/\").iterrows():\n",
    "        #     print(row[\"housenumber\"])\n",
    "            ax.annotate(text=row[\"box_number\"], xy=(row[\"geometry\"].x, row[\"geometry\"].y))\n",
    "\n",
    "    "
   ]
  },
  {
   "cell_type": "code",
   "execution_count": null,
   "id": "3e3b95cf",
   "metadata": {
    "ExecuteTime": {
     "end_time": "2024-05-03T17:14:56.247161Z",
     "start_time": "2024-05-03T17:14:56.194430Z"
    }
   },
   "outputs": [],
   "source": [
    "def get_min_rot_rect_size(min_rot_rect):\n",
    "    if isinstance(min_rot_rect, Point):\n",
    "        return 0,0\n",
    "    \n",
    "    if isinstance(min_rot_rect, LineString):\n",
    "        return min_rot_rect.length, 0\n",
    "    x, y = min_rot_rect.exterior.coords.xy\n",
    "\n",
    "    # get length of bounding box edges\n",
    "    edge_length = (Point(x[0], y[0]).distance(Point(x[1], y[1])), Point(x[1], y[1]).distance(Point(x[2], y[2])))\n",
    "\n",
    "    # get length of polygon as the longest edge of the bounding box\n",
    "    length = max(edge_length)\n",
    "\n",
    "    # get width of polygon as the shortest edge of the bounding box\n",
    "    width = min(edge_length)\n",
    "\n",
    "    return length, width"
   ]
  },
  {
   "cell_type": "markdown",
   "id": "0b28f0e2",
   "metadata": {},
   "source": [
    "## Parameters"
   ]
  },
  {
   "cell_type": "code",
   "execution_count": null,
   "id": "6430ae12",
   "metadata": {
    "ExecuteTime": {
     "end_time": "2024-05-03T17:14:56.314785Z",
     "start_time": "2024-05-03T17:14:56.249412Z"
    }
   },
   "outputs": [],
   "source": [
    "root_output_dir = \"output/best_anomalies\"\n",
    "\n",
    "data_dir = \"data/best_anomalies\"\n",
    "\n",
    "topn = 50"
   ]
  },
  {
   "cell_type": "code",
   "execution_count": null,
   "id": "6c8e9345",
   "metadata": {
    "ExecuteTime": {
     "end_time": "2024-05-03T17:14:56.374749Z",
     "start_time": "2024-05-03T17:14:56.317102Z"
    }
   },
   "outputs": [],
   "source": [
    "# os.makedirs(output_dir, exist_ok=True)\n",
    "os.makedirs(data_dir, exist_ok=True)"
   ]
  },
  {
   "cell_type": "code",
   "execution_count": null,
   "id": "efa3c9f3",
   "metadata": {
    "ExecuteTime": {
     "end_time": "2024-05-03T17:14:56.471054Z",
     "start_time": "2024-05-03T17:14:56.376805Z"
    }
   },
   "outputs": [],
   "source": [
    "# datadir = \"data/geocoding/\""
   ]
  },
  {
   "cell_type": "code",
   "execution_count": null,
   "id": "fd35d035",
   "metadata": {
    "ExecuteTime": {
     "end_time": "2024-05-06T06:03:51.735376Z",
     "start_time": "2024-05-06T06:03:51.732547Z"
    }
   },
   "outputs": [],
   "source": [
    "region_name = \"bru\"\n",
    "# region_name = \"vlg\"\n",
    "# region_name = \"wal\""
   ]
  },
  {
   "cell_type": "code",
   "execution_count": null,
   "id": "ce26787b",
   "metadata": {
    "ExecuteTime": {
     "end_time": "2024-05-06T06:03:52.034353Z",
     "start_time": "2024-05-06T06:03:52.031669Z"
    }
   },
   "outputs": [],
   "source": [
    "municipality_id_prefix = None\n",
    "# municipality_id_prefix = \"25\"\n",
    "# municipality_id_prefix = \"25112\" # Wavre\n",
    "# municipality_id_prefix = \"93088\" # Walcourt"
   ]
  },
  {
   "cell_type": "code",
   "execution_count": null,
   "id": "2fecf5c8",
   "metadata": {
    "ExecuteTime": {
     "end_time": "2024-05-06T06:03:52.289395Z",
     "start_time": "2024-05-06T06:03:52.285943Z"
    }
   },
   "outputs": [],
   "source": [
    "if municipality_id_prefix is not None:\n",
    "    region_name = f\"{region_name}_{municipality_id_prefix}\""
   ]
  },
  {
   "cell_type": "code",
   "execution_count": null,
   "id": "3966b38c",
   "metadata": {
    "ExecuteTime": {
     "end_time": "2024-05-06T06:03:52.554902Z",
     "start_time": "2024-05-06T06:03:52.551989Z"
    }
   },
   "outputs": [],
   "source": [
    "output_dir = f\"{root_output_dir}/{region_name}\"\n",
    "os.makedirs(output_dir, exist_ok=True)"
   ]
  },
  {
   "cell_type": "markdown",
   "id": "c2bea091",
   "metadata": {},
   "source": [
    "## Data reading"
   ]
  },
  {
   "cell_type": "code",
   "execution_count": null,
   "id": "19a2a743",
   "metadata": {
    "ExecuteTime": {
     "end_time": "2024-05-06T06:02:57.967718Z",
     "start_time": "2024-05-06T06:02:57.964181Z"
    }
   },
   "outputs": [],
   "source": [
    "best_fn = f\"{data_dir}/openaddress-be{region_name}.zip\"\n",
    "download_if_nexist(f\"https://opendata.bosa.be/download/best/openaddress-be{region_name}.zip\", best_fn)\n"
   ]
  },
  {
   "cell_type": "code",
   "execution_count": null,
   "id": "a472bc39",
   "metadata": {
    "ExecuteTime": {
     "end_time": "2024-05-06T06:03:02.643375Z",
     "start_time": "2024-05-06T06:02:58.143599Z"
    },
    "scrolled": true
   },
   "outputs": [],
   "source": [
    "full_region = pd.read_csv(best_fn, usecols=[\"municipality_name_de\", \"municipality_name_fr\", \"municipality_name_nl\", \"municipality_id\",\n",
    "                                            \"streetname_de\", \"streetname_fr\", \"streetname_nl\", \"street_id\",\n",
    "                                            \"postname_fr\", \"postname_nl\",\n",
    "                                            \"postcode\", \"house_number\", \"box_number\", \"region_code\", \n",
    "                                            \"EPSG:31370_x\", \"EPSG:31370_y\", \n",
    "                                            \"EPSG:4326_lat\", \"EPSG:4326_lon\", \n",
    "                                            \"address_id\", \"status\"], dtype=str)\n",
    "full_region"
   ]
  },
  {
   "cell_type": "code",
   "execution_count": null,
   "id": "6288ce08",
   "metadata": {
    "ExecuteTime": {
     "end_time": "2024-05-06T06:03:02.648632Z",
     "start_time": "2024-05-06T06:03:02.645840Z"
    }
   },
   "outputs": [],
   "source": [
    "# full_region[full_region.streetname_fr==\"Rue François Michoel\"].iloc[0:60]"
   ]
  },
  {
   "cell_type": "code",
   "execution_count": null,
   "id": "85ec8a20",
   "metadata": {
    "ExecuteTime": {
     "end_time": "2024-05-03T17:15:09.121358Z",
     "start_time": "2024-05-03T17:15:09.061324Z"
    },
    "scrolled": true
   },
   "outputs": [],
   "source": [
    "if municipality_id_prefix is not None:\n",
    "    full_region = full_region[full_region.municipality_id.str.startswith(municipality_id_prefix)].copy()"
   ]
  },
  {
   "cell_type": "code",
   "execution_count": null,
   "id": "0b5a9334",
   "metadata": {
    "ExecuteTime": {
     "end_time": "2024-05-06T06:03:06.429599Z",
     "start_time": "2024-05-06T06:03:06.426246Z"
    }
   },
   "outputs": [],
   "source": []
  },
  {
   "cell_type": "code",
   "execution_count": null,
   "id": "d0b2fe3f",
   "metadata": {
    "ExecuteTime": {
     "end_time": "2024-05-03T17:15:09.248637Z",
     "start_time": "2024-05-03T17:15:09.191984Z"
    }
   },
   "outputs": [],
   "source": [
    "# region[(region.streetname_fr==\"Rue de Wérister\") & (region.house_number==\"7\")]"
   ]
  },
  {
   "cell_type": "code",
   "execution_count": null,
   "id": "dbf1bf00",
   "metadata": {
    "ExecuteTime": {
     "end_time": "2024-05-03T17:15:09.681744Z",
     "start_time": "2024-05-03T17:15:09.250817Z"
    }
   },
   "outputs": [],
   "source": [
    "print(\"Without coordinates : \")\n",
    "full_region[full_region[\"EPSG:31370_x\"]== \"0.00000\"].sort_values([\"postcode\", \"streetname_fr\"])#.iloc[0:60]"
   ]
  },
  {
   "cell_type": "code",
   "execution_count": null,
   "id": "a72d3e0a",
   "metadata": {
    "ExecuteTime": {
     "end_time": "2024-05-03T17:15:11.218345Z",
     "start_time": "2024-05-03T17:15:09.685768Z"
    }
   },
   "outputs": [],
   "source": [
    "full_region = full_region[full_region[\"EPSG:31370_x\"]!= \"0.00000\"].copy()"
   ]
  },
  {
   "cell_type": "code",
   "execution_count": null,
   "id": "ff1c6033",
   "metadata": {
    "ExecuteTime": {
     "end_time": "2024-05-03T17:15:11.329872Z",
     "start_time": "2024-05-03T17:15:11.221642Z"
    }
   },
   "outputs": [],
   "source": [
    "full_region.status.value_counts()#/ region.shape[0]"
   ]
  },
  {
   "cell_type": "code",
   "execution_count": null,
   "id": "c0a5e424",
   "metadata": {
    "ExecuteTime": {
     "end_time": "2024-05-03T17:15:12.104116Z",
     "start_time": "2024-05-03T17:15:11.332222Z"
    }
   },
   "outputs": [],
   "source": [
    "full_region = full_region[full_region.status==\"current\"]"
   ]
  },
  {
   "cell_type": "code",
   "execution_count": null,
   "id": "40c0bba6",
   "metadata": {
    "ExecuteTime": {
     "end_time": "2024-05-03T17:15:16.384470Z",
     "start_time": "2024-05-03T17:15:12.106600Z"
    }
   },
   "outputs": [],
   "source": [
    "full_region[\"streetname\"] =   full_region.streetname_fr.fillna(full_region.streetname_nl).fillna(full_region.streetname_de)\n",
    "full_region[\"municipality\"] = full_region.municipality_name_fr.fillna(full_region.municipality_name_nl).fillna(full_region.municipality_name_de)\n",
    "full_region[\"postname\"] =     full_region.postname_fr.fillna(full_region.postname_nl).fillna(\"[na]\")\n",
    "\n",
    "full_region[\"house_number_num\"]= full_region.house_number.str.extract(\"^([0-9]*)\").astype(int, errors=\"ignore\")\n"
   ]
  },
  {
   "cell_type": "code",
   "execution_count": null,
   "id": "fd4ee6d4",
   "metadata": {
    "ExecuteTime": {
     "end_time": "2024-05-03T17:15:16.399425Z",
     "start_time": "2024-05-03T17:15:16.386624Z"
    }
   },
   "outputs": [],
   "source": [
    "print(\"No numerical house number:\")\n",
    "print(full_region[full_region.house_number_num== \"\"].shape[0])\n",
    "full_region[full_region.house_number_num== \"\"]"
   ]
  },
  {
   "cell_type": "code",
   "execution_count": null,
   "id": "34347edb",
   "metadata": {
    "ExecuteTime": {
     "end_time": "2024-05-03T17:15:19.250165Z",
     "start_time": "2024-05-03T17:15:16.401283Z"
    }
   },
   "outputs": [],
   "source": [
    "full_region = full_region[full_region.house_number_num!= \"\"]\n",
    "full_region.house_number_num = full_region.house_number_num.astype(int)"
   ]
  },
  {
   "cell_type": "code",
   "execution_count": null,
   "id": "d206ea77",
   "metadata": {
    "ExecuteTime": {
     "end_time": "2024-05-03T17:15:19.255591Z",
     "start_time": "2024-05-03T17:15:19.253250Z"
    },
    "scrolled": true
   },
   "outputs": [],
   "source": [
    "# region"
   ]
  },
  {
   "cell_type": "code",
   "execution_count": null,
   "id": "da78e17b",
   "metadata": {
    "ExecuteTime": {
     "end_time": "2024-05-03T17:15:29.784874Z",
     "start_time": "2024-05-03T17:15:19.257745Z"
    }
   },
   "outputs": [],
   "source": [
    "crs = \"epsg:3857\"\n",
    "full_region[\"geometry\"] = gpd.points_from_xy(full_region[\"EPSG:31370_x\"], full_region[\"EPSG:31370_y\"])\n",
    "full_region = gpd.GeoDataFrame(full_region)\n",
    "full_region = full_region.set_crs(\"epsg:31370\").to_crs(crs)\n",
    "full_region = full_region.drop([\"EPSG:31370_x\", \"EPSG:31370_y\"], axis=1)"
   ]
  },
  {
   "cell_type": "code",
   "execution_count": null,
   "id": "dc643593",
   "metadata": {
    "ExecuteTime": {
     "end_time": "2024-05-03T17:16:42.305232Z",
     "start_time": "2024-05-03T17:15:29.788172Z"
    }
   },
   "outputs": [],
   "source": [
    "#Workaround as geometries are not \"groupbyable\"(/hashable)\n",
    "full_region_wkb = full_region.assign(geometry_wkb= full_region.geometry.apply(lambda geom: geom.wkb))\n",
    "                                     \n",
    "region = full_region_wkb.fillna(\"[na]\").groupby([\"streetname\", \"house_number\", \"house_number_num\", \"postcode\", \"postname\", \"municipality\", \"municipality_id\", \"geometry_wkb\"]).address_id.progress_apply(list).reset_index()\n",
    "region = region.merge(full_region_wkb[[\"geometry_wkb\", \"geometry\"]].drop_duplicates()).drop(\"geometry_wkb\", axis=1)\n",
    "\n",
    "region= gpd.GeoDataFrame(region)\n",
    "del full_region_wkb"
   ]
  },
  {
   "cell_type": "code",
   "execution_count": null,
   "id": "5d422bfe",
   "metadata": {
    "ExecuteTime": {
     "end_time": "2024-05-03T17:16:43.321912Z",
     "start_time": "2024-05-03T17:16:42.307716Z"
    }
   },
   "outputs": [],
   "source": [
    "region = region.sort_values([\"postcode\", \"streetname\", \"house_number_num\"])"
   ]
  },
  {
   "cell_type": "code",
   "execution_count": null,
   "id": "baabc0de",
   "metadata": {
    "ExecuteTime": {
     "end_time": "2024-05-03T17:16:43.339821Z",
     "start_time": "2024-05-03T17:16:43.324023Z"
    },
    "scrolled": true
   },
   "outputs": [],
   "source": [
    "region"
   ]
  },
  {
   "cell_type": "markdown",
   "id": "d1832ce8",
   "metadata": {},
   "source": [
    "# Box anomalies"
   ]
  },
  {
   "cell_type": "code",
   "execution_count": null,
   "id": "de2d3f6e",
   "metadata": {
    "ExecuteTime": {
     "end_time": "2024-05-03T17:16:43.771295Z",
     "start_time": "2024-05-03T17:16:43.341963Z"
    }
   },
   "outputs": [],
   "source": [
    "# Several names for the same street id\n",
    "x = full_region[[\"street_id\", \"streetname\"]].drop_duplicates()\n",
    "x[x.street_id.duplicated()]"
   ]
  },
  {
   "cell_type": "code",
   "execution_count": null,
   "id": "9f422a59",
   "metadata": {
    "ExecuteTime": {
     "end_time": "2024-05-03T17:16:44.766871Z",
     "start_time": "2024-05-03T17:16:43.773862Z"
    },
    "scrolled": true
   },
   "outputs": [],
   "source": [
    "# Street_ids in multiple municipalities\n",
    "x = full_region[[\"street_id\", \"municipality_id\"]].drop_duplicates()\n",
    "x[x.street_id.duplicated(keep=False)].sort_values(\"street_id\").merge(full_region[[\"street_id\", \"municipality_id\", \"streetname\", \"municipality\"]].drop_duplicates())"
   ]
  },
  {
   "cell_type": "code",
   "execution_count": null,
   "id": "4c045be8",
   "metadata": {
    "ExecuteTime": {
     "end_time": "2024-05-03T17:16:45.372213Z",
     "start_time": "2024-05-03T17:16:44.769304Z"
    }
   },
   "outputs": [],
   "source": [
    "# Several ids for the same street\n",
    "x = full_region[[\"street_id\", \"municipality_id\", \"streetname\", \"postcode\"]].drop_duplicates()\n",
    "x[x.duplicated(subset=[\"streetname\", \"municipality_id\", \"postcode\"], keep=False)].sort_values(\"streetname\")"
   ]
  },
  {
   "cell_type": "code",
   "execution_count": null,
   "id": "76b97b40",
   "metadata": {
    "ExecuteTime": {
     "end_time": "2024-05-03T17:16:45.868322Z",
     "start_time": "2024-05-03T17:16:45.374423Z"
    }
   },
   "outputs": [],
   "source": [
    "# Several streets with the same name (and difference street ids) with the same municipality\n",
    "x = full_region[[\"street_id\", \"municipality_id\", \"streetname\"]].drop_duplicates()\n",
    "x[x.duplicated(subset=[\"streetname\", \"municipality_id\"], keep=False)].sort_values(\"streetname\")"
   ]
  },
  {
   "cell_type": "code",
   "execution_count": null,
   "id": "4f713c03",
   "metadata": {
    "ExecuteTime": {
     "end_time": "2024-05-03T17:16:45.873454Z",
     "start_time": "2024-05-03T17:16:45.870865Z"
    }
   },
   "outputs": [],
   "source": [
    "# full_region."
   ]
  },
  {
   "cell_type": "code",
   "execution_count": null,
   "id": "1e47333d",
   "metadata": {
    "ExecuteTime": {
     "end_time": "2024-05-03T17:16:53.938332Z",
     "start_time": "2024-05-03T17:16:45.875717Z"
    },
    "scrolled": true
   },
   "outputs": [],
   "source": [
    "# Several postcodes for the same building\n",
    "x = full_region[[\"street_id\", \"municipality_id\", \"house_number\", \"postcode\"]].drop_duplicates()\n",
    "x[x.duplicated(subset = [\"street_id\", \"municipality_id\", \"house_number\"], keep=False)].sort_values(\"street_id\").merge(full_region[[\"street_id\", \"municipality_id\",\"postcode\", \"streetname\", \"municipality\", \"house_number\", \"box_number\", \"address_id\", \"geometry\"]].drop_duplicates())"
   ]
  },
  {
   "cell_type": "code",
   "execution_count": null,
   "id": "7ae8c513",
   "metadata": {
    "ExecuteTime": {
     "end_time": "2024-05-03T17:16:54.796000Z",
     "start_time": "2024-05-03T17:16:53.940330Z"
    },
    "scrolled": true
   },
   "outputs": [],
   "source": [
    "region_with_boxes = full_region[full_region.duplicated(subset=[\"municipality_id\",  \"street_id\", \"house_number\"], keep=False)]"
   ]
  },
  {
   "cell_type": "code",
   "execution_count": null,
   "id": "d8b2c005",
   "metadata": {
    "ExecuteTime": {
     "end_time": "2024-05-03T17:16:55.531525Z",
     "start_time": "2024-05-03T17:16:54.798443Z"
    },
    "scrolled": true
   },
   "outputs": [],
   "source": [
    "region_with_boxes"
   ]
  },
  {
   "cell_type": "code",
   "execution_count": null,
   "id": "f199fa04",
   "metadata": {
    "ExecuteTime": {
     "end_time": "2024-05-03T17:17:04.066017Z",
     "start_time": "2024-05-03T17:16:55.533789Z"
    }
   },
   "outputs": [],
   "source": [
    "region_buildings = region_with_boxes[[\"street_id\", \"streetname\", \"municipality_id\",\"municipality\", \"postcode\", \"house_number\", \"geometry\"]].dissolve([\"street_id\", \"municipality_id\", \"postcode\", \"house_number\"])\n",
    "region_buildings"
   ]
  },
  {
   "cell_type": "code",
   "execution_count": null,
   "id": "51bd39c7",
   "metadata": {
    "ExecuteTime": {
     "end_time": "2024-05-03T17:17:04.119619Z",
     "start_time": "2024-05-03T17:17:04.068136Z"
    },
    "scrolled": true
   },
   "outputs": [],
   "source": [
    "region_buildings[\"convex_hull\"] = region_buildings.convex_hull\n",
    "region_buildings"
   ]
  },
  {
   "cell_type": "code",
   "execution_count": null,
   "id": "c3ad25ac",
   "metadata": {
    "ExecuteTime": {
     "end_time": "2024-05-03T17:17:05.017039Z",
     "start_time": "2024-05-03T17:17:04.121872Z"
    }
   },
   "outputs": [],
   "source": [
    "region_buildings[\"min_rot_rect\"] = region_buildings.convex_hull.apply(lambda g: g.minimum_rotated_rectangle)\n",
    "region_buildings"
   ]
  },
  {
   "cell_type": "code",
   "execution_count": null,
   "id": "f836d7a9",
   "metadata": {
    "ExecuteTime": {
     "end_time": "2024-05-03T17:17:05.164278Z",
     "start_time": "2024-05-03T17:17:05.019092Z"
    },
    "scrolled": true
   },
   "outputs": [],
   "source": [
    "mrr_size = region_buildings.min_rot_rect.progress_apply(get_min_rot_rect_size)\n",
    "region_buildings[[\"mrr_length\", \"mrr_width\"]]=pd.concat([mrr_size.rename(\"mrr_length\").str[0], mrr_size.rename(\"mrr_width\").str[1]], axis=1)"
   ]
  },
  {
   "cell_type": "code",
   "execution_count": null,
   "id": "9e747cd6",
   "metadata": {
    "ExecuteTime": {
     "end_time": "2024-05-03T17:17:05.169537Z",
     "start_time": "2024-05-03T17:17:05.167097Z"
    }
   },
   "outputs": [],
   "source": [
    "# region_buildings[\"ch_perimeter\"] = region_buildings.convex_hull.length\n",
    "# region_buildings[\"ch_area\"] = region_buildings.convex_hull.area"
   ]
  },
  {
   "cell_type": "code",
   "execution_count": null,
   "id": "cb56ace9",
   "metadata": {
    "ExecuteTime": {
     "end_time": "2024-05-03T17:17:05.292931Z",
     "start_time": "2024-05-03T17:17:05.171840Z"
    },
    "scrolled": true
   },
   "outputs": [],
   "source": [
    "region_buildings = region_buildings.sort_values(\"mrr_length\", ascending=False)\n",
    "region_buildings"
   ]
  },
  {
   "cell_type": "code",
   "execution_count": null,
   "id": "5e39dba1",
   "metadata": {
    "ExecuteTime": {
     "end_time": "2024-05-03T17:17:05.298366Z",
     "start_time": "2024-05-03T17:17:05.295494Z"
    }
   },
   "outputs": [],
   "source": [
    "# region_buildings.iloc[25:35]"
   ]
  },
  {
   "cell_type": "code",
   "execution_count": null,
   "id": "49169686",
   "metadata": {
    "ExecuteTime": {
     "end_time": "2024-05-03T17:17:06.272983Z",
     "start_time": "2024-05-03T17:17:05.300867Z"
    }
   },
   "outputs": [],
   "source": [
    "k=0\n",
    "plot_building_boxes(region_buildings.iloc[[k]], full_region, with_explore=True)"
   ]
  },
  {
   "cell_type": "code",
   "execution_count": null,
   "id": "f44ba73d",
   "metadata": {
    "ExecuteTime": {
     "end_time": "2024-05-03T17:17:06.288118Z",
     "start_time": "2024-05-03T17:17:06.275799Z"
    }
   },
   "outputs": [],
   "source": [
    "pdf = PdfPages(f\"{output_dir}/best_anomalies_{region_name}_box_anomalies.pdf\")\n",
    "\n",
    "region_buildings_sel = region_buildings[(region_buildings.mrr_length > 100) & (region_buildings.mrr_width < 100)]\n",
    "for k in trange(0, min(2*topn, region_buildings_sel.shape[0])):\n",
    "    boxes= region_buildings_sel.iloc[[k]]\n",
    "    \n",
    "    plot_building_boxes(boxes, full_region)\n",
    "        \n",
    "    pdf.savefig(bbox_inches='tight')#, dpi=75)\n",
    "    plt.close()\n",
    "    \n",
    "pdf.close()"
   ]
  },
  {
   "cell_type": "code",
   "execution_count": null,
   "id": "f784af17",
   "metadata": {
    "ExecuteTime": {
     "end_time": "2024-05-03T17:17:06.370455Z",
     "start_time": "2024-05-03T17:17:06.290353Z"
    }
   },
   "outputs": [],
   "source": [
    "# region_buildings_sel\n"
   ]
  },
  {
   "cell_type": "code",
   "execution_count": null,
   "id": "0474d5c2",
   "metadata": {
    "ExecuteTime": {
     "end_time": "2024-05-03T17:17:06.649279Z",
     "start_time": "2024-05-03T17:17:06.372695Z"
    }
   },
   "outputs": [],
   "source": [
    "del full_region"
   ]
  },
  {
   "cell_type": "markdown",
   "id": "2eb1481f",
   "metadata": {
    "ExecuteTime": {
     "end_time": "2024-01-26T10:36:19.668370Z",
     "start_time": "2024-01-26T10:36:19.666120Z"
    }
   },
   "source": [
    "# Conflict with bPost"
   ]
  },
  {
   "cell_type": "code",
   "execution_count": null,
   "id": "dcdf6744",
   "metadata": {
    "ExecuteTime": {
     "end_time": "2024-05-03T17:17:06.828397Z",
     "start_time": "2024-05-03T17:17:06.652740Z"
    }
   },
   "outputs": [],
   "source": [
    "zipcode_boundaries_filename = \"data/zipcode_boundaries_shapefile_3812.zip\"\n",
    "download_if_nexist(\"https://bgu.bpost.be/assets/9738c7c0-5255-11ea-8895-34e12d0f0423_x-shapefile_3812.zip\",\n",
    "                  zipcode_boundaries_filename)"
   ]
  },
  {
   "cell_type": "code",
   "execution_count": null,
   "id": "b4c15733",
   "metadata": {
    "ExecuteTime": {
     "end_time": "2024-05-03T17:17:09.825763Z",
     "start_time": "2024-05-03T17:17:06.830721Z"
    }
   },
   "outputs": [],
   "source": [
    "zipcodes_boundaries = gpd.read_file(f\"zip://{zipcode_boundaries_filename}/3812\")\n",
    "zipcodes_boundaries[\"is_special\"] = zipcodes_boundaries.CP_speciau ==1\n",
    "zipcodes_boundaries = zipcodes_boundaries.rename({\"nouveau_PO\":\"zipcode\"}, axis=1)[[\"zipcode\", \"is_special\", \"geometry\"]]\n",
    "\n",
    "zipcodes_boundaries = zipcodes_boundaries.dissolve([\"zipcode\", \"is_special\"]).reset_index()\n",
    "\n",
    "zipcodes_boundaries = zipcodes_boundaries.to_crs(crs)\n",
    "zipcodes_boundaries"
   ]
  },
  {
   "cell_type": "code",
   "execution_count": null,
   "id": "90c6be26",
   "metadata": {
    "ExecuteTime": {
     "end_time": "2024-05-03T17:17:12.538828Z",
     "start_time": "2024-05-03T17:17:09.828324Z"
    }
   },
   "outputs": [],
   "source": [
    "zipcodes_boundaries[\"buffer\"] = zipcodes_boundaries.buffer(-50)"
   ]
  },
  {
   "cell_type": "code",
   "execution_count": null,
   "id": "75018f87",
   "metadata": {
    "ExecuteTime": {
     "end_time": "2024-05-03T17:18:16.448863Z",
     "start_time": "2024-05-03T17:17:12.541469Z"
    },
    "scrolled": true
   },
   "outputs": [],
   "source": [
    "region_zipcode = gpd.sjoin(region, zipcodes_boundaries.set_geometry(\"buffer\"))"
   ]
  },
  {
   "cell_type": "code",
   "execution_count": null,
   "id": "fe1a1b93",
   "metadata": {
    "ExecuteTime": {
     "end_time": "2024-01-26T15:47:22.251791Z",
     "start_time": "2024-01-26T15:47:15.200236Z"
    }
   },
   "outputs": [],
   "source": []
  },
  {
   "cell_type": "code",
   "execution_count": null,
   "id": "8c986a52",
   "metadata": {
    "ExecuteTime": {
     "end_time": "2024-05-03T17:18:16.459515Z",
     "start_time": "2024-05-03T17:18:16.452725Z"
    },
    "scrolled": true
   },
   "outputs": [],
   "source": [
    "region_zipcode.shape, region.shape"
   ]
  },
  {
   "cell_type": "code",
   "execution_count": null,
   "id": "c0faa92c",
   "metadata": {
    "ExecuteTime": {
     "end_time": "2024-05-03T17:18:16.696287Z",
     "start_time": "2024-05-03T17:18:16.462169Z"
    },
    "scrolled": true
   },
   "outputs": [],
   "source": [
    "zip_mismatches = region_zipcode[region_zipcode.postcode !=region_zipcode.zipcode]\n",
    "zip_mismatches"
   ]
  },
  {
   "cell_type": "code",
   "execution_count": null,
   "id": "8a195513",
   "metadata": {
    "ExecuteTime": {
     "end_time": "2024-05-03T17:18:19.340245Z",
     "start_time": "2024-05-03T17:18:16.699171Z"
    },
    "scrolled": true
   },
   "outputs": [],
   "source": [
    "zip_mismatches.drop([\"geometry_left\", \"geometry_right\", \"index_right\"], axis=1).to_excel(f\"{output_dir}/best_anomalies_{region_name}_zip_mismatches.xlsx\")"
   ]
  },
  {
   "cell_type": "code",
   "execution_count": null,
   "id": "26f1b6a1",
   "metadata": {
    "ExecuteTime": {
     "end_time": "2024-05-03T17:18:19.345222Z",
     "start_time": "2024-05-03T17:18:19.342877Z"
    }
   },
   "outputs": [],
   "source": [
    "# mismatches.set_geometry(\"geometry_left\").plot()"
   ]
  },
  {
   "cell_type": "code",
   "execution_count": null,
   "id": "bd7d10f9",
   "metadata": {
    "ExecuteTime": {
     "end_time": "2024-05-03T17:18:19.445649Z",
     "start_time": "2024-05-03T17:18:19.346985Z"
    },
    "scrolled": true
   },
   "outputs": [],
   "source": [
    "# mismatches.postcode.value_counts().iloc[0:60]"
   ]
  },
  {
   "cell_type": "code",
   "execution_count": null,
   "id": "ac275287",
   "metadata": {
    "ExecuteTime": {
     "end_time": "2024-05-03T17:18:19.506145Z",
     "start_time": "2024-05-03T17:18:19.447964Z"
    }
   },
   "outputs": [],
   "source": [
    "zip_mismatches.postcode.value_counts()"
   ]
  },
  {
   "cell_type": "code",
   "execution_count": null,
   "id": "bed6db69",
   "metadata": {
    "ExecuteTime": {
     "end_time": "2024-05-03T17:18:19.566306Z",
     "start_time": "2024-05-03T17:18:19.508361Z"
    },
    "scrolled": true
   },
   "outputs": [],
   "source": [
    "# zipcode=\"1010\"\n",
    "# # display(mismatches[mismatches.postcode==zipcode])\n",
    "# mism=zip_mismatches[zip_mismatches.postcode==zipcode].set_geometry(\"geometry_left\")\n",
    "# ax=mism.plot(\"zipcode\", figsize=(15,15),alpha=0.8, legend=True)\n",
    "# # ax=region[region.postcode==zipcode].plot(figsize=(15,15),alpha=0.8, color=\"green\")\n",
    "# # ax=mismatches[mismatches.postcode==zipcode].set_geometry(\"geometry_left\").plot(ax=ax, color=\"red\")\n",
    "\n",
    "# ax=zipcodes_boundaries[zipcodes_boundaries.zipcode==zipcode].boundary.plot(ax=ax, color=\"red\")\n",
    "# # set_optimal_limits(ax, zipcodes_boundaries[zipcodes_boundaries.zipcode==zipcode])\n",
    "# ctx.add_basemap(ax, source=ctx.providers.OpenStreetMap.Mapnik)\n",
    "# # ax=mismatches[mismatches.zipcode==\"1301\"].set_geometry(\"geometry_right\").plot()\n"
   ]
  },
  {
   "cell_type": "code",
   "execution_count": null,
   "id": "b329f8b6",
   "metadata": {
    "ExecuteTime": {
     "end_time": "2024-05-03T17:18:19.635388Z",
     "start_time": "2024-05-03T17:18:19.568269Z"
    }
   },
   "outputs": [],
   "source": [
    "# zipcodes_boundaries[zipcodes_boundaries.zipcode==zipcode]"
   ]
  },
  {
   "cell_type": "code",
   "execution_count": null,
   "id": "9f93e908",
   "metadata": {
    "ExecuteTime": {
     "end_time": "2024-05-03T17:22:31.310572Z",
     "start_time": "2024-05-03T17:18:19.638176Z"
    },
    "scrolled": true
   },
   "outputs": [],
   "source": [
    "pdf = PdfPages(f\"{output_dir}/best_anomalies_{region_name}_zip_mismatches.pdf\")\n",
    "\n",
    "for zipcode in tqdm(zip_mismatches.postcode.value_counts().index):\n",
    "    \n",
    "    mism=zip_mismatches[zip_mismatches.postcode==zipcode].set_geometry(\"geometry_left\")\n",
    "    nis = \";\".join(mism.municipality_id.unique()) \n",
    "    ax=mism.plot(\"zipcode\", figsize=(10,10),alpha=0.8, legend=True)\n",
    "    plt.title(f\"{zipcode} ({nis})\")\n",
    "    # ax=region[region.postcode==zipcode].plot(figsize=(15,15),alpha=0.8, color=\"green\")\n",
    "    # ax=mismatches[mismatches.postcode==zipcode].set_geometry(\"geometry_left\").plot(ax=ax, color=\"red\")\n",
    "    zip_bnd = zipcodes_boundaries[zipcodes_boundaries.zipcode==zipcode]\n",
    "    if zip_bnd.shape[0]>0:\n",
    "        ax=zip_bnd.boundary.plot(ax=ax, color=\"red\")\n",
    "    set_optimal_limits(ax, pd.concat([zip_bnd[[\"geometry\"]], mism[[\"geometry_left\"]].rename(columns={\"geometry_left\": \"geometry\"})]))\n",
    "    ctx.add_basemap(ax, source=ctx.providers.OpenStreetMap.Mapnik)\n",
    "\n",
    "    pdf.savefig(bbox_inches='tight')#, dpi=75)\n",
    "    plt.close()\n",
    "    \n",
    "pdf.close()"
   ]
  },
  {
   "cell_type": "markdown",
   "id": "1f2bde9f",
   "metadata": {
    "ExecuteTime": {
     "end_time": "2024-01-29T08:43:56.522878Z",
     "start_time": "2024-01-29T08:43:56.520597Z"
    }
   },
   "source": [
    "# Conflict with NIS code"
   ]
  },
  {
   "cell_type": "code",
   "execution_count": null,
   "id": "eee68241",
   "metadata": {
    "ExecuteTime": {
     "end_time": "2024-05-03T17:22:45.986630Z",
     "start_time": "2024-05-03T17:22:31.322695Z"
    }
   },
   "outputs": [],
   "source": [
    "download_if_nexist(\"https://statbel.fgov.be/sites/default/files/files/opendata/Statistische%20sectoren/sh_statbel_statistical_sectors_31370_20200101.shp.zip\",\n",
    "                   \"data/stat_sectors_2020.zip\")\n",
    "statistical_sectors = gpd.read_file(\"zip://data/stat_sectors_2020.zip/sh_statbel_statistical_sectors_20200101.shp\")\n",
    "statistical_sectors[\"CNIS5_2020\"] = statistical_sectors[\"CNIS5_2020\"].astype(str)"
   ]
  },
  {
   "cell_type": "code",
   "execution_count": null,
   "id": "001ca322",
   "metadata": {
    "ExecuteTime": {
     "end_time": "2024-05-03T17:22:56.346390Z",
     "start_time": "2024-05-03T17:22:45.993399Z"
    }
   },
   "outputs": [],
   "source": [
    "# Group (with \"dissolve\") sectors per NIS code\n",
    "nis_boundaries = statistical_sectors[[\"CNIS5_2020\", \"T_MUN_FR\", \"T_MUN_NL\", \"geometry\"]].dissolve(by=\"CNIS5_2020\").reset_index()\n",
    "nis_boundaries = nis_boundaries.rename({\"CNIS5_2020\": \"niscode\"}, axis=1)\n",
    "nis_boundaries = nis_boundaries.to_crs(crs)"
   ]
  },
  {
   "cell_type": "code",
   "execution_count": null,
   "id": "19be8275",
   "metadata": {
    "ExecuteTime": {
     "end_time": "2024-05-03T17:23:00.938829Z",
     "start_time": "2024-05-03T17:22:56.349974Z"
    }
   },
   "outputs": [],
   "source": [
    "nis_boundaries[\"buffer\"] = nis_boundaries.buffer(-50)"
   ]
  },
  {
   "cell_type": "code",
   "execution_count": null,
   "id": "a450399a",
   "metadata": {
    "ExecuteTime": {
     "end_time": "2024-05-03T17:24:35.452189Z",
     "start_time": "2024-05-03T17:23:00.941728Z"
    }
   },
   "outputs": [],
   "source": [
    "region_niscode = gpd.sjoin(region, nis_boundaries.set_geometry(\"buffer\"))"
   ]
  },
  {
   "cell_type": "code",
   "execution_count": null,
   "id": "710eba31",
   "metadata": {
    "ExecuteTime": {
     "end_time": "2024-05-03T17:24:35.475291Z",
     "start_time": "2024-05-03T17:24:35.471879Z"
    },
    "scrolled": true
   },
   "outputs": [],
   "source": [
    "# region_niscode[region_niscode.streetname==\"Place Albert Ier (MT)\"][[\"municipality_id\", \"niscode\"]].drop_duplicates()"
   ]
  },
  {
   "cell_type": "code",
   "execution_count": null,
   "id": "e781fdcd",
   "metadata": {
    "ExecuteTime": {
     "end_time": "2024-05-03T17:24:36.093597Z",
     "start_time": "2024-05-03T17:24:35.477680Z"
    }
   },
   "outputs": [],
   "source": [
    "nis_mismatches = region_niscode[region_niscode.municipality_id !=region_niscode.niscode]\n",
    "nis_mismatches"
   ]
  },
  {
   "cell_type": "code",
   "execution_count": null,
   "id": "5ac2ae70",
   "metadata": {
    "ExecuteTime": {
     "end_time": "2024-05-03T17:24:36.121813Z",
     "start_time": "2024-05-03T17:24:36.095869Z"
    }
   },
   "outputs": [],
   "source": [
    "nis_mismatches.drop([\"geometry_left\", \"geometry_right\", \"index_right\"], axis=1).to_excel(f\"{output_dir}/best_anomalies_{region_name}_nis_mismatches.xlsx\")"
   ]
  },
  {
   "cell_type": "code",
   "execution_count": null,
   "id": "79841495",
   "metadata": {
    "ExecuteTime": {
     "end_time": "2024-05-03T17:24:49.783399Z",
     "start_time": "2024-05-03T17:24:36.124114Z"
    }
   },
   "outputs": [],
   "source": [
    "pdf = PdfPages(f\"{output_dir}/best_anomalies_{region_name}_nis_mismatches.pdf\")\n",
    "\n",
    "for niscode in tqdm(nis_mismatches.municipality_id.value_counts().index):\n",
    "    \n",
    "    mism=nis_mismatches[nis_mismatches.municipality_id==niscode].set_geometry(\"geometry_left\")\n",
    "    \n",
    "    ax=mism.plot(\"niscode\", figsize=(10,10),alpha=0.8, legend=True)\n",
    "    plt.title(niscode)\n",
    "    # ax=region[region.postcode==zipcode].plot(figsize=(15,15),alpha=0.8, color=\"green\")\n",
    "    # ax=mismatches[mismatches.postcode==zipcode].set_geometry(\"geometry_left\").plot(ax=ax, color=\"red\")\n",
    "    nis_bnd = nis_boundaries[nis_boundaries.niscode==niscode]\n",
    "    if nis_bnd.shape[0]>0:\n",
    "        ax=nis_bnd.boundary.plot(ax=ax, color=\"red\")\n",
    "    set_optimal_limits(ax, pd.concat([nis_bnd[[\"geometry\"]], mism[[\"geometry_left\"]].rename(columns={\"geometry_left\": \"geometry\"})]))\n",
    "    ctx.add_basemap(ax, source=ctx.providers.OpenStreetMap.Mapnik)\n",
    "\n",
    "    pdf.savefig(bbox_inches='tight')#, dpi=75)\n",
    "    plt.close()\n",
    "    \n",
    "pdf.close()"
   ]
  },
  {
   "cell_type": "markdown",
   "id": "4f7b2e91",
   "metadata": {},
   "source": [
    "# Street names incoherence"
   ]
  },
  {
   "cell_type": "code",
   "execution_count": null,
   "id": "713a3e14",
   "metadata": {
    "ExecuteTime": {
     "end_time": "2024-05-03T17:24:49.788491Z",
     "start_time": "2024-05-03T17:24:49.785547Z"
    }
   },
   "outputs": [],
   "source": [
    "# region.groupby([\"streetname\", \"postcode\"]).dissolve()"
   ]
  },
  {
   "cell_type": "code",
   "execution_count": null,
   "id": "21df5030",
   "metadata": {
    "ExecuteTime": {
     "end_time": "2024-05-03T17:29:37.003249Z",
     "start_time": "2024-05-03T17:24:49.790402Z"
    }
   },
   "outputs": [],
   "source": [
    "region_streets = region[[\"streetname\", \"postcode\", \"geometry\", \"municipality_id\"]].dissolve([\"streetname\", \"postcode\"])\n",
    "region_streets[\"buffer\"] = region_streets.buffer(100)\n",
    "region_streets = region_streets.reset_index()\n",
    "region_streets"
   ]
  },
  {
   "cell_type": "code",
   "execution_count": null,
   "id": "7fb1979d",
   "metadata": {
    "ExecuteTime": {
     "end_time": "2024-05-03T17:29:43.412302Z",
     "start_time": "2024-05-03T17:29:37.008326Z"
    }
   },
   "outputs": [],
   "source": [
    "connected_streets = gpd.sjoin(region_streets, region_streets.set_geometry(\"buffer\"))\n",
    "connected_streets = connected_streets[connected_streets.streetname_left < connected_streets.streetname_right]"
   ]
  },
  {
   "cell_type": "code",
   "execution_count": null,
   "id": "790f3704",
   "metadata": {
    "ExecuteTime": {
     "end_time": "2024-05-03T17:29:43.441317Z",
     "start_time": "2024-05-03T17:29:43.415862Z"
    },
    "scrolled": true
   },
   "outputs": [],
   "source": [
    "connected_streets"
   ]
  },
  {
   "cell_type": "code",
   "execution_count": null,
   "id": "b4bec37c",
   "metadata": {
    "ExecuteTime": {
     "end_time": "2024-05-03T17:29:43.525060Z",
     "start_time": "2024-05-03T17:29:43.444131Z"
    }
   },
   "outputs": [],
   "source": [
    "connected_streets[connected_streets.streetname_right==\"Avenue de Tervuren\"]"
   ]
  },
  {
   "cell_type": "code",
   "execution_count": null,
   "id": "c95d963b",
   "metadata": {},
   "outputs": [],
   "source": []
  },
  {
   "cell_type": "code",
   "execution_count": null,
   "id": "d6526701",
   "metadata": {
    "ExecuteTime": {
     "end_time": "2024-05-03T17:29:43.923403Z",
     "start_time": "2024-05-03T17:29:43.527738Z"
    }
   },
   "outputs": [],
   "source": [
    "for side in [\"right\", \"left\"]:\n",
    "    connected_streets[[f\"split_{side}_1\", f\"split_{side}_2\"]] = connected_streets[f\"streetname_{side}\"].str.extract(\"^(Avenue|Rue|Chaussée|Boulevard|Drève|Clos|Square)(.*)$\", flags=re.IGNORECASE)"
   ]
  },
  {
   "cell_type": "code",
   "execution_count": null,
   "id": "113d7b99",
   "metadata": {
    "ExecuteTime": {
     "end_time": "2024-05-03T17:29:43.930322Z",
     "start_time": "2024-05-03T17:29:43.925629Z"
    }
   },
   "outputs": [],
   "source": [
    "def single_digit_diff(a, b):\n",
    "    if pd.isnull(a) or pd.isnull(b) or len(a)!= len(b):\n",
    "        return False\n",
    "#     print(a, b)\n",
    "    diffs = list(difflib.ndiff([a], [b]))\n",
    "#     print(diffs)\n",
    "    if len(diffs) != 4:\n",
    "        return False\n",
    "    \n",
    "    diff_pos_a = diffs[1].count(\" \")\n",
    "    diff_pos_b = diffs[3].count(\" \")\n",
    "\n",
    "    return a[diff_pos_a-1].isdigit() and b[diff_pos_b-1].isdigit()"
   ]
  },
  {
   "cell_type": "code",
   "execution_count": null,
   "id": "cd4324f0",
   "metadata": {
    "ExecuteTime": {
     "end_time": "2024-05-03T17:29:47.732385Z",
     "start_time": "2024-05-03T17:29:43.932395Z"
    }
   },
   "outputs": [],
   "source": [
    "connected_streets[\"jaro\"] =connected_streets.progress_apply(lambda row: jellyfish.jaro_winkler_similarity(row[\"streetname_left\"],\n",
    "                                                                                                          row[\"streetname_right\"]), axis=1)\n",
    "\n",
    "connected_streets[\"levenshtein\"] =connected_streets.progress_apply(lambda row: jellyfish.damerau_levenshtein_distance(row[\"streetname_left\"],\n",
    "                                                                                                          row[\"streetname_right\"]), axis=1)\n",
    "\n",
    "connected_streets[\"jaro_split\"] =connected_streets.progress_apply(lambda row: null_jaro(row[\"split_left_2\"],\n",
    "                                                                                        row[\"split_right_2\"]), axis=1)\n",
    "\n",
    "# single_last_letter : True if the only difference is the last letter, and the penultimate letter is a space\n",
    "connected_streets[\"single_last_letter\"] = (connected_streets.streetname_left.str.len() == connected_streets.streetname_right.str.len()) & \\\n",
    "                                            (connected_streets.streetname_left.str[:-2] == connected_streets.streetname_right.str[:-2]) & \\\n",
    "                                            (connected_streets.streetname_left.str[-2] == \" \")"
   ]
  },
  {
   "cell_type": "code",
   "execution_count": null,
   "id": "66678c65",
   "metadata": {
    "ExecuteTime": {
     "end_time": "2024-05-03T17:29:48.812477Z",
     "start_time": "2024-05-03T17:29:47.738157Z"
    }
   },
   "outputs": [],
   "source": [
    "connected_streets[\"single_digit_diff\"] = connected_streets.progress_apply(lambda row: single_digit_diff(row[\"streetname_left\"],\n",
    "                                                                                        row[\"streetname_right\"]), axis=1)"
   ]
  },
  {
   "cell_type": "code",
   "execution_count": null,
   "id": "b9377c36",
   "metadata": {
    "ExecuteTime": {
     "end_time": "2024-05-03T17:29:48.851598Z",
     "start_time": "2024-05-03T17:29:48.815222Z"
    }
   },
   "outputs": [],
   "source": [
    "connected_streets[connected_streets.single_digit_diff]"
   ]
  },
  {
   "cell_type": "code",
   "execution_count": null,
   "id": "b15bb2ef",
   "metadata": {
    "ExecuteTime": {
     "end_time": "2024-05-03T17:29:48.991734Z",
     "start_time": "2024-05-03T17:29:48.854359Z"
    },
    "scrolled": true
   },
   "outputs": [],
   "source": [
    "streetname_mismatches = connected_streets[((connected_streets.levenshtein<=1) \n",
    "                                          | (connected_streets.jaro >=0.96)\n",
    "                                          | ((connected_streets.jaro_split >= 0.96 ) & \n",
    "                                             (connected_streets.split_left_1.str.lower() == connected_streets.split_right_1.str.lower()))) &\n",
    "                                         ~connected_streets.single_last_letter &\n",
    "                                         ~connected_streets.single_digit_diff\n",
    "                                         ]\n",
    "                                         \n",
    "streetname_mismatches"
   ]
  },
  {
   "cell_type": "code",
   "execution_count": null,
   "id": "6521921b",
   "metadata": {
    "ExecuteTime": {
     "end_time": "2024-05-03T17:29:48.997318Z",
     "start_time": "2024-05-03T17:29:48.994608Z"
    }
   },
   "outputs": [],
   "source": [
    "# streetname_mismatches.sort_values(\"jaro\")"
   ]
  },
  {
   "cell_type": "code",
   "execution_count": null,
   "id": "2dc12573",
   "metadata": {
    "ExecuteTime": {
     "end_time": "2024-05-03T17:31:29.621137Z",
     "start_time": "2024-05-03T17:29:48.999897Z"
    }
   },
   "outputs": [],
   "source": [
    "for (case, str_msmtch) in [(\"same_nis\", streetname_mismatches[streetname_mismatches.municipality_id_left == streetname_mismatches.municipality_id_right]),\n",
    "                           (\"diff_nis\", streetname_mismatches[streetname_mismatches.municipality_id_left != streetname_mismatches.municipality_id_right]),\n",
    "                          ]:\n",
    "    \n",
    "    if str_msmtch.shape[0]==0:\n",
    "        print(\"No case for\", case)\n",
    "        continue\n",
    "    pdf = PdfPages(f\"{output_dir}/best_anomalies_{region_name}_close_streetnames_{case}.pdf\")\n",
    "\n",
    "    for i, rec in tqdm(str_msmtch.sort_values([\"levenshtein\", \"jaro\"], ascending=[True, False]).iterrows(),\n",
    "                      total=str_msmtch.shape[0]):\n",
    "    #     print(rec)\n",
    "    #     rec = streetname_mismatches.sort_values(\"levenshtein\").iloc[[i]]\n",
    "        r1 = rec[[\"streetname_left\", \"postcode_left\",  \"municipality_id_left\", \"geometry_left\"]].rename({\"streetname_left\":\"streetname\", \n",
    "                                                                                                         \"postcode_left\": \"postcode\", \n",
    "                                                                                                         \"municipality_id_left\": \"municipality_id\", \n",
    "                                                                                                         \"geometry_left\":\"geometry\"})\n",
    "        r2 = rec[[\"streetname_right\", \"postcode_right\", \"municipality_id_right\", \"geometry_right\"]].rename({\"streetname_right\":\"streetname\", \n",
    "                                                                                                            \"postcode_right\": \"postcode\", \n",
    "                                                                                                            \"municipality_id_right\": \"municipality_id\", \n",
    "                                                                                                            \"geometry_right\":\"geometry\"})\n",
    "        \n",
    "            \n",
    "            \n",
    "        r = gpd.GeoDataFrame([r1, r2])\n",
    "\n",
    "        r[\"name\"] = r[\"streetname\"]+\", \"+r[\"postcode\"]+\"/\"+r[\"municipality_id\"]\n",
    "        ax=r.plot(\"name\", legend=True)\n",
    "        set_optimal_limits(ax, r)\n",
    "        ctx.add_basemap(ax, source=ctx.providers.OpenStreetMap.Mapnik)\n",
    "\n",
    "        pdf.savefig(bbox_inches='tight')#, dpi=75)\n",
    "        plt.close()\n",
    "\n",
    "    pdf.close()\n",
    "    "
   ]
  },
  {
   "cell_type": "code",
   "execution_count": null,
   "id": "7a9fda9d",
   "metadata": {
    "ExecuteTime": {
     "end_time": "2024-05-03T17:31:29.627648Z",
     "start_time": "2024-05-03T17:31:29.623718Z"
    }
   },
   "outputs": [],
   "source": [
    "# gpd.GeoDataFrame(region[(region.streetname.str.startswith(\"Avenue de Tervu\")) & (region.postcode==\"1150\")]).explore(\"streetname\")"
   ]
  },
  {
   "cell_type": "markdown",
   "id": "aecfe7cd",
   "metadata": {},
   "source": [
    "# Metrics"
   ]
  },
  {
   "cell_type": "code",
   "execution_count": null,
   "id": "4a4e26ad",
   "metadata": {
    "ExecuteTime": {
     "end_time": "2024-05-03T17:31:29.777681Z",
     "start_time": "2024-05-03T17:31:29.630354Z"
    }
   },
   "outputs": [],
   "source": [
    "# get_max_delta_ratio(street_bloc)"
   ]
  },
  {
   "cell_type": "markdown",
   "id": "856c13d6",
   "metadata": {},
   "source": [
    "## Sinuosity"
   ]
  },
  {
   "cell_type": "code",
   "execution_count": null,
   "id": "195f0083",
   "metadata": {
    "ExecuteTime": {
     "end_time": "2024-01-25T12:24:05.336016Z",
     "start_time": "2024-01-25T12:23:52.058023Z"
    }
   },
   "outputs": [],
   "source": []
  },
  {
   "cell_type": "code",
   "execution_count": null,
   "id": "8927ae56",
   "metadata": {
    "ExecuteTime": {
     "end_time": "2024-05-03T17:35:11.484317Z",
     "start_time": "2024-05-03T17:31:29.780328Z"
    }
   },
   "outputs": [],
   "source": [
    "sin_par = []\n",
    "for parity in [0, 1]:\n",
    "    sin= region[(region.house_number_num.mod(2)==parity)].groupby([\"streetname\", \"postcode\"]).progress_apply(bloc_sinuosity)#.sort_values(na_pos=\"first\")\n",
    "    sin = sin.sort_values(na_position=\"first\").rename(\"sinuosity\").reset_index()\n",
    "    sin[\"parity\"]=parity\n",
    "    display(sin)\n",
    "    sin_par.append(sin)\n",
    "sinuosity= pd.concat(sin_par)\n",
    "sinuosity = sinuosity[(sinuosity.sinuosity.notnull()) & (sinuosity.sinuosity<10**10)].sort_values(\"sinuosity\", ascending=False).reset_index(drop=True)\n",
    "sinuosity"
   ]
  },
  {
   "cell_type": "code",
   "execution_count": null,
   "id": "bae8f387",
   "metadata": {
    "ExecuteTime": {
     "end_time": "2024-05-03T17:35:11.491624Z",
     "start_time": "2024-05-03T17:35:11.487990Z"
    },
    "scrolled": true
   },
   "outputs": [],
   "source": [
    "# sinuosity = sinuosity[sinuosity.sinuosity<10**10]\n",
    "# region"
   ]
  },
  {
   "cell_type": "code",
   "execution_count": null,
   "id": "ff108136",
   "metadata": {
    "ExecuteTime": {
     "end_time": "2024-05-03T17:42:40.583186Z",
     "start_time": "2024-05-03T17:35:11.494243Z"
    }
   },
   "outputs": [],
   "source": [
    "sw_sin_par = []\n",
    "for parity in [0, 1]:\n",
    "    sin= region[(region.house_number_num.mod(2)==parity)].groupby([\"streetname\", \"postcode\"]).progress_apply(sliding_sinuosity)#.sort_values(na_pos=\"first\")\n",
    "    sin = sin.sort_values(na_position=\"first\").rename(\"sw_sinuosity\").reset_index()\n",
    "    sin[\"parity\"]=parity\n",
    "    display(sin)\n",
    "    sw_sin_par.append(sin)\n",
    "sw_sinuosity= pd.concat(sw_sin_par)\n",
    "sw_sinuosity = sw_sinuosity[(sw_sinuosity.sw_sinuosity.notnull()) & (sw_sinuosity.sw_sinuosity<10**10)].sort_values(\"sw_sinuosity\", ascending=False)\n",
    "sw_sinuosity = sw_sinuosity.reset_index(drop=True)\n",
    "sw_sinuosity"
   ]
  },
  {
   "cell_type": "markdown",
   "id": "4cf83560",
   "metadata": {},
   "source": [
    "## Length"
   ]
  },
  {
   "cell_type": "code",
   "execution_count": null,
   "id": "d695ab56",
   "metadata": {
    "ExecuteTime": {
     "end_time": "2024-05-03T17:42:40.591001Z",
     "start_time": "2024-05-03T17:42:40.587031Z"
    }
   },
   "outputs": [],
   "source": [
    "#Add parity\n",
    "# length = region.groupby([\"streetname\", \"postcode\"]).progress_apply(bloc_length)#.sort_values(na_pos=\"first\")\n",
    "# length = length.sort_values(na_position=\"first\").rename(\"length\").reset_index()\n",
    "# length"
   ]
  },
  {
   "cell_type": "code",
   "execution_count": null,
   "id": "59ab0036",
   "metadata": {
    "ExecuteTime": {
     "end_time": "2024-05-03T17:46:19.724594Z",
     "start_time": "2024-05-03T17:42:40.593684Z"
    }
   },
   "outputs": [],
   "source": [
    "region_lenghts = []\n",
    "for parity in [0,1]:\n",
    "    region_par = region[(region.house_number_num.mod(2)==parity)].copy()\n",
    "\n",
    "    length = region_par.groupby([\"streetname\", \"postcode\"]).progress_apply(bloc_length)#.sort_values(na_pos=\"first\")\n",
    "    length = length.sort_values(na_position=\"first\", ascending=False).rename(\"length\").reset_index()\n",
    "    \n",
    "    region_lenghts.append(length.assign(parity=parity))\n",
    "length = pd.concat(region_lenghts)\n",
    "length = length.sort_values(\"length\", ascending=False).reset_index(drop=True)\n",
    "length"
   ]
  },
  {
   "cell_type": "markdown",
   "id": "e1111368",
   "metadata": {},
   "source": [
    "## Distance to previous"
   ]
  },
  {
   "cell_type": "code",
   "execution_count": null,
   "id": "090b1457",
   "metadata": {
    "ExecuteTime": {
     "end_time": "2024-05-03T17:46:25.226181Z",
     "start_time": "2024-05-03T17:46:19.728437Z"
    }
   },
   "outputs": [],
   "source": [
    "region_pars = []\n",
    "for parity in [0,1]:\n",
    "    region_par = region[(region.house_number_num.mod(2)==parity)].copy()\n",
    "\n",
    "    region_par[\"dist_to_prev\"] = region_par.distance(region_par.shift(1))\n",
    "    region_par[\"dist_to_prev2\"] = region_par.distance(region_par.shift(2))\n",
    "    region_par[\"is_new_bloc\"] = (region_par[[\"streetname\", \"postcode\"]] !=  region_par[[\"streetname\", \"postcode\"]].shift(1)).any(axis=1)\n",
    "    region_par.dist_to_prev = region_par.dist_to_prev.where(~region_par.is_new_bloc, pd.NA)\n",
    "    \n",
    "    region_par.dist_to_prev2 = region_par.dist_to_prev2.where(~region_par.is_new_bloc, pd.NA)\n",
    "    region_par.dist_to_prev2 = region_par.dist_to_prev2.where(~region_par.is_new_bloc.shift(1).astype(bool), pd.NA)\n",
    "    \n",
    "    \n",
    "    region_pars.append(region_par.assign(parity=parity))\n",
    "region_pars = pd.concat(region_pars)"
   ]
  },
  {
   "cell_type": "code",
   "execution_count": null,
   "id": "2fc3313f",
   "metadata": {
    "ExecuteTime": {
     "end_time": "2024-05-03T17:46:26.255265Z",
     "start_time": "2024-05-03T17:46:25.228416Z"
    }
   },
   "outputs": [],
   "source": [
    "idx_max= region_pars.groupby([\"streetname\", \"postcode\", \"parity\"]).dist_to_prev.idxmax()\n",
    "dist_to_prev = region_pars.loc[idx_max.dropna().values].sort_values(\"dist_to_prev\", ascending=False)\n",
    "dist_to_prev = dist_to_prev[[\"streetname\", \"postcode\", \"parity\", \"dist_to_prev\", \"house_number\", \"house_number_num\"]].reset_index(drop=True)\n",
    "dist_to_prev"
   ]
  },
  {
   "cell_type": "code",
   "execution_count": null,
   "id": "4efefa02",
   "metadata": {
    "ExecuteTime": {
     "end_time": "2024-05-03T17:46:26.268084Z",
     "start_time": "2024-05-03T17:46:26.257725Z"
    },
    "scrolled": true
   },
   "outputs": [],
   "source": [
    "dist_to_prev.dist_to_prev.describe(percentiles=[0.5, 0.90, .95, .99, .999])"
   ]
  },
  {
   "cell_type": "markdown",
   "id": "3a8ffc4f",
   "metadata": {
    "ExecuteTime": {
     "end_time": "2024-01-26T13:35:54.297047Z",
     "start_time": "2024-01-26T13:35:54.294645Z"
    }
   },
   "source": [
    "## Delta dist to prev"
   ]
  },
  {
   "cell_type": "code",
   "execution_count": null,
   "id": "0d98111b",
   "metadata": {
    "ExecuteTime": {
     "end_time": "2024-05-03T17:46:27.016010Z",
     "start_time": "2024-05-03T17:46:26.269902Z"
    },
    "scrolled": true
   },
   "outputs": [],
   "source": [
    "idx_max= region_pars.groupby([\"streetname\", \"postcode\", \"parity\"]).dist_to_prev.idxmax()\n",
    "delta_dist_to_prev =  region_pars.loc[idx_max.dropna().values].rename(columns={\"dist_to_prev\":\"max_dist_to_prev\"})#.sort_values(\"dist_to_prev\")[[\"streetname\", \"postcode\", \"parity\", \"dist_to_prev\", \"house_number\"]]\n",
    "delta_dist_to_prev"
   ]
  },
  {
   "cell_type": "code",
   "execution_count": null,
   "id": "1470452f",
   "metadata": {
    "ExecuteTime": {
     "end_time": "2024-05-03T17:46:27.668358Z",
     "start_time": "2024-05-03T17:46:27.018298Z"
    },
    "scrolled": true
   },
   "outputs": [],
   "source": [
    "delta_dist_to_prev = delta_dist_to_prev.merge(region_pars.groupby([\"streetname\", \"postcode\", \"parity\"]).dist_to_prev.median().rename(\"median_dist_to_prev\").reset_index())\n",
    "delta_dist_to_prev[\"median_dist_to_prev\"] = delta_dist_to_prev[\"median_dist_to_prev\"].where(delta_dist_to_prev.median_dist_to_prev> 5, 0)\n",
    "\n",
    "delta_dist_to_prev[\"delta_dist_to_prev\"] = delta_dist_to_prev.max_dist_to_prev / delta_dist_to_prev.median_dist_to_prev\n",
    "\n",
    "delta_dist_to_prev = delta_dist_to_prev[~delta_dist_to_prev.delta_dist_to_prev.isnull() & (delta_dist_to_prev.delta_dist_to_prev< np.inf)].sort_values(\"delta_dist_to_prev\", ascending=False)\n",
    "delta_dist_to_prev = delta_dist_to_prev[[\"streetname\", \"postcode\", \"parity\", \"house_number\", \"delta_dist_to_prev\" ]].reset_index(drop=True)\n",
    "delta_dist_to_prev"
   ]
  },
  {
   "cell_type": "code",
   "execution_count": null,
   "id": "beb206a8",
   "metadata": {
    "ExecuteTime": {
     "end_time": "2024-05-03T17:46:27.673108Z",
     "start_time": "2024-05-03T17:46:27.670828Z"
    },
    "scrolled": true
   },
   "outputs": [],
   "source": [
    "# delta_dist_to_prev[delta_dist_to_prev.delta_dist_to_prev>1000]"
   ]
  },
  {
   "cell_type": "markdown",
   "id": "484ba50d",
   "metadata": {
    "ExecuteTime": {
     "end_time": "2024-01-29T16:29:12.311748Z",
     "start_time": "2024-01-29T16:29:12.304876Z"
    }
   },
   "source": [
    "## prev_to_prev2_ratio"
   ]
  },
  {
   "cell_type": "code",
   "execution_count": null,
   "id": "b3be5c5c",
   "metadata": {
    "ExecuteTime": {
     "end_time": "2024-05-03T17:46:27.740348Z",
     "start_time": "2024-05-03T17:46:27.674826Z"
    },
    "scrolled": true
   },
   "outputs": [],
   "source": [
    "# region_pars[region_pars.dist_to_prev>region_pars.dist_to_prev2+100]\n",
    "\n"
   ]
  },
  {
   "cell_type": "code",
   "execution_count": null,
   "id": "36ca81ed",
   "metadata": {
    "ExecuteTime": {
     "end_time": "2024-05-03T17:46:27.968780Z",
     "start_time": "2024-05-03T17:46:27.742689Z"
    }
   },
   "outputs": [],
   "source": [
    "region_pars[\"prev_to_prev2_ratio\"] = (region_pars.dist_to_prev/region_pars[[\"dist_to_prev2\"]].assign(m=10).max(axis=1,  skipna=False))#.replace(np.inf, pd.NA)\n",
    "region_pars[\"prev_to_prev2_ratio\"]"
   ]
  },
  {
   "cell_type": "code",
   "execution_count": null,
   "id": "ff89d8d1",
   "metadata": {
    "ExecuteTime": {
     "end_time": "2024-05-03T17:46:28.711746Z",
     "start_time": "2024-05-03T17:46:27.971064Z"
    }
   },
   "outputs": [],
   "source": [
    "idx_max= region_pars.groupby([\"streetname\", \"postcode\", \"parity\"]).prev_to_prev2_ratio.idxmax()\n",
    "prev_to_prev2_ratio = region_pars.loc[idx_max.dropna().values].sort_values(\"prev_to_prev2_ratio\", ascending=False)\n",
    "prev_to_prev2_ratio = prev_to_prev2_ratio[[\"streetname\", \"postcode\", \"parity\", \"prev_to_prev2_ratio\", \"house_number\"]].reset_index(drop=True)\n",
    "prev_to_prev2_ratio"
   ]
  },
  {
   "cell_type": "code",
   "execution_count": null,
   "id": "4c74eccf",
   "metadata": {
    "ExecuteTime": {
     "end_time": "2024-05-03T17:46:28.724847Z",
     "start_time": "2024-05-03T17:46:28.714033Z"
    },
    "scrolled": true
   },
   "outputs": [],
   "source": [
    "prev_to_prev2_ratio.iloc[0:60]"
   ]
  },
  {
   "cell_type": "code",
   "execution_count": null,
   "id": "992a3e88",
   "metadata": {
    "ExecuteTime": {
     "end_time": "2024-05-03T17:46:31.116119Z",
     "start_time": "2024-05-03T17:46:28.727092Z"
    },
    "scrolled": true
   },
   "outputs": [],
   "source": [
    "region_pars.sort_values(\"prev_to_prev2_ratio\", ascending=False)"
   ]
  },
  {
   "cell_type": "markdown",
   "id": "91e47c95",
   "metadata": {
    "ExecuteTime": {
     "end_time": "2024-01-26T08:23:01.668536Z",
     "start_time": "2024-01-26T08:23:01.408387Z"
    }
   },
   "source": [
    "## Delta ratio"
   ]
  },
  {
   "cell_type": "code",
   "execution_count": null,
   "id": "2c44d1b9",
   "metadata": {
    "ExecuteTime": {
     "end_time": "2024-05-03T17:46:32.025460Z",
     "start_time": "2024-05-03T17:46:31.118406Z"
    }
   },
   "outputs": [],
   "source": [
    "# To avoid to compare all pairs of addresses in all street, we only consider streets with a sinuosity above 1.5 \n",
    "# (assuming that \"straight streets\" won't have high delta ratio)\n",
    "\n",
    "region_sel = region.merge(sinuosity[sinuosity.sinuosity>1.5][[\"streetname\", \"postcode\"]])\n",
    "region_sel"
   ]
  },
  {
   "cell_type": "code",
   "execution_count": null,
   "id": "965490dc",
   "metadata": {
    "ExecuteTime": {
     "end_time": "2024-05-03T17:51:27.645127Z",
     "start_time": "2024-05-03T17:46:32.027814Z"
    }
   },
   "outputs": [],
   "source": [
    "delta_par = []\n",
    "for parity in [0, 1]:\n",
    "    dlt_par= region_sel[(region_sel.house_number_num.mod(2)==parity)].groupby([\"streetname\", \"postcode\"]).progress_apply(get_max_delta_ratio)#.sort_values(na_pos=\"first\")\n",
    "    dlt_par = dlt_par.apply(pd.Series).rename(columns={0: \"delta_ratio\", 1: \"house_number\" })#.reset_index()\n",
    "    dlt_par = dlt_par.sort_values(\"delta_ratio\", na_position=\"first\", ascending=False)#.reset_index()\n",
    "    dlt_par[\"parity\"]=parity\n",
    "    display(dlt_par)\n",
    "    delta_par.append(dlt_par)\n",
    "delta_ratio= pd.concat(delta_par)\n",
    "\n",
    "delta_ratio = delta_ratio.sort_values(\"delta_ratio\", ascending=False).reset_index()\n",
    "delta_ratio"
   ]
  },
  {
   "cell_type": "code",
   "execution_count": null,
   "id": "c41c763e",
   "metadata": {
    "ExecuteTime": {
     "end_time": "2024-05-03T17:51:27.652744Z",
     "start_time": "2024-05-03T17:51:27.648876Z"
    }
   },
   "outputs": [],
   "source": [
    "# delta_ratio"
   ]
  },
  {
   "cell_type": "markdown",
   "id": "040b4dd9",
   "metadata": {},
   "source": [
    "## Consolidate"
   ]
  },
  {
   "cell_type": "code",
   "execution_count": null,
   "id": "0947f129",
   "metadata": {
    "ExecuteTime": {
     "end_time": "2024-05-03T17:51:27.727917Z",
     "start_time": "2024-05-03T17:51:27.654989Z"
    }
   },
   "outputs": [],
   "source": [
    "metrics = {\n",
    "    \"dist_to_prev\" :      dist_to_prev,\n",
    "    \"delta_dist_to_prev\": delta_dist_to_prev,\n",
    "    \"sinuosity\":          sinuosity,\n",
    "    \"sw_sinuosity\":       sw_sinuosity,\n",
    "    \"length\":             length,\n",
    "    \"delta_ratio\":        delta_ratio,\n",
    "    \"prev_to_prev2_ratio\":   prev_to_prev2_ratio\n",
    "}"
   ]
  },
  {
   "cell_type": "code",
   "execution_count": null,
   "id": "06819ec1",
   "metadata": {
    "ExecuteTime": {
     "end_time": "2024-05-03T11:07:18.204827Z",
     "start_time": "2024-05-03T11:07:18.195868Z"
    },
    "scrolled": true
   },
   "outputs": [],
   "source": []
  },
  {
   "cell_type": "code",
   "execution_count": null,
   "id": "ede66bb9",
   "metadata": {
    "ExecuteTime": {
     "end_time": "2024-05-03T17:51:27.792830Z",
     "start_time": "2024-05-03T17:51:27.730016Z"
    }
   },
   "outputs": [],
   "source": [
    "delta_ratio"
   ]
  },
  {
   "cell_type": "code",
   "execution_count": null,
   "id": "fac30633",
   "metadata": {
    "ExecuteTime": {
     "end_time": "2024-05-03T17:51:33.281016Z",
     "start_time": "2024-05-03T17:51:27.795178Z"
    }
   },
   "outputs": [],
   "source": [
    "with open(f\"{data_dir}/metrics_{region_name}.pkl\", \"wb\") as pkl:\n",
    "    pickle.dump(metrics, pkl, pickle.HIGHEST_PROTOCOL)\n",
    "\n",
    "region.to_pickle(f\"{data_dir}/data_{region_name}.pkl\")"
   ]
  },
  {
   "cell_type": "code",
   "execution_count": null,
   "id": "ca37ae28",
   "metadata": {
    "ExecuteTime": {
     "end_time": "2024-05-06T06:04:31.530965Z",
     "start_time": "2024-05-06T06:04:23.502795Z"
    }
   },
   "outputs": [],
   "source": [
    "# Start from here to plot without recomputing all metrics\n",
    "with open(f\"{data_dir}/metrics_{region_name}.pkl\", \"rb\") as pkl:\n",
    "    metrics = pickle.load(pkl)#, pickle.HIGHEST_PROTOCOL)\n",
    "region = pd.read_pickle(f\"{data_dir}/data_{region_name}.pkl\")"
   ]
  },
  {
   "cell_type": "code",
   "execution_count": null,
   "id": "a9c64f8f",
   "metadata": {
    "ExecuteTime": {
     "end_time": "2024-05-06T06:04:34.125448Z",
     "start_time": "2024-05-06T06:04:34.119590Z"
    },
    "scrolled": true
   },
   "outputs": [],
   "source": [
    "# region_name"
   ]
  },
  {
   "cell_type": "code",
   "execution_count": null,
   "id": "039c4b39",
   "metadata": {
    "ExecuteTime": {
     "end_time": "2024-02-08T15:10:09.583821Z",
     "start_time": "2024-02-08T15:10:09.508982Z"
    }
   },
   "outputs": [],
   "source": []
  },
  {
   "cell_type": "code",
   "execution_count": null,
   "id": "e5b76131",
   "metadata": {
    "ExecuteTime": {
     "end_time": "2024-05-06T06:04:34.639895Z",
     "start_time": "2024-05-06T06:04:34.622762Z"
    }
   },
   "outputs": [],
   "source": [
    "for m in metrics:\n",
    "    metrics[m] = metrics[m].reset_index(drop=True).copy()\n",
    "#     metrics[m][\"f\"{m}_topn\"\"]= False\n",
    "#     metrics[m].loc[metrics[m].shape[0]-topn::, f\"{m}_topn\"]=True\n",
    "    metrics[m][f\"{m}_ranking\"] = metrics[m].index+1\n",
    "    if \"house_number\" in metrics[m]:\n",
    "        metrics[m] = metrics[m].rename(columns={\"house_number\": f\"{m}_house_number\"})\n",
    "        \n",
    "    \n",
    "#     dist_to_prev"
   ]
  },
  {
   "cell_type": "code",
   "execution_count": null,
   "id": "cb85f57c",
   "metadata": {
    "ExecuteTime": {
     "end_time": "2024-05-03T11:10:45.728665Z",
     "start_time": "2024-05-03T11:10:45.721943Z"
    }
   },
   "outputs": [],
   "source": []
  },
  {
   "cell_type": "code",
   "execution_count": null,
   "id": "547dae72",
   "metadata": {
    "ExecuteTime": {
     "end_time": "2024-05-06T06:04:35.442041Z",
     "start_time": "2024-05-06T06:04:35.358447Z"
    }
   },
   "outputs": [],
   "source": [
    "from functools import reduce\n",
    "glob_metrics = reduce((lambda x, y: x.merge(y, how=\"outer\")), metrics.values())"
   ]
  },
  {
   "cell_type": "code",
   "execution_count": null,
   "id": "d0087f09",
   "metadata": {
    "ExecuteTime": {
     "end_time": "2024-05-06T06:04:36.543945Z",
     "start_time": "2024-05-06T06:04:36.516472Z"
    },
    "scrolled": true
   },
   "outputs": [],
   "source": [
    "glob_metrics\n"
   ]
  },
  {
   "cell_type": "code",
   "execution_count": null,
   "id": "97458a1e",
   "metadata": {
    "ExecuteTime": {
     "end_time": "2024-05-06T06:04:37.092493Z",
     "start_time": "2024-05-06T06:04:37.072209Z"
    }
   },
   "outputs": [],
   "source": [
    "glob_metrics[glob_metrics.streetname==\"Chaussée de Wavre\"]"
   ]
  },
  {
   "cell_type": "markdown",
   "id": "c95bad84",
   "metadata": {},
   "source": [
    "## Show"
   ]
  },
  {
   "cell_type": "code",
   "execution_count": null,
   "id": "dd8c453b",
   "metadata": {
    "ExecuteTime": {
     "end_time": "2024-05-03T17:51:40.438566Z",
     "start_time": "2024-05-03T17:51:40.134001Z"
    }
   },
   "outputs": [],
   "source": [
    "osm_crs=  'epsg:4326'"
   ]
  },
  {
   "cell_type": "code",
   "execution_count": null,
   "id": "9f5a2a99",
   "metadata": {
    "ExecuteTime": {
     "end_time": "2024-05-03T17:51:40.662934Z",
     "start_time": "2024-05-03T17:51:40.440959Z"
    },
    "scrolled": true
   },
   "outputs": [],
   "source": [
    "# region"
   ]
  },
  {
   "cell_type": "code",
   "execution_count": null,
   "id": "1a3d8d68",
   "metadata": {
    "ExecuteTime": {
     "end_time": "2024-05-03T17:51:40.926495Z",
     "start_time": "2024-05-03T17:51:40.665241Z"
    },
    "scrolled": true
   },
   "outputs": [],
   "source": [
    "k = 0\n",
    "metric_name = \"dist_to_prev\"\n",
    "metric_name = \"sinuosity\"\n",
    "metric_name = \"delta_ratio\"\n",
    "\n",
    "metric = metrics[metric_name]\n",
    "print(metric.iloc[k])\n",
    "street_bloc = get_street_bloc(region, \n",
    "                              metric.iloc[k].streetname, \n",
    "                              metric.iloc[k].postcode,\n",
    "                              metric.iloc[k].parity)\n",
    "    \n",
    "street_bloc"
   ]
  },
  {
   "cell_type": "code",
   "execution_count": null,
   "id": "6bca97ea",
   "metadata": {
    "ExecuteTime": {
     "end_time": "2024-05-03T17:51:41.141988Z",
     "start_time": "2024-05-03T17:51:40.928838Z"
    }
   },
   "outputs": [],
   "source": [
    "street_bloc = get_street_bloc(region, \n",
    "                  \"Bredabaan\", #\"Rue François Michoel\", \n",
    "                  \"2990\", #\"4845\",\n",
    "                  1)\n",
    "street_bloc"
   ]
  },
  {
   "cell_type": "code",
   "execution_count": null,
   "id": "de9ae587",
   "metadata": {
    "ExecuteTime": {
     "end_time": "2024-05-03T17:51:41.875641Z",
     "start_time": "2024-05-03T17:51:41.144933Z"
    }
   },
   "outputs": [],
   "source": [
    "plot_street_bloc(street_bloc, \"title\")"
   ]
  },
  {
   "cell_type": "code",
   "execution_count": null,
   "id": "c65f103f",
   "metadata": {
    "ExecuteTime": {
     "end_time": "2024-05-03T17:51:41.884971Z",
     "start_time": "2024-05-03T17:51:41.878011Z"
    },
    "scrolled": true
   },
   "outputs": [],
   "source": [
    "street_bloc"
   ]
  },
  {
   "cell_type": "code",
   "execution_count": null,
   "id": "7f58e47a",
   "metadata": {
    "ExecuteTime": {
     "end_time": "2024-05-03T17:51:42.174928Z",
     "start_time": "2024-05-03T17:51:41.887095Z"
    },
    "scrolled": false
   },
   "outputs": [],
   "source": [
    "plot_street_bloc_plotly(street_bloc)\n",
    "None"
   ]
  },
  {
   "cell_type": "code",
   "execution_count": null,
   "id": "d8a9395e",
   "metadata": {
    "ExecuteTime": {
     "end_time": "2024-05-03T17:51:42.180835Z",
     "start_time": "2024-05-03T17:51:42.177995Z"
    }
   },
   "outputs": [],
   "source": [
    "# street_bloc.explore()"
   ]
  },
  {
   "cell_type": "markdown",
   "id": "1df6e831",
   "metadata": {},
   "source": [
    "## PDF"
   ]
  },
  {
   "cell_type": "code",
   "execution_count": null,
   "id": "a15fe936",
   "metadata": {
    "ExecuteTime": {
     "end_time": "2024-05-06T06:05:32.199528Z",
     "start_time": "2024-05-06T06:05:32.196640Z"
    }
   },
   "outputs": [],
   "source": [
    "# make_table(street_bloc)"
   ]
  },
  {
   "cell_type": "code",
   "execution_count": null,
   "id": "5799c966",
   "metadata": {
    "ExecuteTime": {
     "end_time": "2024-05-06T06:05:32.538457Z",
     "start_time": "2024-05-06T06:05:32.528888Z"
    },
    "scrolled": true
   },
   "outputs": [],
   "source": [
    "metric"
   ]
  },
  {
   "cell_type": "code",
   "execution_count": null,
   "id": "36dfd005",
   "metadata": {
    "ExecuteTime": {
     "end_time": "2024-05-06T06:05:34.017870Z",
     "start_time": "2024-05-06T06:05:34.014708Z"
    }
   },
   "outputs": [],
   "source": [
    "thresholds = {\n",
    "    \"dist_to_prev\": 1000,\n",
    "    \"length\":5000,\n",
    "    \"delta_ratio\": 1.0,\n",
    "    \"delta_dist_to_prev\":50,\n",
    "    \"sinuosity\": 10,\n",
    "    \"sw_sinuosity\": 10,\n",
    "    \"prev_to_prev2_ratio\": 10\n",
    "}"
   ]
  },
  {
   "cell_type": "code",
   "execution_count": null,
   "id": "3ff3f4c9",
   "metadata": {
    "ExecuteTime": {
     "end_time": "2024-05-03T17:51:42.426444Z",
     "start_time": "2024-05-03T17:51:42.368460Z"
    }
   },
   "outputs": [],
   "source": [
    "metrics.keys()\n",
    "# region"
   ]
  },
  {
   "cell_type": "code",
   "execution_count": null,
   "id": "8dc812ce",
   "metadata": {
    "ExecuteTime": {
     "end_time": "2024-05-03T18:02:43.614543Z",
     "start_time": "2024-05-03T17:51:42.429381Z"
    },
    "scrolled": true
   },
   "outputs": [],
   "source": [
    "for metric_name in metrics:\n",
    "# for metric_name in ['prev_to_prev2_ratio']:\n",
    "    metric=metrics[metric_name]\n",
    "    print(metric_name)\n",
    "    pdf = PdfPages(f\"{output_dir}/best_anomalies_{region_name}_{metric_name}.pdf\")\n",
    "    \n",
    "    if metric_name in thresholds:\n",
    "        metric = metric[metric[metric_name]>thresholds[metric_name]]\n",
    "    for i, metr in tqdm(metric.iloc[0:topn].iterrows(), total=min(topn, metric.shape[0])):# in trange(1, min(51, metric.shape[0])):\n",
    "\n",
    "        \n",
    "        street_bloc = get_street_bloc(region, \n",
    "                                      metr.streetname, \n",
    "                                      metr.postcode,\n",
    "                                      metr.parity)\n",
    "        sb = street_bloc.iloc[0]\n",
    "        title = f\"{sb.streetname} - {sb.postcode}/{sb.municipality_id} - {sb.postname} - {sb.municipality} - parity: {metr['parity']} \"\n",
    "        title += f\"\\n{metric_name}: {metr[metric_name]:.2f}\"\n",
    "#         title = street_bloc.iloc[0][\"streetname\"]+ \" - \" + street_bloc.iloc[0][\"postcode\"] + \\\n",
    "#                 \" - \" + street_bloc.iloc[0][\"postname\"] + \" - \" + street_bloc.iloc[0][\"municipality\"]+\" - parity: \"+str(metr[\"parity\"])+\"\\n\"+\\\n",
    "#                 f\"{metric_name}: {metr[metric_name]:.2f}\"\n",
    "        if f\"{metric_name}_house_number\" in metr:\n",
    "            title += f\" (hn: {metr[f'{metric_name}_house_number']})\"\n",
    "\n",
    "        make_table(street_bloc, title)\n",
    "        pdf.savefig(bbox_inches='tight')\n",
    "        plt.close()\n",
    "        plot_street_bloc(street_bloc, title)\n",
    "        pdf.savefig(bbox_inches='tight')\n",
    "        plt.close()\n",
    "    pdf.close()"
   ]
  },
  {
   "cell_type": "code",
   "execution_count": null,
   "id": "33dd82e0",
   "metadata": {
    "ExecuteTime": {
     "end_time": "2024-05-03T18:02:43.624452Z",
     "start_time": "2024-05-03T18:02:43.618078Z"
    }
   },
   "outputs": [],
   "source": [
    "f\"{output_dir}/best_anomalies_{region_name}_{metric_name}.pdf\""
   ]
  },
  {
   "cell_type": "markdown",
   "id": "4c35700a",
   "metadata": {
    "ExecuteTime": {
     "end_time": "2024-01-29T10:36:56.117238Z",
     "start_time": "2024-01-29T10:36:55.904089Z"
    }
   },
   "source": [
    "### Consolidated pdf"
   ]
  },
  {
   "cell_type": "code",
   "execution_count": null,
   "id": "1e23aace",
   "metadata": {
    "ExecuteTime": {
     "end_time": "2024-05-03T18:02:43.785484Z",
     "start_time": "2024-05-03T18:02:43.626424Z"
    }
   },
   "outputs": [],
   "source": [
    "# glob_metrics[(glob_metrics[[f\"{m}_ranking\" for m in metrics]]  < topn).fillna(False).any(axis=1)]\n"
   ]
  },
  {
   "cell_type": "code",
   "execution_count": null,
   "id": "26261614",
   "metadata": {
    "ExecuteTime": {
     "end_time": "2024-05-06T06:05:40.892642Z",
     "start_time": "2024-05-06T06:05:40.866455Z"
    }
   },
   "outputs": [],
   "source": [
    "glob_metrics_topn = glob_metrics[(glob_metrics[[f\"{m}_ranking\" for m in metrics]]  < topn).fillna(False).any(axis=1)]\n",
    "\n",
    "glob_metrics_topn = glob_metrics_topn[pd.concat([glob_metrics_topn[m] > thresholds[m] for m in metrics], axis=1).any(axis=1)]\n",
    "\n",
    "\n",
    "glob_metrics_topn = glob_metrics_topn.sort_values(\"dist_to_prev\", ascending=False)\n",
    "glob_metrics_topn"
   ]
  },
  {
   "cell_type": "code",
   "execution_count": null,
   "id": "105f4b9e",
   "metadata": {
    "ExecuteTime": {
     "end_time": "2024-05-06T06:05:48.884185Z",
     "start_time": "2024-05-06T06:05:48.877459Z"
    }
   },
   "outputs": [],
   "source": [
    "glob_metrics_topn[\"global_ranking\"] = glob_metrics_topn[glob_metrics_topn.columns[glob_metrics_topn.columns.str.endswith(\"_ranking\")]].fillna(100).apply(np.log).sum(axis=1)"
   ]
  },
  {
   "cell_type": "code",
   "execution_count": null,
   "id": "3112c31e",
   "metadata": {
    "ExecuteTime": {
     "end_time": "2024-05-06T06:05:52.241787Z",
     "start_time": "2024-05-06T06:05:52.218697Z"
    }
   },
   "outputs": [],
   "source": [
    "glob_metrics_topn = glob_metrics_topn.sort_values(\"global_ranking\")\n",
    "glob_metrics_topn"
   ]
  },
  {
   "cell_type": "code",
   "execution_count": null,
   "id": "a563a589",
   "metadata": {
    "ExecuteTime": {
     "end_time": "2024-05-06T06:12:06.683100Z",
     "start_time": "2024-05-06T06:06:13.005253Z"
    }
   },
   "outputs": [],
   "source": [
    "pdf = PdfPages(f\"{output_dir}/best_anomalies_{region_name}_consolidated.pdf\")\n",
    "\n",
    "for i, metr in tqdm(glob_metrics_topn.iterrows(), total=glob_metrics_topn.shape[0]):# in trange(1, min(51, metric.shape[0])):\n",
    "    street_bloc = get_street_bloc(region, \n",
    "                                  metr.streetname, \n",
    "                                  metr.postcode,\n",
    "                                  metr.parity)\n",
    "    \n",
    "    sb = street_bloc.iloc[0]\n",
    "    title = f\"{sb.streetname} - {sb.postcode}/{sb.municipality_id} - {sb.postname} - {sb.municipality} - parity: {metr['parity']} \"\n",
    "\n",
    "    make_table(street_bloc, title)\n",
    "    pdf.savefig(bbox_inches='tight')\n",
    "    plt.close()\n",
    "\n",
    "    fig, ax = plt.subplots(nrows=2, figsize=(10,10), gridspec_kw={'height_ratios':[0.85, 0.15]})\n",
    "    plot_street_bloc(street_bloc, title, ax=ax[0])\n",
    "    make_metric_table(metr, metrics, ax=ax[1])\n",
    "\n",
    "    pdf.savefig(bbox_inches='tight')\n",
    "    plt.close()\n",
    "pdf.close()"
   ]
  },
  {
   "cell_type": "code",
   "execution_count": null,
   "id": "ac96abd1",
   "metadata": {
    "ExecuteTime": {
     "end_time": "2024-05-06T05:58:28.648118Z",
     "start_time": "2024-05-06T05:58:28.640084Z"
    }
   },
   "outputs": [],
   "source": [
    "region_name"
   ]
  }
 ],
 "metadata": {
  "kernelspec": {
   "display_name": "gis2",
   "language": "python",
   "name": "gis2"
  },
  "language_info": {
   "codemirror_mode": {
    "name": "ipython",
    "version": 3
   },
   "file_extension": ".py",
   "mimetype": "text/x-python",
   "name": "python",
   "nbconvert_exporter": "python",
   "pygments_lexer": "ipython3",
   "version": "3.11.8"
  },
  "toc": {
   "base_numbering": 1,
   "nav_menu": {},
   "number_sections": true,
   "sideBar": true,
   "skip_h1_title": false,
   "title_cell": "Table of Contents",
   "title_sidebar": "Contents",
   "toc_cell": false,
   "toc_position": {
    "height": "calc(100% - 180px)",
    "left": "10px",
    "top": "150px",
    "width": "316px"
   },
   "toc_section_display": true,
   "toc_window_display": true
  }
 },
 "nbformat": 4,
 "nbformat_minor": 5
}
