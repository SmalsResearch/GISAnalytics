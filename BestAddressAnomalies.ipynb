{
 "cells": [
  {
   "cell_type": "markdown",
   "id": "02f22a95",
   "metadata": {},
   "source": [
    "# Contexte\n",
    "\n",
    "Ce script/notebook Python a pour but de mettre en évidence un certain nombre d'anomalies que l'on retrouve dans les données de BestAddress (Bosa), en se basant sur les CSV mis à disposition sur https://opendata.bosa.be/\n",
    "\n",
    "Il s'agit ici de résultats prélimilaires, ayant pour objectif de montrer l'intérêt des techniques de GIS Analytics dans ce contexte de Data Quality.\n",
    "\n",
    "Quatres types d'analyse distinctes sont menées: \n",
    "- Dans la première, nous regarderons si toutes numéros de boite d'une même adresse sont bien localisés proches l'un de l'autre\n",
    "- Dans la deuxième, nous comparons les frontières des codes postaux définis par bPost avec les codes postaux des adresses BestAddreses, ainsi que les frontières des codes NIS fournis par StatBel.\n",
    "- Dans la troisième, nous recherchons des incohérences sur des noms de rues géographiquement proches (par exemple une \"Rue Roi Albert I\" juste à côté d'une \"Rue du Roi Albert I\")\n",
    "- Dans la quatrième, nous recherchons des anomalies géométriques dans la forme d'une rue (plus précisément l'ensemble des adresses de même parité)\n",
    "\n",
    "Principal résultat à retenir:\n",
    "-\t+/- 17.000 adresses ont un code postal incohérent avec les contours des codes postaux définis par bPost. Étonnamment, il semble qu’il n’y ait aucune incohérence par rapport au code NIS. \n",
    "-\tOn trouve une centaine de rues dont l’orthographe diffère légèrement entre plusieurs tronçons (pair vs impair, ou au passage d’un code postal à l’autre)\n",
    "-\tSans doute plusieurs centaines d’adresses qui ne sont pas localisées au bon endroit (il faudra une exploration plus approfondie pour en connaitre le nombre plus précis)\n",
    "\n",
    "\n",
    "Notons que nous ne gardons que les adresses ayant un statut \"current\" pour les analyses ci-dessous. Les \"retired\" (7.6% VLG ; <0.1% BRU ; 0% WAL ) et \"proposed\" (1.1 % VLG ; 0% BRU et WAL) sont ignorées. \n",
    "Nous ignorons également les adresses n'ayant aucun chiffre dans le \"house_number\" (< 60 addresses VLG, de type \"ZN\"). "
   ]
  },
  {
   "cell_type": "markdown",
   "id": "40abdba8",
   "metadata": {},
   "source": [
    "## Incohérence de boites\n",
    "\n",
    "Nous regardons ici pour chaque adresse (rue, nis, code postal, numéro) si les coordonnées de \"box number\" ne sont pas anormalement éloignées. Dans un grande majorité des cas, les différentes boites auront toutes les mêmes coordonnées, mais ça n'est pas toujour le cas.\n",
    "\n",
    "Notons que pour chaque adresse avec une boite, nous trouvons toujours (mise à part un très petit nombre d'exceptions, ~5 sur l'ensemble des 3 datasets) une adresse équivalente (même rue, nis, code postal, numéro) sans boite.\n",
    "\n",
    "Dans un premier temps, pour chaque adresse avec des coordonnées différentes pour les boites, nous construisions l'enveloppe convexe englobant les différents points, et mettons en évidence ceux où le périmètre est très grand. Le problème de cette approche est que pour des résidences, il est fréquent d'avoir des boites réparties sur une grande superficie, avec donc un grand périmètre.\n",
    "\n",
    "Nous construisons maintenant le \"minimum rotated rectangle\", à savoir le rectangle de surface minimal englobant l'ensemble des points, en autorisant toute rotation du rectangle. Un tel rectangle englobant deux points aura une largeur nulle et une longueur équivalente à la distance entre les points. En cas de points multiples non alignés, les deux dimensions seront positive.\n",
    "De façon à éliminer les résidences, on sélectionnera les numéros donc la largeur du \"minimum rotated rectangle\" est d'au moins 100 mètres, et la largeur inférieure à 100 mètres.\n",
    "\n",
    "Les anomalies ont essentiellement été détectée en VLG, avec plus de 100 cas (BRU: 3, WAL: 5)."
   ]
  },
  {
   "cell_type": "markdown",
   "id": "4376524a",
   "metadata": {},
   "source": [
    "## Frontières postales\n",
    "\n",
    "Dans cette analyse, nous comparons les frontières des codes postaux définies par bPost (https://bgu.bpost.be/assets/9738c7c0-5255-11ea-8895-34e12d0f0423_x-shapefile_3812.zip). \n",
    "Pour ce faire, pour chaque adresse de Best, on regarde dans quel polygône de bPost il tombe et on retient ceux pour lequel il y a une inconsistance entre de code postal de Best et celui de bPost.\n",
    "\n",
    "Pour éviter les problèmes de précision d'un point qui serait juste à la frontière, on supprime des contours de bPost un ruban de 50 mètres. On identifie donc un inconsistance que quand une adresse d'un code postal P1 != P2 (selon Best) est réellement dans le polygone d'un code postal P2 (selon bPost). \n",
    "\n",
    "Dans chaque page du fichier \"best_anomalies_[region]_zip_mismatches.pdf\", on peut voir :\n",
    "- En titre, le code auquel Best associe tous les points de la carte\n",
    "- Le tracé rouge indique le polygone de ce code postal selon bPost. S'il n'est pas présent, c'est que le code postal est inconnu de bPost (en tout cas de son shapefile)\n",
    "- Chaque point représente les adresses Best incohérentes avec bPost. Sa couleur indique le code postal qu'il devrait avoir selon bPost\n",
    "\n",
    "On trouve : \n",
    "- WAL: ~7880 anomalies\n",
    "- BRU: ~75 anomalies\n",
    "- VLG: ~11.000 anomalies\n",
    "    \n",
    "Notons que certains anomalies sont acceptables, comme par exemple le cas de batiments (chateau, ferme...) loin de la porte d'entrée. Best localise le batiment, mais son code postal correspond à celui de son entrée.\n",
    "\n",
    "## Frontières de codes NIS\n",
    "\n",
    "De façon quasi identique, nous comparons la colonne \"municipality_id\" avec les codes frontières des NIS définis sur https://statbel.fgov.be/sites/default/files/files/opendata/Statistische%20sectoren/sh_statbel_statistical_sectors_31370_20200101.shp.zip ;\n",
    "Nous remarquons nettement moins d'anomalies qu'avec le code postal. Les seules anomalies observées se situent très proches des frontières."
   ]
  },
  {
   "cell_type": "markdown",
   "id": "f508c960",
   "metadata": {},
   "source": [
    "## Incohérences de noms\n",
    "    \n",
    "Pour cette analyse, nous commençons par identifier la liste de tous les couples de rues adjacentes (c'est-à-dire que l'une a une adresse distante de moins de 50 mètres d'une adresse de l'autre). Nous regardons ensuite si l'on ne trouve pas de petites différences dans les noms de rue. \n",
    "Nous rencontrons typiquement deux situations : \n",
    "- Des rues traversant plusieurs communes avec une orthographe différente dans chacune d'elle : \"Rue de Monténégro, 1060\", vs \"Rue du Monténégro, 1190\"\n",
    "- Des rues avec deux orthographes différentes au sein de la même commune: \"Chaussée Brunehault\" ou \"Chaussée Brunehaut\", à 4452 dans les 2 cas\n",
    "\n",
    "\n",
    "On trouvera également quelques faux positifs: \"Rue de Mars\" vs \"Rue de Mai\""
   ]
  },
  {
   "cell_type": "markdown",
   "id": "2fbb6f88",
   "metadata": {
    "ExecuteTime": {
     "end_time": "2024-01-29T15:15:55.273490Z",
     "start_time": "2024-01-29T15:15:55.271285Z"
    }
   },
   "source": [
    "## Géometrie incohérente\n",
    "\n",
    "Nous considérons ici la forme géométrique composée de la séquence de points des adresses de même parité, pour une même rue et un même code postal. Sur cette ligne, nous calculons ensuite un certain nombre de métriques, en supposant que les valeurs les plus élevées dénotent une anomalie.\n",
    "\n",
    "Nous avons défini de façon expérimentale un certain nombre de métriques. Il y a clairement de la redondance entre elles. Elle pourront encore être rafinées/développées par la suite\n",
    "\n",
    "### dist_to_prev\n",
    "\n",
    "Nous calculons ici pour chaque bloc (ensemble des adresses de même rue, même code postal et même parité de numéro de maison, triées par numéro) la distance maximale entre deux numéros consécutifs. \n",
    "Une valeur anormalement grande dénote : \n",
    "- Soit une situation normale, avec de  routes de campagnes ayant de longs segments sans adresses, ou des rues qui changent de code postal pour en revenir\n",
    "- Soit une situation anormale, avec une (ou plusieurs) adresse(s) localisée(s) loin des autres de la même rue\n",
    "\n",
    "### delta_dist_to_prev\n",
    "\n",
    "De façon à distinguer une situation où toutes les adresses successives sont distantes de 1 km à une situation où toutes les adresses sont distantes de 10 mètres, sauf une distante de 1km, nous calculons ici une petite variante : il s'agit de diviser la distance maximale entre deux numéros successifs par la distance médiane entre deux numéros successifs du même bloc.\n",
    "\n",
    "### sinuosity\n",
    "\n",
    "On définit par \"sinuosité\" le rapport entre la longueur d'une courbe et le distance (en ligne droite) entre ses deux extrémités. Elle sera donc de 1 pour une courbe droite, et d'une valeur plus élevé si la courbe effectue un grand nombre de \"détours\".\n",
    "\n",
    "### sw_sinuosity\n",
    "\n",
    "Si entre deux points distants d'un km, on effectue une très longue boucle de 10km bien régulière (en roulant donc quasi tout droit), on aura la même sinuosité qu'en parcourant 10km en passant par d'innombrable petits virages très serrés, voire en faisant 5 allers-retours entre les 2 points. \n",
    "Pour distinguer ces situations, on calcule ici la moyenne de la sinuosité sur une fenêtre glissante de 5 numéros successifs.\n",
    "\n",
    "### length\n",
    "\n",
    "Cette mesure consiste simplement à mesurer la longueur total de la courbe. Une longueur anormalement grande dénote souvent une rue dans laquelle au moins une adresse a été erronément localisée à une grande distance des autres.  \n",
    "\n",
    "### delta_ratio\n",
    "\n",
    "Pour chaque couple d'adresses d'une même rue et de même parité, on calcule ici le ratio entre la différence entre la partie numérique des numéros de maison et la distance. Une valeur élevée indique que deux maisons de numéros très distants sont anormalement proches.\n",
    "Ceci s'explique souvent par deux phénomènes distincts: \n",
    "- Situation normale: une rue \"circulaire\", dans laquelle le dernier numéro se situe à côté du premier\n",
    "- Situation anormale: sur le coin entre deux rues, un batiment a été assigné à la mauvaise rue\n",
    "\n",
    "### Liste consolidée\n",
    "\n",
    "Dans le fichier \"best_anomalies_[region]_consolidated.pdf\", on retrouvera la liste de tous les blocs de rue se situant dans le top 50 d'au moins une des métriques présentées ci-desssus.\n",
    "Pour chaque bloc, on trouve une première page avec la liste des adresses consistuant le bloc. Sur la seconde page, on verra l'ensemble adresses du bloc en question. La couleur indique l'ordre: en mauve le plus petit numéro, en jaune le plus grand. Dans le tableau en dessous de la carte, on retrouve les différentes métriques. Si applicable, la ligne \"house_number\" indique à quel niveau la métrique a été obtenue. La ligne \"ranking\" indique le rang du bloc pour la métrique."
   ]
  },
  {
   "cell_type": "code",
   "execution_count": null,
   "id": "8bbc1120",
   "metadata": {
    "ExecuteTime": {
     "end_time": "2024-02-09T13:49:11.492955Z",
     "start_time": "2024-02-09T13:49:11.489751Z"
    }
   },
   "outputs": [],
   "source": [
    "# TODO : \n",
    "# sw_sinuosity: max plutôt que mean ?"
   ]
  },
  {
   "cell_type": "markdown",
   "id": "e38e757c",
   "metadata": {},
   "source": [
    "# Main code"
   ]
  },
  {
   "cell_type": "code",
   "execution_count": null,
   "id": "0c09c72e",
   "metadata": {
    "ExecuteTime": {
     "end_time": "2024-02-09T13:49:12.399629Z",
     "start_time": "2024-02-09T13:49:11.495918Z"
    }
   },
   "outputs": [],
   "source": [
    "import os\n",
    "import urllib\n",
    "\n",
    "import geopandas as gpd\n",
    "import pandas as pd\n",
    "import numpy as np\n",
    "\n",
    "import pickle\n",
    "import contextily as ctx\n",
    "import matplotlib.pyplot as plt\n",
    "\n",
    "from matplotlib.backends.backend_pdf import PdfPages\n",
    "\n",
    "from tqdm import tqdm, trange\n",
    "tqdm.pandas()\n",
    "\n",
    "import re\n",
    "import jellyfish\n"
   ]
  },
  {
   "cell_type": "code",
   "execution_count": null,
   "id": "fdf9a5f6",
   "metadata": {
    "ExecuteTime": {
     "end_time": "2024-02-09T13:49:12.405484Z",
     "start_time": "2024-02-09T13:49:12.402382Z"
    }
   },
   "outputs": [],
   "source": [
    "import shapely\n",
    "\n",
    "from shapely.geometry import Point, LineString\n",
    "\n",
    "\n",
    "import warnings\n",
    "warnings.filterwarnings(\"ignore\", category=shapely.errors.ShapelyDeprecationWarning) "
   ]
  },
  {
   "cell_type": "markdown",
   "id": "2b8e27ad",
   "metadata": {},
   "source": [
    "## Functions"
   ]
  },
  {
   "cell_type": "code",
   "execution_count": null,
   "id": "f909e343",
   "metadata": {
    "ExecuteTime": {
     "end_time": "2024-02-09T13:49:12.506195Z",
     "start_time": "2024-02-09T13:49:12.409199Z"
    }
   },
   "outputs": [],
   "source": [
    "def download_if_nexist(url, filename):\n",
    "    \"\"\"\n",
    "    If the (local) file <filename> does not exists, download it from <url>\n",
    "\n",
    "    Parameters\n",
    "    ----------\n",
    "    url: str\n",
    "       url to fetch\n",
    "    filename: str\n",
    "       local file to save\n",
    "\n",
    "    Returns\n",
    "    -------\n",
    "\n",
    "    None\n",
    "    \"\"\"\n",
    "    if not os.path.isfile(filename):\n",
    "        #gcontext = ssl.SSLContext()\n",
    "        with urllib.request.urlopen(url) as response:\n",
    "            with open(filename, \"wb\") as f:\n",
    "                f.write(response.read())"
   ]
  },
  {
   "cell_type": "code",
   "execution_count": null,
   "id": "a834204c",
   "metadata": {
    "ExecuteTime": {
     "end_time": "2024-02-09T13:49:12.591084Z",
     "start_time": "2024-02-09T13:49:12.508151Z"
    }
   },
   "outputs": [],
   "source": [
    "def set_optimal_limits(ax, df):\n",
    "    \"\"\"\n",
    "    Adapt xlim/ylim to a GeoDataFrame point plot to avoid plot to be too wide when \n",
    "    points are horizontally aligned, and to narrow when points are vertically aligned\n",
    "\n",
    "    Usage : \n",
    "    \n",
    "    ax = df.plot()\n",
    "    set_optimal_limits(ax, df)\n",
    "    \n",
    "    Parameters\n",
    "    ----------\n",
    "    ax: AxesSubplot\n",
    "       plot to resize\n",
    "    df: GeoDataFrame\n",
    "       data to be plotted\n",
    "\n",
    "    Returns\n",
    "    -------\n",
    "        None\n",
    "    \"\"\"\n",
    "    \n",
    "    plot_ratio = 1.5 # optimal ratio between \"one horizontal degree\" and \"one vertical degree\". It depends of the CRS. \n",
    "                     # For \"polar\" CRS, it may also depend of the place on the globe\n",
    "\n",
    "    minimal_width=400\n",
    "   \n",
    "    margins = 1.1 # Avoid having dots on edges of the plot\n",
    "    \n",
    "\n",
    "    # Compute dimension of the data\n",
    "    xmin, ymin, xmax, ymax = df.total_bounds\n",
    "    height = (ymax - ymin) \n",
    "    width = (xmax - xmin)\n",
    "    \n",
    "    opt_height = max(height, width / plot_ratio, minimal_width / plot_ratio)\n",
    "    opt_width  = max(width , height*plot_ratio, minimal_width)\n",
    "    \n",
    "#     print(xmin, ymin, xmax, ymax)\n",
    "#     print(width, height, opt_width, opt_height)\n",
    "    # If plot is too narrow, increase xmin. If plot is too wide, increase ylim\n",
    "\n",
    "    if opt_height > height :\n",
    "        ymid = (ymax+ymin)/2\n",
    "        mid_height = opt_height * margins / 2\n",
    "        ax.set_ylim(ymid - mid_height, ymid + mid_height)\n",
    "    if opt_width > width:\n",
    "        xmid = (xmax+xmin)/2\n",
    "        mid_width = opt_width* margins/2\n",
    "        ax.set_xlim(xmid - mid_width, xmid + mid_width)"
   ]
  },
  {
   "cell_type": "code",
   "execution_count": null,
   "id": "841d1a75",
   "metadata": {
    "ExecuteTime": {
     "end_time": "2024-02-09T13:49:12.674868Z",
     "start_time": "2024-02-09T13:49:12.593160Z"
    }
   },
   "outputs": [],
   "source": [
    "def null_jaro(str1, str2):\n",
    "    if pd.isnull(str1) or pd.isnull(str2):\n",
    "        return pd.NA\n",
    "    \n",
    "    return jellyfish.jaro_winkler_similarity(str1, str2)"
   ]
  },
  {
   "cell_type": "code",
   "execution_count": null,
   "id": "65102c0d",
   "metadata": {
    "ExecuteTime": {
     "end_time": "2024-02-09T13:49:12.759708Z",
     "start_time": "2024-02-09T13:49:12.676798Z"
    }
   },
   "outputs": [],
   "source": [
    "\n",
    "def line_sinuosity(geom):\n",
    "    # Return the ratio between the distance of the geometry, and the straight distance between the start and the end of the geometry\n",
    "    assert geom.geom_type == \"LineString\", geom.geom_type\n",
    "    length = geom.length\n",
    "    start_pt = geom.interpolate(0)\n",
    "    end_pt = geom.interpolate(1, normalized=True)\n",
    "    straight_dist = start_pt.distance(end_pt)\n",
    "    if straight_dist == 0.0:\n",
    "        if length == 0.0:\n",
    "            return 0.0\n",
    "        return float(\"inf\")\n",
    "    return length / straight_dist"
   ]
  },
  {
   "cell_type": "code",
   "execution_count": null,
   "id": "5c709cde",
   "metadata": {
    "ExecuteTime": {
     "end_time": "2024-02-09T13:49:12.835454Z",
     "start_time": "2024-02-09T13:49:12.761428Z"
    }
   },
   "outputs": [],
   "source": [
    "def sliding_sinuosity(street_side, windows_size=5):\n",
    "    if street_side.geometry.nunique() <3:\n",
    "        return pd.NA\n",
    "    geometry = street_side.geometry\n",
    "    local_sinuosity = [line_sinuosity(LineString(geometry.iloc[i:i+windows_size].reset_index(drop=True))) for i in range(0, max(1, geometry.shape[0]-windows_size))]\n",
    "#     print(local_sinuosity)\n",
    "    \n",
    "    return np.mean(local_sinuosity)\n",
    "                                                                                                          \n",
    "                                      \n",
    "    \n",
    "    "
   ]
  },
  {
   "cell_type": "code",
   "execution_count": null,
   "id": "678f8d83",
   "metadata": {
    "ExecuteTime": {
     "end_time": "2024-02-09T13:49:12.902863Z",
     "start_time": "2024-02-09T13:49:12.837656Z"
    }
   },
   "outputs": [],
   "source": [
    "# region[region.streetname == \"Abbaye de la Cambre\"].geometry.iloc[5:10].reset_index(drop=True)"
   ]
  },
  {
   "cell_type": "code",
   "execution_count": null,
   "id": "bfe51156",
   "metadata": {
    "ExecuteTime": {
     "end_time": "2024-02-09T13:49:13.035138Z",
     "start_time": "2024-02-09T13:49:12.906658Z"
    }
   },
   "outputs": [],
   "source": [
    "# region[(region.house_number_num.mod(2)==parity)].groupby([\"streetname\", \"postcode\"]).geometry.progress_apply(sliding_sinuosity)\n"
   ]
  },
  {
   "cell_type": "code",
   "execution_count": null,
   "id": "743c52fe",
   "metadata": {
    "ExecuteTime": {
     "end_time": "2024-02-09T13:49:13.472029Z",
     "start_time": "2024-02-09T13:49:13.036992Z"
    }
   },
   "outputs": [],
   "source": [
    "def bloc_sinuosity(street_side):\n",
    "    if street_side.geometry.nunique() <3:\n",
    "        return pd.NA\n",
    "    street_side_linestring = LineString(street_side.reset_index().geometry)\n",
    "    \n",
    "    return line_sinuosity(street_side_linestring)"
   ]
  },
  {
   "cell_type": "code",
   "execution_count": null,
   "id": "7f9095ae",
   "metadata": {
    "ExecuteTime": {
     "end_time": "2024-02-09T13:49:13.613856Z",
     "start_time": "2024-02-09T13:49:13.474271Z"
    }
   },
   "outputs": [],
   "source": [
    "def bloc_length(street_side):\n",
    "    if street_side.geometry.nunique() <3:\n",
    "        return pd.NA\n",
    "    street_side_linestring = LineString(street_side.reset_index().geometry)\n",
    "    \n",
    "    return street_side_linestring.length"
   ]
  },
  {
   "cell_type": "code",
   "execution_count": null,
   "id": "ee0ecc74",
   "metadata": {
    "ExecuteTime": {
     "end_time": "2024-02-09T13:49:13.706180Z",
     "start_time": "2024-02-09T13:49:13.615901Z"
    }
   },
   "outputs": [],
   "source": [
    "# bloc_length(region[region.streetname == \"Abbaye de la Cambre\"])"
   ]
  },
  {
   "cell_type": "code",
   "execution_count": null,
   "id": "07c459aa",
   "metadata": {
    "ExecuteTime": {
     "end_time": "2024-02-09T13:49:13.773990Z",
     "start_time": "2024-02-09T13:49:13.708294Z"
    }
   },
   "outputs": [],
   "source": [
    "def get_max_delta_ratio(street_bloc):\n",
    "    if  street_bloc.house_number_num.max() - street_bloc.house_number_num.min() < 20:\n",
    "        return 0, \"-\"\n",
    "    \n",
    "    b1 = street_bloc.reset_index()[[\"house_number_num\", \"geometry\", \"index\"]].assign(mg=1)\n",
    "    b2 = street_bloc.reset_index()[[\"house_number_num\", \"geometry\", \"index\"]].assign(mg=1)\n",
    "    dot_prod = b1.merge(b2, on=\"mg\")\n",
    "    dot_prod = dot_prod[dot_prod.index_x < dot_prod.index_y]\n",
    "    \n",
    "    dot_prod[\"delta_num\"] = (dot_prod.house_number_num_x - dot_prod.house_number_num_y).abs()\n",
    "    \n",
    "    dot_prod = dot_prod[dot_prod[\"delta_num\"]>10]\n",
    "    \n",
    "    dot_prod[\"distance\"] = gpd.GeoSeries(dot_prod.geometry_x).distance(gpd.GeoSeries(dot_prod.geometry_y))\n",
    "    dot_prod[\"delta_ratio\"] = dot_prod.delta_num/dot_prod.distance\n",
    "    \n",
    "    dot_prod = dot_prod[dot_prod.delta_ratio<np.inf]\n",
    "    \n",
    "    if dot_prod.shape[0]==0:\n",
    "        return 0, \"-\"\n",
    "    \n",
    "    id_max = dot_prod.delta_ratio.idxmax()\n",
    "    \n",
    "    rec_max = dot_prod.loc[id_max]\n",
    "    return (rec_max.delta_ratio, f\"{rec_max.house_number_num_x} -> {rec_max.house_number_num_y}\") \n",
    "#     display(dot_prod.sort_values(\"delta_ratio\"))\n",
    "#     return  .delta_ratio.max()\n",
    "#     return f\"{dot_prod.loc[imax].delta_ratio} ({})\n"
   ]
  },
  {
   "cell_type": "code",
   "execution_count": null,
   "id": "3c5bd39c",
   "metadata": {
    "ExecuteTime": {
     "end_time": "2024-02-09T13:49:13.858556Z",
     "start_time": "2024-02-09T13:49:13.776425Z"
    }
   },
   "outputs": [],
   "source": [
    "def get_street_bloc(region, streetname, postcode, parity):\n",
    "    street_bloc=region[(region.streetname==streetname) & (region.postcode==postcode) & (region.house_number_num.mod(2)==parity) ].copy()\n",
    "    \n",
    "    street_bloc = street_bloc.sort_values([\"house_number_num\", \"house_number\"])\n",
    "\n",
    "    street_bloc = street_bloc.drop_duplicates([\"geometry\", \"house_number\"])\n",
    "    \n",
    "    return street_bloc"
   ]
  },
  {
   "cell_type": "code",
   "execution_count": null,
   "id": "3e652f42",
   "metadata": {
    "ExecuteTime": {
     "end_time": "2024-02-09T13:49:13.934554Z",
     "start_time": "2024-02-09T13:49:13.860395Z"
    }
   },
   "outputs": [],
   "source": [
    "def plot_street_bloc(street_bloc, title=None, ax=None):\n",
    "    ax = street_bloc.plot(column=\"house_number_num\", figsize=(10,10),alpha=0.8, ax=ax)\n",
    "    ax.set_title(title)\n",
    "    ax.plot(street_bloc.geometry.x.values, street_bloc.geometry.y.values)#, ax=ax)#, ax=ax, kind=\"line\")\n",
    "#     ax.title = title\n",
    "\n",
    "    for idx, row in street_bloc.iterrows():\n",
    "    #     print(row[\"housenumber\"])\n",
    "        ax.annotate(text=row[\"house_number\"], xy=(row[\"geometry\"].x, row[\"geometry\"].y))\n",
    "    set_optimal_limits(ax, street_bloc)\n",
    "    ctx.add_basemap(ax, source=ctx.providers.OpenStreetMap.Mapnik)\n"
   ]
  },
  {
   "cell_type": "code",
   "execution_count": null,
   "id": "1786d721",
   "metadata": {
    "ExecuteTime": {
     "end_time": "2024-02-09T13:49:14.020522Z",
     "start_time": "2024-02-09T13:49:13.936243Z"
    }
   },
   "outputs": [],
   "source": [
    "import plotly.graph_objects as go\n",
    "\n",
    "def plot_street_bloc_plotly(street_bloc):\n",
    "    street_bloc_osm = street_bloc.to_crs(osm_crs)\n",
    "\n",
    "\n",
    "    fig = go.Figure(go.Scattermapbox(\n",
    "        mode = \"markers+lines\",\n",
    "    #     width=950, height=800,\n",
    "        lat = street_bloc_osm.geometry.y,\n",
    "        lon = street_bloc_osm.geometry.x,\n",
    "\n",
    "    #     color= ,\n",
    "        marker=go.scattermapbox.Marker(\n",
    "                    #line=dict(width = 1),\n",
    "                    color = street_bloc_osm['house_number_num'],\n",
    "                    size = 10\n",
    "                ),\n",
    "\n",
    "            hovertext=street_bloc_osm[[\"house_number\", \"streetname\", \"postcode\", \"postname\", \"municipality\"]]\n",
    "        ))\n",
    "\n",
    "\n",
    "    fig.update_layout(\n",
    "    #    margin ={'l':0,'t':0,'b':0,'r':0},\n",
    "        mapbox = {\n",
    "            'center': {'lon': street_bloc_osm.geometry.x.median(), \n",
    "                       'lat': street_bloc_osm.geometry.y.median()},\n",
    "            'style': \"open-street-map\",\n",
    "\n",
    "    #         'center': {'lon': -20, 'lat': -20},\n",
    "             'zoom': 10,\n",
    "\n",
    "        },\n",
    "    width=950, height=800,\n",
    "    )\n",
    "\n",
    "\n",
    "    fig.show()\n",
    "    return fig\n",
    "    \n"
   ]
  },
  {
   "cell_type": "code",
   "execution_count": null,
   "id": "9499aa30",
   "metadata": {
    "ExecuteTime": {
     "end_time": "2024-02-09T13:49:14.095234Z",
     "start_time": "2024-02-09T13:49:14.022217Z"
    }
   },
   "outputs": [],
   "source": [
    "def make_table(street_bloc, title=None):\n",
    "    street_bloc = street_bloc.reset_index()\n",
    "    \n",
    "    street_bloc[\"dist_to_prev\"] = street_bloc.distance(street_bloc.shift(1)).fillna(0).astype(int)\n",
    "    \n",
    "    if street_bloc.shape[0]>20:\n",
    "        df1 = street_bloc[[\"house_number\", \"address_id\", \"geometry\", \"dist_to_prev\"]].head(10)\n",
    "        df2 = street_bloc[[\"house_number\", \"address_id\", \"geometry\", \"dist_to_prev\"]].tail(10)\n",
    "        df3=pd.DataFrame(columns=df1.columns, \n",
    "                         index=[\"...\"],\n",
    "                         data = [ [\"...\"]*df1.shape[1]])\n",
    "\n",
    "        df = pd.concat([df1, df3, df2])\n",
    "    else:\n",
    "        df = street_bloc[[\"house_number\",  \"address_id\", \"geometry\", \"dist_to_prev\"]].copy()\n",
    "    \n",
    "    df[\"address_id\"] = df[\"address_id\"].apply(\";\".join)\n",
    "    for fld in [\"address_id\"]:\n",
    "        df[fld]  = df[fld].str[0:30]\n",
    "\n",
    "    fig, ax = plt.subplots(figsize=(10,.3*df.shape[0]))\n",
    "    ax.axis('tight')\n",
    "    ax.axis('off')\n",
    "\n",
    "    the_table = ax.table(cellText=df.values,\n",
    "                            rowLabels=df.index,\n",
    "                            colLabels=df.columns,\n",
    "                            rowColours=['lightblue']*len(df),\n",
    "                            colColours=['lightblue']*len(df.columns),\n",
    "    #                         cellColours=alternating_colors,\n",
    "                            loc='center')\n",
    "    plt.title(title)\n",
    "    return fig\n"
   ]
  },
  {
   "cell_type": "code",
   "execution_count": null,
   "id": "f574aa3f",
   "metadata": {
    "ExecuteTime": {
     "end_time": "2024-02-09T13:49:14.171504Z",
     "start_time": "2024-02-09T13:49:14.097006Z"
    }
   },
   "outputs": [],
   "source": [
    "def make_metric_table(rec, metrics, ax=None):\n",
    "    metrics_table = pd.DataFrame({m: {\n",
    "        \"metric\": f\"{rec[m]:.2f}\",\n",
    "        \"house_number\": rec[f\"{m}_house_number\"] if f\"{m}_house_number\" in rec else \"\",\n",
    "        \"ranking\" : \"\" if pd.isnull(rec[f\"{m}_ranking\"]) else int(rec[f\"{m}_ranking\"]) ,\n",
    "    } for m in metrics})\n",
    "\n",
    "    if ax is None:\n",
    "        fig, ax = plt.subplots(figsize=(10,1))\n",
    "    ax.axis('tight')\n",
    "    ax.axis('off')\n",
    "\n",
    "    the_table = ax.table(cellText=metrics_table.values,\n",
    "                            rowLabels=metrics_table.index,\n",
    "                            colLabels=metrics_table.columns,\n",
    "                            rowColours=['lightblue']*len(metrics_table),\n",
    "                            colColours=['lightblue']*len(metrics_table.columns),\n",
    "    #                         cellColours=alternating_colors,\n",
    "                            loc='center')\n",
    "    #return fig"
   ]
  },
  {
   "cell_type": "markdown",
   "id": "c3b26765",
   "metadata": {},
   "source": [
    "## Parameters"
   ]
  },
  {
   "cell_type": "code",
   "execution_count": null,
   "id": "6430ae12",
   "metadata": {
    "ExecuteTime": {
     "end_time": "2024-02-09T13:49:14.288826Z",
     "start_time": "2024-02-09T13:49:14.173240Z"
    }
   },
   "outputs": [],
   "source": [
    "root_output_dir = \"output/best_anomalies\"\n",
    "\n",
    "data_dir = \"data/best_anomalies\"\n",
    "\n",
    "topn = 50"
   ]
  },
  {
   "cell_type": "code",
   "execution_count": null,
   "id": "6c8e9345",
   "metadata": {
    "ExecuteTime": {
     "end_time": "2024-02-09T13:49:14.364695Z",
     "start_time": "2024-02-09T13:49:14.290804Z"
    }
   },
   "outputs": [],
   "source": [
    "# os.makedirs(output_dir, exist_ok=True)\n",
    "os.makedirs(data_dir, exist_ok=True)"
   ]
  },
  {
   "cell_type": "code",
   "execution_count": null,
   "id": "efa3c9f3",
   "metadata": {
    "ExecuteTime": {
     "end_time": "2024-02-09T13:49:14.431891Z",
     "start_time": "2024-02-09T13:49:14.366764Z"
    }
   },
   "outputs": [],
   "source": [
    "# datadir = \"data/geocoding/\""
   ]
  },
  {
   "cell_type": "code",
   "execution_count": null,
   "id": "fd35d035",
   "metadata": {
    "ExecuteTime": {
     "end_time": "2024-02-09T13:49:14.500024Z",
     "start_time": "2024-02-09T13:49:14.433959Z"
    }
   },
   "outputs": [],
   "source": [
    "# region_name = \"bru\"\n",
    "# region_name = \"vlg\"\n",
    "region_name = \"wal\""
   ]
  },
  {
   "cell_type": "code",
   "execution_count": null,
   "id": "72166380",
   "metadata": {
    "ExecuteTime": {
     "end_time": "2024-02-09T13:49:14.567563Z",
     "start_time": "2024-02-09T13:49:14.501812Z"
    }
   },
   "outputs": [],
   "source": [
    "municipality_id_prefix = None\n",
    "# municipality_id_prefix = \"25\"\n",
    "# municipality_id_prefix = \"25112\" # Wavre\n",
    "# municipality_id_prefix = \"93088\" # Walcourt"
   ]
  },
  {
   "cell_type": "markdown",
   "id": "852804a1",
   "metadata": {},
   "source": [
    "## Data reading"
   ]
  },
  {
   "cell_type": "code",
   "execution_count": null,
   "id": "19a2a743",
   "metadata": {
    "ExecuteTime": {
     "end_time": "2024-02-09T13:49:29.864910Z",
     "start_time": "2024-02-09T13:49:14.569290Z"
    }
   },
   "outputs": [],
   "source": [
    "best_fn = f\"{data_dir}/openaddress-be{region_name}.zip\"\n",
    "download_if_nexist(f\"https://opendata.bosa.be/download/best/openaddress-be{region_name}.zip\", best_fn)\n"
   ]
  },
  {
   "cell_type": "code",
   "execution_count": null,
   "id": "a472bc39",
   "metadata": {
    "ExecuteTime": {
     "end_time": "2024-02-09T13:49:36.387933Z",
     "start_time": "2024-02-09T13:49:29.867810Z"
    },
    "scrolled": true
   },
   "outputs": [],
   "source": [
    "full_region = pd.read_csv(best_fn, usecols=[\"municipality_name_de\", \"municipality_name_fr\", \"municipality_name_nl\", \"municipality_id\",\n",
    "                                  \"streetname_de\", \"streetname_fr\", \"streetname_nl\", \"street_id\",\n",
    "                                  \"postname_fr\", \"postname_nl\",\n",
    "                                  \"postcode\", \"house_number\", \"box_number\", \"region_code\", \"EPSG:31370_x\", \"EPSG:31370_y\", \"address_id\", \"status\"], dtype=str)\n",
    "full_region"
   ]
  },
  {
   "cell_type": "code",
   "execution_count": null,
   "id": "94397700",
   "metadata": {
    "ExecuteTime": {
     "end_time": "2024-02-09T13:49:36.392548Z",
     "start_time": "2024-02-09T13:49:36.389994Z"
    }
   },
   "outputs": [],
   "source": [
    "# region[region.postcode==\"5650\"]"
   ]
  },
  {
   "cell_type": "code",
   "execution_count": null,
   "id": "85ec8a20",
   "metadata": {
    "ExecuteTime": {
     "end_time": "2024-02-09T13:49:36.985300Z",
     "start_time": "2024-02-09T13:49:36.399903Z"
    },
    "scrolled": true
   },
   "outputs": [],
   "source": [
    "# region[region.streetname_fr==\"Rue des Pères\"]\n",
    "\n",
    "if municipality_id_prefix is not None:\n",
    "    full_region = full_region[full_region.municipality_id.str.startswith(municipality_id_prefix)].copy()\n",
    "    region_name = f\"{region_name}_{municipality_id_prefix}\""
   ]
  },
  {
   "cell_type": "code",
   "execution_count": null,
   "id": "1457bac3",
   "metadata": {
    "ExecuteTime": {
     "end_time": "2024-02-09T13:49:36.990811Z",
     "start_time": "2024-02-09T13:49:36.987996Z"
    }
   },
   "outputs": [],
   "source": [
    "output_dir = f\"{root_output_dir}/{region_name}\"\n",
    "os.makedirs(output_dir, exist_ok=True)"
   ]
  },
  {
   "cell_type": "code",
   "execution_count": null,
   "id": "798ebd52",
   "metadata": {
    "ExecuteTime": {
     "end_time": "2024-02-09T13:49:37.048371Z",
     "start_time": "2024-02-09T13:49:36.992893Z"
    }
   },
   "outputs": [],
   "source": [
    "# region[(region.streetname_fr==\"Rue de Wérister\") & (region.house_number==\"7\")]"
   ]
  },
  {
   "cell_type": "code",
   "execution_count": null,
   "id": "dbf1bf00",
   "metadata": {
    "ExecuteTime": {
     "end_time": "2024-02-09T13:49:37.155996Z",
     "start_time": "2024-02-09T13:49:37.050269Z"
    }
   },
   "outputs": [],
   "source": [
    "print(\"Without coordinates : \")\n",
    "full_region[full_region[\"EPSG:31370_x\"]== \"0.00000\"].sort_values([\"postcode\", \"streetname_fr\"])#.iloc[0:60]"
   ]
  },
  {
   "cell_type": "code",
   "execution_count": null,
   "id": "a72d3e0a",
   "metadata": {
    "ExecuteTime": {
     "end_time": "2024-02-09T13:49:37.303104Z",
     "start_time": "2024-02-09T13:49:37.157908Z"
    }
   },
   "outputs": [],
   "source": [
    "full_region = full_region[full_region[\"EPSG:31370_x\"]!= \"0.00000\"].copy()"
   ]
  },
  {
   "cell_type": "code",
   "execution_count": null,
   "id": "ff1c6033",
   "metadata": {
    "ExecuteTime": {
     "end_time": "2024-02-09T13:49:37.321039Z",
     "start_time": "2024-02-09T13:49:37.305362Z"
    }
   },
   "outputs": [],
   "source": [
    "full_region.status.value_counts()#/ region.shape[0]"
   ]
  },
  {
   "cell_type": "code",
   "execution_count": null,
   "id": "c0a5e424",
   "metadata": {
    "ExecuteTime": {
     "end_time": "2024-02-09T13:49:37.434810Z",
     "start_time": "2024-02-09T13:49:37.322889Z"
    }
   },
   "outputs": [],
   "source": [
    "full_region = full_region[full_region.status==\"current\"]"
   ]
  },
  {
   "cell_type": "code",
   "execution_count": null,
   "id": "40c0bba6",
   "metadata": {
    "ExecuteTime": {
     "end_time": "2024-02-09T13:49:37.843391Z",
     "start_time": "2024-02-09T13:49:37.436704Z"
    }
   },
   "outputs": [],
   "source": [
    "full_region[\"streetname\"] =   full_region.streetname_fr.fillna(full_region.streetname_nl).fillna(full_region.streetname_de)\n",
    "full_region[\"municipality\"] = full_region.municipality_name_fr.fillna(full_region.municipality_name_nl).fillna(full_region.municipality_name_de)\n",
    "full_region[\"postname\"] =     full_region.postname_fr.fillna(full_region.postname_nl).fillna(\"[na]\")\n",
    "\n",
    "full_region[\"house_number_num\"]= full_region.house_number.str.extract(\"^([0-9]*)\").astype(int, errors=\"ignore\")\n"
   ]
  },
  {
   "cell_type": "code",
   "execution_count": null,
   "id": "fd4ee6d4",
   "metadata": {
    "ExecuteTime": {
     "end_time": "2024-02-09T13:49:37.857969Z",
     "start_time": "2024-02-09T13:49:37.845528Z"
    }
   },
   "outputs": [],
   "source": [
    "print(\"No numerical house number:\")\n",
    "print(full_region[full_region.house_number_num== \"\"].shape[0])\n",
    "full_region[full_region.house_number_num== \"\"]"
   ]
  },
  {
   "cell_type": "code",
   "execution_count": null,
   "id": "34347edb",
   "metadata": {
    "ExecuteTime": {
     "end_time": "2024-02-09T13:49:38.064353Z",
     "start_time": "2024-02-09T13:49:37.859842Z"
    }
   },
   "outputs": [],
   "source": [
    "full_region = full_region[full_region.house_number_num!= \"\"]\n",
    "full_region.house_number_num = full_region.house_number_num.astype(int)"
   ]
  },
  {
   "cell_type": "code",
   "execution_count": null,
   "id": "d206ea77",
   "metadata": {
    "ExecuteTime": {
     "end_time": "2024-02-09T13:49:38.069462Z",
     "start_time": "2024-02-09T13:49:38.067133Z"
    },
    "scrolled": true
   },
   "outputs": [],
   "source": [
    "# region"
   ]
  },
  {
   "cell_type": "code",
   "execution_count": null,
   "id": "dccee531",
   "metadata": {
    "ExecuteTime": {
     "end_time": "2024-02-09T13:49:50.661295Z",
     "start_time": "2024-02-09T13:49:38.071475Z"
    }
   },
   "outputs": [],
   "source": [
    "crs = \"epsg:3857\"\n",
    "full_region[\"geometry\"] = gpd.points_from_xy(full_region[\"EPSG:31370_x\"], full_region[\"EPSG:31370_y\"])\n",
    "full_region = gpd.GeoDataFrame(full_region)\n",
    "full_region = full_region.set_crs(\"epsg:31370\").to_crs(crs)\n",
    "full_region = full_region.drop([\"EPSG:31370_x\", \"EPSG:31370_y\"], axis=1)"
   ]
  },
  {
   "cell_type": "code",
   "execution_count": null,
   "id": "00f8037c",
   "metadata": {
    "ExecuteTime": {
     "end_time": "2024-02-09T13:49:50.666580Z",
     "start_time": "2024-02-09T13:49:50.663822Z"
    }
   },
   "outputs": [],
   "source": [
    "# gpd.__version__"
   ]
  },
  {
   "cell_type": "code",
   "execution_count": null,
   "id": "dc643593",
   "metadata": {
    "ExecuteTime": {
     "end_time": "2024-02-09T13:50:03.690040Z",
     "start_time": "2024-02-09T13:49:50.668710Z"
    }
   },
   "outputs": [],
   "source": [
    "#Workaround as geometries are not \"groupbyable\"(/hashable)\n",
    "full_region_wkb = full_region.assign(geometry_wkb= full_region.geometry.apply(lambda geom: geom.wkb))\n",
    "                                     \n",
    "region = full_region_wkb.fillna(\"[na]\").groupby([\"streetname\", \"house_number\", \"house_number_num\", \"postcode\", \"postname\", \"municipality\", \"municipality_id\", \"geometry_wkb\"]).address_id.progress_apply(list).reset_index()\n",
    "region = region.merge(full_region_wkb[[\"geometry_wkb\", \"geometry\"]].drop_duplicates()).drop(\"geometry_wkb\", axis=1)\n",
    "\n",
    "region= gpd.GeoDataFrame(region)\n",
    "del full_region_wkb"
   ]
  },
  {
   "cell_type": "code",
   "execution_count": null,
   "id": "5d422bfe",
   "metadata": {
    "ExecuteTime": {
     "end_time": "2024-02-09T13:50:03.782485Z",
     "start_time": "2024-02-09T13:50:03.692734Z"
    }
   },
   "outputs": [],
   "source": [
    "region = region.sort_values([\"postcode\", \"streetname\", \"house_number_num\"])"
   ]
  },
  {
   "cell_type": "code",
   "execution_count": null,
   "id": "baabc0de",
   "metadata": {
    "ExecuteTime": {
     "end_time": "2024-02-09T13:50:03.809284Z",
     "start_time": "2024-02-09T13:50:03.784862Z"
    },
    "scrolled": true
   },
   "outputs": [],
   "source": [
    "region"
   ]
  },
  {
   "cell_type": "markdown",
   "id": "d1832ce8",
   "metadata": {},
   "source": [
    "# Box anomalies"
   ]
  },
  {
   "cell_type": "code",
   "execution_count": null,
   "id": "be135ebb",
   "metadata": {
    "ExecuteTime": {
     "end_time": "2024-02-09T13:50:03.916705Z",
     "start_time": "2024-02-09T13:50:03.811481Z"
    }
   },
   "outputs": [],
   "source": [
    "# Several names for the same street id\n",
    "x = full_region[[\"street_id\", \"streetname\"]].drop_duplicates()\n",
    "x[x.street_id.duplicated()]"
   ]
  },
  {
   "cell_type": "code",
   "execution_count": null,
   "id": "977126d9",
   "metadata": {
    "ExecuteTime": {
     "end_time": "2024-02-09T13:50:04.042425Z",
     "start_time": "2024-02-09T13:50:03.918987Z"
    },
    "scrolled": true
   },
   "outputs": [],
   "source": [
    "# Street_ids in multiple municipalities\n",
    "x = full_region[[\"street_id\", \"municipality_id\"]].drop_duplicates()\n",
    "x[x.street_id.duplicated(keep=False)].sort_values(\"street_id\").merge(full_region[[\"street_id\", \"municipality_id\", \"streetname\", \"municipality\"]].drop_duplicates())"
   ]
  },
  {
   "cell_type": "code",
   "execution_count": null,
   "id": "2960a471",
   "metadata": {
    "ExecuteTime": {
     "end_time": "2024-02-09T13:50:04.109277Z",
     "start_time": "2024-02-09T13:50:04.044819Z"
    }
   },
   "outputs": [],
   "source": [
    "# Several ids for the same street\n",
    "x = full_region[[\"street_id\", \"municipality_id\", \"streetname\", \"postcode\"]].drop_duplicates()\n",
    "x[x.duplicated(subset=[\"streetname\", \"municipality_id\", \"postcode\"], keep=False)].sort_values(\"streetname\")"
   ]
  },
  {
   "cell_type": "code",
   "execution_count": null,
   "id": "b0ecb313",
   "metadata": {
    "ExecuteTime": {
     "end_time": "2024-02-09T13:50:04.119449Z",
     "start_time": "2024-02-09T13:50:04.111278Z"
    }
   },
   "outputs": [],
   "source": [
    "# full_region."
   ]
  },
  {
   "cell_type": "code",
   "execution_count": null,
   "id": "44c3fac2",
   "metadata": {
    "ExecuteTime": {
     "end_time": "2024-02-09T13:50:11.083954Z",
     "start_time": "2024-02-09T13:50:04.121481Z"
    },
    "scrolled": true
   },
   "outputs": [],
   "source": [
    "# Several postcodes for the same building\n",
    "x = full_region[[\"street_id\", \"municipality_id\", \"house_number\", \"postcode\"]].drop_duplicates()\n",
    "x[x.duplicated(subset = [\"street_id\", \"municipality_id\", \"house_number\"], keep=False)].sort_values(\"street_id\").merge(full_region[[\"street_id\", \"municipality_id\",\"postcode\", \"streetname\", \"municipality\", \"house_number\", \"box_number\", \"address_id\", \"geometry\"]].drop_duplicates())"
   ]
  },
  {
   "cell_type": "code",
   "execution_count": null,
   "id": "c2603b6b",
   "metadata": {
    "ExecuteTime": {
     "end_time": "2024-02-09T13:50:11.169852Z",
     "start_time": "2024-02-09T13:50:11.086431Z"
    },
    "scrolled": true
   },
   "outputs": [],
   "source": [
    "region_with_boxes = full_region[full_region.duplicated(subset=[\"municipality_id\",  \"street_id\", \"house_number\"], keep=False)]"
   ]
  },
  {
   "cell_type": "code",
   "execution_count": null,
   "id": "b84499df",
   "metadata": {
    "ExecuteTime": {
     "end_time": "2024-02-09T13:50:11.262393Z",
     "start_time": "2024-02-09T13:50:11.172574Z"
    },
    "scrolled": true
   },
   "outputs": [],
   "source": [
    "region_with_boxes"
   ]
  },
  {
   "cell_type": "code",
   "execution_count": null,
   "id": "695ea996",
   "metadata": {
    "ExecuteTime": {
     "end_time": "2024-02-09T13:50:12.062593Z",
     "start_time": "2024-02-09T13:50:11.264682Z"
    }
   },
   "outputs": [],
   "source": [
    "region_buildings = region_with_boxes[[\"street_id\", \"streetname\", \"municipality_id\",\"municipality\", \"postcode\", \"house_number\", \"geometry\"]].dissolve([\"street_id\", \"municipality_id\", \"postcode\", \"house_number\"])\n",
    "region_buildings"
   ]
  },
  {
   "cell_type": "code",
   "execution_count": null,
   "id": "891363cd",
   "metadata": {
    "ExecuteTime": {
     "end_time": "2024-02-09T13:50:12.308946Z",
     "start_time": "2024-02-09T13:50:12.065034Z"
    },
    "scrolled": true
   },
   "outputs": [],
   "source": [
    "region_buildings[\"convex_hull\"] = region_buildings.convex_hull\n",
    "region_buildings"
   ]
  },
  {
   "cell_type": "code",
   "execution_count": null,
   "id": "980d6ea3",
   "metadata": {
    "ExecuteTime": {
     "end_time": "2024-02-09T13:50:12.802593Z",
     "start_time": "2024-02-09T13:50:12.311324Z"
    }
   },
   "outputs": [],
   "source": [
    "region_buildings[\"min_rot_rect\"] = region_buildings.convex_hull.apply(lambda g: g.minimum_rotated_rectangle)\n",
    "region_buildings"
   ]
  },
  {
   "cell_type": "code",
   "execution_count": null,
   "id": "3fd6c6bd",
   "metadata": {
    "ExecuteTime": {
     "end_time": "2024-02-09T13:50:12.808959Z",
     "start_time": "2024-02-09T13:50:12.804960Z"
    }
   },
   "outputs": [],
   "source": [
    "\n",
    "def get_min_rot_rect_size(min_rot_rect):\n",
    "    if isinstance(min_rot_rect, Point):\n",
    "        return 0,0\n",
    "    \n",
    "    if isinstance(min_rot_rect, LineString):\n",
    "        return min_rot_rect.length, 0\n",
    "    x, y = min_rot_rect.exterior.coords.xy\n",
    "\n",
    "    # get length of bounding box edges\n",
    "    edge_length = (Point(x[0], y[0]).distance(Point(x[1], y[1])), Point(x[1], y[1]).distance(Point(x[2], y[2])))\n",
    "\n",
    "    # get length of polygon as the longest edge of the bounding box\n",
    "    length = max(edge_length)\n",
    "\n",
    "    # get width of polygon as the shortest edge of the bounding box\n",
    "    width = min(edge_length)\n",
    "\n",
    "    return length, width"
   ]
  },
  {
   "cell_type": "code",
   "execution_count": null,
   "id": "bc7ec033",
   "metadata": {
    "ExecuteTime": {
     "end_time": "2024-02-09T13:50:12.905127Z",
     "start_time": "2024-02-09T13:50:12.810674Z"
    },
    "scrolled": true
   },
   "outputs": [],
   "source": [
    "mrr_size = region_buildings.min_rot_rect.progress_apply(get_min_rot_rect_size)\n",
    "region_buildings[[\"mrr_length\", \"mrr_width\"]]=pd.concat([mrr_size.rename(\"mrr_length\").str[0], mrr_size.rename(\"mrr_width\").str[1]], axis=1)"
   ]
  },
  {
   "cell_type": "code",
   "execution_count": null,
   "id": "7f60a2f7",
   "metadata": {
    "ExecuteTime": {
     "end_time": "2024-02-09T13:50:12.952682Z",
     "start_time": "2024-02-09T13:50:12.907150Z"
    }
   },
   "outputs": [],
   "source": [
    "# region_buildings[\"ch_perimeter\"] = region_buildings.convex_hull.length\n",
    "# region_buildings[\"ch_area\"] = region_buildings.convex_hull.area"
   ]
  },
  {
   "cell_type": "code",
   "execution_count": null,
   "id": "d417bb60",
   "metadata": {
    "ExecuteTime": {
     "end_time": "2024-02-09T13:50:13.049382Z",
     "start_time": "2024-02-09T13:50:12.954844Z"
    },
    "scrolled": true
   },
   "outputs": [],
   "source": [
    "region_buildings = region_buildings.sort_values(\"mrr_length\", ascending=False)\n",
    "region_buildings"
   ]
  },
  {
   "cell_type": "code",
   "execution_count": null,
   "id": "85fe1dcf",
   "metadata": {
    "ExecuteTime": {
     "end_time": "2024-02-09T13:50:13.087323Z",
     "start_time": "2024-02-09T13:50:13.051464Z"
    }
   },
   "outputs": [],
   "source": [
    "# region_buildings.iloc[25:35]"
   ]
  },
  {
   "cell_type": "code",
   "execution_count": null,
   "id": "c83be4a4",
   "metadata": {
    "ExecuteTime": {
     "end_time": "2024-02-09T13:50:13.163375Z",
     "start_time": "2024-02-09T13:50:13.089926Z"
    }
   },
   "outputs": [],
   "source": [
    "def plot_building_boxes(boxes, full_region):\n",
    "    #rec=region_buildings.iloc[[k]]\n",
    "    r= boxes.reset_index().iloc[0]\n",
    "    #title = f\"{r.streetname}, {r.house_number}, {r.postcode} {r.municipality} ({int(r.ch_perimeter)} m, {int(r.ch_area/10000)} ha)\"\n",
    "    title = f\"{r.streetname}, {r.house_number}, {r.postcode}/{r.municipality_id} {r.municipality} ({int(r.mrr_length)} m x {int(r.mrr_width)} m)\"\n",
    "    ax = boxes.plot()\n",
    "    boxes.set_geometry(\"min_rot_rect\").plot(ax=ax, alpha=0.2, color=\"red\")\n",
    "    ax.set_title(title)\n",
    "\n",
    "    set_optimal_limits(ax, boxes)\n",
    "    ctx.add_basemap(ax, source=ctx.providers.OpenStreetMap.Mapnik)\n",
    "\n",
    "    all_boxes = boxes.reset_index()[boxes.index.names].merge(full_region)\n",
    "#     display(all_boxes)\n",
    "    for idx, row in all_boxes.fillna(\"/\").iterrows():\n",
    "    #     print(row[\"housenumber\"])\n",
    "        ax.annotate(text=row[\"box_number\"], xy=(row[\"geometry\"].x, row[\"geometry\"].y))\n",
    "\n",
    "    "
   ]
  },
  {
   "cell_type": "code",
   "execution_count": null,
   "id": "d3098701",
   "metadata": {
    "ExecuteTime": {
     "end_time": "2024-02-09T13:50:20.911748Z",
     "start_time": "2024-02-09T13:50:13.165850Z"
    }
   },
   "outputs": [],
   "source": [
    "k=0\n",
    "plot_building_boxes(region_buildings.iloc[[k]], full_region)"
   ]
  },
  {
   "cell_type": "code",
   "execution_count": null,
   "id": "bb213731",
   "metadata": {
    "ExecuteTime": {
     "end_time": "2024-02-09T13:50:20.925622Z",
     "start_time": "2024-02-09T13:50:20.914346Z"
    }
   },
   "outputs": [],
   "source": [
    "pdf = PdfPages(f\"{output_dir}/best_anomalies_{region_name}_box_anomalies.pdf\")\n",
    "\n",
    "region_buildings_sel = region_buildings[(region_buildings.mrr_length > 100) & (region_buildings.mrr_width < 100)]\n",
    "for k in trange(0, min(2*topn, region_buildings_sel.shape[0])):\n",
    "    boxes= region_buildings_sel.iloc[[k]]\n",
    "    \n",
    "    plot_building_boxes(boxes, full_region)\n",
    "        \n",
    "    pdf.savefig(bbox_inches='tight')#, dpi=75)\n",
    "    plt.close()\n",
    "    \n",
    "pdf.close()"
   ]
  },
  {
   "cell_type": "code",
   "execution_count": null,
   "id": "248aea92",
   "metadata": {
    "ExecuteTime": {
     "end_time": "2024-02-09T13:50:21.050486Z",
     "start_time": "2024-02-09T13:50:20.927844Z"
    }
   },
   "outputs": [],
   "source": [
    "del full_region"
   ]
  },
  {
   "cell_type": "markdown",
   "id": "2eb1481f",
   "metadata": {
    "ExecuteTime": {
     "end_time": "2024-01-26T10:36:19.668370Z",
     "start_time": "2024-01-26T10:36:19.666120Z"
    }
   },
   "source": [
    "# Conflict with bPost"
   ]
  },
  {
   "cell_type": "code",
   "execution_count": null,
   "id": "dcdf6744",
   "metadata": {
    "ExecuteTime": {
     "end_time": "2024-02-09T13:50:21.129085Z",
     "start_time": "2024-02-09T13:50:21.053048Z"
    }
   },
   "outputs": [],
   "source": [
    "zipcode_boundaries_filename = \"data/zipcode_boundaries_shapefile_3812.zip\"\n",
    "download_if_nexist(\"https://bgu.bpost.be/assets/9738c7c0-5255-11ea-8895-34e12d0f0423_x-shapefile_3812.zip\",\n",
    "                  zipcode_boundaries_filename)"
   ]
  },
  {
   "cell_type": "code",
   "execution_count": null,
   "id": "b4c15733",
   "metadata": {
    "ExecuteTime": {
     "end_time": "2024-02-09T13:50:23.110821Z",
     "start_time": "2024-02-09T13:50:21.131358Z"
    }
   },
   "outputs": [],
   "source": [
    "zipcodes_boundaries = gpd.read_file(f\"zip://{zipcode_boundaries_filename}/3812\")\n",
    "zipcodes_boundaries[\"is_special\"] = zipcodes_boundaries.CP_speciau ==1\n",
    "zipcodes_boundaries = zipcodes_boundaries.rename({\"nouveau_PO\":\"zipcode\"}, axis=1)[[\"zipcode\", \"is_special\", \"geometry\"]]\n",
    "\n",
    "zipcodes_boundaries = zipcodes_boundaries.dissolve([\"zipcode\", \"is_special\"]).reset_index()\n",
    "\n",
    "zipcodes_boundaries = zipcodes_boundaries.to_crs(crs)\n",
    "zipcodes_boundaries"
   ]
  },
  {
   "cell_type": "code",
   "execution_count": null,
   "id": "90c6be26",
   "metadata": {
    "ExecuteTime": {
     "end_time": "2024-02-09T13:50:25.803682Z",
     "start_time": "2024-02-09T13:50:23.113559Z"
    }
   },
   "outputs": [],
   "source": [
    "zipcodes_boundaries[\"buffer\"] = zipcodes_boundaries.buffer(-50)"
   ]
  },
  {
   "cell_type": "code",
   "execution_count": null,
   "id": "75018f87",
   "metadata": {
    "ExecuteTime": {
     "end_time": "2024-02-09T13:50:42.380911Z",
     "start_time": "2024-02-09T13:50:25.806199Z"
    },
    "scrolled": true
   },
   "outputs": [],
   "source": [
    "region_zipcode = gpd.sjoin(region, zipcodes_boundaries.set_geometry(\"buffer\"))"
   ]
  },
  {
   "cell_type": "code",
   "execution_count": null,
   "id": "fe1a1b93",
   "metadata": {
    "ExecuteTime": {
     "end_time": "2024-01-26T15:47:22.251791Z",
     "start_time": "2024-01-26T15:47:15.200236Z"
    }
   },
   "outputs": [],
   "source": []
  },
  {
   "cell_type": "code",
   "execution_count": null,
   "id": "8c986a52",
   "metadata": {
    "ExecuteTime": {
     "end_time": "2024-02-09T13:50:42.388481Z",
     "start_time": "2024-02-09T13:50:42.383869Z"
    },
    "scrolled": true
   },
   "outputs": [],
   "source": [
    "region_zipcode.shape, region.shape"
   ]
  },
  {
   "cell_type": "code",
   "execution_count": null,
   "id": "c0faa92c",
   "metadata": {
    "ExecuteTime": {
     "end_time": "2024-02-09T13:50:42.555080Z",
     "start_time": "2024-02-09T13:50:42.390907Z"
    },
    "scrolled": true
   },
   "outputs": [],
   "source": [
    "zip_mismatches = region_zipcode[region_zipcode.postcode !=region_zipcode.zipcode]\n",
    "zip_mismatches"
   ]
  },
  {
   "cell_type": "code",
   "execution_count": null,
   "id": "8a195513",
   "metadata": {
    "ExecuteTime": {
     "end_time": "2024-02-09T13:50:42.718305Z",
     "start_time": "2024-02-09T13:50:42.557828Z"
    }
   },
   "outputs": [],
   "source": [
    "zip_mismatches.drop([\"geometry_left\", \"geometry_right\", \"index_right\"], axis=1).to_excel(f\"{output_dir}/best_anomalies_{region_name}_zip_mismatches.xlsx\")"
   ]
  },
  {
   "cell_type": "code",
   "execution_count": null,
   "id": "26f1b6a1",
   "metadata": {
    "ExecuteTime": {
     "end_time": "2024-02-09T13:50:42.723962Z",
     "start_time": "2024-02-09T13:50:42.721401Z"
    }
   },
   "outputs": [],
   "source": [
    "# mismatches.set_geometry(\"geometry_left\").plot()"
   ]
  },
  {
   "cell_type": "code",
   "execution_count": null,
   "id": "bd7d10f9",
   "metadata": {
    "ExecuteTime": {
     "end_time": "2024-02-09T13:50:42.809808Z",
     "start_time": "2024-02-09T13:50:42.726523Z"
    },
    "scrolled": true
   },
   "outputs": [],
   "source": [
    "# mismatches.postcode.value_counts().iloc[0:60]"
   ]
  },
  {
   "cell_type": "code",
   "execution_count": null,
   "id": "ac275287",
   "metadata": {
    "ExecuteTime": {
     "end_time": "2024-02-09T13:50:42.888314Z",
     "start_time": "2024-02-09T13:50:42.811979Z"
    }
   },
   "outputs": [],
   "source": [
    "zip_mismatches.postcode.value_counts()"
   ]
  },
  {
   "cell_type": "code",
   "execution_count": null,
   "id": "bed6db69",
   "metadata": {
    "ExecuteTime": {
     "end_time": "2024-02-09T13:50:42.960886Z",
     "start_time": "2024-02-09T13:50:42.890192Z"
    },
    "scrolled": true
   },
   "outputs": [],
   "source": [
    "# zipcode=\"1010\"\n",
    "# # display(mismatches[mismatches.postcode==zipcode])\n",
    "# mism=zip_mismatches[zip_mismatches.postcode==zipcode].set_geometry(\"geometry_left\")\n",
    "# ax=mism.plot(\"zipcode\", figsize=(15,15),alpha=0.8, legend=True)\n",
    "# # ax=region[region.postcode==zipcode].plot(figsize=(15,15),alpha=0.8, color=\"green\")\n",
    "# # ax=mismatches[mismatches.postcode==zipcode].set_geometry(\"geometry_left\").plot(ax=ax, color=\"red\")\n",
    "\n",
    "# ax=zipcodes_boundaries[zipcodes_boundaries.zipcode==zipcode].boundary.plot(ax=ax, color=\"red\")\n",
    "# # set_optimal_limits(ax, zipcodes_boundaries[zipcodes_boundaries.zipcode==zipcode])\n",
    "# ctx.add_basemap(ax, source=ctx.providers.OpenStreetMap.Mapnik)\n",
    "# # ax=mismatches[mismatches.zipcode==\"1301\"].set_geometry(\"geometry_right\").plot()\n"
   ]
  },
  {
   "cell_type": "code",
   "execution_count": null,
   "id": "b329f8b6",
   "metadata": {
    "ExecuteTime": {
     "end_time": "2024-02-09T13:50:43.058828Z",
     "start_time": "2024-02-09T13:50:42.962759Z"
    }
   },
   "outputs": [],
   "source": [
    "# zipcodes_boundaries[zipcodes_boundaries.zipcode==zipcode]"
   ]
  },
  {
   "cell_type": "code",
   "execution_count": null,
   "id": "9f93e908",
   "metadata": {
    "ExecuteTime": {
     "end_time": "2024-02-09T13:51:42.629634Z",
     "start_time": "2024-02-09T13:50:43.061056Z"
    },
    "scrolled": true
   },
   "outputs": [],
   "source": [
    "pdf = PdfPages(f\"{output_dir}/best_anomalies_{region_name}_zip_mismatches.pdf\")\n",
    "\n",
    "for zipcode in tqdm(zip_mismatches.postcode.value_counts().index):\n",
    "    \n",
    "    mism=zip_mismatches[zip_mismatches.postcode==zipcode].set_geometry(\"geometry_left\")\n",
    "    nis = \";\".join(mism.municipality_id.unique()) \n",
    "    ax=mism.plot(\"zipcode\", figsize=(10,10),alpha=0.8, legend=True)\n",
    "    plt.title(f\"{zipcode} ({nis})\")\n",
    "    # ax=region[region.postcode==zipcode].plot(figsize=(15,15),alpha=0.8, color=\"green\")\n",
    "    # ax=mismatches[mismatches.postcode==zipcode].set_geometry(\"geometry_left\").plot(ax=ax, color=\"red\")\n",
    "    zip_bnd = zipcodes_boundaries[zipcodes_boundaries.zipcode==zipcode]\n",
    "    if zip_bnd.shape[0]>0:\n",
    "        ax=zip_bnd.boundary.plot(ax=ax, color=\"red\")\n",
    "    set_optimal_limits(ax, pd.concat([zip_bnd[[\"geometry\"]], mism[[\"geometry_left\"]].rename(columns={\"geometry_left\": \"geometry\"})]))\n",
    "    ctx.add_basemap(ax, source=ctx.providers.OpenStreetMap.Mapnik)\n",
    "\n",
    "    pdf.savefig(bbox_inches='tight')#, dpi=75)\n",
    "    plt.close()\n",
    "    \n",
    "pdf.close()"
   ]
  },
  {
   "cell_type": "markdown",
   "id": "1f2bde9f",
   "metadata": {
    "ExecuteTime": {
     "end_time": "2024-01-29T08:43:56.522878Z",
     "start_time": "2024-01-29T08:43:56.520597Z"
    }
   },
   "source": [
    "# Conflict with NIS code"
   ]
  },
  {
   "cell_type": "code",
   "execution_count": null,
   "id": "eee68241",
   "metadata": {
    "ExecuteTime": {
     "end_time": "2024-02-09T13:51:46.048442Z",
     "start_time": "2024-02-09T13:51:42.632054Z"
    }
   },
   "outputs": [],
   "source": [
    "download_if_nexist(\"https://statbel.fgov.be/sites/default/files/files/opendata/Statistische%20sectoren/sh_statbel_statistical_sectors_31370_20200101.shp.zip\",\n",
    "                   \"data/stat_sectors_2020.zip\")\n",
    "statistical_sectors = gpd.read_file(\"zip://data/stat_sectors_2020.zip/sh_statbel_statistical_sectors_20200101.shp\")\n",
    "statistical_sectors[\"CNIS5_2020\"] = statistical_sectors[\"CNIS5_2020\"].astype(str)"
   ]
  },
  {
   "cell_type": "code",
   "execution_count": null,
   "id": "001ca322",
   "metadata": {
    "ExecuteTime": {
     "end_time": "2024-02-09T13:51:56.044513Z",
     "start_time": "2024-02-09T13:51:46.050856Z"
    }
   },
   "outputs": [],
   "source": [
    "# Group (with \"dissolve\") sectors per NIS code\n",
    "nis_boundaries = statistical_sectors[[\"CNIS5_2020\", \"T_MUN_FR\", \"T_MUN_NL\", \"geometry\"]].dissolve(by=\"CNIS5_2020\").reset_index()\n",
    "nis_boundaries = nis_boundaries.rename({\"CNIS5_2020\": \"niscode\"}, axis=1)\n",
    "nis_boundaries = nis_boundaries.to_crs(crs)"
   ]
  },
  {
   "cell_type": "code",
   "execution_count": null,
   "id": "19be8275",
   "metadata": {
    "ExecuteTime": {
     "end_time": "2024-02-09T13:51:59.684221Z",
     "start_time": "2024-02-09T13:51:56.046773Z"
    }
   },
   "outputs": [],
   "source": [
    "nis_boundaries[\"buffer\"] = nis_boundaries.buffer(-50)"
   ]
  },
  {
   "cell_type": "code",
   "execution_count": null,
   "id": "a450399a",
   "metadata": {
    "ExecuteTime": {
     "end_time": "2024-02-09T13:52:18.210766Z",
     "start_time": "2024-02-09T13:51:59.686904Z"
    }
   },
   "outputs": [],
   "source": [
    "region_niscode = gpd.sjoin(region, nis_boundaries.set_geometry(\"buffer\"))"
   ]
  },
  {
   "cell_type": "code",
   "execution_count": null,
   "id": "710eba31",
   "metadata": {
    "ExecuteTime": {
     "end_time": "2024-02-09T13:52:18.215628Z",
     "start_time": "2024-02-09T13:52:18.213225Z"
    },
    "scrolled": true
   },
   "outputs": [],
   "source": [
    "# region_niscode[region_niscode.streetname==\"Place Albert Ier (MT)\"][[\"municipality_id\", \"niscode\"]].drop_duplicates()"
   ]
  },
  {
   "cell_type": "code",
   "execution_count": null,
   "id": "e781fdcd",
   "metadata": {
    "ExecuteTime": {
     "end_time": "2024-02-09T13:52:18.383143Z",
     "start_time": "2024-02-09T13:52:18.217303Z"
    }
   },
   "outputs": [],
   "source": [
    "nis_mismatches = region_niscode[region_niscode.municipality_id !=region_niscode.niscode]\n",
    "nis_mismatches"
   ]
  },
  {
   "cell_type": "code",
   "execution_count": null,
   "id": "5ac2ae70",
   "metadata": {
    "ExecuteTime": {
     "end_time": "2024-02-09T13:52:18.407737Z",
     "start_time": "2024-02-09T13:52:18.394678Z"
    }
   },
   "outputs": [],
   "source": [
    "nis_mismatches.drop([\"geometry_left\", \"geometry_right\", \"index_right\"], axis=1).to_excel(f\"{output_dir}/best_anomalies_{region_name}_nis_mismatches.xlsx\")"
   ]
  },
  {
   "cell_type": "code",
   "execution_count": null,
   "id": "79841495",
   "metadata": {
    "ExecuteTime": {
     "end_time": "2024-02-09T13:52:25.895348Z",
     "start_time": "2024-02-09T13:52:18.410037Z"
    }
   },
   "outputs": [],
   "source": [
    "pdf = PdfPages(f\"{output_dir}/best_anomalies_{region_name}_nis_mismatches.pdf\")\n",
    "\n",
    "for niscode in tqdm(nis_mismatches.municipality_id.value_counts().index):\n",
    "    \n",
    "    mism=nis_mismatches[nis_mismatches.municipality_id==niscode].set_geometry(\"geometry_left\")\n",
    "    \n",
    "    ax=mism.plot(\"niscode\", figsize=(10,10),alpha=0.8, legend=True)\n",
    "    plt.title(niscode)\n",
    "    # ax=region[region.postcode==zipcode].plot(figsize=(15,15),alpha=0.8, color=\"green\")\n",
    "    # ax=mismatches[mismatches.postcode==zipcode].set_geometry(\"geometry_left\").plot(ax=ax, color=\"red\")\n",
    "    nis_bnd = nis_boundaries[nis_boundaries.niscode==niscode]\n",
    "    if nis_bnd.shape[0]>0:\n",
    "        ax=nis_bnd.boundary.plot(ax=ax, color=\"red\")\n",
    "    set_optimal_limits(ax, pd.concat([nis_bnd[[\"geometry\"]], mism[[\"geometry_left\"]].rename(columns={\"geometry_left\": \"geometry\"})]))\n",
    "    ctx.add_basemap(ax, source=ctx.providers.OpenStreetMap.Mapnik)\n",
    "\n",
    "    pdf.savefig(bbox_inches='tight')#, dpi=75)\n",
    "    plt.close()\n",
    "    \n",
    "pdf.close()"
   ]
  },
  {
   "cell_type": "markdown",
   "id": "4f7b2e91",
   "metadata": {},
   "source": [
    "# Street names incoherence"
   ]
  },
  {
   "cell_type": "code",
   "execution_count": null,
   "id": "713a3e14",
   "metadata": {
    "ExecuteTime": {
     "end_time": "2024-02-09T13:52:25.900413Z",
     "start_time": "2024-02-09T13:52:25.897958Z"
    }
   },
   "outputs": [],
   "source": [
    "# region.groupby([\"streetname\", \"postcode\"]).dissolve()"
   ]
  },
  {
   "cell_type": "code",
   "execution_count": null,
   "id": "21df5030",
   "metadata": {
    "ExecuteTime": {
     "end_time": "2024-02-09T13:52:39.494315Z",
     "start_time": "2024-02-09T13:52:25.902123Z"
    }
   },
   "outputs": [],
   "source": [
    "region_streets = region[[\"streetname\", \"postcode\", \"geometry\", \"municipality_id\"]].dissolve([\"streetname\", \"postcode\"])\n",
    "region_streets[\"buffer\"] = region_streets.buffer(50)\n",
    "region_streets = region_streets.reset_index()\n",
    "region_streets"
   ]
  },
  {
   "cell_type": "code",
   "execution_count": null,
   "id": "7fb1979d",
   "metadata": {
    "ExecuteTime": {
     "end_time": "2024-02-09T13:52:41.455103Z",
     "start_time": "2024-02-09T13:52:39.496796Z"
    }
   },
   "outputs": [],
   "source": [
    "connected_streets = gpd.sjoin(region_streets, region_streets.set_geometry(\"buffer\"))\n",
    "connected_streets = connected_streets[connected_streets.streetname_left < connected_streets.streetname_right]"
   ]
  },
  {
   "cell_type": "code",
   "execution_count": null,
   "id": "790f3704",
   "metadata": {
    "ExecuteTime": {
     "end_time": "2024-02-09T13:52:41.486789Z",
     "start_time": "2024-02-09T13:52:41.457656Z"
    },
    "scrolled": true
   },
   "outputs": [],
   "source": [
    "connected_streets"
   ]
  },
  {
   "cell_type": "code",
   "execution_count": null,
   "id": "d6526701",
   "metadata": {
    "ExecuteTime": {
     "end_time": "2024-02-09T13:52:41.544530Z",
     "start_time": "2024-02-09T13:52:41.488615Z"
    }
   },
   "outputs": [],
   "source": [
    "for side in [\"right\", \"left\"]:\n",
    "    connected_streets[[f\"split_{side}_1\", f\"split_{side}_2\"]] = connected_streets[f\"streetname_{side}\"].str.extract(\"^(Avenue|Rue|Chaussée|Boulevard|Drève|Clos|Square)(.*)$\", flags=re.IGNORECASE)"
   ]
  },
  {
   "cell_type": "code",
   "execution_count": null,
   "id": "cd4324f0",
   "metadata": {
    "ExecuteTime": {
     "end_time": "2024-02-09T13:52:41.798901Z",
     "start_time": "2024-02-09T13:52:41.546760Z"
    }
   },
   "outputs": [],
   "source": [
    "\n",
    "\n",
    "connected_streets[\"jaro\"] =connected_streets.progress_apply(lambda row: jellyfish.jaro_winkler_similarity(row[\"streetname_left\"],\n",
    "                                                                                                          row[\"streetname_right\"]), axis=1)\n",
    "\n",
    "connected_streets[\"levenshtein\"] =connected_streets.progress_apply(lambda row: jellyfish.damerau_levenshtein_distance(row[\"streetname_left\"],\n",
    "                                                                                                          row[\"streetname_right\"]), axis=1)\n",
    "\n",
    "connected_streets[\"jaro_split\"] =connected_streets.progress_apply(lambda row: null_jaro(row[\"split_left_2\"],\n",
    "                                                                                        row[\"split_right_2\"]), axis=1)\n",
    "\n",
    "connected_streets[\"single_last_letter\"] = (connected_streets.streetname_left.str.len() == connected_streets.streetname_right.str.len()) & \\\n",
    "                                            (connected_streets.streetname_left.str[:-2] == connected_streets.streetname_right.str[:-2]) & \\\n",
    "                                            (connected_streets.streetname_left.str[-2] == \" \")\n",
    "\n",
    "\n"
   ]
  },
  {
   "cell_type": "code",
   "execution_count": null,
   "id": "4d549708",
   "metadata": {
    "ExecuteTime": {
     "end_time": "2024-02-08T16:18:05.918891Z",
     "start_time": "2024-02-08T16:18:05.827783Z"
    }
   },
   "outputs": [],
   "source": []
  },
  {
   "cell_type": "code",
   "execution_count": null,
   "id": "8d6f8bc4",
   "metadata": {
    "ExecuteTime": {
     "end_time": "2024-02-09T13:52:41.803401Z",
     "start_time": "2024-02-09T13:52:41.801214Z"
    }
   },
   "outputs": [],
   "source": [
    "# connected_streets[connected_streets.single_last_letter]"
   ]
  },
  {
   "cell_type": "code",
   "execution_count": null,
   "id": "b15bb2ef",
   "metadata": {
    "ExecuteTime": {
     "end_time": "2024-02-09T13:52:41.917525Z",
     "start_time": "2024-02-09T13:52:41.805185Z"
    },
    "scrolled": true
   },
   "outputs": [],
   "source": [
    "streetname_mismatches = connected_streets[((connected_streets.levenshtein<=1) \n",
    "                                          | (connected_streets.jaro >=0.95)\n",
    "                                          | ((connected_streets.jaro_split >= 0.95 ) & \n",
    "                                             (connected_streets.split_left_1.str.lower() == connected_streets.split_right_1.str.lower()))) &\n",
    "                                         ~connected_streets.single_last_letter\n",
    "                                         ]\n",
    "                                         \n",
    "streetname_mismatches"
   ]
  },
  {
   "cell_type": "code",
   "execution_count": null,
   "id": "2dc12573",
   "metadata": {
    "ExecuteTime": {
     "end_time": "2024-02-09T13:53:29.338757Z",
     "start_time": "2024-02-09T13:52:41.919798Z"
    }
   },
   "outputs": [],
   "source": [
    "pdf = PdfPages(f\"{output_dir}/best_anomalies_{region_name}_close_streetnames.pdf\")\n",
    "\n",
    "for i, rec in tqdm(streetname_mismatches.sort_values([\"levenshtein\", \"jaro\"], ascending=[True, False]).iterrows(),\n",
    "                  total=streetname_mismatches.shape[0]):\n",
    "#     print(rec)\n",
    "#     rec = streetname_mismatches.sort_values(\"levenshtein\").iloc[[i]]\n",
    "    r1 = rec[[\"streetname_left\", \"postcode_left\",  \"municipality_id_left\", \"geometry_left\"]].rename({\"streetname_left\":\"streetname\", \n",
    "                                                                                                     \"postcode_left\": \"postcode\", \n",
    "                                                                                                     \"municipality_id_left\": \"municipality_id\", \n",
    "                                                                                                     \"geometry_left\":\"geometry\"})\n",
    "    r2 = rec[[\"streetname_right\", \"postcode_right\", \"municipality_id_right\", \"geometry_right\"]].rename({\"streetname_right\":\"streetname\", \n",
    "                                                                                                        \"postcode_right\": \"postcode\", \n",
    "                                                                                                        \"municipality_id_right\": \"municipality_id\", \n",
    "                                                                                                        \"geometry_right\":\"geometry\"})\n",
    "    \n",
    "    r = gpd.GeoDataFrame([r1, r2])\n",
    "\n",
    "    r[\"name\"] = r[\"streetname\"]+\", \"+r[\"postcode\"]+\"/\"+r[\"municipality_id\"]\n",
    "    ax=r.plot(\"name\", legend=True)\n",
    "    set_optimal_limits(ax, r)\n",
    "    ctx.add_basemap(ax, source=ctx.providers.OpenStreetMap.Mapnik)\n",
    "\n",
    "    pdf.savefig(bbox_inches='tight')#, dpi=75)\n",
    "    plt.close()\n",
    "    \n",
    "pdf.close()"
   ]
  },
  {
   "cell_type": "code",
   "execution_count": null,
   "id": "328b54bb",
   "metadata": {
    "ExecuteTime": {
     "end_time": "2024-01-29T09:15:16.716613Z",
     "start_time": "2024-01-29T09:15:16.707660Z"
    }
   },
   "outputs": [],
   "source": []
  },
  {
   "cell_type": "markdown",
   "id": "aecfe7cd",
   "metadata": {},
   "source": [
    "# Metrics"
   ]
  },
  {
   "cell_type": "code",
   "execution_count": null,
   "id": "4a4e26ad",
   "metadata": {
    "ExecuteTime": {
     "end_time": "2024-02-09T13:53:29.343938Z",
     "start_time": "2024-02-09T13:53:29.341075Z"
    }
   },
   "outputs": [],
   "source": [
    "# get_max_delta_ratio(street_bloc)"
   ]
  },
  {
   "cell_type": "markdown",
   "id": "856c13d6",
   "metadata": {},
   "source": [
    "## Sinuosity"
   ]
  },
  {
   "cell_type": "code",
   "execution_count": null,
   "id": "195f0083",
   "metadata": {
    "ExecuteTime": {
     "end_time": "2024-01-25T12:24:05.336016Z",
     "start_time": "2024-01-25T12:23:52.058023Z"
    }
   },
   "outputs": [],
   "source": []
  },
  {
   "cell_type": "code",
   "execution_count": null,
   "id": "8927ae56",
   "metadata": {
    "ExecuteTime": {
     "end_time": "2024-02-09T13:54:18.251471Z",
     "start_time": "2024-02-09T13:53:29.345934Z"
    }
   },
   "outputs": [],
   "source": [
    "sin_par = []\n",
    "for parity in [0, 1]:\n",
    "    sin= region[(region.house_number_num.mod(2)==parity)].groupby([\"streetname\", \"postcode\"]).progress_apply(bloc_sinuosity)#.sort_values(na_pos=\"first\")\n",
    "    sin = sin.sort_values(na_position=\"first\").rename(\"sinuosity\").reset_index()\n",
    "    sin[\"parity\"]=parity\n",
    "    display(sin)\n",
    "    sin_par.append(sin)\n",
    "sinuosity= pd.concat(sin_par)\n",
    "sinuosity = sinuosity[(sinuosity.sinuosity.notnull()) & (sinuosity.sinuosity<10**10)].sort_values(\"sinuosity\", ascending=False).reset_index(drop=True)\n",
    "sinuosity"
   ]
  },
  {
   "cell_type": "code",
   "execution_count": null,
   "id": "bae8f387",
   "metadata": {
    "ExecuteTime": {
     "end_time": "2024-02-09T13:54:18.255695Z",
     "start_time": "2024-02-09T13:54:18.253303Z"
    },
    "scrolled": true
   },
   "outputs": [],
   "source": [
    "# sinuosity = sinuosity[sinuosity.sinuosity<10**10]\n",
    "# region"
   ]
  },
  {
   "cell_type": "code",
   "execution_count": null,
   "id": "ff108136",
   "metadata": {
    "ExecuteTime": {
     "end_time": "2024-02-09T13:55:12.724252Z",
     "start_time": "2024-02-09T13:54:18.258130Z"
    }
   },
   "outputs": [],
   "source": [
    "sw_sin_par = []\n",
    "for parity in [0, 1]:\n",
    "    sin= region[(region.house_number_num.mod(2)==parity)].groupby([\"streetname\", \"postcode\"]).progress_apply(sliding_sinuosity)#.sort_values(na_pos=\"first\")\n",
    "    sin = sin.sort_values(na_position=\"first\").rename(\"sw_sinuosity\").reset_index()\n",
    "    sin[\"parity\"]=parity\n",
    "    display(sin)\n",
    "    sw_sin_par.append(sin)\n",
    "sw_sinuosity= pd.concat(sw_sin_par)\n",
    "sw_sinuosity = sw_sinuosity[(sw_sinuosity.sw_sinuosity.notnull()) & (sw_sinuosity.sw_sinuosity<10**10)].sort_values(\"sw_sinuosity\", ascending=False)\n",
    "sw_sinuosity = sw_sinuosity.reset_index(drop=True)\n",
    "sw_sinuosity"
   ]
  },
  {
   "cell_type": "markdown",
   "id": "4cf83560",
   "metadata": {},
   "source": [
    "## Length"
   ]
  },
  {
   "cell_type": "code",
   "execution_count": null,
   "id": "d695ab56",
   "metadata": {
    "ExecuteTime": {
     "end_time": "2024-02-09T13:55:12.728506Z",
     "start_time": "2024-02-09T13:55:12.726114Z"
    }
   },
   "outputs": [],
   "source": [
    "#Add parity\n",
    "# length = region.groupby([\"streetname\", \"postcode\"]).progress_apply(bloc_length)#.sort_values(na_pos=\"first\")\n",
    "# length = length.sort_values(na_position=\"first\").rename(\"length\").reset_index()\n",
    "# length"
   ]
  },
  {
   "cell_type": "code",
   "execution_count": null,
   "id": "59ab0036",
   "metadata": {
    "ExecuteTime": {
     "end_time": "2024-02-09T13:56:00.596633Z",
     "start_time": "2024-02-09T13:55:12.730500Z"
    }
   },
   "outputs": [],
   "source": [
    "region_lenghts = []\n",
    "for parity in [0,1]:\n",
    "    region_par = region[(region.house_number_num.mod(2)==parity)].copy()\n",
    "\n",
    "    length = region_par.groupby([\"streetname\", \"postcode\"]).progress_apply(bloc_length)#.sort_values(na_pos=\"first\")\n",
    "    length = length.sort_values(na_position=\"first\", ascending=False).rename(\"length\").reset_index()\n",
    "    \n",
    "    region_lenghts.append(length.assign(parity=parity))\n",
    "length = pd.concat(region_lenghts)\n",
    "length = length.sort_values(\"length\", ascending=False).reset_index(drop=True)\n",
    "length"
   ]
  },
  {
   "cell_type": "markdown",
   "id": "e1111368",
   "metadata": {},
   "source": [
    "## Distance to previous"
   ]
  },
  {
   "cell_type": "code",
   "execution_count": null,
   "id": "090b1457",
   "metadata": {
    "ExecuteTime": {
     "end_time": "2024-02-09T13:56:01.714173Z",
     "start_time": "2024-02-09T13:56:00.599037Z"
    }
   },
   "outputs": [],
   "source": [
    "region_pars = []\n",
    "for parity in [0,1]:\n",
    "    region_par = region[(region.house_number_num.mod(2)==parity)].copy()\n",
    "\n",
    "    region_par[\"dist_to_prev\"] = region_par.distance(region_par.shift(1))\n",
    "    region_par[\"is_new_bloc\"] = (region_par[[\"streetname\", \"postcode\"]] !=  region_par[[\"streetname\", \"postcode\"]].shift(1)).any(axis=1)\n",
    "    region_par.dist_to_prev = region_par.dist_to_prev.where(~region_par.is_new_bloc, pd.NA)\n",
    "    region_pars.append(region_par.assign(parity=parity))\n",
    "region_pars = pd.concat(region_pars)"
   ]
  },
  {
   "cell_type": "code",
   "execution_count": null,
   "id": "2fc3313f",
   "metadata": {
    "ExecuteTime": {
     "end_time": "2024-02-09T13:56:02.485758Z",
     "start_time": "2024-02-09T13:56:01.716383Z"
    }
   },
   "outputs": [],
   "source": [
    "idx_max= region_pars.groupby([\"streetname\", \"postcode\", \"parity\"]).dist_to_prev.idxmax()\n",
    "dist_to_prev = region_pars.loc[idx_max.dropna().values].sort_values(\"dist_to_prev\", ascending=False)\n",
    "dist_to_prev = dist_to_prev[[\"streetname\", \"postcode\", \"parity\", \"dist_to_prev\", \"house_number\"]].reset_index(drop=True)\n",
    "dist_to_prev"
   ]
  },
  {
   "cell_type": "code",
   "execution_count": null,
   "id": "4efefa02",
   "metadata": {
    "ExecuteTime": {
     "end_time": "2024-02-09T13:56:02.495476Z",
     "start_time": "2024-02-09T13:56:02.487758Z"
    },
    "scrolled": true
   },
   "outputs": [],
   "source": [
    "dist_to_prev.dist_to_prev.describe(percentiles=[0.5, 0.90, .95, .99, .999])"
   ]
  },
  {
   "cell_type": "markdown",
   "id": "3a8ffc4f",
   "metadata": {
    "ExecuteTime": {
     "end_time": "2024-01-26T13:35:54.297047Z",
     "start_time": "2024-01-26T13:35:54.294645Z"
    }
   },
   "source": [
    "## Delta dist to prev"
   ]
  },
  {
   "cell_type": "code",
   "execution_count": null,
   "id": "0d98111b",
   "metadata": {
    "ExecuteTime": {
     "end_time": "2024-02-09T13:56:03.921356Z",
     "start_time": "2024-02-09T13:56:02.497898Z"
    },
    "scrolled": true
   },
   "outputs": [],
   "source": [
    "idx_max= region_pars.groupby([\"streetname\", \"postcode\", \"parity\"]).dist_to_prev.idxmax()\n",
    "delta_dist_to_prev =  region_pars.loc[idx_max.dropna().values].rename(columns={\"dist_to_prev\":\"max_dist_to_prev\"})#.sort_values(\"dist_to_prev\")[[\"streetname\", \"postcode\", \"parity\", \"dist_to_prev\", \"house_number\"]]\n",
    "delta_dist_to_prev"
   ]
  },
  {
   "cell_type": "code",
   "execution_count": null,
   "id": "1470452f",
   "metadata": {
    "ExecuteTime": {
     "end_time": "2024-02-09T13:56:03.990966Z",
     "start_time": "2024-02-09T13:56:03.923571Z"
    },
    "scrolled": true
   },
   "outputs": [],
   "source": [
    "delta_dist_to_prev = delta_dist_to_prev.merge(region_pars.groupby([\"streetname\", \"postcode\", \"parity\"]).dist_to_prev.median().rename(\"median_dist_to_prev\").reset_index())\n",
    "delta_dist_to_prev[\"median_dist_to_prev\"] = delta_dist_to_prev[\"median_dist_to_prev\"].where(delta_dist_to_prev.median_dist_to_prev> 5, 0)\n",
    "\n",
    "delta_dist_to_prev[\"delta_dist_to_prev\"] = delta_dist_to_prev.max_dist_to_prev / delta_dist_to_prev.median_dist_to_prev\n",
    "\n",
    "delta_dist_to_prev = delta_dist_to_prev[~delta_dist_to_prev.delta_dist_to_prev.isnull() & (delta_dist_to_prev.delta_dist_to_prev< np.inf)].sort_values(\"delta_dist_to_prev\", ascending=False)\n",
    "delta_dist_to_prev = delta_dist_to_prev[[\"streetname\", \"postcode\", \"parity\", \"house_number\", \"delta_dist_to_prev\" ]].reset_index(drop=True)\n",
    "delta_dist_to_prev"
   ]
  },
  {
   "cell_type": "code",
   "execution_count": null,
   "id": "beb206a8",
   "metadata": {
    "ExecuteTime": {
     "end_time": "2024-02-09T13:56:04.025703Z",
     "start_time": "2024-02-09T13:56:03.993229Z"
    },
    "scrolled": true
   },
   "outputs": [],
   "source": [
    "# delta_dist_to_prev[delta_dist_to_prev.delta_dist_to_prev>1000]"
   ]
  },
  {
   "cell_type": "code",
   "execution_count": null,
   "id": "bd32464e",
   "metadata": {
    "ExecuteTime": {
     "end_time": "2024-01-29T16:29:12.311748Z",
     "start_time": "2024-01-29T16:29:12.304876Z"
    }
   },
   "outputs": [],
   "source": []
  },
  {
   "cell_type": "markdown",
   "id": "91e47c95",
   "metadata": {
    "ExecuteTime": {
     "end_time": "2024-01-26T08:23:01.668536Z",
     "start_time": "2024-01-26T08:23:01.408387Z"
    }
   },
   "source": [
    "## Delta ratio"
   ]
  },
  {
   "cell_type": "code",
   "execution_count": null,
   "id": "2c44d1b9",
   "metadata": {
    "ExecuteTime": {
     "end_time": "2024-02-09T13:56:04.168876Z",
     "start_time": "2024-02-09T13:56:04.027814Z"
    }
   },
   "outputs": [],
   "source": [
    "# To avoid to compare all pairs of addresses in all street, we only consider streets with a sinuosity above 1.5 \n",
    "# (assuming that \"straight streets\" won't have high delta ratio)\n",
    "\n",
    "region_sel = region.merge(sinuosity[sinuosity.sinuosity>1.5][[\"streetname\", \"postcode\"]])\n",
    "region_sel"
   ]
  },
  {
   "cell_type": "code",
   "execution_count": null,
   "id": "965490dc",
   "metadata": {
    "ExecuteTime": {
     "end_time": "2024-02-09T13:56:59.264573Z",
     "start_time": "2024-02-09T13:56:04.171074Z"
    }
   },
   "outputs": [],
   "source": [
    "delta_par = []\n",
    "for parity in [0, 1]:\n",
    "    dlt_par= region_sel[(region_sel.house_number_num.mod(2)==parity)].groupby([\"streetname\", \"postcode\"]).progress_apply(get_max_delta_ratio)#.sort_values(na_pos=\"first\")\n",
    "    dlt_par = dlt_par.apply(pd.Series).rename(columns={0: \"delta_ratio\", 1: \"house_number\" })#.reset_index()\n",
    "    dlt_par = dlt_par.sort_values(\"delta_ratio\", na_position=\"first\", ascending=False)#.reset_index()\n",
    "    dlt_par[\"parity\"]=parity\n",
    "    display(dlt_par)\n",
    "    delta_par.append(dlt_par)\n",
    "delta_ratio= pd.concat(delta_par)\n",
    "\n",
    "delta_ratio = delta_ratio.sort_values(\"delta_ratio\", ascending=False).reset_index()\n",
    "delta_ratio"
   ]
  },
  {
   "cell_type": "code",
   "execution_count": null,
   "id": "c41c763e",
   "metadata": {
    "ExecuteTime": {
     "end_time": "2024-02-09T13:56:59.269011Z",
     "start_time": "2024-02-09T13:56:59.266483Z"
    }
   },
   "outputs": [],
   "source": [
    "# delta_ratio"
   ]
  },
  {
   "cell_type": "markdown",
   "id": "040b4dd9",
   "metadata": {},
   "source": [
    "## Consolidate"
   ]
  },
  {
   "cell_type": "code",
   "execution_count": null,
   "id": "0947f129",
   "metadata": {
    "ExecuteTime": {
     "end_time": "2024-02-09T13:56:59.422851Z",
     "start_time": "2024-02-09T13:56:59.270939Z"
    }
   },
   "outputs": [],
   "source": [
    "metrics = {\n",
    "    \"dist_to_prev\" :      dist_to_prev,\n",
    "    \"delta_dist_to_prev\": delta_dist_to_prev,\n",
    "    \"sinuosity\":          sinuosity,\n",
    "    \"sw_sinuosity\":       sw_sinuosity,\n",
    "    \"length\":             length,\n",
    "    \"delta_ratio\":        delta_ratio\n",
    "}"
   ]
  },
  {
   "cell_type": "code",
   "execution_count": null,
   "id": "1decefa3",
   "metadata": {
    "ExecuteTime": {
     "end_time": "2024-02-05T14:00:45.114671Z",
     "start_time": "2024-02-05T14:00:45.109976Z"
    }
   },
   "outputs": [],
   "source": []
  },
  {
   "cell_type": "code",
   "execution_count": null,
   "id": "fb00c627",
   "metadata": {
    "ExecuteTime": {
     "end_time": "2024-02-09T13:57:01.108444Z",
     "start_time": "2024-02-09T13:56:59.425426Z"
    }
   },
   "outputs": [],
   "source": [
    "\n",
    "with open(f\"{data_dir}/metrics_{region_name}.pkl\", \"wb\") as pkl:\n",
    "    pickle.dump(metrics, pkl, pickle.HIGHEST_PROTOCOL)\n",
    "\n",
    "region.to_pickle(f\"{data_dir}/data_{region_name}.pkl\")"
   ]
  },
  {
   "cell_type": "code",
   "execution_count": null,
   "id": "d82119b1",
   "metadata": {
    "ExecuteTime": {
     "end_time": "2024-02-09T13:57:02.453187Z",
     "start_time": "2024-02-09T13:57:01.111188Z"
    }
   },
   "outputs": [],
   "source": [
    "# Start from here to plot without recomputing all metrics\n",
    "with open(f\"{data_dir}/metrics_{region_name}.pkl\", \"rb\") as pkl:\n",
    "    metrics = pickle.load(pkl)#, pickle.HIGHEST_PROTOCOL)\n",
    "region = pd.read_pickle(f\"{data_dir}/data_{region_name}.pkl\")"
   ]
  },
  {
   "cell_type": "code",
   "execution_count": null,
   "id": "a8c88e56",
   "metadata": {
    "ExecuteTime": {
     "end_time": "2024-02-09T13:57:02.458188Z",
     "start_time": "2024-02-09T13:57:02.455880Z"
    },
    "scrolled": true
   },
   "outputs": [],
   "source": [
    "# region_name"
   ]
  },
  {
   "cell_type": "code",
   "execution_count": null,
   "id": "6b4472b7",
   "metadata": {
    "ExecuteTime": {
     "end_time": "2024-02-08T15:10:09.583821Z",
     "start_time": "2024-02-08T15:10:09.508982Z"
    }
   },
   "outputs": [],
   "source": []
  },
  {
   "cell_type": "code",
   "execution_count": null,
   "id": "e5b76131",
   "metadata": {
    "ExecuteTime": {
     "end_time": "2024-02-09T13:57:02.541149Z",
     "start_time": "2024-02-09T13:57:02.460208Z"
    }
   },
   "outputs": [],
   "source": [
    "\n",
    "\n",
    "for m in metrics:\n",
    "    metrics[m] = metrics[m].reset_index(drop=True).copy()\n",
    "#     metrics[m][\"f\"{m}_topn\"\"]= False\n",
    "#     metrics[m].loc[metrics[m].shape[0]-topn::, f\"{m}_topn\"]=True\n",
    "    metrics[m][f\"{m}_ranking\"] = metrics[m].index+1\n",
    "    if \"house_number\" in metrics[m]:\n",
    "        metrics[m] = metrics[m].rename(columns={\"house_number\": f\"{m}_house_number\"})\n",
    "        \n",
    "    \n",
    "#     dist_to_prev"
   ]
  },
  {
   "cell_type": "code",
   "execution_count": null,
   "id": "cb85f57c",
   "metadata": {
    "ExecuteTime": {
     "end_time": "2024-02-09T13:57:02.608397Z",
     "start_time": "2024-02-09T13:57:02.543301Z"
    }
   },
   "outputs": [],
   "source": [
    "# metrics[\"length\"]"
   ]
  },
  {
   "cell_type": "code",
   "execution_count": null,
   "id": "547dae72",
   "metadata": {
    "ExecuteTime": {
     "end_time": "2024-02-09T13:57:02.720186Z",
     "start_time": "2024-02-09T13:57:02.610118Z"
    }
   },
   "outputs": [],
   "source": [
    "from functools import reduce\n",
    "glob_metrics = reduce((lambda x, y: x.merge(y, how=\"outer\")), metrics.values())"
   ]
  },
  {
   "cell_type": "code",
   "execution_count": null,
   "id": "d0087f09",
   "metadata": {
    "ExecuteTime": {
     "end_time": "2024-02-09T13:57:02.776854Z",
     "start_time": "2024-02-09T13:57:02.721985Z"
    },
    "scrolled": true
   },
   "outputs": [],
   "source": [
    "glob_metrics"
   ]
  },
  {
   "cell_type": "markdown",
   "id": "c95bad84",
   "metadata": {},
   "source": [
    "## Show"
   ]
  },
  {
   "cell_type": "code",
   "execution_count": null,
   "id": "dd8c453b",
   "metadata": {
    "ExecuteTime": {
     "end_time": "2024-02-09T13:57:02.851516Z",
     "start_time": "2024-02-09T13:57:02.778788Z"
    }
   },
   "outputs": [],
   "source": [
    "osm_crs=  'epsg:4326'"
   ]
  },
  {
   "cell_type": "code",
   "execution_count": null,
   "id": "4121e6ff",
   "metadata": {
    "ExecuteTime": {
     "end_time": "2024-02-09T13:57:02.927336Z",
     "start_time": "2024-02-09T13:57:02.853660Z"
    },
    "scrolled": true
   },
   "outputs": [],
   "source": [
    "# region"
   ]
  },
  {
   "cell_type": "code",
   "execution_count": null,
   "id": "1a3d8d68",
   "metadata": {
    "ExecuteTime": {
     "end_time": "2024-02-09T13:57:03.053929Z",
     "start_time": "2024-02-09T13:57:02.929764Z"
    },
    "scrolled": true
   },
   "outputs": [],
   "source": [
    "k = 0\n",
    "metric_name = \"dist_to_prev\"\n",
    "metric_name = \"sinuosity\"\n",
    "metric_name = \"delta_ratio\"\n",
    "\n",
    "metric = metrics[metric_name]\n",
    "print(metric.iloc[k])\n",
    "street_bloc = get_street_bloc(region, \n",
    "                              metric.iloc[k].streetname, \n",
    "                              metric.iloc[k].postcode,\n",
    "                              metric.iloc[k].parity)\n",
    "    \n",
    "street_bloc"
   ]
  },
  {
   "cell_type": "code",
   "execution_count": null,
   "id": "de9ae587",
   "metadata": {
    "ExecuteTime": {
     "end_time": "2024-02-09T13:57:08.565195Z",
     "start_time": "2024-02-09T13:57:03.055784Z"
    }
   },
   "outputs": [],
   "source": [
    "plot_street_bloc(street_bloc, \"title\")"
   ]
  },
  {
   "cell_type": "code",
   "execution_count": null,
   "id": "f4ba9655",
   "metadata": {
    "ExecuteTime": {
     "end_time": "2024-02-09T13:57:08.599110Z",
     "start_time": "2024-02-09T13:57:08.567870Z"
    },
    "scrolled": true
   },
   "outputs": [],
   "source": [
    "street_bloc"
   ]
  },
  {
   "cell_type": "code",
   "execution_count": null,
   "id": "7f58e47a",
   "metadata": {
    "ExecuteTime": {
     "end_time": "2024-02-09T13:57:08.914571Z",
     "start_time": "2024-02-09T13:57:08.601395Z"
    },
    "scrolled": false
   },
   "outputs": [],
   "source": [
    "plot_street_bloc_plotly(street_bloc)"
   ]
  },
  {
   "cell_type": "code",
   "execution_count": null,
   "id": "d8a9395e",
   "metadata": {
    "ExecuteTime": {
     "end_time": "2024-02-09T13:57:08.918998Z",
     "start_time": "2024-02-09T13:57:08.916812Z"
    }
   },
   "outputs": [],
   "source": [
    "# street_bloc\n",
    "\n"
   ]
  },
  {
   "cell_type": "markdown",
   "id": "1df6e831",
   "metadata": {},
   "source": [
    "## PDF"
   ]
  },
  {
   "cell_type": "code",
   "execution_count": null,
   "id": "a15fe936",
   "metadata": {
    "ExecuteTime": {
     "end_time": "2024-02-09T13:57:08.994184Z",
     "start_time": "2024-02-09T13:57:08.921018Z"
    }
   },
   "outputs": [],
   "source": [
    "# make_table(street_bloc)"
   ]
  },
  {
   "cell_type": "code",
   "execution_count": null,
   "id": "5799c966",
   "metadata": {
    "ExecuteTime": {
     "end_time": "2024-02-09T13:57:09.070278Z",
     "start_time": "2024-02-09T13:57:08.996757Z"
    },
    "scrolled": true
   },
   "outputs": [],
   "source": [
    "metric"
   ]
  },
  {
   "cell_type": "code",
   "execution_count": null,
   "id": "f6138c82",
   "metadata": {
    "ExecuteTime": {
     "end_time": "2024-02-09T13:57:09.409243Z",
     "start_time": "2024-02-09T13:57:09.072074Z"
    }
   },
   "outputs": [],
   "source": [
    "thresholds = {\n",
    "    \"dist_to_prev\": 1000,\n",
    "    \"length\":5000,\n",
    "    \"delta_ratio\": 1.0,\n",
    "    \"delta_dist_to_prev\":50,\n",
    "    \"sinuosity\": 10,\n",
    "    \"sw_sinuosity\": 10,\n",
    "}"
   ]
  },
  {
   "cell_type": "code",
   "execution_count": null,
   "id": "8dc812ce",
   "metadata": {
    "ExecuteTime": {
     "end_time": "2024-02-09T14:13:26.606322Z",
     "start_time": "2024-02-09T13:57:09.411802Z"
    },
    "scrolled": true
   },
   "outputs": [],
   "source": [
    "for metric_name in metrics:\n",
    "# for metric_name in [\"dist_to_prev\", \"delta_dist_to_prev\", \"delta_ratio\"]:\n",
    "    metric=metrics[metric_name]\n",
    "    print(metric_name)\n",
    "    pdf = PdfPages(f\"{output_dir}/best_anomalies_{region_name}_{metric_name}.pdf\")\n",
    "    \n",
    "    if metric_name in thresholds:\n",
    "        metric = metric[metric[metric_name]>thresholds[metric_name]]\n",
    "    for i, metr in tqdm(metric.iloc[0:topn].iterrows(), total=min(topn, metric.shape[0])):# in trange(1, min(51, metric.shape[0])):\n",
    "\n",
    "        \n",
    "        street_bloc = get_street_bloc(region, \n",
    "                                      metr.streetname, \n",
    "                                      metr.postcode,\n",
    "                                      metr.parity)\n",
    "        sb = street_bloc.iloc[0]\n",
    "        title = f\"{sb.streetname} - {sb.postcode}/{sb.municipality_id} - {sb.postname} - {sb.municipality} - parity: {metr['parity']} \"\n",
    "        title += f\"\\n{metric_name}: {metr[metric_name]:.2f}\"\n",
    "#         title = street_bloc.iloc[0][\"streetname\"]+ \" - \" + street_bloc.iloc[0][\"postcode\"] + \\\n",
    "#                 \" - \" + street_bloc.iloc[0][\"postname\"] + \" - \" + street_bloc.iloc[0][\"municipality\"]+\" - parity: \"+str(metr[\"parity\"])+\"\\n\"+\\\n",
    "#                 f\"{metric_name}: {metr[metric_name]:.2f}\"\n",
    "        if f\"{metric_name}_house_number\" in metr:\n",
    "            title += f\" (hn: {metr[f'{metric_name}_house_number']})\"\n",
    "\n",
    "        make_table(street_bloc, title)\n",
    "        pdf.savefig(bbox_inches='tight')\n",
    "        plt.close()\n",
    "        plot_street_bloc(street_bloc, title)\n",
    "        pdf.savefig(bbox_inches='tight')\n",
    "        plt.close()\n",
    "    pdf.close()"
   ]
  },
  {
   "cell_type": "markdown",
   "id": "4c35700a",
   "metadata": {
    "ExecuteTime": {
     "end_time": "2024-01-29T10:36:56.117238Z",
     "start_time": "2024-01-29T10:36:55.904089Z"
    }
   },
   "source": [
    "### Consolidated pdf"
   ]
  },
  {
   "cell_type": "code",
   "execution_count": null,
   "id": "41990aba",
   "metadata": {
    "ExecuteTime": {
     "end_time": "2024-02-09T14:13:26.612532Z",
     "start_time": "2024-02-09T14:13:26.609842Z"
    }
   },
   "outputs": [],
   "source": [
    "# glob_metrics[(glob_metrics[[f\"{m}_ranking\" for m in metrics]]  < topn).fillna(False).any(axis=1)]\n"
   ]
  },
  {
   "cell_type": "code",
   "execution_count": null,
   "id": "26261614",
   "metadata": {
    "ExecuteTime": {
     "end_time": "2024-02-09T14:13:26.749732Z",
     "start_time": "2024-02-09T14:13:26.614532Z"
    }
   },
   "outputs": [],
   "source": [
    "glob_metrics_topn = glob_metrics[(glob_metrics[[f\"{m}_ranking\" for m in metrics]]  < topn).fillna(False).any(axis=1)]\n",
    "\n",
    "glob_metrics_topn = glob_metrics_topn[pd.concat([glob_metrics_topn[m] > thresholds[m] for m in metrics], axis=1).any(axis=1)]\n",
    "\n",
    "\n",
    "glob_metrics_topn = glob_metrics_topn.sort_values(\"dist_to_prev\", ascending=False)\n",
    "glob_metrics_topn"
   ]
  },
  {
   "cell_type": "code",
   "execution_count": null,
   "id": "a563a589",
   "metadata": {
    "ExecuteTime": {
     "end_time": "2024-02-09T14:20:14.732000Z",
     "start_time": "2024-02-09T14:13:26.751839Z"
    }
   },
   "outputs": [],
   "source": [
    "pdf = PdfPages(f\"{output_dir}/best_anomalies_{region_name}_consolidated.pdf\")\n",
    "\n",
    "for i, metr in tqdm(glob_metrics_topn.iterrows(), total=glob_metrics_topn.shape[0]):# in trange(1, min(51, metric.shape[0])):\n",
    "    street_bloc = get_street_bloc(region, \n",
    "                                  metr.streetname, \n",
    "                                  metr.postcode,\n",
    "                                  metr.parity)\n",
    "    \n",
    "    sb = street_bloc.iloc[0]\n",
    "    title = f\"{sb.streetname} - {sb.postcode}/{sb.municipality_id} - {sb.postname} - {sb.municipality} - parity: {metr['parity']} \"\n",
    "\n",
    "    make_table(street_bloc, title)\n",
    "    pdf.savefig(bbox_inches='tight')\n",
    "    plt.close()\n",
    "\n",
    "    fig, ax = plt.subplots(nrows=2, figsize=(10,10), gridspec_kw={'height_ratios':[0.85, 0.15]})\n",
    "    plot_street_bloc(street_bloc, title, ax=ax[0])\n",
    "    make_metric_table(metr, metrics, ax=ax[1])\n",
    "\n",
    "    pdf.savefig(bbox_inches='tight')\n",
    "    plt.close()\n",
    "pdf.close()"
   ]
  }
 ],
 "metadata": {
  "kernelspec": {
   "display_name": "gis",
   "language": "python",
   "name": "gis"
  },
  "language_info": {
   "codemirror_mode": {
    "name": "ipython",
    "version": 3
   },
   "file_extension": ".py",
   "mimetype": "text/x-python",
   "name": "python",
   "nbconvert_exporter": "python",
   "pygments_lexer": "ipython3",
   "version": "3.8.18"
  },
  "toc": {
   "base_numbering": 1,
   "nav_menu": {},
   "number_sections": true,
   "sideBar": true,
   "skip_h1_title": false,
   "title_cell": "Table of Contents",
   "title_sidebar": "Contents",
   "toc_cell": false,
   "toc_position": {
    "height": "calc(100% - 180px)",
    "left": "10px",
    "top": "150px",
    "width": "384px"
   },
   "toc_section_display": true,
   "toc_window_display": true
  }
 },
 "nbformat": 4,
 "nbformat_minor": 5
}
