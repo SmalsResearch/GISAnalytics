{
 "cells": [
  {
   "cell_type": "markdown",
   "id": "28fb2e33",
   "metadata": {},
   "source": [
    "# Contexte\n",
    "\n",
    "Ce script/notebook Python a pour but de mettre en évidence un certain nombre d'anomalies que l'on retrouve dans les données de BestAddress (Bosa), en se basant sur les CSV mis à disposition sur https://opendata.bosa.be/\n",
    "\n",
    "Il s'agit ici de résultats prélimilaires, ayant pour objectif de montrer l'intérêt des techniques de GIS Analytics dans ce contexte de Data Quality.\n",
    "\n",
    "Trois types d'analyse distinctes sont menées: \n",
    "- Dans la première, nous comparons les frontières des codes postaux définis par bPost avec les codes postaux des adresses BestAddreses, ainsi que les frontières des codes NIS fournis par StatBel.\n",
    "- Dans la deuxième, nous recherchons des incohérences sur des noms de rues géographiquement proches (par exemple une \"Rue Roi Albert I\" juste à côté d'une \"Rue du Roi Albert I\")\n",
    "- Dans la troisième, nous recherchons des anomalies géométriques dans la forme d'une rue (plus précisément l'ensemble des adresses de même parité)\n",
    "\n",
    "Principal résultat à retenir:\n",
    "-\t+/- 17.000 adresses ont un code postal incohérent avec les contours des codes postaux définis par bPost. Étonnamment, il semble qu’il n’y ait aucune incohérence par rapport au code NIS. \n",
    "-\tOn trouve une centaine de rues dont l’orthographe diffère légèrement entre plusieurs tronçons (pair vs impair, ou au passage d’un code postal à l’autre)\n",
    "-\tSans doute plusieurs centaines d’adresses qui ne sont pas localisées au bon endroit (il faudra une exploration plus approfondie pour en connaitre le nombre plus précis)\n",
    "\n",
    "\n",
    "Notons que nous ne gardons que les adresses ayant un statut \"current\" pour les analyses ci-dessous. Les \"retired\" (7.6% VLG ; <0.1% BRU ; 0% WAL ) et \"proposed\" (1.1 % VLG ; 0% BRU et WAL) sont ignorées. \n",
    "Nous ignorons également les adresses n'ayant aucun chiffre dans le \"house_number\" (< 60 addresses VLG, de type \"ZN\"). \n",
    "\n",
    "\n",
    "## Frontières postales\n",
    "\n",
    "Dans cette analyse, nous comparons les frontières des codes postaux définies par bPost (https://bgu.bpost.be/assets/9738c7c0-5255-11ea-8895-34e12d0f0423_x-shapefile_3812.zip). \n",
    "Pour ce faire, pour chaque adresse de Best, on regarde dans quel polygône de bPost il tombe et on retient ceux pour lequel il y a une inconsistance entre de code postal de Best et celui de bPost.\n",
    "\n",
    "Pour éviter les problèmes de précision d'un point qui serait juste à la frontière, on supprime des contours de bPost un ruban de 50 mètres. On identifie donc un inconsistance que quand une adresse d'un code postal P1 != P2 (selon Best) est réellement dans le polygone d'un code postal P2 (selon bPost). \n",
    "\n",
    "Dans chaque page du fichier \"best_anomalies_[region]_zip_mismatches.pdf\", on peut voir :\n",
    "- En titre, le code auquel Best associe tous les points de la carte\n",
    "- Le tracé rouge indique le polygone de ce code postal selon bPost. S'il n'est pas présent, c'est que le code postal est inconnu de bPost (en tout cas de son shapefile)\n",
    "- Chaque point représente les adresses Best incohérentes avec bPost. Sa couleur indique le code postal qu'il devrait avoir selon bPost\n",
    "\n",
    "On trouve: \n",
    "- WAL: ~6200 anomalies\n",
    "- BRU: ~75 anomalies\n",
    "- VLG: ~11.000 anomalies\n",
    "    \n",
    "Notons que certains anomalies sont acceptables, comme par exemple le cas de batiments (chateau, ferme...) loin de la porte d'entrée. Best localise le batiment, mais son code postal correspond à celui de son entrée.\n",
    "\n",
    "## Frontières de codes NIS\n",
    "\n",
    "De façon quasi identique, nous comparons la colonne \"municipality_id\" avec les codes frontières des NIS définis sur https://statbel.fgov.be/sites/default/files/files/opendata/Statistische%20sectoren/sh_statbel_statistical_sectors_31370_20200101.shp.zip ;\n",
    "Nous remarquons nettement moins d'anomalies qu'avec le code postal. Les seules anomalies observées se situent très proches des frontières."
   ]
  },
  {
   "cell_type": "markdown",
   "id": "319b3a42",
   "metadata": {},
   "source": [
    "## Incohérences de noms\n",
    "    \n",
    "Pour cette analyse, nous commençons par identifier la liste de tous les couples de rues adjacentes (c'est-à-dire que l'une a une adresse distante de moins de 50 mètres d'une adresse de l'autre). Nous regardons ensuite si l'on ne trouve pas de petites différences dans les noms de rue. \n",
    "Nous rencontrons typiquement deux situations : \n",
    "- Des rues traversant plusieurs communes avec une orthographe différente dans chacune d'elle : \"Rue de Monténégro, 1060\", vs \"Rue du Monténégro, 1190\"\n",
    "- Des rues avec deux orthographes différentes au sein de la même commune: \"Chaussée Brunehault\" ou \"Chaussée Brunehaut\", à 4452 dans les 2 cas\n",
    "\n",
    "\n",
    "On trouvera également quelques faux positifs: \"Rue de Mars\" vs \"Rue de Mai\""
   ]
  },
  {
   "cell_type": "markdown",
   "id": "a0ade15b",
   "metadata": {
    "ExecuteTime": {
     "end_time": "2024-01-29T15:15:55.273490Z",
     "start_time": "2024-01-29T15:15:55.271285Z"
    }
   },
   "source": [
    "## Géometrie incohérente\n",
    "\n",
    "Nous considérons ici la forme géométrique composée de la séquence de points des adresses de même parité, pour une même rue et un même code postal. Sur cette ligne, nous calculons ensuite un certain nombre de métriques, en supposant que les valeurs les plus élevées dénotent une anomalie.\n",
    "\n",
    "Nous avons défini de façon expérimentale un certain nombre de métriques. Il y a clairement de la redondance entre elles. Elle pourront encore être rafinées/développées par la suite\n",
    "\n",
    "### dist_to_prev\n",
    "\n",
    "Nous calculons ici pour chaque bloc (ensemble des adresses de même rue, même code postal et même parité de numéro de maison, triées par numéro) la distance maximale entre deux numéros consécutifs. \n",
    "Une valeur anormalement grande dénote : \n",
    "- Soit une situation normale, avec de  routes de campagnes ayant de longs segments sans adresses, ou des rues qui changent de code postal pour en revenir\n",
    "- Soit une situation anormale, avec une (ou plusieurs) adresse(s) localisée(s) loin des autres de la même rue\n",
    "\n",
    "### delta_dist_to_prev\n",
    "\n",
    "De façon à distinguer une situation où toutes les adresses successives sont distantes de 1 km à une situation où toutes les adresses sont distantes de 10 mètres, sauf une distante de 1km, nous calculons ici une petite variante : il s'agit de diviser la distance maximale entre deux numéros successifs par la distance médiane entre deux numéros successifs du même bloc.\n",
    "\n",
    "### sinuosity\n",
    "\n",
    "On définit par \"sinuosité\" le rapport entre la longueur d'une courbe et le distance (en ligne droite) entre ses deux extrémités. Elle sera donc de 1 pour une courbe droite, et d'une valeur plus élevé si la courbe effectue un grand nombre de \"détours\".\n",
    "\n",
    "### sw_sinuosity\n",
    "\n",
    "Si entre deux points distants d'un km, on effectue une très longue boucle de 10km bien régulière (en roulant donc quasi tout droit), on aura la même sinuosité qu'en parcourant 10km en passant par d'innombrable petits virages très serrés, voire en faisant 5 allers-retours entre les 2 points. \n",
    "Pour distinguer ces situations, on calcule ici la moyenne de la sinuosité sur une fenêtre glissante de 5 numéros successifs.\n",
    "\n",
    "### length\n",
    "\n",
    "Cette mesure consiste simplement à mesurer la longueur total de la courbe. Une longueur anormalement grande dénote souvent une rue dans laquelle au moins une adresse a été erronément localisée à une grande distance des autres.  \n",
    "\n",
    "### delta_ratio\n",
    "\n",
    "Pour chaque couple d'adresses d'une même rue et de même parité, on calcule ici le ratio entre la différence entre la partie numérique des numéros de maison et la distance. Une valeur élevée indique que deux maisons de numéros très distants sont anormalement proches.\n",
    "Ceci s'explique souvent par deux phénomènes distincts: \n",
    "- Situation normale: une rue \"circulaire\", dans laquelle le dernier numéro se situe à côté du premier\n",
    "- Situation anormale: sur le coin entre deux rues, un batiment a été assigné à la mauvaise rue\n",
    "\n",
    "### Liste consolidée\n",
    "\n",
    "Dans le fichier \"best_anomalies_[region]_consolidated.pdf\", on retrouvera la liste de tous les blocs de rue se situant dans le top 50 d'au moins une des métriques présentées ci-desssus.\n",
    "Pour chaque bloc, on trouve une première page avec la liste des adresses consistuant le bloc. Sur la seconde page, on verra l'ensemble adresses du bloc en question. La couleur indique l'ordre: en mauve le plus petit numéro, en jaune le plus grand. Dans le tableau en dessous de la carte, on retrouve les différentes métriques. Si applicable, la ligne \"house_number\" indique à quel niveau la métrique a été obtenue. La ligne \"ranking\" indique le rang du bloc pour la métrique, si celui-ci est inférieur à 50."
   ]
  },
  {
   "cell_type": "markdown",
   "id": "1d5181de",
   "metadata": {},
   "source": [
    "# Main code"
   ]
  },
  {
   "cell_type": "code",
   "execution_count": null,
   "id": "0c09c72e",
   "metadata": {
    "ExecuteTime": {
     "end_time": "2024-02-01T16:07:40.191288Z",
     "start_time": "2024-02-01T16:07:40.185775Z"
    }
   },
   "outputs": [],
   "source": [
    "import os\n",
    "import urllib\n",
    "\n",
    "import geopandas as gpd\n",
    "import pandas as pd\n",
    "import numpy as np\n",
    "\n",
    "import contextily as ctx\n",
    "import matplotlib.pyplot as plt\n",
    "\n",
    "from matplotlib.backends.backend_pdf import PdfPages\n",
    "\n",
    "from tqdm import tqdm, trange\n",
    "tqdm.pandas()"
   ]
  },
  {
   "cell_type": "code",
   "execution_count": null,
   "id": "a6700e48",
   "metadata": {
    "ExecuteTime": {
     "end_time": "2024-02-01T16:07:40.302381Z",
     "start_time": "2024-02-01T16:07:40.194634Z"
    }
   },
   "outputs": [],
   "source": [
    "import shapely\n",
    "import warnings\n",
    "warnings.filterwarnings(\"ignore\", category=shapely.errors.ShapelyDeprecationWarning) "
   ]
  },
  {
   "cell_type": "code",
   "execution_count": null,
   "id": "3adc4e14",
   "metadata": {
    "ExecuteTime": {
     "end_time": "2024-02-01T16:07:40.374337Z",
     "start_time": "2024-02-01T16:07:40.305066Z"
    }
   },
   "outputs": [],
   "source": [
    "output_dir = \"output/best_anomalies\""
   ]
  },
  {
   "cell_type": "code",
   "execution_count": null,
   "id": "e45aedd8",
   "metadata": {
    "ExecuteTime": {
     "end_time": "2024-02-01T16:07:40.445694Z",
     "start_time": "2024-02-01T16:07:40.378166Z"
    }
   },
   "outputs": [],
   "source": [
    "os.makedirs(output_dir, exist_ok=True)"
   ]
  },
  {
   "cell_type": "code",
   "execution_count": null,
   "id": "f909e343",
   "metadata": {
    "ExecuteTime": {
     "end_time": "2024-02-01T16:07:40.512883Z",
     "start_time": "2024-02-01T16:07:40.448142Z"
    }
   },
   "outputs": [],
   "source": [
    "def download_if_nexist(url, filename):\n",
    "    \"\"\"\n",
    "    If the (local) file <filename> does not exists, download it from <url>\n",
    "\n",
    "    Parameters\n",
    "    ----------\n",
    "    url: str\n",
    "       url to fetch\n",
    "    filename: str\n",
    "       local file to save\n",
    "\n",
    "    Returns\n",
    "    -------\n",
    "\n",
    "    None\n",
    "    \"\"\"\n",
    "    if not os.path.isfile(filename):\n",
    "        #gcontext = ssl.SSLContext()\n",
    "        with urllib.request.urlopen(url) as response:\n",
    "            with open(filename, \"wb\") as f:\n",
    "                f.write(response.read())"
   ]
  },
  {
   "cell_type": "code",
   "execution_count": null,
   "id": "a834204c",
   "metadata": {
    "ExecuteTime": {
     "end_time": "2024-02-01T16:07:40.597505Z",
     "start_time": "2024-02-01T16:07:40.515218Z"
    }
   },
   "outputs": [],
   "source": [
    "def set_optimal_limits(ax, df):\n",
    "    \"\"\"\n",
    "    Adapt xlim/ylim to a GeoDataFrame point plot to avoid plot to be too wide when \n",
    "    points are horizontally aligned, and to narrow when points are vertically aligned\n",
    "\n",
    "    Usage : \n",
    "    \n",
    "    ax = df.plot()\n",
    "    set_optimal_limits(ax, df)\n",
    "    \n",
    "    Parameters\n",
    "    ----------\n",
    "    ax: AxesSubplot\n",
    "       plot to resize\n",
    "    df: GeoDataFrame\n",
    "       data to be plotted\n",
    "\n",
    "    Returns\n",
    "    -------\n",
    "        None\n",
    "    \"\"\"\n",
    "    \n",
    "    plot_ratio = 1.5 # optimal ratio between \"one horizontal degree\" and \"one vertical degree\". It depends of the CRS. \n",
    "                     # For \"polar\" CRS, it may also depend of the place on the globe\n",
    "\n",
    "    minimal_width=400\n",
    "   \n",
    "    margins = 1.1 # Avoid having dots on edges of the plot\n",
    "    \n",
    "\n",
    "    # Compute dimension of the data\n",
    "    xmin, ymin, xmax, ymax = df.total_bounds\n",
    "    height = (ymax - ymin) \n",
    "    width = (xmax - xmin)\n",
    "    \n",
    "    opt_height = max(height, width / plot_ratio, minimal_width / plot_ratio)\n",
    "    opt_width  = max(width , height*plot_ratio, minimal_width)\n",
    "    \n",
    "#     print(xmin, ymin, xmax, ymax)\n",
    "#     print(width, height, opt_width, opt_height)\n",
    "    # If plot is too narrow, increase xmin. If plot is too wide, increase ylim\n",
    "\n",
    "    if opt_height > height :\n",
    "        ymid = (ymax+ymin)/2\n",
    "        mid_height = opt_height * margins / 2\n",
    "        ax.set_ylim(ymid - mid_height, ymid + mid_height)\n",
    "    if opt_width > width:\n",
    "        xmid = (xmax+xmin)/2\n",
    "        mid_width = opt_width* margins/2\n",
    "        ax.set_xlim(xmid - mid_width, xmid + mid_width)"
   ]
  },
  {
   "cell_type": "code",
   "execution_count": null,
   "id": "efa3c9f3",
   "metadata": {
    "ExecuteTime": {
     "end_time": "2024-02-01T16:07:40.664752Z",
     "start_time": "2024-02-01T16:07:40.599907Z"
    }
   },
   "outputs": [],
   "source": [
    "datadir = \"data/geocoding/\""
   ]
  },
  {
   "cell_type": "code",
   "execution_count": null,
   "id": "fd35d035",
   "metadata": {
    "ExecuteTime": {
     "end_time": "2024-02-01T16:07:40.740930Z",
     "start_time": "2024-02-01T16:07:40.666639Z"
    }
   },
   "outputs": [],
   "source": [
    "# region_name = \"bru\"\n",
    "region_name = \"vlg\"\n",
    "# region_name = \"wal\""
   ]
  },
  {
   "cell_type": "code",
   "execution_count": null,
   "id": "19a2a743",
   "metadata": {
    "ExecuteTime": {
     "end_time": "2024-02-01T16:07:40.808834Z",
     "start_time": "2024-02-01T16:07:40.742709Z"
    }
   },
   "outputs": [],
   "source": [
    "best_fn = f\"{datadir}/full/openaddress-be{region_name}.zip\"\n",
    "download_if_nexist(f\"https://opendata.bosa.be/download/best/openaddress-be{region_name}.zip\", best_fn)\n"
   ]
  },
  {
   "cell_type": "code",
   "execution_count": null,
   "id": "a472bc39",
   "metadata": {
    "ExecuteTime": {
     "end_time": "2024-02-01T16:07:53.937984Z",
     "start_time": "2024-02-01T16:07:40.813754Z"
    },
    "scrolled": true
   },
   "outputs": [],
   "source": [
    "region = pd.read_csv(best_fn, usecols=[\"municipality_name_de\", \"municipality_name_fr\", \"municipality_name_nl\", \"municipality_id\",\n",
    "                                  \"streetname_de\", \"streetname_fr\", \"streetname_nl\",\n",
    "                                  \"postname_fr\", \"postname_nl\",\n",
    "                                  \"postcode\", \"house_number\", \"region_code\", \"EPSG:31370_x\", \"EPSG:31370_y\", \"address_id\", \"status\"], dtype=str)\n",
    "region"
   ]
  },
  {
   "cell_type": "code",
   "execution_count": null,
   "id": "ff1c6033",
   "metadata": {
    "ExecuteTime": {
     "end_time": "2024-02-01T16:07:54.143072Z",
     "start_time": "2024-02-01T16:07:53.940601Z"
    }
   },
   "outputs": [],
   "source": [
    "region.status.value_counts() / region.shape[0]"
   ]
  },
  {
   "cell_type": "code",
   "execution_count": null,
   "id": "c0a5e424",
   "metadata": {
    "ExecuteTime": {
     "end_time": "2024-02-01T16:07:55.056714Z",
     "start_time": "2024-02-01T16:07:54.144993Z"
    }
   },
   "outputs": [],
   "source": [
    "region = region[region.status==\"current\"]"
   ]
  },
  {
   "cell_type": "code",
   "execution_count": null,
   "id": "a72d3e0a",
   "metadata": {
    "ExecuteTime": {
     "end_time": "2024-02-01T16:07:56.713568Z",
     "start_time": "2024-02-01T16:07:55.059080Z"
    }
   },
   "outputs": [],
   "source": [
    "region = region[region[\"EPSG:31370_x\"]!= \"0.00000\"].copy()"
   ]
  },
  {
   "cell_type": "code",
   "execution_count": null,
   "id": "40c0bba6",
   "metadata": {
    "ExecuteTime": {
     "end_time": "2024-02-01T16:08:04.996872Z",
     "start_time": "2024-02-01T16:07:56.715760Z"
    }
   },
   "outputs": [],
   "source": [
    "region[\"streetname\"] =   region.streetname_fr.fillna(region.streetname_nl).fillna(region.streetname_de)\n",
    "region[\"municipality\"] = region.municipality_name_fr.fillna(region.municipality_name_nl).fillna(region.municipality_name_de)\n",
    "region[\"postname\"] =     region.postname_fr.fillna(region.postname_nl)\n",
    "\n",
    "region[\"house_number_num\"]= region.house_number.str.extract(\"^([0-9]*)\").astype(int, errors=\"ignore\")\n"
   ]
  },
  {
   "cell_type": "code",
   "execution_count": null,
   "id": "805b42ce",
   "metadata": {
    "ExecuteTime": {
     "end_time": "2024-02-01T16:08:07.560228Z",
     "start_time": "2024-02-01T16:08:04.999787Z"
    }
   },
   "outputs": [],
   "source": [
    "print(\"No numerical house number:\")\n",
    "print(region[region.house_number_num== \"\"].shape[0])\n",
    "region[region.house_number_num== \"\"]"
   ]
  },
  {
   "cell_type": "code",
   "execution_count": null,
   "id": "34347edb",
   "metadata": {
    "ExecuteTime": {
     "end_time": "2024-02-01T16:08:09.972597Z",
     "start_time": "2024-02-01T16:08:07.562836Z"
    }
   },
   "outputs": [],
   "source": [
    "region = region[region.house_number_num!= \"\"]\n",
    "region.house_number_num = region.house_number_num.astype(int)"
   ]
  },
  {
   "cell_type": "code",
   "execution_count": null,
   "id": "dc643593",
   "metadata": {
    "ExecuteTime": {
     "end_time": "2024-02-01T16:09:42.377218Z",
     "start_time": "2024-02-01T16:08:09.974851Z"
    }
   },
   "outputs": [],
   "source": [
    "region = region.groupby([\"streetname\", \"house_number\", \"house_number_num\", \"postcode\", \"postname\", \"municipality\", \"municipality_id\", \"EPSG:31370_x\", \"EPSG:31370_y\"]).address_id.progress_apply(list).reset_index()"
   ]
  },
  {
   "cell_type": "code",
   "execution_count": null,
   "id": "a9182c86",
   "metadata": {
    "ExecuteTime": {
     "end_time": "2024-02-01T16:12:00.928771Z",
     "start_time": "2024-02-01T16:09:42.380420Z"
    }
   },
   "outputs": [],
   "source": [
    "crs = \"epsg:3857\"\n",
    "region[\"geometry\"] = gpd.points_from_xy(region[\"EPSG:31370_x\"], region[\"EPSG:31370_y\"])\n",
    "region = gpd.GeoDataFrame(region)\n",
    "region = region.set_crs(\"epsg:31370\").to_crs(crs)"
   ]
  },
  {
   "cell_type": "code",
   "execution_count": null,
   "id": "2c7d459f",
   "metadata": {
    "ExecuteTime": {
     "end_time": "2024-02-01T16:12:00.937006Z",
     "start_time": "2024-02-01T16:12:00.934377Z"
    }
   },
   "outputs": [],
   "source": [
    "# crs = \"epsg:3857\""
   ]
  },
  {
   "cell_type": "code",
   "execution_count": null,
   "id": "248405f7",
   "metadata": {
    "ExecuteTime": {
     "end_time": "2024-02-01T16:12:01.551966Z",
     "start_time": "2024-02-01T16:12:00.939257Z"
    }
   },
   "outputs": [],
   "source": [
    "region = region.drop([\"EPSG:31370_x\", \"EPSG:31370_y\"], axis=1)\n",
    "region"
   ]
  },
  {
   "cell_type": "code",
   "execution_count": null,
   "id": "5d422bfe",
   "metadata": {
    "ExecuteTime": {
     "end_time": "2024-02-01T16:12:03.403365Z",
     "start_time": "2024-02-01T16:12:01.554423Z"
    }
   },
   "outputs": [],
   "source": [
    "region = region.sort_values([\"postcode\", \"streetname\", \"house_number_num\"])"
   ]
  },
  {
   "cell_type": "markdown",
   "id": "fbf55cc2",
   "metadata": {},
   "source": [
    "# Box in housenumber"
   ]
  },
  {
   "cell_type": "code",
   "execution_count": null,
   "id": "3caf6eb6",
   "metadata": {
    "ExecuteTime": {
     "end_time": "2024-02-01T16:12:03.408137Z",
     "start_time": "2024-02-01T16:12:03.405812Z"
    }
   },
   "outputs": [],
   "source": [
    "# region[~region.house_number.str.match(\"^[0-9]*[A-Z]?$\")].loc[294076:294081]"
   ]
  },
  {
   "cell_type": "code",
   "execution_count": null,
   "id": "e01e5018",
   "metadata": {
    "ExecuteTime": {
     "end_time": "2024-02-01T16:12:03.498977Z",
     "start_time": "2024-02-01T16:12:03.410315Z"
    }
   },
   "outputs": [],
   "source": [
    "# x= region[~region.house_number.str.match(\"^[0-9]*[A-Z]?$\")].loc[294076:294081]\n",
    "# ax=x.plot()\n",
    "# set_optimal_limits(ax, x)\n",
    "# ctx.add_basemap(ax, source=ctx.providers.OpenStreetMap.Mapnik)"
   ]
  },
  {
   "cell_type": "markdown",
   "id": "bf9ad575",
   "metadata": {
    "ExecuteTime": {
     "end_time": "2024-01-26T10:36:19.668370Z",
     "start_time": "2024-01-26T10:36:19.666120Z"
    }
   },
   "source": [
    "# Conflict with bPost"
   ]
  },
  {
   "cell_type": "code",
   "execution_count": null,
   "id": "9ea17bd7",
   "metadata": {
    "ExecuteTime": {
     "end_time": "2024-02-01T16:12:03.575007Z",
     "start_time": "2024-02-01T16:12:03.501163Z"
    }
   },
   "outputs": [],
   "source": [
    "zipcode_boundaries_filename = \"data/zipcode_boundaries_shapefile_3812.zip\"\n",
    "download_if_nexist(\"https://bgu.bpost.be/assets/9738c7c0-5255-11ea-8895-34e12d0f0423_x-shapefile_3812.zip\",\n",
    "                  zipcode_boundaries_filename)"
   ]
  },
  {
   "cell_type": "code",
   "execution_count": null,
   "id": "08b8d1c1",
   "metadata": {
    "ExecuteTime": {
     "end_time": "2024-02-01T16:12:07.757747Z",
     "start_time": "2024-02-01T16:12:03.577344Z"
    }
   },
   "outputs": [],
   "source": [
    "zipcodes_boundaries = gpd.read_file(f\"zip://{zipcode_boundaries_filename}/3812\")\n",
    "zipcodes_boundaries[\"is_special\"] = zipcodes_boundaries.CP_speciau ==1\n",
    "zipcodes_boundaries = zipcodes_boundaries.rename({\"nouveau_PO\":\"zipcode\"}, axis=1)[[\"zipcode\", \"is_special\", \"geometry\"]]\n",
    "\n",
    "zipcodes_boundaries = zipcodes_boundaries.dissolve([\"zipcode\", \"is_special\"]).reset_index()\n",
    "\n",
    "zipcodes_boundaries = zipcodes_boundaries.to_crs(crs)\n",
    "zipcodes_boundaries"
   ]
  },
  {
   "cell_type": "code",
   "execution_count": null,
   "id": "54b7d9a5",
   "metadata": {
    "ExecuteTime": {
     "end_time": "2024-02-01T16:12:07.762316Z",
     "start_time": "2024-02-01T16:12:07.760165Z"
    }
   },
   "outputs": [],
   "source": [
    "# zipcodes_boundaries[zipcodes_boundaries.zipcode.between(\"1100\", \"1299\")].plot()"
   ]
  },
  {
   "cell_type": "code",
   "execution_count": null,
   "id": "b5eb4829",
   "metadata": {
    "ExecuteTime": {
     "end_time": "2024-02-01T16:12:07.842531Z",
     "start_time": "2024-02-01T16:12:07.764057Z"
    }
   },
   "outputs": [],
   "source": [
    "# zipcodes_boundaries[zipcodes_boundaries.zipcode.between(\"1100\", \"1299\")].set_geometry(\"buffer\").plot()"
   ]
  },
  {
   "cell_type": "code",
   "execution_count": null,
   "id": "f56f439e",
   "metadata": {
    "ExecuteTime": {
     "end_time": "2024-02-01T16:12:12.764020Z",
     "start_time": "2024-02-01T16:12:07.850476Z"
    }
   },
   "outputs": [],
   "source": [
    "zipcodes_boundaries[\"buffer\"] = zipcodes_boundaries.buffer(-50)"
   ]
  },
  {
   "cell_type": "code",
   "execution_count": null,
   "id": "f6ceed47",
   "metadata": {
    "ExecuteTime": {
     "end_time": "2024-02-01T16:18:18.036068Z",
     "start_time": "2024-02-01T16:12:12.766155Z"
    },
    "scrolled": true
   },
   "outputs": [],
   "source": [
    "region_zipcode = gpd.sjoin(region, zipcodes_boundaries.set_geometry(\"buffer\"))"
   ]
  },
  {
   "cell_type": "code",
   "execution_count": null,
   "id": "c6b5523c",
   "metadata": {
    "ExecuteTime": {
     "end_time": "2024-01-26T15:47:22.251791Z",
     "start_time": "2024-01-26T15:47:15.200236Z"
    }
   },
   "outputs": [],
   "source": []
  },
  {
   "cell_type": "code",
   "execution_count": null,
   "id": "2be1f6dd",
   "metadata": {
    "ExecuteTime": {
     "end_time": "2024-02-01T16:18:18.045432Z",
     "start_time": "2024-02-01T16:18:18.039671Z"
    },
    "scrolled": true
   },
   "outputs": [],
   "source": [
    "region_zipcode.shape, region.shape"
   ]
  },
  {
   "cell_type": "code",
   "execution_count": null,
   "id": "17b66a41",
   "metadata": {
    "ExecuteTime": {
     "end_time": "2024-02-01T16:18:19.219327Z",
     "start_time": "2024-02-01T16:18:18.047549Z"
    },
    "scrolled": true
   },
   "outputs": [],
   "source": [
    "zip_mismatches = region_zipcode[region_zipcode.postcode !=region_zipcode.zipcode]\n",
    "zip_mismatches"
   ]
  },
  {
   "cell_type": "code",
   "execution_count": null,
   "id": "2f8570ed",
   "metadata": {
    "ExecuteTime": {
     "end_time": "2024-02-01T16:18:21.261949Z",
     "start_time": "2024-02-01T16:18:19.221308Z"
    }
   },
   "outputs": [],
   "source": [
    "zip_mismatches.drop([\"geometry_left\", \"geometry_right\", \"index_right\"], axis=1).to_excel(f\"{output_dir}/best_anomalies_{region_name}_zip_mismatches.xlsx\")"
   ]
  },
  {
   "cell_type": "code",
   "execution_count": null,
   "id": "e52d796f",
   "metadata": {
    "ExecuteTime": {
     "end_time": "2024-02-01T16:18:21.266775Z",
     "start_time": "2024-02-01T16:18:21.264202Z"
    }
   },
   "outputs": [],
   "source": [
    "# mismatches.set_geometry(\"geometry_left\").plot()"
   ]
  },
  {
   "cell_type": "code",
   "execution_count": null,
   "id": "3073763a",
   "metadata": {
    "ExecuteTime": {
     "end_time": "2024-02-01T16:18:21.353853Z",
     "start_time": "2024-02-01T16:18:21.268847Z"
    },
    "scrolled": true
   },
   "outputs": [],
   "source": [
    "# mismatches.postcode.value_counts().iloc[0:60]"
   ]
  },
  {
   "cell_type": "code",
   "execution_count": null,
   "id": "22ab0068",
   "metadata": {
    "ExecuteTime": {
     "end_time": "2024-02-01T16:18:21.425067Z",
     "start_time": "2024-02-01T16:18:21.355998Z"
    }
   },
   "outputs": [],
   "source": [
    "zip_mismatches.postcode.value_counts()"
   ]
  },
  {
   "cell_type": "code",
   "execution_count": null,
   "id": "cf404a93",
   "metadata": {
    "ExecuteTime": {
     "end_time": "2024-02-01T16:18:21.496689Z",
     "start_time": "2024-02-01T16:18:21.427135Z"
    },
    "scrolled": true
   },
   "outputs": [],
   "source": [
    "# zipcode=\"1010\"\n",
    "# # display(mismatches[mismatches.postcode==zipcode])\n",
    "# mism=zip_mismatches[zip_mismatches.postcode==zipcode].set_geometry(\"geometry_left\")\n",
    "# ax=mism.plot(\"zipcode\", figsize=(15,15),alpha=0.8, legend=True)\n",
    "# # ax=region[region.postcode==zipcode].plot(figsize=(15,15),alpha=0.8, color=\"green\")\n",
    "# # ax=mismatches[mismatches.postcode==zipcode].set_geometry(\"geometry_left\").plot(ax=ax, color=\"red\")\n",
    "\n",
    "# ax=zipcodes_boundaries[zipcodes_boundaries.zipcode==zipcode].boundary.plot(ax=ax, color=\"red\")\n",
    "# # set_optimal_limits(ax, zipcodes_boundaries[zipcodes_boundaries.zipcode==zipcode])\n",
    "# ctx.add_basemap(ax, source=ctx.providers.OpenStreetMap.Mapnik)\n",
    "# # ax=mismatches[mismatches.zipcode==\"1301\"].set_geometry(\"geometry_right\").plot()\n"
   ]
  },
  {
   "cell_type": "code",
   "execution_count": null,
   "id": "1539553e",
   "metadata": {
    "ExecuteTime": {
     "end_time": "2024-02-01T16:18:21.589189Z",
     "start_time": "2024-02-01T16:18:21.498813Z"
    }
   },
   "outputs": [],
   "source": [
    "# zipcodes_boundaries[zipcodes_boundaries.zipcode==zipcode]"
   ]
  },
  {
   "cell_type": "code",
   "execution_count": null,
   "id": "5ca19158",
   "metadata": {
    "ExecuteTime": {
     "end_time": "2024-02-01T16:27:31.223422Z",
     "start_time": "2024-02-01T16:18:21.591840Z"
    },
    "scrolled": true
   },
   "outputs": [],
   "source": [
    "pdf = PdfPages(f\"{output_dir}/best_anomalies_{region_name}_zip_mismatches.pdf\")\n",
    "\n",
    "for zipcode in tqdm(zip_mismatches.postcode.value_counts().index):\n",
    "    \n",
    "    mism=zip_mismatches[zip_mismatches.postcode==zipcode].set_geometry(\"geometry_left\")\n",
    "    \n",
    "    ax=mism.plot(\"zipcode\", figsize=(10,10),alpha=0.8, legend=True)\n",
    "    plt.title(zipcode)\n",
    "    # ax=region[region.postcode==zipcode].plot(figsize=(15,15),alpha=0.8, color=\"green\")\n",
    "    # ax=mismatches[mismatches.postcode==zipcode].set_geometry(\"geometry_left\").plot(ax=ax, color=\"red\")\n",
    "    zip_bnd = zipcodes_boundaries[zipcodes_boundaries.zipcode==zipcode]\n",
    "    if zip_bnd.shape[0]>0:\n",
    "        ax=zip_bnd.boundary.plot(ax=ax, color=\"red\")\n",
    "    set_optimal_limits(ax, pd.concat([zip_bnd[[\"geometry\"]], mism[[\"geometry_left\"]].rename(columns={\"geometry_left\": \"geometry\"})]))\n",
    "    ctx.add_basemap(ax, source=ctx.providers.OpenStreetMap.Mapnik)\n",
    "\n",
    "    pdf.savefig(bbox_inches='tight')#, dpi=75)\n",
    "    plt.close()\n",
    "    \n",
    "pdf.close()"
   ]
  },
  {
   "cell_type": "markdown",
   "id": "779aa14e",
   "metadata": {
    "ExecuteTime": {
     "end_time": "2024-01-29T08:43:56.522878Z",
     "start_time": "2024-01-29T08:43:56.520597Z"
    }
   },
   "source": [
    "# Conflict with NIS code"
   ]
  },
  {
   "cell_type": "code",
   "execution_count": null,
   "id": "63d35c1c",
   "metadata": {
    "ExecuteTime": {
     "end_time": "2024-02-01T16:27:37.160535Z",
     "start_time": "2024-02-01T16:27:31.226217Z"
    }
   },
   "outputs": [],
   "source": [
    "download_if_nexist(\"https://statbel.fgov.be/sites/default/files/files/opendata/Statistische%20sectoren/sh_statbel_statistical_sectors_31370_20200101.shp.zip\",\n",
    "                   \"data/stat_sectors_2020.zip\")\n",
    "statistical_sectors = gpd.read_file(\"zip://data/stat_sectors_2020.zip/sh_statbel_statistical_sectors_20200101.shp\")\n",
    "statistical_sectors[\"CNIS5_2020\"] = statistical_sectors[\"CNIS5_2020\"].astype(str)"
   ]
  },
  {
   "cell_type": "code",
   "execution_count": null,
   "id": "01e21037",
   "metadata": {
    "ExecuteTime": {
     "end_time": "2024-02-01T16:28:04.606650Z",
     "start_time": "2024-02-01T16:27:37.163458Z"
    }
   },
   "outputs": [],
   "source": [
    "# Group (with \"dissolve\") sectors per NIS code\n",
    "nis_boundaries = statistical_sectors[[\"CNIS5_2020\", \"T_MUN_FR\", \"T_MUN_NL\", \"geometry\"]].dissolve(by=\"CNIS5_2020\").reset_index()\n",
    "nis_boundaries = nis_boundaries.rename({\"CNIS5_2020\": \"niscode\"}, axis=1)\n",
    "nis_boundaries = nis_boundaries.to_crs(crs)"
   ]
  },
  {
   "cell_type": "code",
   "execution_count": null,
   "id": "4128b8e8",
   "metadata": {
    "ExecuteTime": {
     "end_time": "2024-02-01T16:28:10.484657Z",
     "start_time": "2024-02-01T16:28:04.609406Z"
    }
   },
   "outputs": [],
   "source": [
    "nis_boundaries[\"buffer\"] = nis_boundaries.buffer(-50)"
   ]
  },
  {
   "cell_type": "code",
   "execution_count": null,
   "id": "f3f511bd",
   "metadata": {
    "ExecuteTime": {
     "end_time": "2024-02-01T16:36:01.678056Z",
     "start_time": "2024-02-01T16:28:10.487376Z"
    }
   },
   "outputs": [],
   "source": [
    "region_niscode = gpd.sjoin(region, nis_boundaries.set_geometry(\"buffer\"))"
   ]
  },
  {
   "cell_type": "code",
   "execution_count": null,
   "id": "6962ca23",
   "metadata": {
    "ExecuteTime": {
     "end_time": "2024-02-01T16:36:02.940753Z",
     "start_time": "2024-02-01T16:36:01.682316Z"
    }
   },
   "outputs": [],
   "source": [
    "nis_mismatches = region_niscode[region_niscode.municipality_id !=region_niscode.niscode]\n",
    "nis_mismatches"
   ]
  },
  {
   "cell_type": "code",
   "execution_count": null,
   "id": "b0b720ae",
   "metadata": {
    "ExecuteTime": {
     "end_time": "2024-02-01T16:36:03.016468Z",
     "start_time": "2024-02-01T16:36:02.943385Z"
    }
   },
   "outputs": [],
   "source": [
    "nis_mismatches.drop([\"geometry_left\", \"geometry_right\", \"index_right\"], axis=1).to_excel(f\"{output_dir}/best_anomalies_{region_name}_nis_mismatches.xlsx\")"
   ]
  },
  {
   "cell_type": "code",
   "execution_count": null,
   "id": "6a9e6424",
   "metadata": {
    "ExecuteTime": {
     "end_time": "2024-02-01T16:36:08.102837Z",
     "start_time": "2024-02-01T16:36:03.018740Z"
    }
   },
   "outputs": [],
   "source": [
    "pdf = PdfPages(f\"{output_dir}/best_anomalies_{region_name}_nis_mismatches.pdf\")\n",
    "\n",
    "for niscode in tqdm(nis_mismatches.municipality_id.value_counts().index):\n",
    "    \n",
    "    mism=nis_mismatches[nis_mismatches.municipality_id==niscode].set_geometry(\"geometry_left\")\n",
    "    \n",
    "    ax=mism.plot(\"niscode\", figsize=(10,10),alpha=0.8, legend=True)\n",
    "    plt.title(niscode)\n",
    "    # ax=region[region.postcode==zipcode].plot(figsize=(15,15),alpha=0.8, color=\"green\")\n",
    "    # ax=mismatches[mismatches.postcode==zipcode].set_geometry(\"geometry_left\").plot(ax=ax, color=\"red\")\n",
    "    nis_bnd = nis_boundaries[nis_boundaries.niscode==niscode]\n",
    "    if nis_bnd.shape[0]>0:\n",
    "        ax=nis_bnd.boundary.plot(ax=ax, color=\"red\")\n",
    "    set_optimal_limits(ax, pd.concat([nis_bnd[[\"geometry\"]], mism[[\"geometry_left\"]].rename(columns={\"geometry_left\": \"geometry\"})]))\n",
    "    ctx.add_basemap(ax, source=ctx.providers.OpenStreetMap.Mapnik)\n",
    "\n",
    "    pdf.savefig(bbox_inches='tight')#, dpi=75)\n",
    "    plt.close()\n",
    "    \n",
    "pdf.close()"
   ]
  },
  {
   "cell_type": "markdown",
   "id": "2bdb45a2",
   "metadata": {},
   "source": [
    "# Street names incoherence"
   ]
  },
  {
   "cell_type": "code",
   "execution_count": null,
   "id": "349d8ffc",
   "metadata": {
    "ExecuteTime": {
     "end_time": "2024-02-01T16:36:08.108033Z",
     "start_time": "2024-02-01T16:36:08.105134Z"
    }
   },
   "outputs": [],
   "source": [
    "# region.groupby([\"streetname\", \"postcode\"]).dissolve()"
   ]
  },
  {
   "cell_type": "code",
   "execution_count": null,
   "id": "d72765a1",
   "metadata": {
    "ExecuteTime": {
     "end_time": "2024-02-01T16:41:16.978853Z",
     "start_time": "2024-02-01T16:36:08.110087Z"
    }
   },
   "outputs": [],
   "source": [
    "region_streets = region[[\"streetname\", \"postcode\", \"geometry\"]].dissolve([\"streetname\", \"postcode\"])\n",
    "region_streets[\"buffer\"] = region_streets.buffer(50)\n",
    "region_streets = region_streets.reset_index()\n",
    "region_streets"
   ]
  },
  {
   "cell_type": "code",
   "execution_count": null,
   "id": "e8a45639",
   "metadata": {
    "ExecuteTime": {
     "end_time": "2024-02-01T16:41:58.154248Z",
     "start_time": "2024-02-01T16:41:16.982147Z"
    }
   },
   "outputs": [],
   "source": [
    "connected_streets = gpd.sjoin(region_streets, region_streets.set_geometry(\"buffer\"))\n",
    "connected_streets = connected_streets[connected_streets.streetname_left < connected_streets.streetname_right]"
   ]
  },
  {
   "cell_type": "code",
   "execution_count": null,
   "id": "aeecfd35",
   "metadata": {
    "ExecuteTime": {
     "end_time": "2024-02-01T16:41:58.201686Z",
     "start_time": "2024-02-01T16:41:58.157011Z"
    },
    "scrolled": true
   },
   "outputs": [],
   "source": [
    "connected_streets"
   ]
  },
  {
   "cell_type": "code",
   "execution_count": null,
   "id": "8bdd86f5",
   "metadata": {
    "ExecuteTime": {
     "end_time": "2024-02-01T16:41:58.449459Z",
     "start_time": "2024-02-01T16:41:58.204400Z"
    }
   },
   "outputs": [],
   "source": [
    "import re\n",
    "for side in [\"right\", \"left\"]:\n",
    "    connected_streets[[f\"split_{side}_1\", f\"split_{side}_2\"]] = connected_streets[f\"streetname_{side}\"].str.extract(\"^(Avenue|Rue|Chaussée|Boulevard|Drève|Clos|Square)(.*)$\", flags=re.IGNORECASE)"
   ]
  },
  {
   "cell_type": "code",
   "execution_count": null,
   "id": "b3b90cb3",
   "metadata": {
    "ExecuteTime": {
     "end_time": "2024-02-01T16:42:01.020366Z",
     "start_time": "2024-02-01T16:41:58.452330Z"
    }
   },
   "outputs": [],
   "source": [
    "import jellyfish\n",
    "\n",
    "def null_jaro(str1, str2):\n",
    "    if pd.isnull(str1) or pd.isnull(str2):\n",
    "        return pd.NA\n",
    "    \n",
    "    return jellyfish.jaro_winkler_similarity(str1, str2)\n",
    "\n",
    "connected_streets[\"jaro\"] =connected_streets.progress_apply(lambda row: jellyfish.jaro_winkler_similarity(row[\"streetname_left\"],\n",
    "                                                                                                          row[\"streetname_right\"]), axis=1)\n",
    "\n",
    "connected_streets[\"levenshtein\"] =connected_streets.progress_apply(lambda row: jellyfish.damerau_levenshtein_distance(row[\"streetname_left\"],\n",
    "                                                                                                          row[\"streetname_right\"]), axis=1)\n",
    "\n",
    "connected_streets[\"jaro_split\"] =connected_streets.progress_apply(lambda row: null_jaro(row[\"split_left_2\"],\n",
    "                                                                                        row[\"split_right_2\"]), axis=1)\n"
   ]
  },
  {
   "cell_type": "code",
   "execution_count": null,
   "id": "66d0552e",
   "metadata": {
    "ExecuteTime": {
     "end_time": "2024-02-01T16:42:01.108712Z",
     "start_time": "2024-02-01T16:42:01.022836Z"
    },
    "scrolled": true
   },
   "outputs": [],
   "source": [
    "streetname_mismatches = connected_streets[(connected_streets.levenshtein<=1) \n",
    "                                          | (connected_streets.jaro >=0.95)\n",
    "                                          | ((connected_streets.jaro_split >= 0.95 ) & \n",
    "                                             (connected_streets.split_left_1.str.lower() == connected_streets.split_right_1.str.lower())) ]\n",
    "                                         \n",
    "streetname_mismatches"
   ]
  },
  {
   "cell_type": "code",
   "execution_count": null,
   "id": "e7ed31a4",
   "metadata": {
    "ExecuteTime": {
     "end_time": "2024-02-01T16:47:27.516479Z",
     "start_time": "2024-02-01T16:42:01.111043Z"
    }
   },
   "outputs": [],
   "source": [
    "pdf = PdfPages(f\"{output_dir}/best_anomalies_{region_name}_close_streetnames.pdf\")\n",
    "\n",
    "for i, rec in tqdm(streetname_mismatches.sort_values([\"levenshtein\", \"jaro\"], ascending=[True, False]).iterrows(),\n",
    "                  total=streetname_mismatches.shape[0]):\n",
    "#     print(rec)\n",
    "#     rec = streetname_mismatches.sort_values(\"levenshtein\").iloc[[i]]\n",
    "    r1 = rec[[\"streetname_left\", \"postcode_left\", \"geometry_left\"]].rename({\"streetname_left\":\"streetname\", \n",
    "                                                                                    \"postcode_left\": \"postcode\", \n",
    "                                                                                    \"geometry_left\":\"geometry\"})\n",
    "    r2 = rec[[\"streetname_right\", \"postcode_right\", \"geometry_right\"]].rename({\"streetname_right\":\"streetname\", \n",
    "                                                                                    \"postcode_right\": \"postcode\", \n",
    "                                                                                    \"geometry_right\":\"geometry\"})\n",
    "    r = gpd.GeoDataFrame([r1, r2])\n",
    "\n",
    "    r[\"name\"] = r[\"streetname\"]+\", \"+r[\"postcode\"]\n",
    "    ax=r.plot(\"name\", legend=True)\n",
    "    set_optimal_limits(ax, r)\n",
    "    ctx.add_basemap(ax, source=ctx.providers.OpenStreetMap.Mapnik)\n",
    "\n",
    "    pdf.savefig(bbox_inches='tight')#, dpi=75)\n",
    "    plt.close()\n",
    "    \n",
    "pdf.close()"
   ]
  },
  {
   "cell_type": "code",
   "execution_count": null,
   "id": "dd3f9125",
   "metadata": {
    "ExecuteTime": {
     "end_time": "2024-01-29T09:15:16.716613Z",
     "start_time": "2024-01-29T09:15:16.707660Z"
    }
   },
   "outputs": [],
   "source": []
  },
  {
   "cell_type": "markdown",
   "id": "aecfe7cd",
   "metadata": {},
   "source": [
    "# Metrics"
   ]
  },
  {
   "cell_type": "code",
   "execution_count": null,
   "id": "65102c0d",
   "metadata": {
    "ExecuteTime": {
     "end_time": "2024-02-01T16:47:27.523205Z",
     "start_time": "2024-02-01T16:47:27.519255Z"
    }
   },
   "outputs": [],
   "source": [
    "import shapely \n",
    "def line_sinuosity(geom):\n",
    "    # Return the ratio between the distance of the geometry, and the straight distance between the start and the end of the geometry\n",
    "    assert geom.geom_type == \"LineString\", geom.geom_type\n",
    "    length = geom.length\n",
    "    start_pt = geom.interpolate(0)\n",
    "    end_pt = geom.interpolate(1, normalized=True)\n",
    "    straight_dist = start_pt.distance(end_pt)\n",
    "    if straight_dist == 0.0:\n",
    "        if length == 0.0:\n",
    "            return 0.0\n",
    "        return float(\"inf\")\n",
    "    return length / straight_dist"
   ]
  },
  {
   "cell_type": "code",
   "execution_count": null,
   "id": "c4898bd4",
   "metadata": {
    "ExecuteTime": {
     "end_time": "2024-02-01T16:47:27.684783Z",
     "start_time": "2024-02-01T16:47:27.525279Z"
    }
   },
   "outputs": [],
   "source": [
    "def sliding_sinuosity(street_side, windows_size=5):\n",
    "    if street_side.geometry.nunique() <3:\n",
    "        return pd.NA\n",
    "    geometry = street_side.geometry\n",
    "    local_sinuosity = [line_sinuosity(shapely.LineString(geometry.iloc[i:i+windows_size])) for i in range(0, max(1, geometry.shape[0]-windows_size))]\n",
    "#     print(local_sinuosity)\n",
    "    \n",
    "    return np.mean(local_sinuosity)\n",
    "                                                                                                          \n",
    "                                      \n",
    "    \n",
    "    "
   ]
  },
  {
   "cell_type": "code",
   "execution_count": null,
   "id": "9c5f2354",
   "metadata": {
    "ExecuteTime": {
     "end_time": "2024-02-01T16:47:27.780854Z",
     "start_time": "2024-02-01T16:47:27.687120Z"
    }
   },
   "outputs": [],
   "source": [
    "# region[(region.house_number_num.mod(2)==parity)].groupby([\"streetname\", \"postcode\"]).geometry.progress_apply(sliding_sinuosity)"
   ]
  },
  {
   "cell_type": "code",
   "execution_count": null,
   "id": "743c52fe",
   "metadata": {
    "ExecuteTime": {
     "end_time": "2024-02-01T16:47:27.858897Z",
     "start_time": "2024-02-01T16:47:27.782962Z"
    }
   },
   "outputs": [],
   "source": [
    "def bloc_sinuosity(street_side):\n",
    "    if street_side.geometry.nunique() <3:\n",
    "        return pd.NA\n",
    "    street_side_linestring = shapely.LineString(street_side.geometry)\n",
    "    \n",
    "    return line_sinuosity(street_side_linestring)"
   ]
  },
  {
   "cell_type": "code",
   "execution_count": null,
   "id": "c587e09e",
   "metadata": {
    "ExecuteTime": {
     "end_time": "2024-02-01T16:47:27.940849Z",
     "start_time": "2024-02-01T16:47:27.861004Z"
    }
   },
   "outputs": [],
   "source": [
    "# sliding_sinuosity(street_bloc.iloc[:5].geometry)"
   ]
  },
  {
   "cell_type": "code",
   "execution_count": null,
   "id": "abc923ce",
   "metadata": {
    "ExecuteTime": {
     "end_time": "2024-02-01T16:47:28.019137Z",
     "start_time": "2024-02-01T16:47:27.942543Z"
    }
   },
   "outputs": [],
   "source": [
    "# bloc_sinuosity(street_bloc.geometry)"
   ]
  },
  {
   "cell_type": "code",
   "execution_count": null,
   "id": "7f9095ae",
   "metadata": {
    "ExecuteTime": {
     "end_time": "2024-02-01T16:47:28.097832Z",
     "start_time": "2024-02-01T16:47:28.021434Z"
    }
   },
   "outputs": [],
   "source": [
    "def bloc_length(street_side):\n",
    "    if street_side.geometry.nunique() <3:\n",
    "        return pd.NA\n",
    "    street_side_linestring = shapely.LineString(street_side.geometry)\n",
    "    \n",
    "    return street_side_linestring.length"
   ]
  },
  {
   "cell_type": "code",
   "execution_count": null,
   "id": "4caf402e",
   "metadata": {
    "ExecuteTime": {
     "end_time": "2024-02-02T07:40:38.113188Z",
     "start_time": "2024-02-02T07:40:38.106027Z"
    }
   },
   "outputs": [],
   "source": [
    "def get_max_delta_ratio(street_bloc):\n",
    "    if  street_bloc.house_number_num.max() - street_bloc.house_number_num.min() < 20:\n",
    "        return 0, \"-\"\n",
    "    \n",
    "    b1 = street_bloc.reset_index()[[\"house_number_num\", \"geometry\", \"index\"]].assign(mg=1)\n",
    "    b2 = street_bloc.reset_index()[[\"house_number_num\", \"geometry\", \"index\"]].assign(mg=1)\n",
    "    dot_prod = b1.merge(b2, on=\"mg\")\n",
    "    dot_prod = dot_prod[dot_prod.index_x < dot_prod.index_y]\n",
    "    \n",
    "    dot_prod[\"delta_num\"] = (dot_prod.house_number_num_x - dot_prod.house_number_num_y).abs()\n",
    "    \n",
    "    dot_prod = dot_prod[dot_prod[\"delta_num\"]>10]\n",
    "    \n",
    "    dot_prod[\"distance\"] = gpd.GeoSeries(dot_prod.geometry_x).distance(gpd.GeoSeries(dot_prod.geometry_y))\n",
    "    dot_prod[\"delta_ratio\"] = dot_prod.delta_num/dot_prod.distance\n",
    "    \n",
    "    dot_prod = dot_prod[dot_prod.delta_ratio<np.inf]\n",
    "    \n",
    "    if dot_prod.shape[0]==0:\n",
    "        return 0, \"-\"\n",
    "    \n",
    "    id_max = dot_prod.delta_ratio.idxmax()\n",
    "    \n",
    "    rec_max = dot_prod.loc[id_max]\n",
    "    return (rec_max.delta_ratio, f\"{rec_max.house_number_num_x} -> {rec_max.house_number_num_y}\") \n",
    "#     display(dot_prod.sort_values(\"delta_ratio\"))\n",
    "#     return  .delta_ratio.max()\n",
    "#     return f\"{dot_prod.loc[imax].delta_ratio} ({})\n"
   ]
  },
  {
   "cell_type": "code",
   "execution_count": null,
   "id": "c7bd8748",
   "metadata": {
    "ExecuteTime": {
     "end_time": "2024-02-01T16:47:28.282558Z",
     "start_time": "2024-02-01T16:47:28.182023Z"
    }
   },
   "outputs": [],
   "source": [
    "# get_max_delta_ratio(street_bloc)"
   ]
  },
  {
   "cell_type": "markdown",
   "id": "856c13d6",
   "metadata": {},
   "source": [
    "## Sinuosity"
   ]
  },
  {
   "cell_type": "code",
   "execution_count": null,
   "id": "195f0083",
   "metadata": {
    "ExecuteTime": {
     "end_time": "2024-01-25T12:24:05.336016Z",
     "start_time": "2024-01-25T12:23:52.058023Z"
    }
   },
   "outputs": [],
   "source": []
  },
  {
   "cell_type": "code",
   "execution_count": null,
   "id": "8927ae56",
   "metadata": {
    "ExecuteTime": {
     "end_time": "2024-02-01T16:50:23.265220Z",
     "start_time": "2024-02-01T16:47:28.284303Z"
    }
   },
   "outputs": [],
   "source": [
    "sin_par = []\n",
    "for parity in [0, 1]:\n",
    "    sin= region[(region.house_number_num.mod(2)==parity)].groupby([\"streetname\", \"postcode\"]).progress_apply(bloc_sinuosity)#.sort_values(na_pos=\"first\")\n",
    "    sin = sin.sort_values(na_position=\"first\").rename(\"sinuosity\").reset_index()\n",
    "    sin[\"parity\"]=parity\n",
    "    display(sin)\n",
    "    sin_par.append(sin)\n",
    "sinuosity= pd.concat(sin_par)\n",
    "sinuosity = sinuosity[(sinuosity.sinuosity.notnull()) & (sinuosity.sinuosity<10**10)].sort_values(\"sinuosity\", ascending=False).reset_index(drop=True)\n",
    "sinuosity"
   ]
  },
  {
   "cell_type": "code",
   "execution_count": null,
   "id": "bae8f387",
   "metadata": {
    "ExecuteTime": {
     "end_time": "2024-02-01T16:50:23.270463Z",
     "start_time": "2024-02-01T16:50:23.267967Z"
    },
    "scrolled": true
   },
   "outputs": [],
   "source": [
    "# sinuosity = sinuosity[sinuosity.sinuosity<10**10]\n",
    "# region"
   ]
  },
  {
   "cell_type": "code",
   "execution_count": null,
   "id": "45265ffc",
   "metadata": {
    "ExecuteTime": {
     "end_time": "2024-02-01T16:59:56.214458Z",
     "start_time": "2024-02-01T16:50:23.272695Z"
    }
   },
   "outputs": [],
   "source": [
    "sw_sin_par = []\n",
    "for parity in [0, 1]:\n",
    "    sin= region[(region.house_number_num.mod(2)==parity)].groupby([\"streetname\", \"postcode\"]).progress_apply(sliding_sinuosity)#.sort_values(na_pos=\"first\")\n",
    "    sin = sin.sort_values(na_position=\"first\").rename(\"sw_sinuosity\").reset_index()\n",
    "    sin[\"parity\"]=parity\n",
    "    display(sin)\n",
    "    sw_sin_par.append(sin)\n",
    "sw_sinuosity= pd.concat(sw_sin_par)\n",
    "sw_sinuosity = sw_sinuosity[(sw_sinuosity.sw_sinuosity.notnull()) & (sw_sinuosity.sw_sinuosity<10**10)].sort_values(\"sw_sinuosity\", ascending=False)\n",
    "sw_sinuosity = sw_sinuosity.reset_index(drop=True)\n",
    "sw_sinuosity"
   ]
  },
  {
   "cell_type": "code",
   "execution_count": null,
   "id": "a08e3f9f",
   "metadata": {
    "ExecuteTime": {
     "end_time": "2024-02-01T16:59:56.247000Z",
     "start_time": "2024-02-01T16:59:56.217537Z"
    }
   },
   "outputs": [],
   "source": [
    "x  =sw_sin_par[0]\n",
    "x[(x.streetname==\"Noorderlaan\") & (x.postcode == \"2030\")]"
   ]
  },
  {
   "cell_type": "markdown",
   "id": "4cf83560",
   "metadata": {},
   "source": [
    "## Length"
   ]
  },
  {
   "cell_type": "code",
   "execution_count": null,
   "id": "d695ab56",
   "metadata": {
    "ExecuteTime": {
     "end_time": "2024-02-01T16:59:56.317160Z",
     "start_time": "2024-02-01T16:59:56.249431Z"
    }
   },
   "outputs": [],
   "source": [
    "#Add parity\n",
    "# length = region.groupby([\"streetname\", \"postcode\"]).progress_apply(bloc_length)#.sort_values(na_pos=\"first\")\n",
    "# length = length.sort_values(na_position=\"first\").rename(\"length\").reset_index()\n",
    "# length"
   ]
  },
  {
   "cell_type": "code",
   "execution_count": null,
   "id": "59ab0036",
   "metadata": {
    "ExecuteTime": {
     "end_time": "2024-02-01T17:02:50.244310Z",
     "start_time": "2024-02-01T16:59:56.319517Z"
    }
   },
   "outputs": [],
   "source": [
    "region_lenghts = []\n",
    "for parity in [0,1]:\n",
    "    region_par = region[(region.house_number_num.mod(2)==parity)].copy()\n",
    "\n",
    "    length = region_par.groupby([\"streetname\", \"postcode\"]).progress_apply(bloc_length)#.sort_values(na_pos=\"first\")\n",
    "    length = length.sort_values(na_position=\"first\", ascending=False).rename(\"length\").reset_index()\n",
    "    \n",
    "    region_lenghts.append(length.assign(parity=parity))\n",
    "length = pd.concat(region_lenghts)\n",
    "length = length.sort_values(\"length\", ascending=False).reset_index(drop=True)\n",
    "length"
   ]
  },
  {
   "cell_type": "markdown",
   "id": "e1111368",
   "metadata": {},
   "source": [
    "## Distance to previous"
   ]
  },
  {
   "cell_type": "code",
   "execution_count": null,
   "id": "090b1457",
   "metadata": {
    "ExecuteTime": {
     "end_time": "2024-02-01T17:03:33.900631Z",
     "start_time": "2024-02-01T17:02:50.246973Z"
    }
   },
   "outputs": [],
   "source": [
    "region_pars = []\n",
    "for parity in [0,1]:\n",
    "    region_par = region[(region.house_number_num.mod(2)==parity)].copy()\n",
    "\n",
    "    region_par[\"dist_to_prev\"] = region_par.distance(region_par.shift(1))\n",
    "    region_par[\"is_new_bloc\"] = (region_par[[\"streetname\", \"postcode\"]] !=  region_par[[\"streetname\", \"postcode\"]].shift(1)).any(axis=1)\n",
    "    region_par.dist_to_prev = region_par.dist_to_prev.where(~region_par.is_new_bloc, pd.NA)\n",
    "    region_pars.append(region_par.assign(parity=parity))\n",
    "region_pars = pd.concat(region_pars)"
   ]
  },
  {
   "cell_type": "code",
   "execution_count": null,
   "id": "19f4dbe5",
   "metadata": {
    "ExecuteTime": {
     "end_time": "2024-02-01T17:03:45.929646Z",
     "start_time": "2024-02-01T17:03:33.905116Z"
    }
   },
   "outputs": [],
   "source": [
    "idx_max= region_pars.groupby([\"streetname\", \"postcode\", \"parity\"]).dist_to_prev.idxmax()\n",
    "dist_to_prev = region_pars.loc[idx_max.dropna().values].sort_values(\"dist_to_prev\", ascending=False)\n",
    "dist_to_prev = dist_to_prev[[\"streetname\", \"postcode\", \"parity\", \"dist_to_prev\", \"house_number\"]].reset_index(drop=True)\n",
    "dist_to_prev"
   ]
  },
  {
   "cell_type": "code",
   "execution_count": null,
   "id": "95c492c1",
   "metadata": {
    "ExecuteTime": {
     "end_time": "2024-02-01T17:03:45.943300Z",
     "start_time": "2024-02-01T17:03:45.931936Z"
    },
    "scrolled": true
   },
   "outputs": [],
   "source": [
    "dist_to_prev.dist_to_prev.describe(percentiles=[0.5, 0.90, .95, .99, .999])"
   ]
  },
  {
   "cell_type": "markdown",
   "id": "56bc2600",
   "metadata": {
    "ExecuteTime": {
     "end_time": "2024-01-26T13:35:54.297047Z",
     "start_time": "2024-01-26T13:35:54.294645Z"
    }
   },
   "source": [
    "## Delta dist to prev"
   ]
  },
  {
   "cell_type": "code",
   "execution_count": null,
   "id": "275bf895",
   "metadata": {
    "ExecuteTime": {
     "end_time": "2024-02-01T17:03:57.753563Z",
     "start_time": "2024-02-01T17:03:45.945491Z"
    },
    "scrolled": true
   },
   "outputs": [],
   "source": [
    "idx_max= region_pars.groupby([\"streetname\", \"postcode\", \"parity\"]).dist_to_prev.idxmax()\n",
    "delta_dist_to_prev =  region_pars.loc[idx_max.dropna().values].rename(columns={\"dist_to_prev\":\"max_dist_to_prev\"})#.sort_values(\"dist_to_prev\")[[\"streetname\", \"postcode\", \"parity\", \"dist_to_prev\", \"house_number\"]]\n",
    "delta_dist_to_prev"
   ]
  },
  {
   "cell_type": "code",
   "execution_count": null,
   "id": "6992d7d6",
   "metadata": {
    "ExecuteTime": {
     "end_time": "2024-02-01T17:03:58.717871Z",
     "start_time": "2024-02-01T17:03:57.755941Z"
    },
    "scrolled": true
   },
   "outputs": [],
   "source": [
    "delta_dist_to_prev = delta_dist_to_prev.merge(region_pars.groupby([\"streetname\", \"postcode\", \"parity\"]).dist_to_prev.median().rename(\"median_dist_to_prev\").reset_index())\n",
    "delta_dist_to_prev[\"median_dist_to_prev\"] = delta_dist_to_prev[\"median_dist_to_prev\"].where(delta_dist_to_prev.median_dist_to_prev> 5, 0)\n",
    "\n",
    "delta_dist_to_prev[\"delta_dist_to_prev\"] = delta_dist_to_prev.max_dist_to_prev / delta_dist_to_prev.median_dist_to_prev\n",
    "\n",
    "delta_dist_to_prev = delta_dist_to_prev[~delta_dist_to_prev.delta_dist_to_prev.isnull() & (delta_dist_to_prev.delta_dist_to_prev< np.inf)].sort_values(\"delta_dist_to_prev\", ascending=False)\n",
    "delta_dist_to_prev = delta_dist_to_prev[[\"streetname\", \"postcode\", \"parity\", \"house_number\", \"delta_dist_to_prev\" ]].reset_index(drop=True)\n",
    "delta_dist_to_prev"
   ]
  },
  {
   "cell_type": "code",
   "execution_count": null,
   "id": "e78d1b2d",
   "metadata": {
    "ExecuteTime": {
     "end_time": "2024-02-01T17:03:58.723270Z",
     "start_time": "2024-02-01T17:03:58.720714Z"
    },
    "scrolled": true
   },
   "outputs": [],
   "source": [
    "# delta_dist_to_prev[delta_dist_to_prev.delta_dist_to_prev>1000]"
   ]
  },
  {
   "cell_type": "code",
   "execution_count": null,
   "id": "bcce3918",
   "metadata": {
    "ExecuteTime": {
     "end_time": "2024-01-29T16:29:12.311748Z",
     "start_time": "2024-01-29T16:29:12.304876Z"
    }
   },
   "outputs": [],
   "source": []
  },
  {
   "cell_type": "markdown",
   "id": "48810cf7",
   "metadata": {
    "ExecuteTime": {
     "end_time": "2024-01-26T08:23:01.668536Z",
     "start_time": "2024-01-26T08:23:01.408387Z"
    }
   },
   "source": [
    "## Delta ratio"
   ]
  },
  {
   "cell_type": "code",
   "execution_count": null,
   "id": "cecd80d0",
   "metadata": {
    "ExecuteTime": {
     "end_time": "2024-01-26T09:46:12.705683Z",
     "start_time": "2024-01-26T09:46:12.695646Z"
    }
   },
   "outputs": [],
   "source": []
  },
  {
   "cell_type": "code",
   "execution_count": null,
   "id": "84dbb3e4",
   "metadata": {
    "ExecuteTime": {
     "end_time": "2024-02-01T17:03:58.807900Z",
     "start_time": "2024-02-01T17:03:58.725352Z"
    }
   },
   "outputs": [],
   "source": [
    "# sinuosity[sinuosity.sinuosity>2]"
   ]
  },
  {
   "cell_type": "code",
   "execution_count": null,
   "id": "b20021c6",
   "metadata": {
    "ExecuteTime": {
     "end_time": "2024-02-01T17:03:59.888289Z",
     "start_time": "2024-02-01T17:03:58.809706Z"
    }
   },
   "outputs": [],
   "source": [
    "region_sel = region.merge(sinuosity[sinuosity.sinuosity>3][[\"streetname\", \"postcode\"]])\n",
    "region_sel"
   ]
  },
  {
   "cell_type": "code",
   "execution_count": null,
   "id": "6c48362c",
   "metadata": {
    "ExecuteTime": {
     "end_time": "2024-02-01T17:03:59.893443Z",
     "start_time": "2024-02-01T17:03:59.890921Z"
    }
   },
   "outputs": [],
   "source": [
    "# dlt_par= region_sel[(region_sel.house_number_num.mod(2)==parity)].groupby([\"streetname\", \"postcode\"]).progress_apply(get_max_delta_ratio)#.sort_values(na_pos=\"first\")"
   ]
  },
  {
   "cell_type": "code",
   "execution_count": null,
   "id": "14c9440a",
   "metadata": {
    "ExecuteTime": {
     "end_time": "2024-02-01T17:03:59.969348Z",
     "start_time": "2024-02-01T17:03:59.895757Z"
    }
   },
   "outputs": [],
   "source": [
    "# dlt_par.apply(pd.Series).rename(columns={0: \"delta_ratio\", 1: \"house_number\" }).reset_index()"
   ]
  },
  {
   "cell_type": "code",
   "execution_count": null,
   "id": "35e9fca3",
   "metadata": {
    "ExecuteTime": {
     "end_time": "2024-02-02T07:45:22.628904Z",
     "start_time": "2024-02-02T07:40:46.795641Z"
    }
   },
   "outputs": [],
   "source": [
    "delta_par = []\n",
    "for parity in [0, 1]:\n",
    "    dlt_par= region_sel[(region_sel.house_number_num.mod(2)==parity)].groupby([\"streetname\", \"postcode\"]).progress_apply(get_max_delta_ratio)#.sort_values(na_pos=\"first\")\n",
    "    dlt_par = dlt_par.apply(pd.Series).rename(columns={0: \"delta_ratio\", 1: \"house_number\" })#.reset_index()\n",
    "    dlt_par = dlt_par.sort_values(\"delta_ratio\", na_position=\"first\", ascending=False)#.reset_index()\n",
    "    dlt_par[\"parity\"]=parity\n",
    "    display(dlt_par)\n",
    "    delta_par.append(dlt_par)\n",
    "delta_ratio= pd.concat(delta_par)\n",
    "# sinuosity = sinuosity[(sinuosity.sinuosity.notnull()) & (sinuosity.sinuosity<10**10)].sort_values(\"sinuosity\")\n",
    "delta_ratio = delta_ratio.sort_values(\"delta_ratio\", ascending=False).reset_index()\n",
    "delta_ratio"
   ]
  },
  {
   "cell_type": "code",
   "execution_count": null,
   "id": "54838759",
   "metadata": {
    "ExecuteTime": {
     "end_time": "2024-02-01T17:05:06.073231Z",
     "start_time": "2024-02-01T17:05:06.073214Z"
    }
   },
   "outputs": [],
   "source": [
    "# delta_ratio"
   ]
  },
  {
   "cell_type": "markdown",
   "id": "cd3f47f8",
   "metadata": {},
   "source": [
    "## Consolidate"
   ]
  },
  {
   "cell_type": "code",
   "execution_count": null,
   "id": "8fdfbf1e",
   "metadata": {
    "ExecuteTime": {
     "end_time": "2024-02-02T07:46:14.125964Z",
     "start_time": "2024-02-02T07:46:14.109219Z"
    }
   },
   "outputs": [],
   "source": [
    "metrics = {\n",
    "    \"dist_to_prev\" : dist_to_prev,\n",
    "    \"delta_dist_to_prev\": delta_dist_to_prev,\n",
    "    \"sinuosity\": sinuosity,\n",
    "    \"sw_sinuosity\": sw_sinuosity,\n",
    "    \"length\": length,\n",
    "    \"delta_ratio\": delta_ratio\n",
    "}"
   ]
  },
  {
   "cell_type": "code",
   "execution_count": null,
   "id": "f00f7fe4",
   "metadata": {
    "ExecuteTime": {
     "end_time": "2024-02-02T07:46:14.334906Z",
     "start_time": "2024-02-02T07:46:14.129095Z"
    }
   },
   "outputs": [],
   "source": [
    "topn = 50\n",
    "\n",
    "for m in metrics:\n",
    "    metrics[m] = metrics[m].reset_index(drop=True).copy()\n",
    "#     metrics[m][\"f\"{m}_topn\"\"]= False\n",
    "#     metrics[m].loc[metrics[m].shape[0]-topn::, f\"{m}_topn\"]=True\n",
    "    metrics[m][f\"{m}_ranking\"] = metrics[m].index+1\n",
    "    if \"house_number\" in metrics[m]:\n",
    "        metrics[m] = metrics[m].rename(columns={\"house_number\": f\"{m}_house_number\"})\n",
    "        \n",
    "    \n",
    "#     dist_to_prev"
   ]
  },
  {
   "cell_type": "code",
   "execution_count": null,
   "id": "6b4c3bd7",
   "metadata": {
    "ExecuteTime": {
     "end_time": "2024-02-02T07:46:14.340123Z",
     "start_time": "2024-02-02T07:46:14.337410Z"
    }
   },
   "outputs": [],
   "source": [
    "# metrics[\"length\"]"
   ]
  },
  {
   "cell_type": "code",
   "execution_count": null,
   "id": "80e6f2e5",
   "metadata": {
    "ExecuteTime": {
     "end_time": "2024-02-02T07:46:15.009845Z",
     "start_time": "2024-02-02T07:46:14.343043Z"
    }
   },
   "outputs": [],
   "source": [
    "from functools import reduce\n",
    "glob_metrics = reduce((lambda x, y: x.merge(y, how=\"outer\")), metrics.values())"
   ]
  },
  {
   "cell_type": "code",
   "execution_count": null,
   "id": "2b44ddaa",
   "metadata": {
    "ExecuteTime": {
     "end_time": "2024-02-02T07:46:15.032953Z",
     "start_time": "2024-02-02T07:46:15.012857Z"
    },
    "scrolled": true
   },
   "outputs": [],
   "source": [
    "glob_metrics"
   ]
  },
  {
   "cell_type": "markdown",
   "id": "c95bad84",
   "metadata": {},
   "source": [
    "## Show"
   ]
  },
  {
   "cell_type": "code",
   "execution_count": null,
   "id": "dd8c453b",
   "metadata": {
    "ExecuteTime": {
     "end_time": "2024-02-02T07:46:15.100868Z",
     "start_time": "2024-02-02T07:46:15.035164Z"
    }
   },
   "outputs": [],
   "source": [
    "osm_crs=  'epsg:4326'"
   ]
  },
  {
   "cell_type": "code",
   "execution_count": null,
   "id": "3c5bd39c",
   "metadata": {
    "ExecuteTime": {
     "end_time": "2024-02-02T07:46:15.193207Z",
     "start_time": "2024-02-02T07:46:15.102706Z"
    }
   },
   "outputs": [],
   "source": [
    "def get_street_bloc(region, streetname, postcode, parity):\n",
    "    street_bloc=region[(region.streetname==streetname) & (region.postcode==postcode) & (region.house_number_num.mod(2)==parity) ].copy()\n",
    "    \n",
    "    street_bloc = street_bloc.sort_values([\"house_number_num\", \"house_number\"])\n",
    "\n",
    "    street_bloc = street_bloc.drop_duplicates([\"geometry\", \"house_number\"])\n",
    "    \n",
    "    return street_bloc"
   ]
  },
  {
   "cell_type": "code",
   "execution_count": null,
   "id": "3e652f42",
   "metadata": {
    "ExecuteTime": {
     "end_time": "2024-02-02T07:46:15.268844Z",
     "start_time": "2024-02-02T07:46:15.195357Z"
    }
   },
   "outputs": [],
   "source": [
    "def plot_street_bloc(street_bloc, title=None, ax=None):\n",
    "    ax = street_bloc.plot(column=\"house_number_num\", figsize=(10,10),alpha=0.8, ax=ax)\n",
    "    ax.set_title(title)\n",
    "    ax.plot(street_bloc.geometry.x, street_bloc.geometry.y)#, ax=ax)#, ax=ax, kind=\"line\")\n",
    "#     ax.title = title\n",
    "\n",
    "    for idx, row in street_bloc.iterrows():\n",
    "    #     print(row[\"housenumber\"])\n",
    "        ax.annotate(text=row[\"house_number\"], xy=(row[\"geometry\"].x, row[\"geometry\"].y))\n",
    "    set_optimal_limits(ax, street_bloc)\n",
    "    ctx.add_basemap(ax, source=ctx.providers.OpenStreetMap.Mapnik)\n"
   ]
  },
  {
   "cell_type": "code",
   "execution_count": null,
   "id": "3a8c593a",
   "metadata": {
    "ExecuteTime": {
     "end_time": "2024-02-02T07:46:15.395191Z",
     "start_time": "2024-02-02T07:46:15.270573Z"
    }
   },
   "outputs": [],
   "source": [
    "import plotly.graph_objects as go\n",
    "\n",
    "def plot_street_bloc_plotly(street_bloc):\n",
    "    street_bloc_osm = street_bloc.to_crs(osm_crs)\n",
    "\n",
    "\n",
    "    fig = go.Figure(go.Scattermapbox(\n",
    "        mode = \"markers+lines\",\n",
    "    #     width=950, height=800,\n",
    "        lat = street_bloc_osm.geometry.y,\n",
    "        lon = street_bloc_osm.geometry.x,\n",
    "\n",
    "    #     color= ,\n",
    "        marker=go.scattermapbox.Marker(\n",
    "                    #line=dict(width = 1),\n",
    "                    color = street_bloc_osm['house_number_num'],\n",
    "                    size = 10\n",
    "                ),\n",
    "\n",
    "            hovertext=street_bloc_osm[[\"house_number\", \"streetname\", \"postcode\", \"postname\", \"municipality\"]]\n",
    "        ))\n",
    "\n",
    "\n",
    "    fig.update_layout(\n",
    "    #    margin ={'l':0,'t':0,'b':0,'r':0},\n",
    "        mapbox = {\n",
    "            'center': {'lon': street_bloc_osm.geometry.x.median(), \n",
    "                       'lat': street_bloc_osm.geometry.y.median()},\n",
    "            'style': \"open-street-map\",\n",
    "\n",
    "    #         'center': {'lon': -20, 'lat': -20},\n",
    "             'zoom': 10,\n",
    "\n",
    "        },\n",
    "    width=950, height=800,\n",
    "    )\n",
    "\n",
    "\n",
    "    fig.show()\n",
    "    return fig\n",
    "    \n"
   ]
  },
  {
   "cell_type": "code",
   "execution_count": null,
   "id": "1a3d8d68",
   "metadata": {
    "ExecuteTime": {
     "end_time": "2024-02-02T07:46:15.804908Z",
     "start_time": "2024-02-02T07:46:15.398635Z"
    },
    "scrolled": true
   },
   "outputs": [],
   "source": [
    "k = 0\n",
    "metric = sinuosity\n",
    "metric=dist_to_prev\n",
    "# metric=length\n",
    "metric=delta_ratio\n",
    "print(metric.iloc[k])\n",
    "street_bloc = get_street_bloc(region, \n",
    "                              metric.iloc[k].streetname, \n",
    "                              metric.iloc[k].postcode,\n",
    "                              metric.iloc[k].parity)\n",
    "    \n",
    "street_bloc"
   ]
  },
  {
   "cell_type": "code",
   "execution_count": null,
   "id": "a8f92250",
   "metadata": {
    "ExecuteTime": {
     "end_time": "2024-02-02T07:46:15.809534Z",
     "start_time": "2024-02-02T07:46:15.807476Z"
    },
    "scrolled": true
   },
   "outputs": [],
   "source": [
    "# get_max_delta_ratio(street_bloc)"
   ]
  },
  {
   "cell_type": "code",
   "execution_count": null,
   "id": "7f58e47a",
   "metadata": {
    "ExecuteTime": {
     "end_time": "2024-02-02T07:46:15.950811Z",
     "start_time": "2024-02-02T07:46:15.811712Z"
    },
    "scrolled": false
   },
   "outputs": [],
   "source": [
    "plot_street_bloc_plotly(street_bloc)"
   ]
  },
  {
   "cell_type": "code",
   "execution_count": null,
   "id": "de9ae587",
   "metadata": {
    "ExecuteTime": {
     "end_time": "2024-02-02T07:46:16.015645Z",
     "start_time": "2024-02-02T07:46:15.953131Z"
    }
   },
   "outputs": [],
   "source": [
    "# plot_street_bloc(street_bloc, \"title\")"
   ]
  },
  {
   "cell_type": "code",
   "execution_count": null,
   "id": "d8a9395e",
   "metadata": {
    "ExecuteTime": {
     "end_time": "2024-02-02T07:46:16.082872Z",
     "start_time": "2024-02-02T07:46:16.017862Z"
    }
   },
   "outputs": [],
   "source": [
    "# street_bloc\n",
    "\n"
   ]
  },
  {
   "cell_type": "markdown",
   "id": "1df6e831",
   "metadata": {},
   "source": [
    "## PDF"
   ]
  },
  {
   "cell_type": "code",
   "execution_count": null,
   "id": "9499aa30",
   "metadata": {
    "ExecuteTime": {
     "end_time": "2024-02-02T07:46:16.151515Z",
     "start_time": "2024-02-02T07:46:16.084801Z"
    }
   },
   "outputs": [],
   "source": [
    "def make_table(street_bloc, title=None):\n",
    "    street_bloc = street_bloc.reset_index()\n",
    "    \n",
    "    street_bloc[\"dist_to_prev\"] = street_bloc.distance(street_bloc.shift(1)).fillna(0).astype(int)\n",
    "    \n",
    "    if street_bloc.shape[0]>20:\n",
    "        df1 = street_bloc[[\"house_number\", \"address_id\", \"geometry\", \"dist_to_prev\"]].head(10)\n",
    "        df2 = street_bloc[[\"house_number\", \"address_id\", \"geometry\", \"dist_to_prev\"]].tail(10)\n",
    "        df3=pd.DataFrame(columns=df1.columns, \n",
    "                         index=[\"...\"],\n",
    "                         data = [ [\"...\"]*df1.shape[1]])\n",
    "\n",
    "        df = pd.concat([df1, df3, df2])\n",
    "    else:\n",
    "        df = street_bloc[[\"house_number\",  \"address_id\", \"geometry\", \"dist_to_prev\"]].copy()\n",
    "    \n",
    "    df[\"address_id\"] = df[\"address_id\"].apply(\";\".join)\n",
    "    for fld in [\"address_id\"]:\n",
    "        df[fld]  = df[fld].str[0:30]\n",
    "\n",
    "    fig, ax = plt.subplots(figsize=(10,.3*df.shape[0]))\n",
    "    ax.axis('tight')\n",
    "    ax.axis('off')\n",
    "\n",
    "    the_table = ax.table(cellText=df.values,\n",
    "                            rowLabels=df.index,\n",
    "                            colLabels=df.columns,\n",
    "                            rowColours=['lightblue']*len(df),\n",
    "                            colColours=['lightblue']*len(df.columns),\n",
    "    #                         cellColours=alternating_colors,\n",
    "                            loc='center')\n",
    "    plt.title(title)\n",
    "    return fig\n"
   ]
  },
  {
   "cell_type": "code",
   "execution_count": null,
   "id": "0f3f6114",
   "metadata": {
    "ExecuteTime": {
     "end_time": "2024-02-02T07:46:16.227115Z",
     "start_time": "2024-02-02T07:46:16.153533Z"
    }
   },
   "outputs": [],
   "source": [
    "def make_metric_table(rec, metrics, ax=None):\n",
    "    metrics_table = pd.DataFrame({m: {\n",
    "        \"metric\": f\"{rec[m]:.2f}\",\n",
    "        \"house_number\": rec[f\"{m}_house_number\"] if f\"{m}_house_number\" in rec else \"\",\n",
    "        \"ranking\" : \"\" if pd.isnull(rec[f\"{m}_ranking\"]) else int(rec[f\"{m}_ranking\"]) ,\n",
    "    } for m in metrics})\n",
    "\n",
    "    if ax is None:\n",
    "        fig, ax = plt.subplots(figsize=(10,1))\n",
    "    ax.axis('tight')\n",
    "    ax.axis('off')\n",
    "\n",
    "    the_table = ax.table(cellText=metrics_table.values,\n",
    "                            rowLabels=metrics_table.index,\n",
    "                            colLabels=metrics_table.columns,\n",
    "                            rowColours=['lightblue']*len(metrics_table),\n",
    "                            colColours=['lightblue']*len(metrics_table.columns),\n",
    "    #                         cellColours=alternating_colors,\n",
    "                            loc='center')\n",
    "    #return fig"
   ]
  },
  {
   "cell_type": "code",
   "execution_count": null,
   "id": "04843b75",
   "metadata": {
    "ExecuteTime": {
     "end_time": "2024-02-02T07:46:16.319325Z",
     "start_time": "2024-02-02T07:46:16.228809Z"
    }
   },
   "outputs": [],
   "source": [
    "# make_table(street_bloc)"
   ]
  },
  {
   "cell_type": "code",
   "execution_count": null,
   "id": "f27fb289",
   "metadata": {
    "ExecuteTime": {
     "end_time": "2024-02-01T14:50:02.580932Z",
     "start_time": "2024-02-01T14:50:02.571395Z"
    }
   },
   "outputs": [],
   "source": []
  },
  {
   "cell_type": "code",
   "execution_count": null,
   "id": "8dc812ce",
   "metadata": {
    "ExecuteTime": {
     "end_time": "2024-02-02T08:02:52.021845Z",
     "start_time": "2024-02-02T07:46:16.321049Z"
    },
    "scrolled": true
   },
   "outputs": [],
   "source": [
    "for (metric_name, metric) in [\n",
    "    (\"dist_to_prev\", dist_to_prev),\n",
    "    (\"delta_dist_to_prev\", delta_dist_to_prev),\n",
    "    (\"sinuosity\", sinuosity),\n",
    "    (\"sw_sinuosity\", sw_sinuosity),\n",
    "    (\"length\", length),\n",
    "    (\"delta_ratio\", delta_ratio)\n",
    "    ]:\n",
    "    print(metric_name)\n",
    "    pdf = PdfPages(f\"{output_dir}/best_anomalies_{region_name}_{metric_name}.pdf\")\n",
    "\n",
    "    for i, metr in tqdm(metric.iloc[0:topn].iterrows(), total=topn):# in trange(1, min(51, metric.shape[0])):\n",
    "\n",
    "        \n",
    "#     for k in trange(1, min(51, metric.shape[0])):\n",
    "        #print(metric.iloc[k])\n",
    "        street_bloc = get_street_bloc(region, \n",
    "                                      metr.streetname, \n",
    "                                      metr.postcode,\n",
    "                                      metr.parity)\n",
    "#         display(metric.iloc[-k])\n",
    "#         display(street_bloc)\n",
    "        title = street_bloc.iloc[0][\"streetname\"]+ \" - \" + street_bloc.iloc[0][\"postcode\"] + \\\n",
    "                \" - \" + street_bloc.iloc[0][\"postname\"] + \" - \" + street_bloc.iloc[0][\"municipality\"]+\" - parity: \"+str(metr[\"parity\"])+\"\\n\"+\\\n",
    "                f\"{metric_name}: {metr[metric_name]:.2f}\"\n",
    "        if \"house_number\" in metric:\n",
    "            title += f\" (hn: {metr['house_number']})\"\n",
    "\n",
    "        make_table(street_bloc, title)\n",
    "        pdf.savefig(bbox_inches='tight')\n",
    "        plt.close()\n",
    "        plot_street_bloc(street_bloc, title)\n",
    "        pdf.savefig(bbox_inches='tight')\n",
    "        plt.close()\n",
    "    pdf.close()"
   ]
  },
  {
   "cell_type": "markdown",
   "id": "b4bf8b48",
   "metadata": {
    "ExecuteTime": {
     "end_time": "2024-01-29T10:36:56.117238Z",
     "start_time": "2024-01-29T10:36:55.904089Z"
    }
   },
   "source": [
    "### Consolidated pdf"
   ]
  },
  {
   "cell_type": "code",
   "execution_count": null,
   "id": "f7e840ec",
   "metadata": {
    "ExecuteTime": {
     "end_time": "2024-02-02T08:02:52.084905Z",
     "start_time": "2024-02-02T08:02:52.024713Z"
    }
   },
   "outputs": [],
   "source": [
    "(glob_metrics[[f\"{m}_ranking\" for m in metrics]]  < topn)#.fillna(False).any(axis=1)"
   ]
  },
  {
   "cell_type": "code",
   "execution_count": null,
   "id": "31b728ac",
   "metadata": {},
   "outputs": [],
   "source": []
  },
  {
   "cell_type": "code",
   "execution_count": null,
   "id": "4dcb36b3",
   "metadata": {
    "ExecuteTime": {
     "end_time": "2024-02-02T08:02:52.282550Z",
     "start_time": "2024-02-02T08:02:52.087743Z"
    }
   },
   "outputs": [],
   "source": [
    "#glob_metrics_topn = glob_metrics[glob_metrics[[f\"{m}_topn\" for m in metrics]].fillna(False).any(axis=1)]\n",
    "glob_metrics_topn = glob_metrics[(glob_metrics[[f\"{m}_ranking\" for m in metrics]]  < topn).fillna(False).any(axis=1)]\n",
    "glob_metrics_topn = glob_metrics_topn.sort_values(\"dist_to_prev\", ascending=False)\n",
    "glob_metrics_topn"
   ]
  },
  {
   "cell_type": "code",
   "execution_count": null,
   "id": "c6658688",
   "metadata": {
    "ExecuteTime": {
     "end_time": "2024-02-02T08:10:03.219051Z",
     "start_time": "2024-02-02T08:02:52.285033Z"
    }
   },
   "outputs": [],
   "source": [
    "pdf = PdfPages(f\"{output_dir}/best_anomalies_{region_name}_consolidated.pdf\")\n",
    "\n",
    "for i, metr in tqdm(glob_metrics_topn.iterrows(), total=glob_metrics_topn.shape[0]):# in trange(1, min(51, metric.shape[0])):\n",
    "    #print(metric.iloc[k])\n",
    "    street_bloc = get_street_bloc(region, \n",
    "                                  metr.streetname, \n",
    "                                  metr.postcode,\n",
    "                                  metr.parity)\n",
    "#         display(metric.iloc[-k])\n",
    "#         display(street_bloc)\n",
    "    title = street_bloc.iloc[0][\"streetname\"]+ \" - \" + street_bloc.iloc[0][\"postcode\"] + \\\n",
    "            \" - \" + street_bloc.iloc[0][\"postname\"] + \" - \" + street_bloc.iloc[0][\"municipality\"]+ \" - parity: \"+str(metr[\"parity\"])+\"\\n\"#+\\\n",
    "\n",
    "    make_table(street_bloc, title)\n",
    "    pdf.savefig(bbox_inches='tight')\n",
    "    plt.close()\n",
    "\n",
    "    fig, ax = plt.subplots(nrows=2, figsize=(10,10), height_ratios=[0.85, 0.15])\n",
    "    plot_street_bloc(street_bloc, title, ax=ax[0])\n",
    "    make_metric_table(metr, metrics, ax=ax[1])\n",
    "\n",
    "\n",
    "#     plot_street_bloc(street_bloc, title)\n",
    "    pdf.savefig(bbox_inches='tight')\n",
    "    plt.close()\n",
    "pdf.close()"
   ]
  },
  {
   "cell_type": "code",
   "execution_count": null,
   "id": "c4d76a88",
   "metadata": {},
   "outputs": [],
   "source": []
  }
 ],
 "metadata": {
  "kernelspec": {
   "display_name": "gis",
   "language": "python",
   "name": "gis"
  },
  "language_info": {
   "codemirror_mode": {
    "name": "ipython",
    "version": 3
   },
   "file_extension": ".py",
   "mimetype": "text/x-python",
   "name": "python",
   "nbconvert_exporter": "python",
   "pygments_lexer": "ipython3",
   "version": "3.8.16"
  },
  "toc": {
   "base_numbering": 1,
   "nav_menu": {},
   "number_sections": true,
   "sideBar": true,
   "skip_h1_title": false,
   "title_cell": "Table of Contents",
   "title_sidebar": "Contents",
   "toc_cell": false,
   "toc_position": {
    "height": "calc(100% - 180px)",
    "left": "10px",
    "top": "150px",
    "width": "384px"
   },
   "toc_section_display": true,
   "toc_window_display": true
  }
 },
 "nbformat": 4,
 "nbformat_minor": 5
}
